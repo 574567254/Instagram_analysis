{
 "cells": [
  {
   "cell_type": "markdown",
   "id": "39523711",
   "metadata": {},
   "source": [
    "# Instagram_analysis for Aritzia"
   ]
  },
  {
   "cell_type": "markdown",
   "id": "5c9dd2a2",
   "metadata": {},
   "source": [
    "### Import Packages"
   ]
  },
  {
   "cell_type": "code",
   "execution_count": 1,
   "id": "ddb11e05",
   "metadata": {},
   "outputs": [],
   "source": [
    "import instaloader\n",
    "import pandas as pd\n",
    "import re\n",
    "import xlrd\n",
    "from google.cloud import vision\n",
    "import os\n",
    "import numpy as np\n",
    "import nltk \n",
    "from nltk.tokenize import word_tokenize\n",
    "import gensim.corpora as corpora\n",
    "import gensim\n",
    "from gensim.models import CoherenceModel\n",
    "import matplotlib.pyplot as plt\n",
    "from pprint import pprint\n",
    "import pyLDAvis\n",
    "import pyLDAvis.gensim_models\n",
    "import pickle "
   ]
  },
  {
   "cell_type": "markdown",
   "id": "890dfdd6",
   "metadata": {},
   "source": [
    "## Task: to scrape data from Aritzia Instagram page\n",
    "scraping the latest 500 images and related captions and the number of comments per post from Aritzia's Instagram page."
   ]
  },
  {
   "cell_type": "code",
   "execution_count": 10,
   "id": "86797488",
   "metadata": {},
   "outputs": [
    {
     "name": "stdout",
     "output_type": "stream",
     "text": [
      "Written to Insta_download.xlsx file\n"
     ]
    }
   ],
   "source": [
    "#scraping from Aritzia\n",
    "L = instaloader.Instaloader(download_videos=False)\n",
    "L.login(user=\"\",passwd=\"\")\n",
    "df = pd.DataFrame()\n",
    "posts = instaloader.Profile.from_username(L.context,'aritzia').get_posts()\n",
    "\n",
    "i=0\n",
    "for post in posts:\n",
    "    df = df.append({'Caption': post.caption, 'Comments': post.comments, 'URL': post.url}, ignore_index=True)\n",
    "    df.to_excel(\"Insta_download.xlsx\",index=False)\n",
    "    i = i+1\n",
    "    if i>500:\n",
    "        break\n",
    "\n",
    "print(\"Written to Insta_download.xlsx file\")"
   ]
  },
  {
   "cell_type": "markdown",
   "id": "69f402d0",
   "metadata": {},
   "source": [
    "## Task: to get image labels from Google Vision "
   ]
  },
  {
   "cell_type": "code",
   "execution_count": 2,
   "id": "fc90b82c",
   "metadata": {},
   "outputs": [],
   "source": [
    "insta = pd.read_excel('Insta_download.xlsx')"
   ]
  },
  {
   "cell_type": "code",
   "execution_count": 3,
   "id": "607d2606",
   "metadata": {},
   "outputs": [],
   "source": [
    "insta_url = insta['URL']\n",
    "insta_url.to_excel(\"insta_url.xlsx\", header= False, index=False)"
   ]
  },
  {
   "cell_type": "code",
   "execution_count": 5,
   "id": "daf3241c",
   "metadata": {
    "collapsed": true
   },
   "outputs": [
    {
     "name": "stdout",
     "output_type": "stream",
     "text": [
      "s\n",
      "Hair Joint Hand Outerwear Arm Shoulder Dress White Azure Neck\n"
     ]
    },
    {
     "name": "stderr",
     "output_type": "stream",
     "text": [
      "/var/folders/f5/7w8rh9rx11938lxyvdr2g_940000gn/T/ipykernel_94711/975253196.py:27: FutureWarning: The frame.append method is deprecated and will be removed from pandas in a future version. Use pandas.concat instead.\n",
      "  df = df.append({'URL': image_src_temp, 'Labels': s}, ignore_index=True)\n",
      "/var/folders/f5/7w8rh9rx11938lxyvdr2g_940000gn/T/ipykernel_94711/975253196.py:27: FutureWarning: The frame.append method is deprecated and will be removed from pandas in a future version. Use pandas.concat instead.\n",
      "  df = df.append({'URL': image_src_temp, 'Labels': s}, ignore_index=True)\n"
     ]
    },
    {
     "name": "stdout",
     "output_type": "stream",
     "text": [
      "s\n",
      "\n",
      "s\n",
      "\n"
     ]
    },
    {
     "name": "stderr",
     "output_type": "stream",
     "text": [
      "/var/folders/f5/7w8rh9rx11938lxyvdr2g_940000gn/T/ipykernel_94711/975253196.py:27: FutureWarning: The frame.append method is deprecated and will be removed from pandas in a future version. Use pandas.concat instead.\n",
      "  df = df.append({'URL': image_src_temp, 'Labels': s}, ignore_index=True)\n"
     ]
    },
    {
     "name": "stdout",
     "output_type": "stream",
     "text": [
      "s\n",
      "Plant Automotive design Rectangle Ceiling Glass Event Art Shade Flooring Visual arts\n"
     ]
    },
    {
     "name": "stderr",
     "output_type": "stream",
     "text": [
      "/var/folders/f5/7w8rh9rx11938lxyvdr2g_940000gn/T/ipykernel_94711/975253196.py:27: FutureWarning: The frame.append method is deprecated and will be removed from pandas in a future version. Use pandas.concat instead.\n",
      "  df = df.append({'URL': image_src_temp, 'Labels': s}, ignore_index=True)\n"
     ]
    },
    {
     "name": "stdout",
     "output_type": "stream",
     "text": [
      "s\n",
      "Joint Skin Lip Plant Hairstyle Shoulder Flower Leg People in nature Flash photography\n"
     ]
    },
    {
     "name": "stderr",
     "output_type": "stream",
     "text": [
      "/var/folders/f5/7w8rh9rx11938lxyvdr2g_940000gn/T/ipykernel_94711/975253196.py:27: FutureWarning: The frame.append method is deprecated and will be removed from pandas in a future version. Use pandas.concat instead.\n",
      "  df = df.append({'URL': image_src_temp, 'Labels': s}, ignore_index=True)\n"
     ]
    },
    {
     "name": "stdout",
     "output_type": "stream",
     "text": [
      "s\n",
      "Water Sky Cloud Plant Nature Azure Natural landscape Vegetation Arecales Sunlight\n"
     ]
    },
    {
     "name": "stderr",
     "output_type": "stream",
     "text": [
      "/var/folders/f5/7w8rh9rx11938lxyvdr2g_940000gn/T/ipykernel_94711/975253196.py:27: FutureWarning: The frame.append method is deprecated and will be removed from pandas in a future version. Use pandas.concat instead.\n",
      "  df = df.append({'URL': image_src_temp, 'Labels': s}, ignore_index=True)\n"
     ]
    },
    {
     "name": "stdout",
     "output_type": "stream",
     "text": [
      "s\n",
      "Furniture Leg Sunglasses Vision care Wood Waist Thigh Comfort Goggles Street fashion\n"
     ]
    },
    {
     "name": "stderr",
     "output_type": "stream",
     "text": [
      "/var/folders/f5/7w8rh9rx11938lxyvdr2g_940000gn/T/ipykernel_94711/975253196.py:27: FutureWarning: The frame.append method is deprecated and will be removed from pandas in a future version. Use pandas.concat instead.\n",
      "  df = df.append({'URL': image_src_temp, 'Labels': s}, ignore_index=True)\n"
     ]
    },
    {
     "name": "stdout",
     "output_type": "stream",
     "text": [
      "s\n",
      "Cloud Flower Plant Sky Ecoregion Green Nature Natural landscape Natural environment Tree\n"
     ]
    },
    {
     "name": "stderr",
     "output_type": "stream",
     "text": [
      "/var/folders/f5/7w8rh9rx11938lxyvdr2g_940000gn/T/ipykernel_94711/975253196.py:27: FutureWarning: The frame.append method is deprecated and will be removed from pandas in a future version. Use pandas.concat instead.\n",
      "  df = df.append({'URL': image_src_temp, 'Labels': s}, ignore_index=True)\n"
     ]
    },
    {
     "name": "stdout",
     "output_type": "stream",
     "text": [
      "s\n",
      "Flash photography Sleeve Knee Waist Street fashion Collar Thigh Fashion design Electric blue T-shirt\n"
     ]
    },
    {
     "name": "stderr",
     "output_type": "stream",
     "text": [
      "/var/folders/f5/7w8rh9rx11938lxyvdr2g_940000gn/T/ipykernel_94711/975253196.py:27: FutureWarning: The frame.append method is deprecated and will be removed from pandas in a future version. Use pandas.concat instead.\n",
      "  df = df.append({'URL': image_src_temp, 'Labels': s}, ignore_index=True)\n"
     ]
    },
    {
     "name": "stdout",
     "output_type": "stream",
     "text": [
      "s\n",
      "Water Liquid Sky Rectangle Fluid Cloud Coastal and oceanic landforms Natural landscape Horizon Beach\n"
     ]
    },
    {
     "name": "stderr",
     "output_type": "stream",
     "text": [
      "/var/folders/f5/7w8rh9rx11938lxyvdr2g_940000gn/T/ipykernel_94711/975253196.py:27: FutureWarning: The frame.append method is deprecated and will be removed from pandas in a future version. Use pandas.concat instead.\n",
      "  df = df.append({'URL': image_src_temp, 'Labels': s}, ignore_index=True)\n"
     ]
    },
    {
     "name": "stdout",
     "output_type": "stream",
     "text": [
      "s\n",
      "Joint Shoulder White Azure Human body Neck Sleeve Waist Knee Street fashion\n"
     ]
    },
    {
     "name": "stderr",
     "output_type": "stream",
     "text": [
      "/var/folders/f5/7w8rh9rx11938lxyvdr2g_940000gn/T/ipykernel_94711/975253196.py:27: FutureWarning: The frame.append method is deprecated and will be removed from pandas in a future version. Use pandas.concat instead.\n",
      "  df = df.append({'URL': image_src_temp, 'Labels': s}, ignore_index=True)\n"
     ]
    },
    {
     "name": "stdout",
     "output_type": "stream",
     "text": [
      "s\n",
      "Clothing Lip Outerwear White Neck Street fashion Jaw Sleeve Gesture Collar\n"
     ]
    },
    {
     "name": "stderr",
     "output_type": "stream",
     "text": [
      "/var/folders/f5/7w8rh9rx11938lxyvdr2g_940000gn/T/ipykernel_94711/975253196.py:27: FutureWarning: The frame.append method is deprecated and will be removed from pandas in a future version. Use pandas.concat instead.\n",
      "  df = df.append({'URL': image_src_temp, 'Labels': s}, ignore_index=True)\n"
     ]
    },
    {
     "name": "stdout",
     "output_type": "stream",
     "text": [
      "s\n",
      "Outerwear White Product Neck Sleeve Font T-shirt Fashion design Pattern Magenta\n"
     ]
    },
    {
     "name": "stderr",
     "output_type": "stream",
     "text": [
      "/var/folders/f5/7w8rh9rx11938lxyvdr2g_940000gn/T/ipykernel_94711/975253196.py:27: FutureWarning: The frame.append method is deprecated and will be removed from pandas in a future version. Use pandas.concat instead.\n",
      "  df = df.append({'URL': image_src_temp, 'Labels': s}, ignore_index=True)\n"
     ]
    },
    {
     "name": "stdout",
     "output_type": "stream",
     "text": [
      "s\n",
      "Hair Joint Sheath dress Head Hand One-piece garment Hairstyle Outerwear Arm Shoulder\n"
     ]
    },
    {
     "name": "stderr",
     "output_type": "stream",
     "text": [
      "/var/folders/f5/7w8rh9rx11938lxyvdr2g_940000gn/T/ipykernel_94711/975253196.py:27: FutureWarning: The frame.append method is deprecated and will be removed from pandas in a future version. Use pandas.concat instead.\n",
      "  df = df.append({'URL': image_src_temp, 'Labels': s}, ignore_index=True)\n"
     ]
    },
    {
     "name": "stdout",
     "output_type": "stream",
     "text": [
      "s\n",
      "Plant Leaf Infrastructure Road surface Asphalt Yellow Tree Line Sidewalk Thoroughfare\n"
     ]
    },
    {
     "name": "stderr",
     "output_type": "stream",
     "text": [
      "/var/folders/f5/7w8rh9rx11938lxyvdr2g_940000gn/T/ipykernel_94711/975253196.py:27: FutureWarning: The frame.append method is deprecated and will be removed from pandas in a future version. Use pandas.concat instead.\n",
      "  df = df.append({'URL': image_src_temp, 'Labels': s}, ignore_index=True)\n"
     ]
    },
    {
     "name": "stdout",
     "output_type": "stream",
     "text": [
      "s\n",
      "Wood Textile Beige Bag Grey Khaki Rectangle Headgear Font Tints and shades\n"
     ]
    },
    {
     "name": "stderr",
     "output_type": "stream",
     "text": [
      "/var/folders/f5/7w8rh9rx11938lxyvdr2g_940000gn/T/ipykernel_94711/975253196.py:27: FutureWarning: The frame.append method is deprecated and will be removed from pandas in a future version. Use pandas.concat instead.\n",
      "  df = df.append({'URL': image_src_temp, 'Labels': s}, ignore_index=True)\n"
     ]
    },
    {
     "name": "stdout",
     "output_type": "stream",
     "text": [
      "s\n",
      "Joint Trousers Shoulder White Muscle Neck Textile Waist Sleeve Thigh\n"
     ]
    },
    {
     "name": "stderr",
     "output_type": "stream",
     "text": [
      "/var/folders/f5/7w8rh9rx11938lxyvdr2g_940000gn/T/ipykernel_94711/975253196.py:27: FutureWarning: The frame.append method is deprecated and will be removed from pandas in a future version. Use pandas.concat instead.\n",
      "  df = df.append({'URL': image_src_temp, 'Labels': s}, ignore_index=True)\n"
     ]
    },
    {
     "name": "stdout",
     "output_type": "stream",
     "text": [
      "s\n",
      "Clothing Hair Joint Head Chin Hand Outerwear Hairstyle Shoulder Arm\n"
     ]
    },
    {
     "name": "stderr",
     "output_type": "stream",
     "text": [
      "/var/folders/f5/7w8rh9rx11938lxyvdr2g_940000gn/T/ipykernel_94711/975253196.py:27: FutureWarning: The frame.append method is deprecated and will be removed from pandas in a future version. Use pandas.concat instead.\n",
      "  df = df.append({'URL': image_src_temp, 'Labels': s}, ignore_index=True)\n"
     ]
    },
    {
     "name": "stdout",
     "output_type": "stream",
     "text": [
      "s\n",
      "Water Azure Natural landscape Plant Watercourse Formation Landscape Klippe Headland Wind wave\n"
     ]
    },
    {
     "name": "stderr",
     "output_type": "stream",
     "text": [
      "/var/folders/f5/7w8rh9rx11938lxyvdr2g_940000gn/T/ipykernel_94711/975253196.py:27: FutureWarning: The frame.append method is deprecated and will be removed from pandas in a future version. Use pandas.concat instead.\n",
      "  df = df.append({'URL': image_src_temp, 'Labels': s}, ignore_index=True)\n"
     ]
    },
    {
     "name": "stdout",
     "output_type": "stream",
     "text": [
      "s\n",
      "Footwear Sky Plant Leg Tree Shorts Sleeve Waist Knee Luggage and bags\n"
     ]
    },
    {
     "name": "stderr",
     "output_type": "stream",
     "text": [
      "/var/folders/f5/7w8rh9rx11938lxyvdr2g_940000gn/T/ipykernel_94711/975253196.py:27: FutureWarning: The frame.append method is deprecated and will be removed from pandas in a future version. Use pandas.concat instead.\n",
      "  df = df.append({'URL': image_src_temp, 'Labels': s}, ignore_index=True)\n"
     ]
    },
    {
     "name": "stdout",
     "output_type": "stream",
     "text": [
      "s\n",
      "Joint Shoulder White Leg Product Black Dress Human body Shorts Fashion\n"
     ]
    },
    {
     "name": "stderr",
     "output_type": "stream",
     "text": [
      "/var/folders/f5/7w8rh9rx11938lxyvdr2g_940000gn/T/ipykernel_94711/975253196.py:27: FutureWarning: The frame.append method is deprecated and will be removed from pandas in a future version. Use pandas.concat instead.\n",
      "  df = df.append({'URL': image_src_temp, 'Labels': s}, ignore_index=True)\n"
     ]
    },
    {
     "name": "stdout",
     "output_type": "stream",
     "text": [
      "s\n",
      "Hair Joint Racketlon Hand Tennis Arm Sports equipment Strings Shoulder Shorts\n"
     ]
    },
    {
     "name": "stderr",
     "output_type": "stream",
     "text": [
      "/var/folders/f5/7w8rh9rx11938lxyvdr2g_940000gn/T/ipykernel_94711/975253196.py:27: FutureWarning: The frame.append method is deprecated and will be removed from pandas in a future version. Use pandas.concat instead.\n",
      "  df = df.append({'URL': image_src_temp, 'Labels': s}, ignore_index=True)\n"
     ]
    },
    {
     "name": "stdout",
     "output_type": "stream",
     "text": [
      "s\n",
      "Art Gas Electric blue Circle Pattern Aluminium Fashion accessory Symmetry Plastic Font\n"
     ]
    },
    {
     "name": "stderr",
     "output_type": "stream",
     "text": [
      "/var/folders/f5/7w8rh9rx11938lxyvdr2g_940000gn/T/ipykernel_94711/975253196.py:27: FutureWarning: The frame.append method is deprecated and will be removed from pandas in a future version. Use pandas.concat instead.\n",
      "  df = df.append({'URL': image_src_temp, 'Labels': s}, ignore_index=True)\n"
     ]
    },
    {
     "name": "stdout",
     "output_type": "stream",
     "text": [
      "s\n",
      "Plant Botany Leaf People in nature Nature Tree Natural landscape Vegetation Wood Grass\n"
     ]
    },
    {
     "name": "stderr",
     "output_type": "stream",
     "text": [
      "/var/folders/f5/7w8rh9rx11938lxyvdr2g_940000gn/T/ipykernel_94711/975253196.py:27: FutureWarning: The frame.append method is deprecated and will be removed from pandas in a future version. Use pandas.concat instead.\n",
      "  df = df.append({'URL': image_src_temp, 'Labels': s}, ignore_index=True)\n"
     ]
    },
    {
     "name": "stdout",
     "output_type": "stream",
     "text": [
      "s\n",
      "Shoulder Photograph Eyebrow Eye Facial expression Plant Happy Eyelash Petal Smile\n"
     ]
    },
    {
     "name": "stderr",
     "output_type": "stream",
     "text": [
      "/var/folders/f5/7w8rh9rx11938lxyvdr2g_940000gn/T/ipykernel_94711/975253196.py:27: FutureWarning: The frame.append method is deprecated and will be removed from pandas in a future version. Use pandas.concat instead.\n",
      "  df = df.append({'URL': image_src_temp, 'Labels': s}, ignore_index=True)\n"
     ]
    },
    {
     "name": "stdout",
     "output_type": "stream",
     "text": [
      "s\n",
      "Cloud Sky Daytime Motor vehicle Road surface Asphalt Street light Thoroughfare Tar Landscape\n"
     ]
    },
    {
     "name": "stderr",
     "output_type": "stream",
     "text": [
      "/var/folders/f5/7w8rh9rx11938lxyvdr2g_940000gn/T/ipykernel_94711/975253196.py:27: FutureWarning: The frame.append method is deprecated and will be removed from pandas in a future version. Use pandas.concat instead.\n",
      "  df = df.append({'URL': image_src_temp, 'Labels': s}, ignore_index=True)\n"
     ]
    },
    {
     "name": "stdout",
     "output_type": "stream",
     "text": [
      "s\n",
      "Clothing Hair Face Joint Head Plant Arm Shoulder Eye Human body\n"
     ]
    },
    {
     "name": "stderr",
     "output_type": "stream",
     "text": [
      "/var/folders/f5/7w8rh9rx11938lxyvdr2g_940000gn/T/ipykernel_94711/975253196.py:27: FutureWarning: The frame.append method is deprecated and will be removed from pandas in a future version. Use pandas.concat instead.\n",
      "  df = df.append({'URL': image_src_temp, 'Labels': s}, ignore_index=True)\n"
     ]
    },
    {
     "name": "stdout",
     "output_type": "stream",
     "text": [
      "s\n",
      "Font Document Letter\n"
     ]
    },
    {
     "name": "stderr",
     "output_type": "stream",
     "text": [
      "/var/folders/f5/7w8rh9rx11938lxyvdr2g_940000gn/T/ipykernel_94711/975253196.py:27: FutureWarning: The frame.append method is deprecated and will be removed from pandas in a future version. Use pandas.concat instead.\n",
      "  df = df.append({'URL': image_src_temp, 'Labels': s}, ignore_index=True)\n"
     ]
    },
    {
     "name": "stdout",
     "output_type": "stream",
     "text": [
      "s\n",
      "Joint Arm Shoulder Leg Neck Flash photography Fashion Sleeve Waist Thigh\n"
     ]
    },
    {
     "name": "stderr",
     "output_type": "stream",
     "text": [
      "/var/folders/f5/7w8rh9rx11938lxyvdr2g_940000gn/T/ipykernel_94711/975253196.py:27: FutureWarning: The frame.append method is deprecated and will be removed from pandas in a future version. Use pandas.concat instead.\n",
      "  df = df.append({'URL': image_src_temp, 'Labels': s}, ignore_index=True)\n"
     ]
    },
    {
     "name": "stdout",
     "output_type": "stream",
     "text": [
      "s\n",
      "Head Lip Outerwear Shoulder Flash photography Neck Eyelash Sleeve Gesture Waist\n"
     ]
    },
    {
     "name": "stderr",
     "output_type": "stream",
     "text": [
      "/var/folders/f5/7w8rh9rx11938lxyvdr2g_940000gn/T/ipykernel_94711/975253196.py:27: FutureWarning: The frame.append method is deprecated and will be removed from pandas in a future version. Use pandas.concat instead.\n",
      "  df = df.append({'URL': image_src_temp, 'Labels': s}, ignore_index=True)\n"
     ]
    },
    {
     "name": "stdout",
     "output_type": "stream",
     "text": [
      "s\n",
      "Joint Muscle Leg Comfort Undershirt Neck Stomach Sleeve Knee Thigh\n"
     ]
    },
    {
     "name": "stderr",
     "output_type": "stream",
     "text": [
      "/var/folders/f5/7w8rh9rx11938lxyvdr2g_940000gn/T/ipykernel_94711/975253196.py:27: FutureWarning: The frame.append method is deprecated and will be removed from pandas in a future version. Use pandas.concat instead.\n",
      "  df = df.append({'URL': image_src_temp, 'Labels': s}, ignore_index=True)\n"
     ]
    },
    {
     "name": "stdout",
     "output_type": "stream",
     "text": [
      "s\n",
      "Purple Flower Rectangle Violet Font Bag Material property Magenta Petal Cup\n"
     ]
    },
    {
     "name": "stderr",
     "output_type": "stream",
     "text": [
      "/var/folders/f5/7w8rh9rx11938lxyvdr2g_940000gn/T/ipykernel_94711/975253196.py:27: FutureWarning: The frame.append method is deprecated and will be removed from pandas in a future version. Use pandas.concat instead.\n",
      "  df = df.append({'URL': image_src_temp, 'Labels': s}, ignore_index=True)\n"
     ]
    },
    {
     "name": "stdout",
     "output_type": "stream",
     "text": [
      "s\n",
      "Dance Art Artist Flash photography Entertainment Painting Fashion design Performing arts Choreography Event\n"
     ]
    },
    {
     "name": "stderr",
     "output_type": "stream",
     "text": [
      "/var/folders/f5/7w8rh9rx11938lxyvdr2g_940000gn/T/ipykernel_94711/975253196.py:27: FutureWarning: The frame.append method is deprecated and will be removed from pandas in a future version. Use pandas.concat instead.\n",
      "  df = df.append({'URL': image_src_temp, 'Labels': s}, ignore_index=True)\n"
     ]
    },
    {
     "name": "stdout",
     "output_type": "stream",
     "text": [
      "s\n",
      "Hand Shoulder Purple Toy Human body Textile Violet Window Pink Fashion design\n"
     ]
    },
    {
     "name": "stderr",
     "output_type": "stream",
     "text": [
      "/var/folders/f5/7w8rh9rx11938lxyvdr2g_940000gn/T/ipykernel_94711/975253196.py:27: FutureWarning: The frame.append method is deprecated and will be removed from pandas in a future version. Use pandas.concat instead.\n",
      "  df = df.append({'URL': image_src_temp, 'Labels': s}, ignore_index=True)\n"
     ]
    },
    {
     "name": "stdout",
     "output_type": "stream",
     "text": [
      "s\n",
      "Shoulder Swimsuit top Muscle Lingerie top Brassiere Human body Swimwear Waist Thigh Undergarment\n"
     ]
    },
    {
     "name": "stderr",
     "output_type": "stream",
     "text": [
      "/var/folders/f5/7w8rh9rx11938lxyvdr2g_940000gn/T/ipykernel_94711/975253196.py:27: FutureWarning: The frame.append method is deprecated and will be removed from pandas in a future version. Use pandas.concat instead.\n",
      "  df = df.append({'URL': image_src_temp, 'Labels': s}, ignore_index=True)\n"
     ]
    },
    {
     "name": "stdout",
     "output_type": "stream",
     "text": [
      "s\n",
      "Automotive design Jaw Font Art Automotive exterior Logo Darkness Ceiling fixture Symmetry Electric blue\n"
     ]
    },
    {
     "name": "stderr",
     "output_type": "stream",
     "text": [
      "/var/folders/f5/7w8rh9rx11938lxyvdr2g_940000gn/T/ipykernel_94711/975253196.py:27: FutureWarning: The frame.append method is deprecated and will be removed from pandas in a future version. Use pandas.concat instead.\n",
      "  df = df.append({'URL': image_src_temp, 'Labels': s}, ignore_index=True)\n"
     ]
    },
    {
     "name": "stdout",
     "output_type": "stream",
     "text": [
      "s\n",
      "Arm Flash photography Sky Beach Thigh People in nature Body of water Waist Swimwear Brassiere\n"
     ]
    },
    {
     "name": "stderr",
     "output_type": "stream",
     "text": [
      "/var/folders/f5/7w8rh9rx11938lxyvdr2g_940000gn/T/ipykernel_94711/975253196.py:27: FutureWarning: The frame.append method is deprecated and will be removed from pandas in a future version. Use pandas.concat instead.\n",
      "  df = df.append({'URL': image_src_temp, 'Labels': s}, ignore_index=True)\n"
     ]
    },
    {
     "name": "stdout",
     "output_type": "stream",
     "text": [
      "s\n",
      "Jellyfish Marine invertebrates Bioluminescence Art Gas Electric blue Cnidaria Transparent material Plankton Invertebrate\n"
     ]
    },
    {
     "name": "stderr",
     "output_type": "stream",
     "text": [
      "/var/folders/f5/7w8rh9rx11938lxyvdr2g_940000gn/T/ipykernel_94711/975253196.py:27: FutureWarning: The frame.append method is deprecated and will be removed from pandas in a future version. Use pandas.concat instead.\n",
      "  df = df.append({'URL': image_src_temp, 'Labels': s}, ignore_index=True)\n"
     ]
    },
    {
     "name": "stdout",
     "output_type": "stream",
     "text": [
      "s\n",
      "Product Wood Textile Table Beige Basic pump Clothes hanger Font High heels Rectangle\n"
     ]
    },
    {
     "name": "stderr",
     "output_type": "stream",
     "text": [
      "/var/folders/f5/7w8rh9rx11938lxyvdr2g_940000gn/T/ipykernel_94711/975253196.py:27: FutureWarning: The frame.append method is deprecated and will be removed from pandas in a future version. Use pandas.concat instead.\n",
      "  df = df.append({'URL': image_src_temp, 'Labels': s}, ignore_index=True)\n"
     ]
    },
    {
     "name": "stdout",
     "output_type": "stream",
     "text": [
      "s\n",
      "Face Skin Head Jeans Hand Shoulder Eyelash Waist Sleeve Thigh\n"
     ]
    },
    {
     "name": "stderr",
     "output_type": "stream",
     "text": [
      "/var/folders/f5/7w8rh9rx11938lxyvdr2g_940000gn/T/ipykernel_94711/975253196.py:27: FutureWarning: The frame.append method is deprecated and will be removed from pandas in a future version. Use pandas.concat instead.\n",
      "  df = df.append({'URL': image_src_temp, 'Labels': s}, ignore_index=True)\n"
     ]
    },
    {
     "name": "stdout",
     "output_type": "stream",
     "text": [
      "s\n",
      "Building Couch Table Furniture Comfort Window Cloud Wood Plant Textile\n"
     ]
    },
    {
     "name": "stderr",
     "output_type": "stream",
     "text": [
      "/var/folders/f5/7w8rh9rx11938lxyvdr2g_940000gn/T/ipykernel_94711/975253196.py:27: FutureWarning: The frame.append method is deprecated and will be removed from pandas in a future version. Use pandas.concat instead.\n",
      "  df = df.append({'URL': image_src_temp, 'Labels': s}, ignore_index=True)\n"
     ]
    },
    {
     "name": "stdout",
     "output_type": "stream",
     "text": [
      "s\n",
      "Joint Arm Stomach Muscle Human body Neck Sleeve Waist Flash photography Thigh\n"
     ]
    },
    {
     "name": "stderr",
     "output_type": "stream",
     "text": [
      "/var/folders/f5/7w8rh9rx11938lxyvdr2g_940000gn/T/ipykernel_94711/975253196.py:27: FutureWarning: The frame.append method is deprecated and will be removed from pandas in a future version. Use pandas.concat instead.\n",
      "  df = df.append({'URL': image_src_temp, 'Labels': s}, ignore_index=True)\n"
     ]
    },
    {
     "name": "stdout",
     "output_type": "stream",
     "text": [
      "s\n",
      "Drinkware Tableware Stemware Wine Gesture Barware Drink Alcoholic beverage Champagne stemware Murphy's irish stout\n"
     ]
    },
    {
     "name": "stderr",
     "output_type": "stream",
     "text": [
      "/var/folders/f5/7w8rh9rx11938lxyvdr2g_940000gn/T/ipykernel_94711/975253196.py:27: FutureWarning: The frame.append method is deprecated and will be removed from pandas in a future version. Use pandas.concat instead.\n",
      "  df = df.append({'URL': image_src_temp, 'Labels': s}, ignore_index=True)\n"
     ]
    },
    {
     "name": "stdout",
     "output_type": "stream",
     "text": [
      "s\n",
      "Suit trousers Hair Leg Light Lighting Sleeve Standing Suit Lamp Entertainment\n"
     ]
    },
    {
     "name": "stderr",
     "output_type": "stream",
     "text": [
      "/var/folders/f5/7w8rh9rx11938lxyvdr2g_940000gn/T/ipykernel_94711/975253196.py:27: FutureWarning: The frame.append method is deprecated and will be removed from pandas in a future version. Use pandas.concat instead.\n",
      "  df = df.append({'URL': image_src_temp, 'Labels': s}, ignore_index=True)\n"
     ]
    },
    {
     "name": "stdout",
     "output_type": "stream",
     "text": [
      "s\n",
      "Outerwear Shoulder Leg Human body Neck Waist Sleeve Purple Street fashion Thigh\n"
     ]
    },
    {
     "name": "stderr",
     "output_type": "stream",
     "text": [
      "/var/folders/f5/7w8rh9rx11938lxyvdr2g_940000gn/T/ipykernel_94711/975253196.py:27: FutureWarning: The frame.append method is deprecated and will be removed from pandas in a future version. Use pandas.concat instead.\n",
      "  df = df.append({'URL': image_src_temp, 'Labels': s}, ignore_index=True)\n"
     ]
    },
    {
     "name": "stdout",
     "output_type": "stream",
     "text": [
      "s\n",
      "Glasses Footwear Joint Shoe Arm Shoulder Leg Sunglasses Human body Eyewear\n"
     ]
    },
    {
     "name": "stderr",
     "output_type": "stream",
     "text": [
      "/var/folders/f5/7w8rh9rx11938lxyvdr2g_940000gn/T/ipykernel_94711/975253196.py:27: FutureWarning: The frame.append method is deprecated and will be removed from pandas in a future version. Use pandas.concat instead.\n",
      "  df = df.append({'URL': image_src_temp, 'Labels': s}, ignore_index=True)\n"
     ]
    },
    {
     "name": "stdout",
     "output_type": "stream",
     "text": [
      "s\n",
      "Sky Astronomical object Tints and shades Circle Art Magenta Peach Event Pattern Ball\n"
     ]
    },
    {
     "name": "stderr",
     "output_type": "stream",
     "text": [
      "/var/folders/f5/7w8rh9rx11938lxyvdr2g_940000gn/T/ipykernel_94711/975253196.py:27: FutureWarning: The frame.append method is deprecated and will be removed from pandas in a future version. Use pandas.concat instead.\n",
      "  df = df.append({'URL': image_src_temp, 'Labels': s}, ignore_index=True)\n"
     ]
    },
    {
     "name": "stdout",
     "output_type": "stream",
     "text": [
      "s\n",
      "Hair Shoe Leg Plant Window Human body Flowerpot Eyewear Street fashion Thigh\n"
     ]
    },
    {
     "name": "stderr",
     "output_type": "stream",
     "text": [
      "/var/folders/f5/7w8rh9rx11938lxyvdr2g_940000gn/T/ipykernel_94711/975253196.py:27: FutureWarning: The frame.append method is deprecated and will be removed from pandas in a future version. Use pandas.concat instead.\n",
      "  df = df.append({'URL': image_src_temp, 'Labels': s}, ignore_index=True)\n"
     ]
    },
    {
     "name": "stdout",
     "output_type": "stream",
     "text": [
      "s\n",
      "Muscle Flash photography Thigh Waist Black hair Trunk Beauty Mesh Human leg Event\n"
     ]
    },
    {
     "name": "stderr",
     "output_type": "stream",
     "text": [
      "/var/folders/f5/7w8rh9rx11938lxyvdr2g_940000gn/T/ipykernel_94711/975253196.py:27: FutureWarning: The frame.append method is deprecated and will be removed from pandas in a future version. Use pandas.concat instead.\n",
      "  df = df.append({'URL': image_src_temp, 'Labels': s}, ignore_index=True)\n"
     ]
    },
    {
     "name": "stdout",
     "output_type": "stream",
     "text": [
      "s\n",
      "Gesture Interaction Flash photography Happy Magenta Fun Event Sky Entertainment Sunset\n"
     ]
    },
    {
     "name": "stderr",
     "output_type": "stream",
     "text": [
      "/var/folders/f5/7w8rh9rx11938lxyvdr2g_940000gn/T/ipykernel_94711/975253196.py:27: FutureWarning: The frame.append method is deprecated and will be removed from pandas in a future version. Use pandas.concat instead.\n",
      "  df = df.append({'URL': image_src_temp, 'Labels': s}, ignore_index=True)\n"
     ]
    },
    {
     "name": "stdout",
     "output_type": "stream",
     "text": [
      "s\n",
      "Brown Amber Orange Wood Tints and shades Pattern Peach Event Electric blue Art\n"
     ]
    },
    {
     "name": "stderr",
     "output_type": "stream",
     "text": [
      "/var/folders/f5/7w8rh9rx11938lxyvdr2g_940000gn/T/ipykernel_94711/975253196.py:27: FutureWarning: The frame.append method is deprecated and will be removed from pandas in a future version. Use pandas.concat instead.\n",
      "  df = df.append({'URL': image_src_temp, 'Labels': s}, ignore_index=True)\n"
     ]
    },
    {
     "name": "stdout",
     "output_type": "stream",
     "text": [
      "s\n",
      "Microphone Performing arts Entertainment Fashion design Hat Street fashion Performance art Event Audio equipment Formal wear\n"
     ]
    },
    {
     "name": "stderr",
     "output_type": "stream",
     "text": [
      "/var/folders/f5/7w8rh9rx11938lxyvdr2g_940000gn/T/ipykernel_94711/975253196.py:27: FutureWarning: The frame.append method is deprecated and will be removed from pandas in a future version. Use pandas.concat instead.\n",
      "  df = df.append({'URL': image_src_temp, 'Labels': s}, ignore_index=True)\n"
     ]
    },
    {
     "name": "stdout",
     "output_type": "stream",
     "text": [
      "s\n",
      "Rectangle Font Slope Logo Brand Circle Carmine Number Parallel\n"
     ]
    },
    {
     "name": "stderr",
     "output_type": "stream",
     "text": [
      "/var/folders/f5/7w8rh9rx11938lxyvdr2g_940000gn/T/ipykernel_94711/975253196.py:27: FutureWarning: The frame.append method is deprecated and will be removed from pandas in a future version. Use pandas.concat instead.\n",
      "  df = df.append({'URL': image_src_temp, 'Labels': s}, ignore_index=True)\n"
     ]
    },
    {
     "name": "stdout",
     "output_type": "stream",
     "text": [
      "s\n",
      "Stomach Shoulder Neck Jaw Sleeve Waist Thigh Gesture Knee Elbow\n"
     ]
    },
    {
     "name": "stderr",
     "output_type": "stream",
     "text": [
      "/var/folders/f5/7w8rh9rx11938lxyvdr2g_940000gn/T/ipykernel_94711/975253196.py:27: FutureWarning: The frame.append method is deprecated and will be removed from pandas in a future version. Use pandas.concat instead.\n",
      "  df = df.append({'URL': image_src_temp, 'Labels': s}, ignore_index=True)\n"
     ]
    },
    {
     "name": "stdout",
     "output_type": "stream",
     "text": [
      "s\n",
      "Arm Leg Human body Sleeve Flash photography Knee Gesture Thigh Sportswear Black hair\n"
     ]
    },
    {
     "name": "stderr",
     "output_type": "stream",
     "text": [
      "/var/folders/f5/7w8rh9rx11938lxyvdr2g_940000gn/T/ipykernel_94711/975253196.py:27: FutureWarning: The frame.append method is deprecated and will be removed from pandas in a future version. Use pandas.concat instead.\n",
      "  df = df.append({'URL': image_src_temp, 'Labels': s}, ignore_index=True)\n"
     ]
    },
    {
     "name": "stdout",
     "output_type": "stream",
     "text": [
      "s\n",
      "Sleeve Gesture Headgear Elbow T-shirt Thumb Font Sign language Wrist Personal protective equipment\n"
     ]
    },
    {
     "name": "stderr",
     "output_type": "stream",
     "text": [
      "/var/folders/f5/7w8rh9rx11938lxyvdr2g_940000gn/T/ipykernel_94711/975253196.py:27: FutureWarning: The frame.append method is deprecated and will be removed from pandas in a future version. Use pandas.concat instead.\n",
      "  df = df.append({'URL': image_src_temp, 'Labels': s}, ignore_index=True)\n"
     ]
    },
    {
     "name": "stdout",
     "output_type": "stream",
     "text": [
      "s\n",
      "Shoulder Arm Purple Human body Sleeve Headgear T-shirt Magenta Fashion design Jewellery\n"
     ]
    },
    {
     "name": "stderr",
     "output_type": "stream",
     "text": [
      "/var/folders/f5/7w8rh9rx11938lxyvdr2g_940000gn/T/ipykernel_94711/975253196.py:27: FutureWarning: The frame.append method is deprecated and will be removed from pandas in a future version. Use pandas.concat instead.\n",
      "  df = df.append({'URL': image_src_temp, 'Labels': s}, ignore_index=True)\n"
     ]
    },
    {
     "name": "stdout",
     "output_type": "stream",
     "text": [
      "s\n",
      "Joint Shoulder Arm White Product Human body Fashion Sleeve Standing Cartoon\n"
     ]
    },
    {
     "name": "stderr",
     "output_type": "stream",
     "text": [
      "/var/folders/f5/7w8rh9rx11938lxyvdr2g_940000gn/T/ipykernel_94711/975253196.py:27: FutureWarning: The frame.append method is deprecated and will be removed from pandas in a future version. Use pandas.concat instead.\n",
      "  df = df.append({'URL': image_src_temp, 'Labels': s}, ignore_index=True)\n"
     ]
    },
    {
     "name": "stdout",
     "output_type": "stream",
     "text": [
      "s\n",
      "Wood Triangle Creative arts Gesture Finger Art Thumb Origami paper Nail Craft\n"
     ]
    },
    {
     "name": "stderr",
     "output_type": "stream",
     "text": [
      "/var/folders/f5/7w8rh9rx11938lxyvdr2g_940000gn/T/ipykernel_94711/975253196.py:27: FutureWarning: The frame.append method is deprecated and will be removed from pandas in a future version. Use pandas.concat instead.\n",
      "  df = df.append({'URL': image_src_temp, 'Labels': s}, ignore_index=True)\n"
     ]
    },
    {
     "name": "stdout",
     "output_type": "stream",
     "text": [
      "s\n",
      "Cartoon Line Art Font Wood Illustration Sweetness Icing Visual arts Comfort food\n"
     ]
    },
    {
     "name": "stderr",
     "output_type": "stream",
     "text": [
      "/var/folders/f5/7w8rh9rx11938lxyvdr2g_940000gn/T/ipykernel_94711/975253196.py:27: FutureWarning: The frame.append method is deprecated and will be removed from pandas in a future version. Use pandas.concat instead.\n",
      "  df = df.append({'URL': image_src_temp, 'Labels': s}, ignore_index=True)\n"
     ]
    },
    {
     "name": "stdout",
     "output_type": "stream",
     "text": [
      "s\n",
      "Mobile device Output device Communication Device Telephony Portable communications device Computer Gadget Space bar Font Office equipment\n"
     ]
    },
    {
     "name": "stderr",
     "output_type": "stream",
     "text": [
      "/var/folders/f5/7w8rh9rx11938lxyvdr2g_940000gn/T/ipykernel_94711/975253196.py:27: FutureWarning: The frame.append method is deprecated and will be removed from pandas in a future version. Use pandas.concat instead.\n",
      "  df = df.append({'URL': image_src_temp, 'Labels': s}, ignore_index=True)\n"
     ]
    },
    {
     "name": "stdout",
     "output_type": "stream",
     "text": [
      "s\n",
      "Outerwear Facial expression White Textile Neck Sleeve Gesture T-shirt Red Jersey\n"
     ]
    },
    {
     "name": "stderr",
     "output_type": "stream",
     "text": [
      "/var/folders/f5/7w8rh9rx11938lxyvdr2g_940000gn/T/ipykernel_94711/975253196.py:27: FutureWarning: The frame.append method is deprecated and will be removed from pandas in a future version. Use pandas.concat instead.\n",
      "  df = df.append({'URL': image_src_temp, 'Labels': s}, ignore_index=True)\n"
     ]
    },
    {
     "name": "stdout",
     "output_type": "stream",
     "text": [
      "s\n",
      "Vision care Sleeve Street fashion Eyewear Flash photography Collar Door Fashion design Sunglasses Natural material\n"
     ]
    },
    {
     "name": "stderr",
     "output_type": "stream",
     "text": [
      "/var/folders/f5/7w8rh9rx11938lxyvdr2g_940000gn/T/ipykernel_94711/975253196.py:27: FutureWarning: The frame.append method is deprecated and will be removed from pandas in a future version. Use pandas.concat instead.\n",
      "  df = df.append({'URL': image_src_temp, 'Labels': s}, ignore_index=True)\n"
     ]
    },
    {
     "name": "stdout",
     "output_type": "stream",
     "text": [
      "s\n",
      "Smile Outerwear Sky Workwear Sleeve Orange Tire Headgear Cool Happy\n"
     ]
    },
    {
     "name": "stderr",
     "output_type": "stream",
     "text": [
      "/var/folders/f5/7w8rh9rx11938lxyvdr2g_940000gn/T/ipykernel_94711/975253196.py:27: FutureWarning: The frame.append method is deprecated and will be removed from pandas in a future version. Use pandas.concat instead.\n",
      "  df = df.append({'URL': image_src_temp, 'Labels': s}, ignore_index=True)\n"
     ]
    },
    {
     "name": "stdout",
     "output_type": "stream",
     "text": [
      "s\n",
      "Arm Dress shirt Human body Flash photography Street fashion Sleeve Comfort Eyewear Knee Collar\n"
     ]
    },
    {
     "name": "stderr",
     "output_type": "stream",
     "text": [
      "/var/folders/f5/7w8rh9rx11938lxyvdr2g_940000gn/T/ipykernel_94711/975253196.py:27: FutureWarning: The frame.append method is deprecated and will be removed from pandas in a future version. Use pandas.concat instead.\n",
      "  df = df.append({'URL': image_src_temp, 'Labels': s}, ignore_index=True)\n"
     ]
    },
    {
     "name": "stdout",
     "output_type": "stream",
     "text": [
      "s\n",
      "Forehead Nose Cheek Skin Lip Eyebrow Eyelash Jaw Neck Flash photography\n"
     ]
    },
    {
     "name": "stderr",
     "output_type": "stream",
     "text": [
      "/var/folders/f5/7w8rh9rx11938lxyvdr2g_940000gn/T/ipykernel_94711/975253196.py:27: FutureWarning: The frame.append method is deprecated and will be removed from pandas in a future version. Use pandas.concat instead.\n",
      "  df = df.append({'URL': image_src_temp, 'Labels': s}, ignore_index=True)\n"
     ]
    },
    {
     "name": "stdout",
     "output_type": "stream",
     "text": [
      "s\n",
      "Outerwear White Product Black Sleeve Grey Collar Magenta Material property Fashion design\n"
     ]
    },
    {
     "name": "stderr",
     "output_type": "stream",
     "text": [
      "/var/folders/f5/7w8rh9rx11938lxyvdr2g_940000gn/T/ipykernel_94711/975253196.py:27: FutureWarning: The frame.append method is deprecated and will be removed from pandas in a future version. Use pandas.concat instead.\n",
      "  df = df.append({'URL': image_src_temp, 'Labels': s}, ignore_index=True)\n"
     ]
    },
    {
     "name": "stdout",
     "output_type": "stream",
     "text": [
      "s\n",
      "Clothing Shoulder Stomach Shorts Neck Sleeve Waist Thigh Knee Flash photography\n"
     ]
    },
    {
     "name": "stderr",
     "output_type": "stream",
     "text": [
      "/var/folders/f5/7w8rh9rx11938lxyvdr2g_940000gn/T/ipykernel_94711/975253196.py:27: FutureWarning: The frame.append method is deprecated and will be removed from pandas in a future version. Use pandas.concat instead.\n",
      "  df = df.append({'URL': image_src_temp, 'Labels': s}, ignore_index=True)\n"
     ]
    },
    {
     "name": "stdout",
     "output_type": "stream",
     "text": [
      "s\n",
      "Font Logo Brand Circle Rectangle Screenshot Graphics\n"
     ]
    },
    {
     "name": "stderr",
     "output_type": "stream",
     "text": [
      "/var/folders/f5/7w8rh9rx11938lxyvdr2g_940000gn/T/ipykernel_94711/975253196.py:27: FutureWarning: The frame.append method is deprecated and will be removed from pandas in a future version. Use pandas.concat instead.\n",
      "  df = df.append({'URL': image_src_temp, 'Labels': s}, ignore_index=True)\n"
     ]
    },
    {
     "name": "stdout",
     "output_type": "stream",
     "text": [
      "s\n",
      "Smile Outerwear Sleeve Textile Jacket Street fashion Cool Jheri curl Happy Fashion design\n"
     ]
    },
    {
     "name": "stderr",
     "output_type": "stream",
     "text": [
      "/var/folders/f5/7w8rh9rx11938lxyvdr2g_940000gn/T/ipykernel_94711/975253196.py:27: FutureWarning: The frame.append method is deprecated and will be removed from pandas in a future version. Use pandas.concat instead.\n",
      "  df = df.append({'URL': image_src_temp, 'Labels': s}, ignore_index=True)\n"
     ]
    },
    {
     "name": "stdout",
     "output_type": "stream",
     "text": [
      "s\n",
      "Outerwear Vision care Flash photography Purple Neck Textile Sleeve Street fashion Grey Jacket\n"
     ]
    },
    {
     "name": "stderr",
     "output_type": "stream",
     "text": [
      "/var/folders/f5/7w8rh9rx11938lxyvdr2g_940000gn/T/ipykernel_94711/975253196.py:27: FutureWarning: The frame.append method is deprecated and will be removed from pandas in a future version. Use pandas.concat instead.\n",
      "  df = df.append({'URL': image_src_temp, 'Labels': s}, ignore_index=True)\n"
     ]
    },
    {
     "name": "stdout",
     "output_type": "stream",
     "text": [
      "s\n",
      "Nose Lip Mouth Sleeve Jacket Windbreaker Entertainment Personal protective equipment Electric blue Fashion design\n"
     ]
    },
    {
     "name": "stderr",
     "output_type": "stream",
     "text": [
      "/var/folders/f5/7w8rh9rx11938lxyvdr2g_940000gn/T/ipykernel_94711/975253196.py:27: FutureWarning: The frame.append method is deprecated and will be removed from pandas in a future version. Use pandas.concat instead.\n",
      "  df = df.append({'URL': image_src_temp, 'Labels': s}, ignore_index=True)\n"
     ]
    },
    {
     "name": "stdout",
     "output_type": "stream",
     "text": [
      "s\n",
      "Comfort Sleeve Knee Thigh Elbow Flooring Street fashion Human leg Fashion design Flash photography\n"
     ]
    },
    {
     "name": "stderr",
     "output_type": "stream",
     "text": [
      "/var/folders/f5/7w8rh9rx11938lxyvdr2g_940000gn/T/ipykernel_94711/975253196.py:27: FutureWarning: The frame.append method is deprecated and will be removed from pandas in a future version. Use pandas.concat instead.\n",
      "  df = df.append({'URL': image_src_temp, 'Labels': s}, ignore_index=True)\n"
     ]
    },
    {
     "name": "stdout",
     "output_type": "stream",
     "text": [
      "s\n",
      "Clothing Jeans Leg Sleeve Street fashion Jacket Eyewear Leather jacket Denim Sunglasses\n"
     ]
    },
    {
     "name": "stderr",
     "output_type": "stream",
     "text": [
      "/var/folders/f5/7w8rh9rx11938lxyvdr2g_940000gn/T/ipykernel_94711/975253196.py:27: FutureWarning: The frame.append method is deprecated and will be removed from pandas in a future version. Use pandas.concat instead.\n",
      "  df = df.append({'URL': image_src_temp, 'Labels': s}, ignore_index=True)\n"
     ]
    },
    {
     "name": "stdout",
     "output_type": "stream",
     "text": [
      "s\n",
      "Joint Outerwear Shoulder White Neck Textile Sleeve Waist Thigh Chest\n"
     ]
    },
    {
     "name": "stderr",
     "output_type": "stream",
     "text": [
      "/var/folders/f5/7w8rh9rx11938lxyvdr2g_940000gn/T/ipykernel_94711/975253196.py:27: FutureWarning: The frame.append method is deprecated and will be removed from pandas in a future version. Use pandas.concat instead.\n",
      "  df = df.append({'URL': image_src_temp, 'Labels': s}, ignore_index=True)\n"
     ]
    },
    {
     "name": "stdout",
     "output_type": "stream",
     "text": [
      "s\n",
      "Vertebrate Mammal Organism Cartoon Font Hat Happy Illustration Electric blue Musical instrument\n"
     ]
    },
    {
     "name": "stderr",
     "output_type": "stream",
     "text": [
      "/var/folders/f5/7w8rh9rx11938lxyvdr2g_940000gn/T/ipykernel_94711/975253196.py:27: FutureWarning: The frame.append method is deprecated and will be removed from pandas in a future version. Use pandas.concat instead.\n",
      "  df = df.append({'URL': image_src_temp, 'Labels': s}, ignore_index=True)\n"
     ]
    },
    {
     "name": "stdout",
     "output_type": "stream",
     "text": [
      "s\n",
      "Table Green Rectangle Font Tree Wood Gambling Pattern Art Room\n"
     ]
    },
    {
     "name": "stderr",
     "output_type": "stream",
     "text": [
      "/var/folders/f5/7w8rh9rx11938lxyvdr2g_940000gn/T/ipykernel_94711/975253196.py:27: FutureWarning: The frame.append method is deprecated and will be removed from pandas in a future version. Use pandas.concat instead.\n",
      "  df = df.append({'URL': image_src_temp, 'Labels': s}, ignore_index=True)\n"
     ]
    },
    {
     "name": "stdout",
     "output_type": "stream",
     "text": [
      "s\n",
      "Hair Joint Arm Shoulder Fashion Neck Sleeve Waist Thigh Gesture\n"
     ]
    },
    {
     "name": "stderr",
     "output_type": "stream",
     "text": [
      "/var/folders/f5/7w8rh9rx11938lxyvdr2g_940000gn/T/ipykernel_94711/975253196.py:27: FutureWarning: The frame.append method is deprecated and will be removed from pandas in a future version. Use pandas.concat instead.\n",
      "  df = df.append({'URL': image_src_temp, 'Labels': s}, ignore_index=True)\n"
     ]
    },
    {
     "name": "stdout",
     "output_type": "stream",
     "text": [
      "s\n",
      "Joint Shoulder Stomach Human body Neck Sleeve Waist Gesture Bag Thigh\n"
     ]
    },
    {
     "name": "stderr",
     "output_type": "stream",
     "text": [
      "/var/folders/f5/7w8rh9rx11938lxyvdr2g_940000gn/T/ipykernel_94711/975253196.py:27: FutureWarning: The frame.append method is deprecated and will be removed from pandas in a future version. Use pandas.concat instead.\n",
      "  df = df.append({'URL': image_src_temp, 'Labels': s}, ignore_index=True)\n"
     ]
    },
    {
     "name": "stdout",
     "output_type": "stream",
     "text": [
      "s\n",
      "Hair Joint Hairstyle Shoulder Leg Shorts Muscle Fashion Neck Sleeve\n"
     ]
    },
    {
     "name": "stderr",
     "output_type": "stream",
     "text": [
      "/var/folders/f5/7w8rh9rx11938lxyvdr2g_940000gn/T/ipykernel_94711/975253196.py:27: FutureWarning: The frame.append method is deprecated and will be removed from pandas in a future version. Use pandas.concat instead.\n",
      "  df = df.append({'URL': image_src_temp, 'Labels': s}, ignore_index=True)\n"
     ]
    },
    {
     "name": "stdout",
     "output_type": "stream",
     "text": [
      "s\n",
      "Tableware Liquid Drinkware Stemware Serveware Rectangle Champagne stemware Flooring Barware Dishware\n"
     ]
    },
    {
     "name": "stderr",
     "output_type": "stream",
     "text": [
      "/var/folders/f5/7w8rh9rx11938lxyvdr2g_940000gn/T/ipykernel_94711/975253196.py:27: FutureWarning: The frame.append method is deprecated and will be removed from pandas in a future version. Use pandas.concat instead.\n",
      "  df = df.append({'URL': image_src_temp, 'Labels': s}, ignore_index=True)\n"
     ]
    },
    {
     "name": "stdout",
     "output_type": "stream",
     "text": [
      "s\n",
      "Joint Lip Hairstyle Shoulder Fashion Neck Flash photography Textile Sleeve Street fashion\n"
     ]
    },
    {
     "name": "stderr",
     "output_type": "stream",
     "text": [
      "/var/folders/f5/7w8rh9rx11938lxyvdr2g_940000gn/T/ipykernel_94711/975253196.py:27: FutureWarning: The frame.append method is deprecated and will be removed from pandas in a future version. Use pandas.concat instead.\n",
      "  df = df.append({'URL': image_src_temp, 'Labels': s}, ignore_index=True)\n"
     ]
    },
    {
     "name": "stdout",
     "output_type": "stream",
     "text": [
      "s\n",
      "Snow People in nature Slope Happy Gesture Freezing Plant Headgear Tree Street fashion\n"
     ]
    },
    {
     "name": "stderr",
     "output_type": "stream",
     "text": [
      "/var/folders/f5/7w8rh9rx11938lxyvdr2g_940000gn/T/ipykernel_94711/975253196.py:27: FutureWarning: The frame.append method is deprecated and will be removed from pandas in a future version. Use pandas.concat instead.\n",
      "  df = df.append({'URL': image_src_temp, 'Labels': s}, ignore_index=True)\n"
     ]
    },
    {
     "name": "stdout",
     "output_type": "stream",
     "text": [
      "s\n",
      "Companion dog Feather Wing Tail Art Fur Liver Fashion accessory Darkness Natural material\n"
     ]
    },
    {
     "name": "stderr",
     "output_type": "stream",
     "text": [
      "/var/folders/f5/7w8rh9rx11938lxyvdr2g_940000gn/T/ipykernel_94711/975253196.py:27: FutureWarning: The frame.append method is deprecated and will be removed from pandas in a future version. Use pandas.concat instead.\n",
      "  df = df.append({'URL': image_src_temp, 'Labels': s}, ignore_index=True)\n"
     ]
    },
    {
     "name": "stdout",
     "output_type": "stream",
     "text": [
      "s\n",
      "Property Comfort Decoration Plant Building Wood Bed frame Textile Interior design Floor\n"
     ]
    },
    {
     "name": "stderr",
     "output_type": "stream",
     "text": [
      "/var/folders/f5/7w8rh9rx11938lxyvdr2g_940000gn/T/ipykernel_94711/975253196.py:27: FutureWarning: The frame.append method is deprecated and will be removed from pandas in a future version. Use pandas.concat instead.\n",
      "  df = df.append({'URL': image_src_temp, 'Labels': s}, ignore_index=True)\n"
     ]
    },
    {
     "name": "stdout",
     "output_type": "stream",
     "text": [
      "s\n",
      "Tableware Drinkware Mountain Dishware Coffee cup Snow Cup Table Serveware Slope\n"
     ]
    },
    {
     "name": "stderr",
     "output_type": "stream",
     "text": [
      "/var/folders/f5/7w8rh9rx11938lxyvdr2g_940000gn/T/ipykernel_94711/975253196.py:27: FutureWarning: The frame.append method is deprecated and will be removed from pandas in a future version. Use pandas.concat instead.\n",
      "  df = df.append({'URL': image_src_temp, 'Labels': s}, ignore_index=True)\n"
     ]
    },
    {
     "name": "stdout",
     "output_type": "stream",
     "text": [
      "s\n",
      "Head Lip Eye White Eyelash Flash photography Tableware Comfort Sleeve Drinkware\n"
     ]
    },
    {
     "name": "stderr",
     "output_type": "stream",
     "text": [
      "/var/folders/f5/7w8rh9rx11938lxyvdr2g_940000gn/T/ipykernel_94711/975253196.py:27: FutureWarning: The frame.append method is deprecated and will be removed from pandas in a future version. Use pandas.concat instead.\n",
      "  df = df.append({'URL': image_src_temp, 'Labels': s}, ignore_index=True)\n"
     ]
    },
    {
     "name": "stdout",
     "output_type": "stream",
     "text": [
      "s\n",
      "Table Font Rectangle Poster Event Pattern Paper Circle Art Paper product\n"
     ]
    },
    {
     "name": "stderr",
     "output_type": "stream",
     "text": [
      "/var/folders/f5/7w8rh9rx11938lxyvdr2g_940000gn/T/ipykernel_94711/975253196.py:27: FutureWarning: The frame.append method is deprecated and will be removed from pandas in a future version. Use pandas.concat instead.\n",
      "  df = df.append({'URL': image_src_temp, 'Labels': s}, ignore_index=True)\n"
     ]
    },
    {
     "name": "stdout",
     "output_type": "stream",
     "text": [
      "s\n",
      "Face Hair Head Lip Outerwear Hairstyle Eyebrow Eye Eyelash White\n"
     ]
    },
    {
     "name": "stderr",
     "output_type": "stream",
     "text": [
      "/var/folders/f5/7w8rh9rx11938lxyvdr2g_940000gn/T/ipykernel_94711/975253196.py:27: FutureWarning: The frame.append method is deprecated and will be removed from pandas in a future version. Use pandas.concat instead.\n",
      "  df = df.append({'URL': image_src_temp, 'Labels': s}, ignore_index=True)\n"
     ]
    },
    {
     "name": "stdout",
     "output_type": "stream",
     "text": [
      "s\n",
      "Plant Snow Wood Fawn Tree Trunk Carnivore Freezing Twig Winter\n"
     ]
    },
    {
     "name": "stderr",
     "output_type": "stream",
     "text": [
      "/var/folders/f5/7w8rh9rx11938lxyvdr2g_940000gn/T/ipykernel_94711/975253196.py:27: FutureWarning: The frame.append method is deprecated and will be removed from pandas in a future version. Use pandas.concat instead.\n",
      "  df = df.append({'URL': image_src_temp, 'Labels': s}, ignore_index=True)\n"
     ]
    },
    {
     "name": "stdout",
     "output_type": "stream",
     "text": [
      "s\n",
      "Smile Skin Sky People in nature Tree Happy Gesture Jacket Travel Interaction\n"
     ]
    },
    {
     "name": "stderr",
     "output_type": "stream",
     "text": [
      "/var/folders/f5/7w8rh9rx11938lxyvdr2g_940000gn/T/ipykernel_94711/975253196.py:27: FutureWarning: The frame.append method is deprecated and will be removed from pandas in a future version. Use pandas.concat instead.\n",
      "  df = df.append({'URL': image_src_temp, 'Labels': s}, ignore_index=True)\n"
     ]
    },
    {
     "name": "stdout",
     "output_type": "stream",
     "text": [
      "s\n",
      "Outerwear Shoulder Glove White Human body Sleeve Purple Gesture Jacket Eyewear\n"
     ]
    },
    {
     "name": "stderr",
     "output_type": "stream",
     "text": [
      "/var/folders/f5/7w8rh9rx11938lxyvdr2g_940000gn/T/ipykernel_94711/975253196.py:27: FutureWarning: The frame.append method is deprecated and will be removed from pandas in a future version. Use pandas.concat instead.\n",
      "  df = df.append({'URL': image_src_temp, 'Labels': s}, ignore_index=True)\n"
     ]
    },
    {
     "name": "stdout",
     "output_type": "stream",
     "text": [
      "s\n",
      "Clothing Joint Outerwear Human body Sleeve Gesture Thigh Waist Electric blue Knee\n"
     ]
    },
    {
     "name": "stderr",
     "output_type": "stream",
     "text": [
      "/var/folders/f5/7w8rh9rx11938lxyvdr2g_940000gn/T/ipykernel_94711/975253196.py:27: FutureWarning: The frame.append method is deprecated and will be removed from pandas in a future version. Use pandas.concat instead.\n",
      "  df = df.append({'URL': image_src_temp, 'Labels': s}, ignore_index=True)\n"
     ]
    },
    {
     "name": "stdout",
     "output_type": "stream",
     "text": [
      "s\n",
      "Sky Mountain Cloud Smile People in nature Nature Snow Happy Travel Leisure\n"
     ]
    },
    {
     "name": "stderr",
     "output_type": "stream",
     "text": [
      "/var/folders/f5/7w8rh9rx11938lxyvdr2g_940000gn/T/ipykernel_94711/975253196.py:27: FutureWarning: The frame.append method is deprecated and will be removed from pandas in a future version. Use pandas.concat instead.\n",
      "  df = df.append({'URL': image_src_temp, 'Labels': s}, ignore_index=True)\n"
     ]
    },
    {
     "name": "stdout",
     "output_type": "stream",
     "text": [
      "s\n",
      "Hair Cheek Joint Skin Lip Chin Shoulder Eyebrow Active tank Muscle\n"
     ]
    },
    {
     "name": "stderr",
     "output_type": "stream",
     "text": [
      "/var/folders/f5/7w8rh9rx11938lxyvdr2g_940000gn/T/ipykernel_94711/975253196.py:27: FutureWarning: The frame.append method is deprecated and will be removed from pandas in a future version. Use pandas.concat instead.\n",
      "  df = df.append({'URL': image_src_temp, 'Labels': s}, ignore_index=True)\n"
     ]
    },
    {
     "name": "stdout",
     "output_type": "stream",
     "text": [
      "s\n",
      "Black Human body Jaw Red Font Eyewear Horn Jewellery Personal protective equipment Foot\n"
     ]
    },
    {
     "name": "stderr",
     "output_type": "stream",
     "text": [
      "/var/folders/f5/7w8rh9rx11938lxyvdr2g_940000gn/T/ipykernel_94711/975253196.py:27: FutureWarning: The frame.append method is deprecated and will be removed from pandas in a future version. Use pandas.concat instead.\n",
      "  df = df.append({'URL': image_src_temp, 'Labels': s}, ignore_index=True)\n"
     ]
    },
    {
     "name": "stdout",
     "output_type": "stream",
     "text": [
      "s\n",
      "Dog Carnivore Dog breed Companion dog Fawn Toy dog Working animal Toy Snout Poodle\n"
     ]
    },
    {
     "name": "stderr",
     "output_type": "stream",
     "text": [
      "/var/folders/f5/7w8rh9rx11938lxyvdr2g_940000gn/T/ipykernel_94711/975253196.py:27: FutureWarning: The frame.append method is deprecated and will be removed from pandas in a future version. Use pandas.concat instead.\n",
      "  df = df.append({'URL': image_src_temp, 'Labels': s}, ignore_index=True)\n"
     ]
    },
    {
     "name": "stdout",
     "output_type": "stream",
     "text": [
      "s\n",
      "Shoe Tire Vehicle Shorts Sleeve Street fashion Orange Waist Knee Thigh\n"
     ]
    },
    {
     "name": "stderr",
     "output_type": "stream",
     "text": [
      "/var/folders/f5/7w8rh9rx11938lxyvdr2g_940000gn/T/ipykernel_94711/975253196.py:27: FutureWarning: The frame.append method is deprecated and will be removed from pandas in a future version. Use pandas.concat instead.\n",
      "  df = df.append({'URL': image_src_temp, 'Labels': s}, ignore_index=True)\n"
     ]
    },
    {
     "name": "stdout",
     "output_type": "stream",
     "text": [
      "s\n",
      "Dog breed Dog Felidae Carnivore Companion dog Toy dog Tail Font Sporting Group Fur\n"
     ]
    },
    {
     "name": "stderr",
     "output_type": "stream",
     "text": [
      "/var/folders/f5/7w8rh9rx11938lxyvdr2g_940000gn/T/ipykernel_94711/975253196.py:27: FutureWarning: The frame.append method is deprecated and will be removed from pandas in a future version. Use pandas.concat instead.\n",
      "  df = df.append({'URL': image_src_temp, 'Labels': s}, ignore_index=True)\n"
     ]
    },
    {
     "name": "stdout",
     "output_type": "stream",
     "text": [
      "s\n",
      "Joint Outerwear Shoe Shoulder Latex clothing Street fashion Waist Sleeve Standing Eyewear\n"
     ]
    },
    {
     "name": "stderr",
     "output_type": "stream",
     "text": [
      "/var/folders/f5/7w8rh9rx11938lxyvdr2g_940000gn/T/ipykernel_94711/975253196.py:27: FutureWarning: The frame.append method is deprecated and will be removed from pandas in a future version. Use pandas.concat instead.\n",
      "  df = df.append({'URL': image_src_temp, 'Labels': s}, ignore_index=True)\n"
     ]
    },
    {
     "name": "stdout",
     "output_type": "stream",
     "text": [
      "s\n",
      "Car Land vehicle Outerwear Vehicle Shoe Hood Leg Automotive design Street fashion Wheel\n"
     ]
    },
    {
     "name": "stderr",
     "output_type": "stream",
     "text": [
      "/var/folders/f5/7w8rh9rx11938lxyvdr2g_940000gn/T/ipykernel_94711/975253196.py:27: FutureWarning: The frame.append method is deprecated and will be removed from pandas in a future version. Use pandas.concat instead.\n",
      "  df = df.append({'URL': image_src_temp, 'Labels': s}, ignore_index=True)\n"
     ]
    },
    {
     "name": "stdout",
     "output_type": "stream",
     "text": [
      "s\n",
      "Outerwear Photograph Window Fixture Sleeve Textile Street fashion Jacket Collar Leather jacket\n"
     ]
    },
    {
     "name": "stderr",
     "output_type": "stream",
     "text": [
      "/var/folders/f5/7w8rh9rx11938lxyvdr2g_940000gn/T/ipykernel_94711/975253196.py:27: FutureWarning: The frame.append method is deprecated and will be removed from pandas in a future version. Use pandas.concat instead.\n",
      "  df = df.append({'URL': image_src_temp, 'Labels': s}, ignore_index=True)\n"
     ]
    },
    {
     "name": "stdout",
     "output_type": "stream",
     "text": [
      "s\n",
      "Sleeve Street fashion Plant Cool Umbrella Jacket Fur clothing Leather jacket Thigh Waist\n"
     ]
    },
    {
     "name": "stderr",
     "output_type": "stream",
     "text": [
      "/var/folders/f5/7w8rh9rx11938lxyvdr2g_940000gn/T/ipykernel_94711/975253196.py:27: FutureWarning: The frame.append method is deprecated and will be removed from pandas in a future version. Use pandas.concat instead.\n",
      "  df = df.append({'URL': image_src_temp, 'Labels': s}, ignore_index=True)\n"
     ]
    },
    {
     "name": "stdout",
     "output_type": "stream",
     "text": [
      "s\n",
      "Joint Shoulder Leg Latex clothing Fashion Human body Neck Sleeve Waist Latex\n"
     ]
    },
    {
     "name": "stderr",
     "output_type": "stream",
     "text": [
      "/var/folders/f5/7w8rh9rx11938lxyvdr2g_940000gn/T/ipykernel_94711/975253196.py:27: FutureWarning: The frame.append method is deprecated and will be removed from pandas in a future version. Use pandas.concat instead.\n",
      "  df = df.append({'URL': image_src_temp, 'Labels': s}, ignore_index=True)\n"
     ]
    },
    {
     "name": "stdout",
     "output_type": "stream",
     "text": [
      "s\n",
      "Hair Neck Eyelash Rectangle Sunglasses Art Chest Font Fashion accessory Fur\n"
     ]
    },
    {
     "name": "stderr",
     "output_type": "stream",
     "text": [
      "/var/folders/f5/7w8rh9rx11938lxyvdr2g_940000gn/T/ipykernel_94711/975253196.py:27: FutureWarning: The frame.append method is deprecated and will be removed from pandas in a future version. Use pandas.concat instead.\n",
      "  df = df.append({'URL': image_src_temp, 'Labels': s}, ignore_index=True)\n"
     ]
    },
    {
     "name": "stdout",
     "output_type": "stream",
     "text": [
      "s\n",
      "Hair Nose Face Brown Skin Head Chin Eyebrow Hairstyle Eye\n"
     ]
    },
    {
     "name": "stderr",
     "output_type": "stream",
     "text": [
      "/var/folders/f5/7w8rh9rx11938lxyvdr2g_940000gn/T/ipykernel_94711/975253196.py:27: FutureWarning: The frame.append method is deprecated and will be removed from pandas in a future version. Use pandas.concat instead.\n",
      "  df = df.append({'URL': image_src_temp, 'Labels': s}, ignore_index=True)\n"
     ]
    },
    {
     "name": "stdout",
     "output_type": "stream",
     "text": [
      "s\n",
      "Brown Dog Snow Dog breed Carnivore Liver Pet supply Working animal Companion dog Fawn\n"
     ]
    },
    {
     "name": "stderr",
     "output_type": "stream",
     "text": [
      "/var/folders/f5/7w8rh9rx11938lxyvdr2g_940000gn/T/ipykernel_94711/975253196.py:27: FutureWarning: The frame.append method is deprecated and will be removed from pandas in a future version. Use pandas.concat instead.\n",
      "  df = df.append({'URL': image_src_temp, 'Labels': s}, ignore_index=True)\n"
     ]
    },
    {
     "name": "stdout",
     "output_type": "stream",
     "text": [
      "s\n",
      "Face Joint Skin Lip Chin Hand Smile Shoulder Eyebrow Eyelash\n"
     ]
    },
    {
     "name": "stderr",
     "output_type": "stream",
     "text": [
      "/var/folders/f5/7w8rh9rx11938lxyvdr2g_940000gn/T/ipykernel_94711/975253196.py:27: FutureWarning: The frame.append method is deprecated and will be removed from pandas in a future version. Use pandas.concat instead.\n",
      "  df = df.append({'URL': image_src_temp, 'Labels': s}, ignore_index=True)\n"
     ]
    },
    {
     "name": "stdout",
     "output_type": "stream",
     "text": [
      "s\n",
      "Outerwear Leg Sleeve Temple Street fashion Waist Grey Road surface Hat Headgear\n"
     ]
    },
    {
     "name": "stderr",
     "output_type": "stream",
     "text": [
      "/var/folders/f5/7w8rh9rx11938lxyvdr2g_940000gn/T/ipykernel_94711/975253196.py:27: FutureWarning: The frame.append method is deprecated and will be removed from pandas in a future version. Use pandas.concat instead.\n",
      "  df = df.append({'URL': image_src_temp, 'Labels': s}, ignore_index=True)\n"
     ]
    },
    {
     "name": "stdout",
     "output_type": "stream",
     "text": [
      "s\n",
      "Rectangle Font Gadget Electronic device Technology Communication Device Logo Metal Graphics Brand\n"
     ]
    },
    {
     "name": "stderr",
     "output_type": "stream",
     "text": [
      "/var/folders/f5/7w8rh9rx11938lxyvdr2g_940000gn/T/ipykernel_94711/975253196.py:27: FutureWarning: The frame.append method is deprecated and will be removed from pandas in a future version. Use pandas.concat instead.\n",
      "  df = df.append({'URL': image_src_temp, 'Labels': s}, ignore_index=True)\n"
     ]
    },
    {
     "name": "stdout",
     "output_type": "stream",
     "text": [
      "s\n",
      "Face Hair Joint Skin Lip Hairstyle Arm Shoulder Leg Human\n"
     ]
    },
    {
     "name": "stderr",
     "output_type": "stream",
     "text": [
      "/var/folders/f5/7w8rh9rx11938lxyvdr2g_940000gn/T/ipykernel_94711/975253196.py:27: FutureWarning: The frame.append method is deprecated and will be removed from pandas in a future version. Use pandas.concat instead.\n",
      "  df = df.append({'URL': image_src_temp, 'Labels': s}, ignore_index=True)\n"
     ]
    },
    {
     "name": "stdout",
     "output_type": "stream",
     "text": [
      "s\n",
      "Footwear Joint Window Street fashion Standing Luggage and bags Bag Door Knee Thigh\n"
     ]
    },
    {
     "name": "stderr",
     "output_type": "stream",
     "text": [
      "/var/folders/f5/7w8rh9rx11938lxyvdr2g_940000gn/T/ipykernel_94711/975253196.py:27: FutureWarning: The frame.append method is deprecated and will be removed from pandas in a future version. Use pandas.concat instead.\n",
      "  df = df.append({'URL': image_src_temp, 'Labels': s}, ignore_index=True)\n"
     ]
    },
    {
     "name": "stdout",
     "output_type": "stream",
     "text": [
      "s\n",
      "Leg Street fashion Wall Wood Waist Knee Brick Eyewear Thigh Human leg\n"
     ]
    },
    {
     "name": "stderr",
     "output_type": "stream",
     "text": [
      "/var/folders/f5/7w8rh9rx11938lxyvdr2g_940000gn/T/ipykernel_94711/975253196.py:27: FutureWarning: The frame.append method is deprecated and will be removed from pandas in a future version. Use pandas.concat instead.\n",
      "  df = df.append({'URL': image_src_temp, 'Labels': s}, ignore_index=True)\n"
     ]
    },
    {
     "name": "stdout",
     "output_type": "stream",
     "text": [
      "s\n",
      "Building Plant Interior design Door Fixture Retail Shade Flowerpot Commercial building Houseplant\n"
     ]
    },
    {
     "name": "stderr",
     "output_type": "stream",
     "text": [
      "/var/folders/f5/7w8rh9rx11938lxyvdr2g_940000gn/T/ipykernel_94711/975253196.py:27: FutureWarning: The frame.append method is deprecated and will be removed from pandas in a future version. Use pandas.concat instead.\n",
      "  df = df.append({'URL': image_src_temp, 'Labels': s}, ignore_index=True)\n"
     ]
    },
    {
     "name": "stdout",
     "output_type": "stream",
     "text": [
      "s\n",
      "Face Smile Lip Outerwear Shoulder Hat Fedora Neck Human body Flash photography\n"
     ]
    },
    {
     "name": "stderr",
     "output_type": "stream",
     "text": [
      "/var/folders/f5/7w8rh9rx11938lxyvdr2g_940000gn/T/ipykernel_94711/975253196.py:27: FutureWarning: The frame.append method is deprecated and will be removed from pandas in a future version. Use pandas.concat instead.\n",
      "  df = df.append({'URL': image_src_temp, 'Labels': s}, ignore_index=True)\n"
     ]
    },
    {
     "name": "stdout",
     "output_type": "stream",
     "text": [
      "s\n",
      "Building Window Fixture Urban design Architecture Condominium Brick Tower block Wood Neighbourhood\n"
     ]
    },
    {
     "name": "stderr",
     "output_type": "stream",
     "text": [
      "/var/folders/f5/7w8rh9rx11938lxyvdr2g_940000gn/T/ipykernel_94711/975253196.py:27: FutureWarning: The frame.append method is deprecated and will be removed from pandas in a future version. Use pandas.concat instead.\n",
      "  df = df.append({'URL': image_src_temp, 'Labels': s}, ignore_index=True)\n"
     ]
    },
    {
     "name": "stdout",
     "output_type": "stream",
     "text": [
      "s\n",
      "Food Tableware Ingredient Rectangle Dishware Cuisine Dish Kopi tubruk Drinkware Recipe\n"
     ]
    },
    {
     "name": "stderr",
     "output_type": "stream",
     "text": [
      "/var/folders/f5/7w8rh9rx11938lxyvdr2g_940000gn/T/ipykernel_94711/975253196.py:27: FutureWarning: The frame.append method is deprecated and will be removed from pandas in a future version. Use pandas.concat instead.\n",
      "  df = df.append({'URL': image_src_temp, 'Labels': s}, ignore_index=True)\n"
     ]
    },
    {
     "name": "stdout",
     "output_type": "stream",
     "text": [
      "s\n",
      "Food Tableware Dishware Ingredient Bancha Plate Kitchen utensil Cuisine Serveware Recipe\n"
     ]
    },
    {
     "name": "stderr",
     "output_type": "stream",
     "text": [
      "/var/folders/f5/7w8rh9rx11938lxyvdr2g_940000gn/T/ipykernel_94711/975253196.py:27: FutureWarning: The frame.append method is deprecated and will be removed from pandas in a future version. Use pandas.concat instead.\n",
      "  df = df.append({'URL': image_src_temp, 'Labels': s}, ignore_index=True)\n"
     ]
    },
    {
     "name": "stdout",
     "output_type": "stream",
     "text": [
      "s\n",
      "Tableware Dishware Serveware Body jewelry Wood Circle Font Metal Jewellery Rectangle\n"
     ]
    },
    {
     "name": "stderr",
     "output_type": "stream",
     "text": [
      "/var/folders/f5/7w8rh9rx11938lxyvdr2g_940000gn/T/ipykernel_94711/975253196.py:27: FutureWarning: The frame.append method is deprecated and will be removed from pandas in a future version. Use pandas.concat instead.\n",
      "  df = df.append({'URL': image_src_temp, 'Labels': s}, ignore_index=True)\n"
     ]
    },
    {
     "name": "stdout",
     "output_type": "stream",
     "text": [
      "s\n",
      "Food Orange Cuisine Headgear Ingredient Personal protective equipment Electric blue Fashion accessory Recipe Dish\n"
     ]
    },
    {
     "name": "stderr",
     "output_type": "stream",
     "text": [
      "/var/folders/f5/7w8rh9rx11938lxyvdr2g_940000gn/T/ipykernel_94711/975253196.py:27: FutureWarning: The frame.append method is deprecated and will be removed from pandas in a future version. Use pandas.concat instead.\n",
      "  df = df.append({'URL': image_src_temp, 'Labels': s}, ignore_index=True)\n"
     ]
    },
    {
     "name": "stdout",
     "output_type": "stream",
     "text": [
      "s\n",
      "People in nature Plant Tree Branch Sky Happy Jacket Groundcover Shrub Landscape\n"
     ]
    },
    {
     "name": "stderr",
     "output_type": "stream",
     "text": [
      "/var/folders/f5/7w8rh9rx11938lxyvdr2g_940000gn/T/ipykernel_94711/975253196.py:27: FutureWarning: The frame.append method is deprecated and will be removed from pandas in a future version. Use pandas.concat instead.\n",
      "  df = df.append({'URL': image_src_temp, 'Labels': s}, ignore_index=True)\n"
     ]
    },
    {
     "name": "stdout",
     "output_type": "stream",
     "text": [
      "s\n",
      "Purple Plant Pink Magenta Art Recreation Event Entertainment Sculpture Petal\n"
     ]
    },
    {
     "name": "stderr",
     "output_type": "stream",
     "text": [
      "/var/folders/f5/7w8rh9rx11938lxyvdr2g_940000gn/T/ipykernel_94711/975253196.py:27: FutureWarning: The frame.append method is deprecated and will be removed from pandas in a future version. Use pandas.concat instead.\n",
      "  df = df.append({'URL': image_src_temp, 'Labels': s}, ignore_index=True)\n"
     ]
    },
    {
     "name": "stdout",
     "output_type": "stream",
     "text": [
      "s\n",
      "Food Drinkware Watch Drinking straw Cup Ingredient Tableware Drink Coffee Ti'punch\n"
     ]
    },
    {
     "name": "stderr",
     "output_type": "stream",
     "text": [
      "/var/folders/f5/7w8rh9rx11938lxyvdr2g_940000gn/T/ipykernel_94711/975253196.py:27: FutureWarning: The frame.append method is deprecated and will be removed from pandas in a future version. Use pandas.concat instead.\n",
      "  df = df.append({'URL': image_src_temp, 'Labels': s}, ignore_index=True)\n"
     ]
    },
    {
     "name": "stdout",
     "output_type": "stream",
     "text": [
      "s\n",
      "Outerwear Overcoat Sleeve Gesture Collar Trench coat Headgear Street fashion Blazer Fashion design\n"
     ]
    },
    {
     "name": "stderr",
     "output_type": "stream",
     "text": [
      "/var/folders/f5/7w8rh9rx11938lxyvdr2g_940000gn/T/ipykernel_94711/975253196.py:27: FutureWarning: The frame.append method is deprecated and will be removed from pandas in a future version. Use pandas.concat instead.\n",
      "  df = df.append({'URL': image_src_temp, 'Labels': s}, ignore_index=True)\n"
     ]
    },
    {
     "name": "stdout",
     "output_type": "stream",
     "text": [
      "s\n",
      "Smile Outerwear Dress Fashion Sleeve Overcoat Gesture Street fashion Waist Collar\n"
     ]
    },
    {
     "name": "stderr",
     "output_type": "stream",
     "text": [
      "/var/folders/f5/7w8rh9rx11938lxyvdr2g_940000gn/T/ipykernel_94711/975253196.py:27: FutureWarning: The frame.append method is deprecated and will be removed from pandas in a future version. Use pandas.concat instead.\n",
      "  df = df.append({'URL': image_src_temp, 'Labels': s}, ignore_index=True)\n"
     ]
    },
    {
     "name": "stdout",
     "output_type": "stream",
     "text": [
      "s\n",
      "Shoe Leg Overcoat Fur clothing Sleeve Street fashion Trench coat Knee Thigh Fashion design\n"
     ]
    },
    {
     "name": "stderr",
     "output_type": "stream",
     "text": [
      "/var/folders/f5/7w8rh9rx11938lxyvdr2g_940000gn/T/ipykernel_94711/975253196.py:27: FutureWarning: The frame.append method is deprecated and will be removed from pandas in a future version. Use pandas.concat instead.\n",
      "  df = df.append({'URL': image_src_temp, 'Labels': s}, ignore_index=True)\n"
     ]
    },
    {
     "name": "stdout",
     "output_type": "stream",
     "text": [
      "s\n",
      "Hair Joint Head Lip Outerwear Hairstyle Shoulder Eyebrow Eye Fur clothing\n"
     ]
    },
    {
     "name": "stderr",
     "output_type": "stream",
     "text": [
      "/var/folders/f5/7w8rh9rx11938lxyvdr2g_940000gn/T/ipykernel_94711/975253196.py:27: FutureWarning: The frame.append method is deprecated and will be removed from pandas in a future version. Use pandas.concat instead.\n",
      "  df = df.append({'URL': image_src_temp, 'Labels': s}, ignore_index=True)\n"
     ]
    },
    {
     "name": "stdout",
     "output_type": "stream",
     "text": [
      "s\n",
      "Dog Carnivore Dog breed Tail Companion dog Feather Toy dog Fur Terrier Fashion accessory\n"
     ]
    },
    {
     "name": "stderr",
     "output_type": "stream",
     "text": [
      "/var/folders/f5/7w8rh9rx11938lxyvdr2g_940000gn/T/ipykernel_94711/975253196.py:27: FutureWarning: The frame.append method is deprecated and will be removed from pandas in a future version. Use pandas.concat instead.\n",
      "  df = df.append({'URL': image_src_temp, 'Labels': s}, ignore_index=True)\n"
     ]
    },
    {
     "name": "stdout",
     "output_type": "stream",
     "text": [
      "s\n",
      "Head Outerwear Parka Eye Glove Snow Leg Human body Textile Sleeve\n"
     ]
    },
    {
     "name": "stderr",
     "output_type": "stream",
     "text": [
      "/var/folders/f5/7w8rh9rx11938lxyvdr2g_940000gn/T/ipykernel_94711/975253196.py:27: FutureWarning: The frame.append method is deprecated and will be removed from pandas in a future version. Use pandas.concat instead.\n",
      "  df = df.append({'URL': image_src_temp, 'Labels': s}, ignore_index=True)\n"
     ]
    },
    {
     "name": "stdout",
     "output_type": "stream",
     "text": [
      "s\n",
      "Lip Shoulder Eye Flash photography Neck Sleeve Coat Grey Jacket Waist\n"
     ]
    },
    {
     "name": "stderr",
     "output_type": "stream",
     "text": [
      "/var/folders/f5/7w8rh9rx11938lxyvdr2g_940000gn/T/ipykernel_94711/975253196.py:27: FutureWarning: The frame.append method is deprecated and will be removed from pandas in a future version. Use pandas.concat instead.\n",
      "  df = df.append({'URL': image_src_temp, 'Labels': s}, ignore_index=True)\n"
     ]
    },
    {
     "name": "stdout",
     "output_type": "stream",
     "text": [
      "s\n",
      "Outerwear White Light Product Black Fashion Sleeve Font Grey Line\n"
     ]
    },
    {
     "name": "stderr",
     "output_type": "stream",
     "text": [
      "/var/folders/f5/7w8rh9rx11938lxyvdr2g_940000gn/T/ipykernel_94711/975253196.py:27: FutureWarning: The frame.append method is deprecated and will be removed from pandas in a future version. Use pandas.concat instead.\n",
      "  df = df.append({'URL': image_src_temp, 'Labels': s}, ignore_index=True)\n"
     ]
    },
    {
     "name": "stdout",
     "output_type": "stream",
     "text": [
      "s\n",
      "Skin Lip Hairstyle Photograph Eyebrow Facial expression White Eyelash Organ Lipstick\n"
     ]
    },
    {
     "name": "stderr",
     "output_type": "stream",
     "text": [
      "/var/folders/f5/7w8rh9rx11938lxyvdr2g_940000gn/T/ipykernel_94711/975253196.py:27: FutureWarning: The frame.append method is deprecated and will be removed from pandas in a future version. Use pandas.concat instead.\n",
      "  df = df.append({'URL': image_src_temp, 'Labels': s}, ignore_index=True)\n"
     ]
    },
    {
     "name": "stdout",
     "output_type": "stream",
     "text": [
      "s\n",
      "Snow Photograph Light Fashion People in nature Sleeve Standing Tartan Freezing Sky\n"
     ]
    },
    {
     "name": "stderr",
     "output_type": "stream",
     "text": [
      "/var/folders/f5/7w8rh9rx11938lxyvdr2g_940000gn/T/ipykernel_94711/975253196.py:27: FutureWarning: The frame.append method is deprecated and will be removed from pandas in a future version. Use pandas.concat instead.\n",
      "  df = df.append({'URL': image_src_temp, 'Labels': s}, ignore_index=True)\n"
     ]
    },
    {
     "name": "stdout",
     "output_type": "stream",
     "text": [
      "s\n",
      "Shoe Leg Sky White Snow Flash photography Sleeve Slope Waist Knee\n"
     ]
    },
    {
     "name": "stderr",
     "output_type": "stream",
     "text": [
      "/var/folders/f5/7w8rh9rx11938lxyvdr2g_940000gn/T/ipykernel_94711/975253196.py:27: FutureWarning: The frame.append method is deprecated and will be removed from pandas in a future version. Use pandas.concat instead.\n",
      "  df = df.append({'URL': image_src_temp, 'Labels': s}, ignore_index=True)\n"
     ]
    },
    {
     "name": "stdout",
     "output_type": "stream",
     "text": [
      "s\n",
      "Hair Shoe Leg White Human Fashion Sleeve Snow People in nature Thigh\n"
     ]
    },
    {
     "name": "stderr",
     "output_type": "stream",
     "text": [
      "/var/folders/f5/7w8rh9rx11938lxyvdr2g_940000gn/T/ipykernel_94711/975253196.py:27: FutureWarning: The frame.append method is deprecated and will be removed from pandas in a future version. Use pandas.concat instead.\n",
      "  df = df.append({'URL': image_src_temp, 'Labels': s}, ignore_index=True)\n"
     ]
    },
    {
     "name": "stdout",
     "output_type": "stream",
     "text": [
      "s\n",
      "Clothing Face Joint Smile Skin Outerwear Hairstyle Arm Photograph Shoulder\n"
     ]
    },
    {
     "name": "stderr",
     "output_type": "stream",
     "text": [
      "/var/folders/f5/7w8rh9rx11938lxyvdr2g_940000gn/T/ipykernel_94711/975253196.py:27: FutureWarning: The frame.append method is deprecated and will be removed from pandas in a future version. Use pandas.concat instead.\n",
      "  df = df.append({'URL': image_src_temp, 'Labels': s}, ignore_index=True)\n"
     ]
    },
    {
     "name": "stdout",
     "output_type": "stream",
     "text": [
      "s\n",
      "Blue Purple Pink Font Material property Electric blue Pattern Design Event Magenta\n"
     ]
    },
    {
     "name": "stderr",
     "output_type": "stream",
     "text": [
      "/var/folders/f5/7w8rh9rx11938lxyvdr2g_940000gn/T/ipykernel_94711/975253196.py:27: FutureWarning: The frame.append method is deprecated and will be removed from pandas in a future version. Use pandas.concat instead.\n",
      "  df = df.append({'URL': image_src_temp, 'Labels': s}, ignore_index=True)\n"
     ]
    },
    {
     "name": "stdout",
     "output_type": "stream",
     "text": [
      "s\n",
      "Face Hair Lip Outerwear Arm Stomach Fashion Sleeve Waist Thigh\n"
     ]
    },
    {
     "name": "stderr",
     "output_type": "stream",
     "text": [
      "/var/folders/f5/7w8rh9rx11938lxyvdr2g_940000gn/T/ipykernel_94711/975253196.py:27: FutureWarning: The frame.append method is deprecated and will be removed from pandas in a future version. Use pandas.concat instead.\n",
      "  df = df.append({'URL': image_src_temp, 'Labels': s}, ignore_index=True)\n"
     ]
    },
    {
     "name": "stdout",
     "output_type": "stream",
     "text": [
      "s\n",
      "Hair Face Joint Skin Lip Chin Hairstyle Arm Shoulder Eyebrow\n"
     ]
    },
    {
     "name": "stderr",
     "output_type": "stream",
     "text": [
      "/var/folders/f5/7w8rh9rx11938lxyvdr2g_940000gn/T/ipykernel_94711/975253196.py:27: FutureWarning: The frame.append method is deprecated and will be removed from pandas in a future version. Use pandas.concat instead.\n",
      "  df = df.append({'URL': image_src_temp, 'Labels': s}, ignore_index=True)\n"
     ]
    },
    {
     "name": "stdout",
     "output_type": "stream",
     "text": [
      "s\n",
      "Sharing Cartoon Gesture Happy Font Art Fictional character Drawing Graphics Conversation\n"
     ]
    },
    {
     "name": "stderr",
     "output_type": "stream",
     "text": [
      "/var/folders/f5/7w8rh9rx11938lxyvdr2g_940000gn/T/ipykernel_94711/975253196.py:27: FutureWarning: The frame.append method is deprecated and will be removed from pandas in a future version. Use pandas.concat instead.\n",
      "  df = df.append({'URL': image_src_temp, 'Labels': s}, ignore_index=True)\n"
     ]
    },
    {
     "name": "stdout",
     "output_type": "stream",
     "text": [
      "s\n",
      "Shorts Rolling Sky Sports equipment Elbow Happy Hat Knee Helmet Sneakers\n"
     ]
    },
    {
     "name": "stderr",
     "output_type": "stream",
     "text": [
      "/var/folders/f5/7w8rh9rx11938lxyvdr2g_940000gn/T/ipykernel_94711/975253196.py:27: FutureWarning: The frame.append method is deprecated and will be removed from pandas in a future version. Use pandas.concat instead.\n",
      "  df = df.append({'URL': image_src_temp, 'Labels': s}, ignore_index=True)\n"
     ]
    },
    {
     "name": "stdout",
     "output_type": "stream",
     "text": [
      "s\n",
      "Sky Blue Standing Happy Gesture Leisure Art T-shirt Balance Fun\n"
     ]
    },
    {
     "name": "stderr",
     "output_type": "stream",
     "text": [
      "/var/folders/f5/7w8rh9rx11938lxyvdr2g_940000gn/T/ipykernel_94711/975253196.py:27: FutureWarning: The frame.append method is deprecated and will be removed from pandas in a future version. Use pandas.concat instead.\n",
      "  df = df.append({'URL': image_src_temp, 'Labels': s}, ignore_index=True)\n"
     ]
    },
    {
     "name": "stdout",
     "output_type": "stream",
     "text": [
      "s\n",
      "Smile Outerwear Military camouflage Camouflage Beard Human body Sleeve Gesture Flash photography Cool\n"
     ]
    },
    {
     "name": "stderr",
     "output_type": "stream",
     "text": [
      "/var/folders/f5/7w8rh9rx11938lxyvdr2g_940000gn/T/ipykernel_94711/975253196.py:27: FutureWarning: The frame.append method is deprecated and will be removed from pandas in a future version. Use pandas.concat instead.\n",
      "  df = df.append({'URL': image_src_temp, 'Labels': s}, ignore_index=True)\n"
     ]
    },
    {
     "name": "stdout",
     "output_type": "stream",
     "text": [
      "s\n",
      "Joint Leg Sky Gesture Finger Thigh Fun Cloud Thumb Street fashion\n"
     ]
    },
    {
     "name": "stderr",
     "output_type": "stream",
     "text": [
      "/var/folders/f5/7w8rh9rx11938lxyvdr2g_940000gn/T/ipykernel_94711/975253196.py:27: FutureWarning: The frame.append method is deprecated and will be removed from pandas in a future version. Use pandas.concat instead.\n",
      "  df = df.append({'URL': image_src_temp, 'Labels': s}, ignore_index=True)\n"
     ]
    },
    {
     "name": "stdout",
     "output_type": "stream",
     "text": [
      "s\n",
      "Shoulder Sunglasses Hood Green Blue Vision care Shorts Sleeve Automotive design Automotive lighting\n"
     ]
    },
    {
     "name": "stderr",
     "output_type": "stream",
     "text": [
      "/var/folders/f5/7w8rh9rx11938lxyvdr2g_940000gn/T/ipykernel_94711/975253196.py:27: FutureWarning: The frame.append method is deprecated and will be removed from pandas in a future version. Use pandas.concat instead.\n",
      "  df = df.append({'URL': image_src_temp, 'Labels': s}, ignore_index=True)\n"
     ]
    },
    {
     "name": "stdout",
     "output_type": "stream",
     "text": [
      "s\n",
      "Vehicle Car Hood Automotive lighting Motor vehicle Automotive design Coat Orange Street fashion Vehicle door\n"
     ]
    },
    {
     "name": "stderr",
     "output_type": "stream",
     "text": [
      "/var/folders/f5/7w8rh9rx11938lxyvdr2g_940000gn/T/ipykernel_94711/975253196.py:27: FutureWarning: The frame.append method is deprecated and will be removed from pandas in a future version. Use pandas.concat instead.\n",
      "  df = df.append({'URL': image_src_temp, 'Labels': s}, ignore_index=True)\n"
     ]
    },
    {
     "name": "stdout",
     "output_type": "stream",
     "text": [
      "s\n",
      "Forehead Hair Face Head Lip Outerwear Eyebrow White Black Flash photography\n"
     ]
    },
    {
     "name": "stderr",
     "output_type": "stream",
     "text": [
      "/var/folders/f5/7w8rh9rx11938lxyvdr2g_940000gn/T/ipykernel_94711/975253196.py:27: FutureWarning: The frame.append method is deprecated and will be removed from pandas in a future version. Use pandas.concat instead.\n",
      "  df = df.append({'URL': image_src_temp, 'Labels': s}, ignore_index=True)\n"
     ]
    },
    {
     "name": "stdout",
     "output_type": "stream",
     "text": [
      "s\n",
      "Plant Rectangle Wood Font Tree Floor Flooring Wall Grass Brick\n"
     ]
    },
    {
     "name": "stderr",
     "output_type": "stream",
     "text": [
      "/var/folders/f5/7w8rh9rx11938lxyvdr2g_940000gn/T/ipykernel_94711/975253196.py:27: FutureWarning: The frame.append method is deprecated and will be removed from pandas in a future version. Use pandas.concat instead.\n",
      "  df = df.append({'URL': image_src_temp, 'Labels': s}, ignore_index=True)\n"
     ]
    },
    {
     "name": "stdout",
     "output_type": "stream",
     "text": [
      "s\n",
      "Face Joint Skin Smile Head Lip Hand Outerwear Hairstyle Arm\n"
     ]
    },
    {
     "name": "stderr",
     "output_type": "stream",
     "text": [
      "/var/folders/f5/7w8rh9rx11938lxyvdr2g_940000gn/T/ipykernel_94711/975253196.py:27: FutureWarning: The frame.append method is deprecated and will be removed from pandas in a future version. Use pandas.concat instead.\n",
      "  df = df.append({'URL': image_src_temp, 'Labels': s}, ignore_index=True)\n"
     ]
    },
    {
     "name": "stdout",
     "output_type": "stream",
     "text": [
      "s\n",
      "Arm Neck Sleeve Street fashion Collar Waist Natural material Fashion design Blazer Fashion model\n"
     ]
    },
    {
     "name": "stderr",
     "output_type": "stream",
     "text": [
      "/var/folders/f5/7w8rh9rx11938lxyvdr2g_940000gn/T/ipykernel_94711/975253196.py:27: FutureWarning: The frame.append method is deprecated and will be removed from pandas in a future version. Use pandas.concat instead.\n",
      "  df = df.append({'URL': image_src_temp, 'Labels': s}, ignore_index=True)\n"
     ]
    },
    {
     "name": "stdout",
     "output_type": "stream",
     "text": [
      "s\n",
      "Face Nose Hair Cheek Head Lip Outerwear Eye Eyebrow Eyelash\n"
     ]
    },
    {
     "name": "stderr",
     "output_type": "stream",
     "text": [
      "/var/folders/f5/7w8rh9rx11938lxyvdr2g_940000gn/T/ipykernel_94711/975253196.py:27: FutureWarning: The frame.append method is deprecated and will be removed from pandas in a future version. Use pandas.concat instead.\n",
      "  df = df.append({'URL': image_src_temp, 'Labels': s}, ignore_index=True)\n"
     ]
    },
    {
     "name": "stdout",
     "output_type": "stream",
     "text": [
      "s\n",
      "Toy Black Sleeve Font Line Red Entertainment Art Event Uniform\n"
     ]
    },
    {
     "name": "stderr",
     "output_type": "stream",
     "text": [
      "/var/folders/f5/7w8rh9rx11938lxyvdr2g_940000gn/T/ipykernel_94711/975253196.py:27: FutureWarning: The frame.append method is deprecated and will be removed from pandas in a future version. Use pandas.concat instead.\n",
      "  df = df.append({'URL': image_src_temp, 'Labels': s}, ignore_index=True)\n"
     ]
    },
    {
     "name": "stdout",
     "output_type": "stream",
     "text": [
      "s\n",
      "Clothing Footwear Shoe Outerwear Leg Human body Fashion Sleeve Street fashion Gesture\n"
     ]
    },
    {
     "name": "stderr",
     "output_type": "stream",
     "text": [
      "/var/folders/f5/7w8rh9rx11938lxyvdr2g_940000gn/T/ipykernel_94711/975253196.py:27: FutureWarning: The frame.append method is deprecated and will be removed from pandas in a future version. Use pandas.concat instead.\n",
      "  df = df.append({'URL': image_src_temp, 'Labels': s}, ignore_index=True)\n"
     ]
    },
    {
     "name": "stdout",
     "output_type": "stream",
     "text": [
      "s\n",
      "Hair Lip Flash photography Street fashion Neck Sleeve Grey Wood Jacket Blazer\n"
     ]
    },
    {
     "name": "stderr",
     "output_type": "stream",
     "text": [
      "/var/folders/f5/7w8rh9rx11938lxyvdr2g_940000gn/T/ipykernel_94711/975253196.py:27: FutureWarning: The frame.append method is deprecated and will be removed from pandas in a future version. Use pandas.concat instead.\n",
      "  df = df.append({'URL': image_src_temp, 'Labels': s}, ignore_index=True)\n"
     ]
    },
    {
     "name": "stdout",
     "output_type": "stream",
     "text": [
      "s\n",
      "Hand Eye People in nature Tartan Human body Textile Dress Sleeve Flash photography Happy\n"
     ]
    },
    {
     "name": "stderr",
     "output_type": "stream",
     "text": [
      "/var/folders/f5/7w8rh9rx11938lxyvdr2g_940000gn/T/ipykernel_94711/975253196.py:27: FutureWarning: The frame.append method is deprecated and will be removed from pandas in a future version. Use pandas.concat instead.\n",
      "  df = df.append({'URL': image_src_temp, 'Labels': s}, ignore_index=True)\n"
     ]
    },
    {
     "name": "stdout",
     "output_type": "stream",
     "text": [
      "s\n",
      "Nose Cheek Lip Smile Eyebrow Eyelash Mouth Ear Jaw Flash photography\n"
     ]
    },
    {
     "name": "stderr",
     "output_type": "stream",
     "text": [
      "/var/folders/f5/7w8rh9rx11938lxyvdr2g_940000gn/T/ipykernel_94711/975253196.py:27: FutureWarning: The frame.append method is deprecated and will be removed from pandas in a future version. Use pandas.concat instead.\n",
      "  df = df.append({'URL': image_src_temp, 'Labels': s}, ignore_index=True)\n"
     ]
    },
    {
     "name": "stdout",
     "output_type": "stream",
     "text": [
      "s\n",
      "Fashion Gesture Pink Street fashion Costume hat Party hat Thigh Fashion design Entertainment Performing arts\n"
     ]
    },
    {
     "name": "stderr",
     "output_type": "stream",
     "text": [
      "/var/folders/f5/7w8rh9rx11938lxyvdr2g_940000gn/T/ipykernel_94711/975253196.py:27: FutureWarning: The frame.append method is deprecated and will be removed from pandas in a future version. Use pandas.concat instead.\n",
      "  df = df.append({'URL': image_src_temp, 'Labels': s}, ignore_index=True)\n"
     ]
    },
    {
     "name": "stdout",
     "output_type": "stream",
     "text": [
      "s\n",
      "Rectangle Font Slope Parallel Circle Pattern Logo Office equipment Illustration Brand\n"
     ]
    },
    {
     "name": "stderr",
     "output_type": "stream",
     "text": [
      "/var/folders/f5/7w8rh9rx11938lxyvdr2g_940000gn/T/ipykernel_94711/975253196.py:27: FutureWarning: The frame.append method is deprecated and will be removed from pandas in a future version. Use pandas.concat instead.\n",
      "  df = df.append({'URL': image_src_temp, 'Labels': s}, ignore_index=True)\n"
     ]
    },
    {
     "name": "stdout",
     "output_type": "stream",
     "text": [
      "s\n",
      "Sky Trousers Water People on beach Leg People in nature Beach Sleeve Gesture Happy\n"
     ]
    },
    {
     "name": "stderr",
     "output_type": "stream",
     "text": [
      "/var/folders/f5/7w8rh9rx11938lxyvdr2g_940000gn/T/ipykernel_94711/975253196.py:27: FutureWarning: The frame.append method is deprecated and will be removed from pandas in a future version. Use pandas.concat instead.\n",
      "  df = df.append({'URL': image_src_temp, 'Labels': s}, ignore_index=True)\n"
     ]
    },
    {
     "name": "stdout",
     "output_type": "stream",
     "text": [
      "s\n",
      "Skin Smile Head Outerwear Shoulder Fashion Human body Sleeve Textile Standing\n"
     ]
    },
    {
     "name": "stderr",
     "output_type": "stream",
     "text": [
      "/var/folders/f5/7w8rh9rx11938lxyvdr2g_940000gn/T/ipykernel_94711/975253196.py:27: FutureWarning: The frame.append method is deprecated and will be removed from pandas in a future version. Use pandas.concat instead.\n",
      "  df = df.append({'URL': image_src_temp, 'Labels': s}, ignore_index=True)\n"
     ]
    },
    {
     "name": "stdout",
     "output_type": "stream",
     "text": [
      "s\n",
      "Surfboard Plant Sky Eyewear People in nature Sneakers Surfing Equipment Travel Happy Street fashion\n"
     ]
    },
    {
     "name": "stderr",
     "output_type": "stream",
     "text": [
      "/var/folders/f5/7w8rh9rx11938lxyvdr2g_940000gn/T/ipykernel_94711/975253196.py:27: FutureWarning: The frame.append method is deprecated and will be removed from pandas in a future version. Use pandas.concat instead.\n",
      "  df = df.append({'URL': image_src_temp, 'Labels': s}, ignore_index=True)\n"
     ]
    },
    {
     "name": "stdout",
     "output_type": "stream",
     "text": [
      "s\n",
      "Face Joint Lip Chin Hand Arm Shoulder Eyebrow Eye Mouth\n"
     ]
    },
    {
     "name": "stderr",
     "output_type": "stream",
     "text": [
      "/var/folders/f5/7w8rh9rx11938lxyvdr2g_940000gn/T/ipykernel_94711/975253196.py:27: FutureWarning: The frame.append method is deprecated and will be removed from pandas in a future version. Use pandas.concat instead.\n",
      "  df = df.append({'URL': image_src_temp, 'Labels': s}, ignore_index=True)\n"
     ]
    },
    {
     "name": "stdout",
     "output_type": "stream",
     "text": [
      "s\n",
      "Hair Lip Eyebrow Mouth Eyelash Comfort Flash photography Neck Textile Black-and-white\n"
     ]
    },
    {
     "name": "stderr",
     "output_type": "stream",
     "text": [
      "/var/folders/f5/7w8rh9rx11938lxyvdr2g_940000gn/T/ipykernel_94711/975253196.py:27: FutureWarning: The frame.append method is deprecated and will be removed from pandas in a future version. Use pandas.concat instead.\n",
      "  df = df.append({'URL': image_src_temp, 'Labels': s}, ignore_index=True)\n"
     ]
    },
    {
     "name": "stdout",
     "output_type": "stream",
     "text": [
      "s\n",
      "Shoulder Leg Sleeve Knee Waist Thigh Street fashion Fashion design Eyewear Black hair\n"
     ]
    },
    {
     "name": "stderr",
     "output_type": "stream",
     "text": [
      "/var/folders/f5/7w8rh9rx11938lxyvdr2g_940000gn/T/ipykernel_94711/975253196.py:27: FutureWarning: The frame.append method is deprecated and will be removed from pandas in a future version. Use pandas.concat instead.\n",
      "  df = df.append({'URL': image_src_temp, 'Labels': s}, ignore_index=True)\n"
     ]
    },
    {
     "name": "stdout",
     "output_type": "stream",
     "text": [
      "s\n",
      "Furniture Table Chair Wood Art Rectangle Flooring Desk Plywood Wood stain\n"
     ]
    },
    {
     "name": "stderr",
     "output_type": "stream",
     "text": [
      "/var/folders/f5/7w8rh9rx11938lxyvdr2g_940000gn/T/ipykernel_94711/975253196.py:27: FutureWarning: The frame.append method is deprecated and will be removed from pandas in a future version. Use pandas.concat instead.\n",
      "  df = df.append({'URL': image_src_temp, 'Labels': s}, ignore_index=True)\n"
     ]
    },
    {
     "name": "stdout",
     "output_type": "stream",
     "text": [
      "s\n",
      "Lip Hairstyle Furniture Product Comfort Sleeve Street fashion Chair Collar Thigh\n"
     ]
    },
    {
     "name": "stderr",
     "output_type": "stream",
     "text": [
      "/var/folders/f5/7w8rh9rx11938lxyvdr2g_940000gn/T/ipykernel_94711/975253196.py:27: FutureWarning: The frame.append method is deprecated and will be removed from pandas in a future version. Use pandas.concat instead.\n",
      "  df = df.append({'URL': image_src_temp, 'Labels': s}, ignore_index=True)\n"
     ]
    },
    {
     "name": "stdout",
     "output_type": "stream",
     "text": [
      "s\n",
      "Furniture Table Wood Publication Book Chair Rectangle Linens Wicker Art\n"
     ]
    },
    {
     "name": "stderr",
     "output_type": "stream",
     "text": [
      "/var/folders/f5/7w8rh9rx11938lxyvdr2g_940000gn/T/ipykernel_94711/975253196.py:27: FutureWarning: The frame.append method is deprecated and will be removed from pandas in a future version. Use pandas.concat instead.\n",
      "  df = df.append({'URL': image_src_temp, 'Labels': s}, ignore_index=True)\n"
     ]
    },
    {
     "name": "stdout",
     "output_type": "stream",
     "text": [
      "s\n",
      "Joint Outerwear Shoulder White Product Neck Human body Waist Sleeve Textile\n"
     ]
    },
    {
     "name": "stderr",
     "output_type": "stream",
     "text": [
      "/var/folders/f5/7w8rh9rx11938lxyvdr2g_940000gn/T/ipykernel_94711/975253196.py:27: FutureWarning: The frame.append method is deprecated and will be removed from pandas in a future version. Use pandas.concat instead.\n",
      "  df = df.append({'URL': image_src_temp, 'Labels': s}, ignore_index=True)\n"
     ]
    },
    {
     "name": "stdout",
     "output_type": "stream",
     "text": [
      "s\n",
      "Clothing Joint Shoulder Eyewear Street fashion Sleeve Waist Knee Thigh Afro\n"
     ]
    },
    {
     "name": "stderr",
     "output_type": "stream",
     "text": [
      "/var/folders/f5/7w8rh9rx11938lxyvdr2g_940000gn/T/ipykernel_94711/975253196.py:27: FutureWarning: The frame.append method is deprecated and will be removed from pandas in a future version. Use pandas.concat instead.\n",
      "  df = df.append({'URL': image_src_temp, 'Labels': s}, ignore_index=True)\n"
     ]
    },
    {
     "name": "stdout",
     "output_type": "stream",
     "text": [
      "s\n",
      "Joint Skin Shoulder Arm Eyelash Neck Sleeve Waist Gesture Elbow\n"
     ]
    },
    {
     "name": "stderr",
     "output_type": "stream",
     "text": [
      "/var/folders/f5/7w8rh9rx11938lxyvdr2g_940000gn/T/ipykernel_94711/975253196.py:27: FutureWarning: The frame.append method is deprecated and will be removed from pandas in a future version. Use pandas.concat instead.\n",
      "  df = df.append({'URL': image_src_temp, 'Labels': s}, ignore_index=True)\n"
     ]
    },
    {
     "name": "stdout",
     "output_type": "stream",
     "text": [
      "s\n",
      "Comfort Automotive design Art Interior design Sculpture Floor Flooring Table Linens Wood\n"
     ]
    },
    {
     "name": "stderr",
     "output_type": "stream",
     "text": [
      "/var/folders/f5/7w8rh9rx11938lxyvdr2g_940000gn/T/ipykernel_94711/975253196.py:27: FutureWarning: The frame.append method is deprecated and will be removed from pandas in a future version. Use pandas.concat instead.\n",
      "  df = df.append({'URL': image_src_temp, 'Labels': s}, ignore_index=True)\n"
     ]
    },
    {
     "name": "stdout",
     "output_type": "stream",
     "text": [
      "s\n",
      "Automotive design Building Architecture Floor Flooring Ceiling Art Space Glass Luxury vehicle\n"
     ]
    },
    {
     "name": "stderr",
     "output_type": "stream",
     "text": [
      "/var/folders/f5/7w8rh9rx11938lxyvdr2g_940000gn/T/ipykernel_94711/975253196.py:27: FutureWarning: The frame.append method is deprecated and will be removed from pandas in a future version. Use pandas.concat instead.\n",
      "  df = df.append({'URL': image_src_temp, 'Labels': s}, ignore_index=True)\n"
     ]
    },
    {
     "name": "stdout",
     "output_type": "stream",
     "text": [
      "s\n",
      "Plant Sky Snow Natural landscape Tree Freezing Bedrock Twig Geological phenomenon Formation\n"
     ]
    },
    {
     "name": "stderr",
     "output_type": "stream",
     "text": [
      "/var/folders/f5/7w8rh9rx11938lxyvdr2g_940000gn/T/ipykernel_94711/975253196.py:27: FutureWarning: The frame.append method is deprecated and will be removed from pandas in a future version. Use pandas.concat instead.\n",
      "  df = df.append({'URL': image_src_temp, 'Labels': s}, ignore_index=True)\n"
     ]
    },
    {
     "name": "stdout",
     "output_type": "stream",
     "text": [
      "s\n",
      "Glasses Smile Outerwear Vision care Hairstyle Goggles Facial expression Sunglasses Sky Cloud\n"
     ]
    },
    {
     "name": "stderr",
     "output_type": "stream",
     "text": [
      "/var/folders/f5/7w8rh9rx11938lxyvdr2g_940000gn/T/ipykernel_94711/975253196.py:27: FutureWarning: The frame.append method is deprecated and will be removed from pandas in a future version. Use pandas.concat instead.\n",
      "  df = df.append({'URL': image_src_temp, 'Labels': s}, ignore_index=True)\n"
     ]
    },
    {
     "name": "stdout",
     "output_type": "stream",
     "text": [
      "s\n",
      "Sky Cloud Snow Mountain Slope Winter sport Gesture Outdoor recreation Ice cap People in nature\n"
     ]
    },
    {
     "name": "stderr",
     "output_type": "stream",
     "text": [
      "/var/folders/f5/7w8rh9rx11938lxyvdr2g_940000gn/T/ipykernel_94711/975253196.py:27: FutureWarning: The frame.append method is deprecated and will be removed from pandas in a future version. Use pandas.concat instead.\n",
      "  df = df.append({'URL': image_src_temp, 'Labels': s}, ignore_index=True)\n"
     ]
    },
    {
     "name": "stdout",
     "output_type": "stream",
     "text": [
      "s\n",
      "Outerwear Sky Blue Cloud Azure Glove Sleeve Jacket Freezing Cool\n"
     ]
    },
    {
     "name": "stderr",
     "output_type": "stream",
     "text": [
      "/var/folders/f5/7w8rh9rx11938lxyvdr2g_940000gn/T/ipykernel_94711/975253196.py:27: FutureWarning: The frame.append method is deprecated and will be removed from pandas in a future version. Use pandas.concat instead.\n",
      "  df = df.append({'URL': image_src_temp, 'Labels': s}, ignore_index=True)\n"
     ]
    },
    {
     "name": "stdout",
     "output_type": "stream",
     "text": [
      "s\n",
      "Snow Sky Slope People in nature Gesture Ice cap Travel Polar ice cap Leisure Glacial landform\n"
     ]
    },
    {
     "name": "stderr",
     "output_type": "stream",
     "text": [
      "/var/folders/f5/7w8rh9rx11938lxyvdr2g_940000gn/T/ipykernel_94711/975253196.py:27: FutureWarning: The frame.append method is deprecated and will be removed from pandas in a future version. Use pandas.concat instead.\n",
      "  df = df.append({'URL': image_src_temp, 'Labels': s}, ignore_index=True)\n"
     ]
    },
    {
     "name": "stdout",
     "output_type": "stream",
     "text": [
      "s\n",
      "Cloud Sky Slope Snow People in nature Winter sport Ice cap Ski Equipment Mountain Glacial landform\n"
     ]
    },
    {
     "name": "stderr",
     "output_type": "stream",
     "text": [
      "/var/folders/f5/7w8rh9rx11938lxyvdr2g_940000gn/T/ipykernel_94711/975253196.py:27: FutureWarning: The frame.append method is deprecated and will be removed from pandas in a future version. Use pandas.concat instead.\n",
      "  df = df.append({'URL': image_src_temp, 'Labels': s}, ignore_index=True)\n"
     ]
    },
    {
     "name": "stdout",
     "output_type": "stream",
     "text": [
      "s\n",
      "Ecoregion Snow Slope Ice cap Atmospheric phenomenon Freezing Landscape Tree Glacial landform Polar ice cap\n"
     ]
    },
    {
     "name": "stderr",
     "output_type": "stream",
     "text": [
      "/var/folders/f5/7w8rh9rx11938lxyvdr2g_940000gn/T/ipykernel_94711/975253196.py:27: FutureWarning: The frame.append method is deprecated and will be removed from pandas in a future version. Use pandas.concat instead.\n",
      "  df = df.append({'URL': image_src_temp, 'Labels': s}, ignore_index=True)\n"
     ]
    },
    {
     "name": "stdout",
     "output_type": "stream",
     "text": [
      "s\n",
      "Tennis Sports equipment Leg Tennis Equipment Shorts Soft tennis Knee Tennis player Strings Chair\n"
     ]
    },
    {
     "name": "stderr",
     "output_type": "stream",
     "text": [
      "/var/folders/f5/7w8rh9rx11938lxyvdr2g_940000gn/T/ipykernel_94711/975253196.py:27: FutureWarning: The frame.append method is deprecated and will be removed from pandas in a future version. Use pandas.concat instead.\n",
      "  df = df.append({'URL': image_src_temp, 'Labels': s}, ignore_index=True)\n"
     ]
    },
    {
     "name": "stdout",
     "output_type": "stream",
     "text": [
      "s\n",
      "Joint Hairstyle Outerwear Shirt Shoulder Arm Tartan Dress shirt Neck Fashion\n"
     ]
    },
    {
     "name": "stderr",
     "output_type": "stream",
     "text": [
      "/var/folders/f5/7w8rh9rx11938lxyvdr2g_940000gn/T/ipykernel_94711/975253196.py:27: FutureWarning: The frame.append method is deprecated and will be removed from pandas in a future version. Use pandas.concat instead.\n",
      "  df = df.append({'URL': image_src_temp, 'Labels': s}, ignore_index=True)\n"
     ]
    },
    {
     "name": "stdout",
     "output_type": "stream",
     "text": [
      "s\n",
      "Sleeve Bag Undergarment Bat Font Fashion accessory Linens Carmine Magenta Tree\n"
     ]
    },
    {
     "name": "stderr",
     "output_type": "stream",
     "text": [
      "/var/folders/f5/7w8rh9rx11938lxyvdr2g_940000gn/T/ipykernel_94711/975253196.py:27: FutureWarning: The frame.append method is deprecated and will be removed from pandas in a future version. Use pandas.concat instead.\n",
      "  df = df.append({'URL': image_src_temp, 'Labels': s}, ignore_index=True)\n"
     ]
    },
    {
     "name": "stdout",
     "output_type": "stream",
     "text": [
      "s\n",
      "Joint Outerwear Shoulder Arm Photograph Muscle Leg White Product Fashion\n"
     ]
    },
    {
     "name": "stderr",
     "output_type": "stream",
     "text": [
      "/var/folders/f5/7w8rh9rx11938lxyvdr2g_940000gn/T/ipykernel_94711/975253196.py:27: FutureWarning: The frame.append method is deprecated and will be removed from pandas in a future version. Use pandas.concat instead.\n",
      "  df = df.append({'URL': image_src_temp, 'Labels': s}, ignore_index=True)\n"
     ]
    },
    {
     "name": "stdout",
     "output_type": "stream",
     "text": [
      "s\n",
      "Leg Sleeve Waist Thigh Gesture Undergarment Sportswear Human leg Personal protective equipment Font\n"
     ]
    },
    {
     "name": "stderr",
     "output_type": "stream",
     "text": [
      "/var/folders/f5/7w8rh9rx11938lxyvdr2g_940000gn/T/ipykernel_94711/975253196.py:27: FutureWarning: The frame.append method is deprecated and will be removed from pandas in a future version. Use pandas.concat instead.\n",
      "  df = df.append({'URL': image_src_temp, 'Labels': s}, ignore_index=True)\n"
     ]
    },
    {
     "name": "stdout",
     "output_type": "stream",
     "text": [
      "s\n",
      "Face Joint Skin Shoulder Hairstyle Arm Leg Facial expression Muscle White\n"
     ]
    },
    {
     "name": "stderr",
     "output_type": "stream",
     "text": [
      "/var/folders/f5/7w8rh9rx11938lxyvdr2g_940000gn/T/ipykernel_94711/975253196.py:27: FutureWarning: The frame.append method is deprecated and will be removed from pandas in a future version. Use pandas.concat instead.\n",
      "  df = df.append({'URL': image_src_temp, 'Labels': s}, ignore_index=True)\n"
     ]
    },
    {
     "name": "stdout",
     "output_type": "stream",
     "text": [
      "s\n",
      "Shorts Active shorts Sports equipment Playing sports Streetball Leisure Player Grass Plant Sports\n"
     ]
    },
    {
     "name": "stderr",
     "output_type": "stream",
     "text": [
      "/var/folders/f5/7w8rh9rx11938lxyvdr2g_940000gn/T/ipykernel_94711/975253196.py:27: FutureWarning: The frame.append method is deprecated and will be removed from pandas in a future version. Use pandas.concat instead.\n",
      "  df = df.append({'URL': image_src_temp, 'Labels': s}, ignore_index=True)\n"
     ]
    },
    {
     "name": "stdout",
     "output_type": "stream",
     "text": [
      "s\n",
      "Clothing Smile Hairstyle Arm Daytime Muscle White Leg Fashion Human body\n"
     ]
    },
    {
     "name": "stderr",
     "output_type": "stream",
     "text": [
      "/var/folders/f5/7w8rh9rx11938lxyvdr2g_940000gn/T/ipykernel_94711/975253196.py:27: FutureWarning: The frame.append method is deprecated and will be removed from pandas in a future version. Use pandas.concat instead.\n",
      "  df = df.append({'URL': image_src_temp, 'Labels': s}, ignore_index=True)\n"
     ]
    },
    {
     "name": "stdout",
     "output_type": "stream",
     "text": [
      "s\n",
      "Plant Knee Grass Asphalt Thigh Tree Sky Sportswear Street fashion Recreation\n"
     ]
    },
    {
     "name": "stderr",
     "output_type": "stream",
     "text": [
      "/var/folders/f5/7w8rh9rx11938lxyvdr2g_940000gn/T/ipykernel_94711/975253196.py:27: FutureWarning: The frame.append method is deprecated and will be removed from pandas in a future version. Use pandas.concat instead.\n",
      "  df = df.append({'URL': image_src_temp, 'Labels': s}, ignore_index=True)\n"
     ]
    },
    {
     "name": "stdout",
     "output_type": "stream",
     "text": [
      "s\n",
      "Tartan Shoulder White Neck Sleeve Street fashion Waist Fence Grey Plaid\n"
     ]
    },
    {
     "name": "stderr",
     "output_type": "stream",
     "text": [
      "/var/folders/f5/7w8rh9rx11938lxyvdr2g_940000gn/T/ipykernel_94711/975253196.py:27: FutureWarning: The frame.append method is deprecated and will be removed from pandas in a future version. Use pandas.concat instead.\n",
      "  df = df.append({'URL': image_src_temp, 'Labels': s}, ignore_index=True)\n"
     ]
    },
    {
     "name": "stdout",
     "output_type": "stream",
     "text": [
      "s\n",
      "Stomach Arm Plant People in nature Blue Human body Flash photography Undershirt Neck Waist\n"
     ]
    },
    {
     "name": "stderr",
     "output_type": "stream",
     "text": [
      "/var/folders/f5/7w8rh9rx11938lxyvdr2g_940000gn/T/ipykernel_94711/975253196.py:27: FutureWarning: The frame.append method is deprecated and will be removed from pandas in a future version. Use pandas.concat instead.\n",
      "  df = df.append({'URL': image_src_temp, 'Labels': s}, ignore_index=True)\n"
     ]
    },
    {
     "name": "stdout",
     "output_type": "stream",
     "text": [
      "s\n",
      "Face Cheek Skin Joint Lip Chin Hairstyle Eyebrow Shoulder Eye\n"
     ]
    },
    {
     "name": "stderr",
     "output_type": "stream",
     "text": [
      "/var/folders/f5/7w8rh9rx11938lxyvdr2g_940000gn/T/ipykernel_94711/975253196.py:27: FutureWarning: The frame.append method is deprecated and will be removed from pandas in a future version. Use pandas.concat instead.\n",
      "  df = df.append({'URL': image_src_temp, 'Labels': s}, ignore_index=True)\n"
     ]
    },
    {
     "name": "stdout",
     "output_type": "stream",
     "text": [
      "s\n",
      "Hair Shoe Shoulder Leg Flash photography Waist Thigh People in nature Street fashion Knee\n"
     ]
    },
    {
     "name": "stderr",
     "output_type": "stream",
     "text": [
      "/var/folders/f5/7w8rh9rx11938lxyvdr2g_940000gn/T/ipykernel_94711/975253196.py:27: FutureWarning: The frame.append method is deprecated and will be removed from pandas in a future version. Use pandas.concat instead.\n",
      "  df = df.append({'URL': image_src_temp, 'Labels': s}, ignore_index=True)\n"
     ]
    },
    {
     "name": "stdout",
     "output_type": "stream",
     "text": [
      "s\n",
      "Plant White Hat Sun hat Azure People in nature Sleeve Fedora Standing Fence\n"
     ]
    },
    {
     "name": "stderr",
     "output_type": "stream",
     "text": [
      "/var/folders/f5/7w8rh9rx11938lxyvdr2g_940000gn/T/ipykernel_94711/975253196.py:27: FutureWarning: The frame.append method is deprecated and will be removed from pandas in a future version. Use pandas.concat instead.\n",
      "  df = df.append({'URL': image_src_temp, 'Labels': s}, ignore_index=True)\n"
     ]
    },
    {
     "name": "stdout",
     "output_type": "stream",
     "text": [
      "s\n",
      "Hair Skin Lip Shoulder Sky Leg Tartan Plant People in nature Blue\n"
     ]
    },
    {
     "name": "stderr",
     "output_type": "stream",
     "text": [
      "/var/folders/f5/7w8rh9rx11938lxyvdr2g_940000gn/T/ipykernel_94711/975253196.py:27: FutureWarning: The frame.append method is deprecated and will be removed from pandas in a future version. Use pandas.concat instead.\n",
      "  df = df.append({'URL': image_src_temp, 'Labels': s}, ignore_index=True)\n"
     ]
    },
    {
     "name": "stdout",
     "output_type": "stream",
     "text": [
      "s\n",
      "Joint Shoe Leg Comfort Neck Flash photography Sleeve Waist Knee Thigh\n"
     ]
    },
    {
     "name": "stderr",
     "output_type": "stream",
     "text": [
      "/var/folders/f5/7w8rh9rx11938lxyvdr2g_940000gn/T/ipykernel_94711/975253196.py:27: FutureWarning: The frame.append method is deprecated and will be removed from pandas in a future version. Use pandas.concat instead.\n",
      "  df = df.append({'URL': image_src_temp, 'Labels': s}, ignore_index=True)\n"
     ]
    },
    {
     "name": "stdout",
     "output_type": "stream",
     "text": [
      "s\n",
      "Forehead Hair Nose Cheek Lip Chin Eyelash Mouth Jaw Smile\n"
     ]
    },
    {
     "name": "stderr",
     "output_type": "stream",
     "text": [
      "/var/folders/f5/7w8rh9rx11938lxyvdr2g_940000gn/T/ipykernel_94711/975253196.py:27: FutureWarning: The frame.append method is deprecated and will be removed from pandas in a future version. Use pandas.concat instead.\n",
      "  df = df.append({'URL': image_src_temp, 'Labels': s}, ignore_index=True)\n"
     ]
    },
    {
     "name": "stdout",
     "output_type": "stream",
     "text": [
      "s\n",
      "Face Joint Skin Lip Shoulder Arm Leg Neck Human body Flash photography\n"
     ]
    },
    {
     "name": "stderr",
     "output_type": "stream",
     "text": [
      "/var/folders/f5/7w8rh9rx11938lxyvdr2g_940000gn/T/ipykernel_94711/975253196.py:27: FutureWarning: The frame.append method is deprecated and will be removed from pandas in a future version. Use pandas.concat instead.\n",
      "  df = df.append({'URL': image_src_temp, 'Labels': s}, ignore_index=True)\n"
     ]
    },
    {
     "name": "stdout",
     "output_type": "stream",
     "text": [
      "s\n",
      "Shoulder Eye Smile Neck Flash photography Sleeve Street fashion Happy Sky Waist\n"
     ]
    },
    {
     "name": "stderr",
     "output_type": "stream",
     "text": [
      "/var/folders/f5/7w8rh9rx11938lxyvdr2g_940000gn/T/ipykernel_94711/975253196.py:27: FutureWarning: The frame.append method is deprecated and will be removed from pandas in a future version. Use pandas.concat instead.\n",
      "  df = df.append({'URL': image_src_temp, 'Labels': s}, ignore_index=True)\n"
     ]
    },
    {
     "name": "stdout",
     "output_type": "stream",
     "text": [
      "s\n",
      "Dress shirt Street fashion Sleeve Collar Waist Suit Blazer Travel White-collar worker Formal wear\n"
     ]
    },
    {
     "name": "stderr",
     "output_type": "stream",
     "text": [
      "/var/folders/f5/7w8rh9rx11938lxyvdr2g_940000gn/T/ipykernel_94711/975253196.py:27: FutureWarning: The frame.append method is deprecated and will be removed from pandas in a future version. Use pandas.concat instead.\n",
      "  df = df.append({'URL': image_src_temp, 'Labels': s}, ignore_index=True)\n"
     ]
    },
    {
     "name": "stdout",
     "output_type": "stream",
     "text": [
      "s\n",
      "Car Wheel Land vehicle Tire White Street fashion Dress Fashion Eyewear Neck\n"
     ]
    },
    {
     "name": "stderr",
     "output_type": "stream",
     "text": [
      "/var/folders/f5/7w8rh9rx11938lxyvdr2g_940000gn/T/ipykernel_94711/975253196.py:27: FutureWarning: The frame.append method is deprecated and will be removed from pandas in a future version. Use pandas.concat instead.\n",
      "  df = df.append({'URL': image_src_temp, 'Labels': s}, ignore_index=True)\n"
     ]
    },
    {
     "name": "stdout",
     "output_type": "stream",
     "text": [
      "s\n",
      "Hairstyle Window Street fashion Fashion Textile Sleeve Standing Waist Overcoat Collar\n"
     ]
    },
    {
     "name": "stderr",
     "output_type": "stream",
     "text": [
      "/var/folders/f5/7w8rh9rx11938lxyvdr2g_940000gn/T/ipykernel_94711/975253196.py:27: FutureWarning: The frame.append method is deprecated and will be removed from pandas in a future version. Use pandas.concat instead.\n",
      "  df = df.append({'URL': image_src_temp, 'Labels': s}, ignore_index=True)\n"
     ]
    },
    {
     "name": "stdout",
     "output_type": "stream",
     "text": [
      "s\n",
      "Photograph White Product Blue Purple Cartoon Font Gas Snapshot Games\n"
     ]
    },
    {
     "name": "stderr",
     "output_type": "stream",
     "text": [
      "/var/folders/f5/7w8rh9rx11938lxyvdr2g_940000gn/T/ipykernel_94711/975253196.py:27: FutureWarning: The frame.append method is deprecated and will be removed from pandas in a future version. Use pandas.concat instead.\n",
      "  df = df.append({'URL': image_src_temp, 'Labels': s}, ignore_index=True)\n"
     ]
    },
    {
     "name": "stdout",
     "output_type": "stream",
     "text": [
      "s\n",
      "Active pants Sleeve sweatpant Sportswear Street fashion Smile Hat Grass Knee Cap\n"
     ]
    },
    {
     "name": "stderr",
     "output_type": "stream",
     "text": [
      "/var/folders/f5/7w8rh9rx11938lxyvdr2g_940000gn/T/ipykernel_94711/975253196.py:27: FutureWarning: The frame.append method is deprecated and will be removed from pandas in a future version. Use pandas.concat instead.\n",
      "  df = df.append({'URL': image_src_temp, 'Labels': s}, ignore_index=True)\n"
     ]
    },
    {
     "name": "stdout",
     "output_type": "stream",
     "text": [
      "s\n",
      "Forehead Nose Smile Lip Vision care Eyelash Hat Mouth Neck Human body\n"
     ]
    },
    {
     "name": "stderr",
     "output_type": "stream",
     "text": [
      "/var/folders/f5/7w8rh9rx11938lxyvdr2g_940000gn/T/ipykernel_94711/975253196.py:27: FutureWarning: The frame.append method is deprecated and will be removed from pandas in a future version. Use pandas.concat instead.\n",
      "  df = df.append({'URL': image_src_temp, 'Labels': s}, ignore_index=True)\n"
     ]
    },
    {
     "name": "stdout",
     "output_type": "stream",
     "text": [
      "s\n",
      "Trousers Shoe Purple Human body Sleeve Waist Gesture Thigh Knee Sportswear\n"
     ]
    },
    {
     "name": "stderr",
     "output_type": "stream",
     "text": [
      "/var/folders/f5/7w8rh9rx11938lxyvdr2g_940000gn/T/ipykernel_94711/975253196.py:27: FutureWarning: The frame.append method is deprecated and will be removed from pandas in a future version. Use pandas.concat instead.\n",
      "  df = df.append({'URL': image_src_temp, 'Labels': s}, ignore_index=True)\n"
     ]
    },
    {
     "name": "stdout",
     "output_type": "stream",
     "text": [
      "s\n",
      "Forehead Shoulder Neck Eyelash Flash photography Sleeve Cool Font Happy T-shirt\n"
     ]
    },
    {
     "name": "stderr",
     "output_type": "stream",
     "text": [
      "/var/folders/f5/7w8rh9rx11938lxyvdr2g_940000gn/T/ipykernel_94711/975253196.py:27: FutureWarning: The frame.append method is deprecated and will be removed from pandas in a future version. Use pandas.concat instead.\n",
      "  df = df.append({'URL': image_src_temp, 'Labels': s}, ignore_index=True)\n"
     ]
    },
    {
     "name": "stdout",
     "output_type": "stream",
     "text": [
      "s\n",
      "Leg Sportswear Knee Elbow Leisure Fun Entertainment Performing arts Grass Competition event\n"
     ]
    },
    {
     "name": "stderr",
     "output_type": "stream",
     "text": [
      "/var/folders/f5/7w8rh9rx11938lxyvdr2g_940000gn/T/ipykernel_94711/975253196.py:27: FutureWarning: The frame.append method is deprecated and will be removed from pandas in a future version. Use pandas.concat instead.\n",
      "  df = df.append({'URL': image_src_temp, 'Labels': s}, ignore_index=True)\n"
     ]
    },
    {
     "name": "stdout",
     "output_type": "stream",
     "text": [
      "s\n",
      "Photograph White Purple Cap Sleeve Hat Gesture Bag Pink Happy\n"
     ]
    },
    {
     "name": "stderr",
     "output_type": "stream",
     "text": [
      "/var/folders/f5/7w8rh9rx11938lxyvdr2g_940000gn/T/ipykernel_94711/975253196.py:27: FutureWarning: The frame.append method is deprecated and will be removed from pandas in a future version. Use pandas.concat instead.\n",
      "  df = df.append({'URL': image_src_temp, 'Labels': s}, ignore_index=True)\n"
     ]
    },
    {
     "name": "stdout",
     "output_type": "stream",
     "text": [
      "s\n",
      "Clothing Footwear Land vehicle Shoe Hairstyle Car Photograph Wheel Street fashion Black\n"
     ]
    },
    {
     "name": "stderr",
     "output_type": "stream",
     "text": [
      "/var/folders/f5/7w8rh9rx11938lxyvdr2g_940000gn/T/ipykernel_94711/975253196.py:27: FutureWarning: The frame.append method is deprecated and will be removed from pandas in a future version. Use pandas.concat instead.\n",
      "  df = df.append({'URL': image_src_temp, 'Labels': s}, ignore_index=True)\n"
     ]
    },
    {
     "name": "stdout",
     "output_type": "stream",
     "text": [
      "s\n",
      "Chin Arm Human body Neck Dress shirt Sleeve Street fashion Collar Waist Sportswear\n"
     ]
    },
    {
     "name": "stderr",
     "output_type": "stream",
     "text": [
      "/var/folders/f5/7w8rh9rx11938lxyvdr2g_940000gn/T/ipykernel_94711/975253196.py:27: FutureWarning: The frame.append method is deprecated and will be removed from pandas in a future version. Use pandas.concat instead.\n",
      "  df = df.append({'URL': image_src_temp, 'Labels': s}, ignore_index=True)\n"
     ]
    },
    {
     "name": "stdout",
     "output_type": "stream",
     "text": [
      "s\n",
      "Face Footwear Smile Shoe Leg Sleeve Dress shirt Flash photography Gesture Collar\n"
     ]
    },
    {
     "name": "stderr",
     "output_type": "stream",
     "text": [
      "/var/folders/f5/7w8rh9rx11938lxyvdr2g_940000gn/T/ipykernel_94711/975253196.py:27: FutureWarning: The frame.append method is deprecated and will be removed from pandas in a future version. Use pandas.concat instead.\n",
      "  df = df.append({'URL': image_src_temp, 'Labels': s}, ignore_index=True)\n"
     ]
    },
    {
     "name": "stdout",
     "output_type": "stream",
     "text": [
      "s\n",
      "Clothing Footwear Car Land vehicle Vehicle Shoe Leg Hood Motor vehicle Automotive design\n"
     ]
    },
    {
     "name": "stderr",
     "output_type": "stream",
     "text": [
      "/var/folders/f5/7w8rh9rx11938lxyvdr2g_940000gn/T/ipykernel_94711/975253196.py:27: FutureWarning: The frame.append method is deprecated and will be removed from pandas in a future version. Use pandas.concat instead.\n",
      "  df = df.append({'URL': image_src_temp, 'Labels': s}, ignore_index=True)\n"
     ]
    },
    {
     "name": "stdout",
     "output_type": "stream",
     "text": [
      "s\n",
      "Hair Face Skin Head Smile Lip Outerwear Eye Arm Photograph\n"
     ]
    },
    {
     "name": "stderr",
     "output_type": "stream",
     "text": [
      "/var/folders/f5/7w8rh9rx11938lxyvdr2g_940000gn/T/ipykernel_94711/975253196.py:27: FutureWarning: The frame.append method is deprecated and will be removed from pandas in a future version. Use pandas.concat instead.\n",
      "  df = df.append({'URL': image_src_temp, 'Labels': s}, ignore_index=True)\n"
     ]
    },
    {
     "name": "stdout",
     "output_type": "stream",
     "text": [
      "s\n",
      "Joint Shoulder Stomach White Neck Textile Sleeve Waist Thigh Grey\n"
     ]
    },
    {
     "name": "stderr",
     "output_type": "stream",
     "text": [
      "/var/folders/f5/7w8rh9rx11938lxyvdr2g_940000gn/T/ipykernel_94711/975253196.py:27: FutureWarning: The frame.append method is deprecated and will be removed from pandas in a future version. Use pandas.concat instead.\n",
      "  df = df.append({'URL': image_src_temp, 'Labels': s}, ignore_index=True)\n"
     ]
    },
    {
     "name": "stdout",
     "output_type": "stream",
     "text": [
      "s\n",
      "Skin Head Plant Dress People in nature Sky Human body Flash photography Neck Sleeve\n"
     ]
    },
    {
     "name": "stderr",
     "output_type": "stream",
     "text": [
      "/var/folders/f5/7w8rh9rx11938lxyvdr2g_940000gn/T/ipykernel_94711/975253196.py:27: FutureWarning: The frame.append method is deprecated and will be removed from pandas in a future version. Use pandas.concat instead.\n",
      "  df = df.append({'URL': image_src_temp, 'Labels': s}, ignore_index=True)\n"
     ]
    },
    {
     "name": "stdout",
     "output_type": "stream",
     "text": [
      "s\n",
      "Hair Lip Outerwear Hairstyle Shoulder Photograph Facial expression People in nature Fashion Street fashion\n"
     ]
    },
    {
     "name": "stderr",
     "output_type": "stream",
     "text": [
      "/var/folders/f5/7w8rh9rx11938lxyvdr2g_940000gn/T/ipykernel_94711/975253196.py:27: FutureWarning: The frame.append method is deprecated and will be removed from pandas in a future version. Use pandas.concat instead.\n",
      "  df = df.append({'URL': image_src_temp, 'Labels': s}, ignore_index=True)\n"
     ]
    },
    {
     "name": "stdout",
     "output_type": "stream",
     "text": [
      "s\n",
      "Skin Sky Cloud Flash photography Plant Happy People in nature Grass Grassland Rural area\n"
     ]
    },
    {
     "name": "stderr",
     "output_type": "stream",
     "text": [
      "/var/folders/f5/7w8rh9rx11938lxyvdr2g_940000gn/T/ipykernel_94711/975253196.py:27: FutureWarning: The frame.append method is deprecated and will be removed from pandas in a future version. Use pandas.concat instead.\n",
      "  df = df.append({'URL': image_src_temp, 'Labels': s}, ignore_index=True)\n"
     ]
    },
    {
     "name": "stdout",
     "output_type": "stream",
     "text": [
      "s\n",
      "Face Head Shoulder Eye Plant People in nature Dress shirt Dress Human body Flash photography\n"
     ]
    },
    {
     "name": "stderr",
     "output_type": "stream",
     "text": [
      "/var/folders/f5/7w8rh9rx11938lxyvdr2g_940000gn/T/ipykernel_94711/975253196.py:27: FutureWarning: The frame.append method is deprecated and will be removed from pandas in a future version. Use pandas.concat instead.\n",
      "  df = df.append({'URL': image_src_temp, 'Labels': s}, ignore_index=True)\n"
     ]
    },
    {
     "name": "stdout",
     "output_type": "stream",
     "text": [
      "s\n",
      "Clothing Hair Lip Shoulder Smile People in nature Plant Flash photography Happy Eyewear\n"
     ]
    },
    {
     "name": "stderr",
     "output_type": "stream",
     "text": [
      "/var/folders/f5/7w8rh9rx11938lxyvdr2g_940000gn/T/ipykernel_94711/975253196.py:27: FutureWarning: The frame.append method is deprecated and will be removed from pandas in a future version. Use pandas.concat instead.\n",
      "  df = df.append({'URL': image_src_temp, 'Labels': s}, ignore_index=True)\n"
     ]
    },
    {
     "name": "stdout",
     "output_type": "stream",
     "text": [
      "s\n",
      "Dress shirt Human body Sleeve Waist Gesture Collar Fashion design Thigh Trunk Fashion model\n"
     ]
    },
    {
     "name": "stderr",
     "output_type": "stream",
     "text": [
      "/var/folders/f5/7w8rh9rx11938lxyvdr2g_940000gn/T/ipykernel_94711/975253196.py:27: FutureWarning: The frame.append method is deprecated and will be removed from pandas in a future version. Use pandas.concat instead.\n",
      "  df = df.append({'URL': image_src_temp, 'Labels': s}, ignore_index=True)\n"
     ]
    },
    {
     "name": "stdout",
     "output_type": "stream",
     "text": [
      "s\n",
      "Joint Hand Outerwear Shoulder Arm Human body Neck Flash photography Sleeve Waist\n"
     ]
    },
    {
     "name": "stderr",
     "output_type": "stream",
     "text": [
      "/var/folders/f5/7w8rh9rx11938lxyvdr2g_940000gn/T/ipykernel_94711/975253196.py:27: FutureWarning: The frame.append method is deprecated and will be removed from pandas in a future version. Use pandas.concat instead.\n",
      "  df = df.append({'URL': image_src_temp, 'Labels': s}, ignore_index=True)\n"
     ]
    },
    {
     "name": "stdout",
     "output_type": "stream",
     "text": [
      "s\n",
      "Sky Water Ecoregion Plant People in nature Natural landscape Tree Gesture Grass Happy\n"
     ]
    },
    {
     "name": "stderr",
     "output_type": "stream",
     "text": [
      "/var/folders/f5/7w8rh9rx11938lxyvdr2g_940000gn/T/ipykernel_94711/975253196.py:27: FutureWarning: The frame.append method is deprecated and will be removed from pandas in a future version. Use pandas.concat instead.\n",
      "  df = df.append({'URL': image_src_temp, 'Labels': s}, ignore_index=True)\n"
     ]
    },
    {
     "name": "stdout",
     "output_type": "stream",
     "text": [
      "s\n",
      "Forehead Nose Smile Cheek Skin Lip Chin Hairstyle Eyebrow Mouth\n"
     ]
    },
    {
     "name": "stderr",
     "output_type": "stream",
     "text": [
      "/var/folders/f5/7w8rh9rx11938lxyvdr2g_940000gn/T/ipykernel_94711/975253196.py:27: FutureWarning: The frame.append method is deprecated and will be removed from pandas in a future version. Use pandas.concat instead.\n",
      "  df = df.append({'URL': image_src_temp, 'Labels': s}, ignore_index=True)\n"
     ]
    },
    {
     "name": "stdout",
     "output_type": "stream",
     "text": [
      "s\n",
      "Clothing Joint Shoe Shoulder Leg Dress Flowerpot Human body Neck Waist\n"
     ]
    },
    {
     "name": "stderr",
     "output_type": "stream",
     "text": [
      "/var/folders/f5/7w8rh9rx11938lxyvdr2g_940000gn/T/ipykernel_94711/975253196.py:27: FutureWarning: The frame.append method is deprecated and will be removed from pandas in a future version. Use pandas.concat instead.\n",
      "  df = df.append({'URL': image_src_temp, 'Labels': s}, ignore_index=True)\n"
     ]
    },
    {
     "name": "stdout",
     "output_type": "stream",
     "text": [
      "s\n",
      "Joint Arm Active tank Leg Blue Azure Cycling shorts Jersey Human body Neck\n"
     ]
    },
    {
     "name": "stderr",
     "output_type": "stream",
     "text": [
      "/var/folders/f5/7w8rh9rx11938lxyvdr2g_940000gn/T/ipykernel_94711/975253196.py:27: FutureWarning: The frame.append method is deprecated and will be removed from pandas in a future version. Use pandas.concat instead.\n",
      "  df = df.append({'URL': image_src_temp, 'Labels': s}, ignore_index=True)\n"
     ]
    },
    {
     "name": "stdout",
     "output_type": "stream",
     "text": [
      "s\n",
      "Footwear Outerwear Sky Sleeve Gesture Street fashion Travel Hat Happy T-shirt\n"
     ]
    },
    {
     "name": "stderr",
     "output_type": "stream",
     "text": [
      "/var/folders/f5/7w8rh9rx11938lxyvdr2g_940000gn/T/ipykernel_94711/975253196.py:27: FutureWarning: The frame.append method is deprecated and will be removed from pandas in a future version. Use pandas.concat instead.\n",
      "  df = df.append({'URL': image_src_temp, 'Labels': s}, ignore_index=True)\n"
     ]
    },
    {
     "name": "stdout",
     "output_type": "stream",
     "text": [
      "s\n",
      "Building Window Sunglasses Street fashion Sleeve Waist Eyewear Knee Thigh Sportswear\n"
     ]
    },
    {
     "name": "stderr",
     "output_type": "stream",
     "text": [
      "/var/folders/f5/7w8rh9rx11938lxyvdr2g_940000gn/T/ipykernel_94711/975253196.py:27: FutureWarning: The frame.append method is deprecated and will be removed from pandas in a future version. Use pandas.concat instead.\n",
      "  df = df.append({'URL': image_src_temp, 'Labels': s}, ignore_index=True)\n"
     ]
    },
    {
     "name": "stdout",
     "output_type": "stream",
     "text": [
      "s\n",
      "Glasses Shoulder Vision care Photograph Sunglasses White Goggles Street fashion Eyewear Neck\n"
     ]
    },
    {
     "name": "stderr",
     "output_type": "stream",
     "text": [
      "/var/folders/f5/7w8rh9rx11938lxyvdr2g_940000gn/T/ipykernel_94711/975253196.py:27: FutureWarning: The frame.append method is deprecated and will be removed from pandas in a future version. Use pandas.concat instead.\n",
      "  df = df.append({'URL': image_src_temp, 'Labels': s}, ignore_index=True)\n"
     ]
    },
    {
     "name": "stdout",
     "output_type": "stream",
     "text": [
      "s\n",
      "Shoe Tennis Racketlon Sports equipment Tennis racket Strings Tennis Equipment Leg Sports uniform Tennis player\n"
     ]
    },
    {
     "name": "stderr",
     "output_type": "stream",
     "text": [
      "/var/folders/f5/7w8rh9rx11938lxyvdr2g_940000gn/T/ipykernel_94711/975253196.py:27: FutureWarning: The frame.append method is deprecated and will be removed from pandas in a future version. Use pandas.concat instead.\n",
      "  df = df.append({'URL': image_src_temp, 'Labels': s}, ignore_index=True)\n"
     ]
    },
    {
     "name": "stdout",
     "output_type": "stream",
     "text": [
      "s\n",
      "Table Furniture Product Lighting Interior design Flooring Floor studio couch Couch Wood\n"
     ]
    },
    {
     "name": "stderr",
     "output_type": "stream",
     "text": [
      "/var/folders/f5/7w8rh9rx11938lxyvdr2g_940000gn/T/ipykernel_94711/975253196.py:27: FutureWarning: The frame.append method is deprecated and will be removed from pandas in a future version. Use pandas.concat instead.\n",
      "  df = df.append({'URL': image_src_temp, 'Labels': s}, ignore_index=True)\n"
     ]
    },
    {
     "name": "stdout",
     "output_type": "stream",
     "text": [
      "s\n",
      "Textile Interior design Style Wall Curtain Tints and shades Wood Fashion design Room Event\n"
     ]
    },
    {
     "name": "stderr",
     "output_type": "stream",
     "text": [
      "/var/folders/f5/7w8rh9rx11938lxyvdr2g_940000gn/T/ipykernel_94711/975253196.py:27: FutureWarning: The frame.append method is deprecated and will be removed from pandas in a future version. Use pandas.concat instead.\n",
      "  df = df.append({'URL': image_src_temp, 'Labels': s}, ignore_index=True)\n"
     ]
    },
    {
     "name": "stdout",
     "output_type": "stream",
     "text": [
      "s\n",
      "Furniture Comfort Curtain Wood Interior design Table Flooring Shade Floor Couch\n"
     ]
    },
    {
     "name": "stderr",
     "output_type": "stream",
     "text": [
      "/var/folders/f5/7w8rh9rx11938lxyvdr2g_940000gn/T/ipykernel_94711/975253196.py:27: FutureWarning: The frame.append method is deprecated and will be removed from pandas in a future version. Use pandas.concat instead.\n",
      "  df = df.append({'URL': image_src_temp, 'Labels': s}, ignore_index=True)\n"
     ]
    },
    {
     "name": "stdout",
     "output_type": "stream",
     "text": [
      "s\n",
      "Outerwear Daytime Shoulder Tartan Sky People in nature Green People on beach Blue Trunks\n"
     ]
    },
    {
     "name": "stderr",
     "output_type": "stream",
     "text": [
      "/var/folders/f5/7w8rh9rx11938lxyvdr2g_940000gn/T/ipykernel_94711/975253196.py:27: FutureWarning: The frame.append method is deprecated and will be removed from pandas in a future version. Use pandas.concat instead.\n",
      "  df = df.append({'URL': image_src_temp, 'Labels': s}, ignore_index=True)\n"
     ]
    },
    {
     "name": "stdout",
     "output_type": "stream",
     "text": [
      "s\n",
      "Clothing Lip Smile Hat Eyebrow People in nature Green Sun hat Fedora Eyelash\n"
     ]
    },
    {
     "name": "stderr",
     "output_type": "stream",
     "text": [
      "/var/folders/f5/7w8rh9rx11938lxyvdr2g_940000gn/T/ipykernel_94711/975253196.py:27: FutureWarning: The frame.append method is deprecated and will be removed from pandas in a future version. Use pandas.concat instead.\n",
      "  df = df.append({'URL': image_src_temp, 'Labels': s}, ignore_index=True)\n"
     ]
    },
    {
     "name": "stdout",
     "output_type": "stream",
     "text": [
      "s\n",
      "Clothing Joint Water Shoulder Leg Light Azure Blue Fashion Neck\n"
     ]
    },
    {
     "name": "stderr",
     "output_type": "stream",
     "text": [
      "/var/folders/f5/7w8rh9rx11938lxyvdr2g_940000gn/T/ipykernel_94711/975253196.py:27: FutureWarning: The frame.append method is deprecated and will be removed from pandas in a future version. Use pandas.concat instead.\n",
      "  df = df.append({'URL': image_src_temp, 'Labels': s}, ignore_index=True)\n"
     ]
    },
    {
     "name": "stdout",
     "output_type": "stream",
     "text": [
      "s\n",
      "Glasses Sky Cloud Shoulder Vision care yoga pant Plant Sunglasses Active pants Tree\n"
     ]
    },
    {
     "name": "stderr",
     "output_type": "stream",
     "text": [
      "/var/folders/f5/7w8rh9rx11938lxyvdr2g_940000gn/T/ipykernel_94711/975253196.py:27: FutureWarning: The frame.append method is deprecated and will be removed from pandas in a future version. Use pandas.concat instead.\n",
      "  df = df.append({'URL': image_src_temp, 'Labels': s}, ignore_index=True)\n"
     ]
    },
    {
     "name": "stdout",
     "output_type": "stream",
     "text": [
      "s\n",
      "Sunglasses Vision care White Leg Human body Neck Sleeve Waist Eyewear Standing\n"
     ]
    },
    {
     "name": "stderr",
     "output_type": "stream",
     "text": [
      "/var/folders/f5/7w8rh9rx11938lxyvdr2g_940000gn/T/ipykernel_94711/975253196.py:27: FutureWarning: The frame.append method is deprecated and will be removed from pandas in a future version. Use pandas.concat instead.\n",
      "  df = df.append({'URL': image_src_temp, 'Labels': s}, ignore_index=True)\n"
     ]
    },
    {
     "name": "stdout",
     "output_type": "stream",
     "text": [
      "s\n",
      "Footwear Tennis Racketlon Tennis racket Strings Sports equipment Tennis player Leg Soft tennis Racket\n"
     ]
    },
    {
     "name": "stderr",
     "output_type": "stream",
     "text": [
      "/var/folders/f5/7w8rh9rx11938lxyvdr2g_940000gn/T/ipykernel_94711/975253196.py:27: FutureWarning: The frame.append method is deprecated and will be removed from pandas in a future version. Use pandas.concat instead.\n",
      "  df = df.append({'URL': image_src_temp, 'Labels': s}, ignore_index=True)\n"
     ]
    },
    {
     "name": "stdout",
     "output_type": "stream",
     "text": [
      "s\n",
      "Font Brand Rectangle Signage Banner Graphics Logo Electric blue Carmine\n"
     ]
    },
    {
     "name": "stderr",
     "output_type": "stream",
     "text": [
      "/var/folders/f5/7w8rh9rx11938lxyvdr2g_940000gn/T/ipykernel_94711/975253196.py:27: FutureWarning: The frame.append method is deprecated and will be removed from pandas in a future version. Use pandas.concat instead.\n",
      "  df = df.append({'URL': image_src_temp, 'Labels': s}, ignore_index=True)\n"
     ]
    },
    {
     "name": "stdout",
     "output_type": "stream",
     "text": [
      "s\n",
      "Forehead Nose Face Head Lip Smile Glasses Chin Eyebrow Human body\n"
     ]
    },
    {
     "name": "stderr",
     "output_type": "stream",
     "text": [
      "/var/folders/f5/7w8rh9rx11938lxyvdr2g_940000gn/T/ipykernel_94711/975253196.py:27: FutureWarning: The frame.append method is deprecated and will be removed from pandas in a future version. Use pandas.concat instead.\n",
      "  df = df.append({'URL': image_src_temp, 'Labels': s}, ignore_index=True)\n"
     ]
    },
    {
     "name": "stdout",
     "output_type": "stream",
     "text": [
      "s\n",
      "Font Electric blue Graphics Brand Symmetry Rectangle\n"
     ]
    },
    {
     "name": "stderr",
     "output_type": "stream",
     "text": [
      "/var/folders/f5/7w8rh9rx11938lxyvdr2g_940000gn/T/ipykernel_94711/975253196.py:27: FutureWarning: The frame.append method is deprecated and will be removed from pandas in a future version. Use pandas.concat instead.\n",
      "  df = df.append({'URL': image_src_temp, 'Labels': s}, ignore_index=True)\n"
     ]
    },
    {
     "name": "stdout",
     "output_type": "stream",
     "text": [
      "s\n",
      "Rectangle Font Magenta Brand Logo Graphics Electric blue\n"
     ]
    },
    {
     "name": "stderr",
     "output_type": "stream",
     "text": [
      "/var/folders/f5/7w8rh9rx11938lxyvdr2g_940000gn/T/ipykernel_94711/975253196.py:27: FutureWarning: The frame.append method is deprecated and will be removed from pandas in a future version. Use pandas.concat instead.\n",
      "  df = df.append({'URL': image_src_temp, 'Labels': s}, ignore_index=True)\n"
     ]
    },
    {
     "name": "stdout",
     "output_type": "stream",
     "text": [
      "s\n",
      "Font Electric blue Signage Brand\n"
     ]
    },
    {
     "name": "stderr",
     "output_type": "stream",
     "text": [
      "/var/folders/f5/7w8rh9rx11938lxyvdr2g_940000gn/T/ipykernel_94711/975253196.py:27: FutureWarning: The frame.append method is deprecated and will be removed from pandas in a future version. Use pandas.concat instead.\n",
      "  df = df.append({'URL': image_src_temp, 'Labels': s}, ignore_index=True)\n"
     ]
    },
    {
     "name": "stdout",
     "output_type": "stream",
     "text": [
      "s\n",
      "Clothing Hair Forehead Face Cheek Joint Skin Head Lip Chin\n"
     ]
    },
    {
     "name": "stderr",
     "output_type": "stream",
     "text": [
      "/var/folders/f5/7w8rh9rx11938lxyvdr2g_940000gn/T/ipykernel_94711/975253196.py:27: FutureWarning: The frame.append method is deprecated and will be removed from pandas in a future version. Use pandas.concat instead.\n",
      "  df = df.append({'URL': image_src_temp, 'Labels': s}, ignore_index=True)\n"
     ]
    },
    {
     "name": "stdout",
     "output_type": "stream",
     "text": [
      "s\n",
      "Font Brand Rectangle Graphics Logo\n"
     ]
    },
    {
     "name": "stderr",
     "output_type": "stream",
     "text": [
      "/var/folders/f5/7w8rh9rx11938lxyvdr2g_940000gn/T/ipykernel_94711/975253196.py:27: FutureWarning: The frame.append method is deprecated and will be removed from pandas in a future version. Use pandas.concat instead.\n",
      "  df = df.append({'URL': image_src_temp, 'Labels': s}, ignore_index=True)\n"
     ]
    },
    {
     "name": "stdout",
     "output_type": "stream",
     "text": [
      "s\n",
      "Forehead Nose Smile Cheek Skin Chin Hand Hairstyle Eyebrow Mouth\n"
     ]
    },
    {
     "name": "stderr",
     "output_type": "stream",
     "text": [
      "/var/folders/f5/7w8rh9rx11938lxyvdr2g_940000gn/T/ipykernel_94711/975253196.py:27: FutureWarning: The frame.append method is deprecated and will be removed from pandas in a future version. Use pandas.concat instead.\n",
      "  df = df.append({'URL': image_src_temp, 'Labels': s}, ignore_index=True)\n"
     ]
    },
    {
     "name": "stdout",
     "output_type": "stream",
     "text": [
      "s\n",
      "Font Brand Rectangle Graphics Electric blue\n"
     ]
    },
    {
     "name": "stderr",
     "output_type": "stream",
     "text": [
      "/var/folders/f5/7w8rh9rx11938lxyvdr2g_940000gn/T/ipykernel_94711/975253196.py:27: FutureWarning: The frame.append method is deprecated and will be removed from pandas in a future version. Use pandas.concat instead.\n",
      "  df = df.append({'URL': image_src_temp, 'Labels': s}, ignore_index=True)\n"
     ]
    },
    {
     "name": "stdout",
     "output_type": "stream",
     "text": [
      "s\n",
      "Forehead Joint Skin Lip Chin Eyebrow Shoulder Eyelash Muscle Mouth\n"
     ]
    },
    {
     "name": "stderr",
     "output_type": "stream",
     "text": [
      "/var/folders/f5/7w8rh9rx11938lxyvdr2g_940000gn/T/ipykernel_94711/975253196.py:27: FutureWarning: The frame.append method is deprecated and will be removed from pandas in a future version. Use pandas.concat instead.\n",
      "  df = df.append({'URL': image_src_temp, 'Labels': s}, ignore_index=True)\n"
     ]
    },
    {
     "name": "stdout",
     "output_type": "stream",
     "text": [
      "s\n",
      "Product Font Rectangle Brand Publication Electric blue Signage Advertising Logo Graphics\n"
     ]
    },
    {
     "name": "stderr",
     "output_type": "stream",
     "text": [
      "/var/folders/f5/7w8rh9rx11938lxyvdr2g_940000gn/T/ipykernel_94711/975253196.py:27: FutureWarning: The frame.append method is deprecated and will be removed from pandas in a future version. Use pandas.concat instead.\n",
      "  df = df.append({'URL': image_src_temp, 'Labels': s}, ignore_index=True)\n"
     ]
    },
    {
     "name": "stdout",
     "output_type": "stream",
     "text": [
      "s\n",
      "Smile Skin Lip Chin Hand Eyebrow Arm Shoulder Mouth Eyelash\n"
     ]
    },
    {
     "name": "stderr",
     "output_type": "stream",
     "text": [
      "/var/folders/f5/7w8rh9rx11938lxyvdr2g_940000gn/T/ipykernel_94711/975253196.py:27: FutureWarning: The frame.append method is deprecated and will be removed from pandas in a future version. Use pandas.concat instead.\n",
      "  df = df.append({'URL': image_src_temp, 'Labels': s}, ignore_index=True)\n"
     ]
    },
    {
     "name": "stdout",
     "output_type": "stream",
     "text": [
      "s\n",
      "Font Book Publication Electric blue Rectangle Brand\n"
     ]
    },
    {
     "name": "stderr",
     "output_type": "stream",
     "text": [
      "/var/folders/f5/7w8rh9rx11938lxyvdr2g_940000gn/T/ipykernel_94711/975253196.py:27: FutureWarning: The frame.append method is deprecated and will be removed from pandas in a future version. Use pandas.concat instead.\n",
      "  df = df.append({'URL': image_src_temp, 'Labels': s}, ignore_index=True)\n"
     ]
    },
    {
     "name": "stdout",
     "output_type": "stream",
     "text": [
      "s\n",
      "Product Sleeve Font Collar T-shirt Material property Magenta Active shirt Brand Logo\n"
     ]
    },
    {
     "name": "stderr",
     "output_type": "stream",
     "text": [
      "/var/folders/f5/7w8rh9rx11938lxyvdr2g_940000gn/T/ipykernel_94711/975253196.py:27: FutureWarning: The frame.append method is deprecated and will be removed from pandas in a future version. Use pandas.concat instead.\n",
      "  df = df.append({'URL': image_src_temp, 'Labels': s}, ignore_index=True)\n"
     ]
    },
    {
     "name": "stdout",
     "output_type": "stream",
     "text": [
      "s\n",
      "Head Outerwear Helmet Product Sleeve Headgear Font Plastic bottle Rectangle Hat\n"
     ]
    },
    {
     "name": "stderr",
     "output_type": "stream",
     "text": [
      "/var/folders/f5/7w8rh9rx11938lxyvdr2g_940000gn/T/ipykernel_94711/975253196.py:27: FutureWarning: The frame.append method is deprecated and will be removed from pandas in a future version. Use pandas.concat instead.\n",
      "  df = df.append({'URL': image_src_temp, 'Labels': s}, ignore_index=True)\n"
     ]
    },
    {
     "name": "stdout",
     "output_type": "stream",
     "text": [
      "s\n",
      "Sleeve T-shirt Rectangle Font Electric blue Sportswear Shorts Logo Brand Graphics\n"
     ]
    },
    {
     "name": "stderr",
     "output_type": "stream",
     "text": [
      "/var/folders/f5/7w8rh9rx11938lxyvdr2g_940000gn/T/ipykernel_94711/975253196.py:27: FutureWarning: The frame.append method is deprecated and will be removed from pandas in a future version. Use pandas.concat instead.\n",
      "  df = df.append({'URL': image_src_temp, 'Labels': s}, ignore_index=True)\n"
     ]
    },
    {
     "name": "stdout",
     "output_type": "stream",
     "text": [
      "s\n",
      "Footwear Joint Shoe Shoulder Building Sky Leg Skyscraper Fashion Street fashion\n"
     ]
    },
    {
     "name": "stderr",
     "output_type": "stream",
     "text": [
      "/var/folders/f5/7w8rh9rx11938lxyvdr2g_940000gn/T/ipykernel_94711/975253196.py:27: FutureWarning: The frame.append method is deprecated and will be removed from pandas in a future version. Use pandas.concat instead.\n",
      "  df = df.append({'URL': image_src_temp, 'Labels': s}, ignore_index=True)\n"
     ]
    },
    {
     "name": "stdout",
     "output_type": "stream",
     "text": [
      "s\n",
      "Clothing Joint Jeans Shoulder Arm White Shorts Azure Neck Waist\n"
     ]
    },
    {
     "name": "stderr",
     "output_type": "stream",
     "text": [
      "/var/folders/f5/7w8rh9rx11938lxyvdr2g_940000gn/T/ipykernel_94711/975253196.py:27: FutureWarning: The frame.append method is deprecated and will be removed from pandas in a future version. Use pandas.concat instead.\n",
      "  df = df.append({'URL': image_src_temp, 'Labels': s}, ignore_index=True)\n"
     ]
    },
    {
     "name": "stdout",
     "output_type": "stream",
     "text": [
      "s\n",
      "Muscle Flash photography Sleeve Sky Waist Gesture Street fashion Eyewear Sleeveless shirt Denim\n"
     ]
    },
    {
     "name": "stderr",
     "output_type": "stream",
     "text": [
      "/var/folders/f5/7w8rh9rx11938lxyvdr2g_940000gn/T/ipykernel_94711/975253196.py:27: FutureWarning: The frame.append method is deprecated and will be removed from pandas in a future version. Use pandas.concat instead.\n",
      "  df = df.append({'URL': image_src_temp, 'Labels': s}, ignore_index=True)\n"
     ]
    },
    {
     "name": "stdout",
     "output_type": "stream",
     "text": [
      "s\n",
      "Joint Sunglasses Azure Blue Neck Human body Jaw Waist Thigh Elbow\n"
     ]
    },
    {
     "name": "stderr",
     "output_type": "stream",
     "text": [
      "/var/folders/f5/7w8rh9rx11938lxyvdr2g_940000gn/T/ipykernel_94711/975253196.py:27: FutureWarning: The frame.append method is deprecated and will be removed from pandas in a future version. Use pandas.concat instead.\n",
      "  df = df.append({'URL': image_src_temp, 'Labels': s}, ignore_index=True)\n"
     ]
    },
    {
     "name": "stdout",
     "output_type": "stream",
     "text": [
      "s\n",
      "Joint Outerwear Dress One-piece garment Sky Human body Neck Sleeve Waist Orange\n"
     ]
    },
    {
     "name": "stderr",
     "output_type": "stream",
     "text": [
      "/var/folders/f5/7w8rh9rx11938lxyvdr2g_940000gn/T/ipykernel_94711/975253196.py:27: FutureWarning: The frame.append method is deprecated and will be removed from pandas in a future version. Use pandas.concat instead.\n",
      "  df = df.append({'URL': image_src_temp, 'Labels': s}, ignore_index=True)\n"
     ]
    },
    {
     "name": "stdout",
     "output_type": "stream",
     "text": [
      "s\n",
      "Fluid Musical instrument Ingredient Serveware Material property Wood Helmet Staple food Vinegar Tints and shades\n"
     ]
    },
    {
     "name": "stderr",
     "output_type": "stream",
     "text": [
      "/var/folders/f5/7w8rh9rx11938lxyvdr2g_940000gn/T/ipykernel_94711/975253196.py:27: FutureWarning: The frame.append method is deprecated and will be removed from pandas in a future version. Use pandas.concat instead.\n",
      "  df = df.append({'URL': image_src_temp, 'Labels': s}, ignore_index=True)\n"
     ]
    },
    {
     "name": "stdout",
     "output_type": "stream",
     "text": [
      "s\n",
      "Clothing Joint Outerwear Shoulder Arm Leg Muscle White Light Blue\n"
     ]
    },
    {
     "name": "stderr",
     "output_type": "stream",
     "text": [
      "/var/folders/f5/7w8rh9rx11938lxyvdr2g_940000gn/T/ipykernel_94711/975253196.py:27: FutureWarning: The frame.append method is deprecated and will be removed from pandas in a future version. Use pandas.concat instead.\n",
      "  df = df.append({'URL': image_src_temp, 'Labels': s}, ignore_index=True)\n"
     ]
    },
    {
     "name": "stdout",
     "output_type": "stream",
     "text": [
      "s\n",
      "Joint Arm Shoulder Muscle Stomach Human body Neck Waist Chest Undergarment\n"
     ]
    },
    {
     "name": "stderr",
     "output_type": "stream",
     "text": [
      "/var/folders/f5/7w8rh9rx11938lxyvdr2g_940000gn/T/ipykernel_94711/975253196.py:27: FutureWarning: The frame.append method is deprecated and will be removed from pandas in a future version. Use pandas.concat instead.\n",
      "  df = df.append({'URL': image_src_temp, 'Labels': s}, ignore_index=True)\n"
     ]
    },
    {
     "name": "stdout",
     "output_type": "stream",
     "text": [
      "s\n",
      "Joint Outerwear Shoulder Arm White Muscle Blue Green Neck Waist\n"
     ]
    },
    {
     "name": "stderr",
     "output_type": "stream",
     "text": [
      "/var/folders/f5/7w8rh9rx11938lxyvdr2g_940000gn/T/ipykernel_94711/975253196.py:27: FutureWarning: The frame.append method is deprecated and will be removed from pandas in a future version. Use pandas.concat instead.\n",
      "  df = df.append({'URL': image_src_temp, 'Labels': s}, ignore_index=True)\n"
     ]
    },
    {
     "name": "stdout",
     "output_type": "stream",
     "text": [
      "s\n",
      "Joint Hairstyle Shoulder Sky White Eyewear Human body Street fashion Neck Shorts\n"
     ]
    },
    {
     "name": "stderr",
     "output_type": "stream",
     "text": [
      "/var/folders/f5/7w8rh9rx11938lxyvdr2g_940000gn/T/ipykernel_94711/975253196.py:27: FutureWarning: The frame.append method is deprecated and will be removed from pandas in a future version. Use pandas.concat instead.\n",
      "  df = df.append({'URL': image_src_temp, 'Labels': s}, ignore_index=True)\n"
     ]
    },
    {
     "name": "stdout",
     "output_type": "stream",
     "text": [
      "s\n",
      "Clothing Joint Shoe Arm Photograph Leg Green White Muscle Plant\n"
     ]
    },
    {
     "name": "stderr",
     "output_type": "stream",
     "text": [
      "/var/folders/f5/7w8rh9rx11938lxyvdr2g_940000gn/T/ipykernel_94711/975253196.py:27: FutureWarning: The frame.append method is deprecated and will be removed from pandas in a future version. Use pandas.concat instead.\n",
      "  df = df.append({'URL': image_src_temp, 'Labels': s}, ignore_index=True)\n"
     ]
    },
    {
     "name": "stdout",
     "output_type": "stream",
     "text": [
      "s\n",
      "Plant Smile Sleeve Street fashion Asphalt Sky Tree Sportswear Leisure Happy\n"
     ]
    },
    {
     "name": "stderr",
     "output_type": "stream",
     "text": [
      "/var/folders/f5/7w8rh9rx11938lxyvdr2g_940000gn/T/ipykernel_94711/975253196.py:27: FutureWarning: The frame.append method is deprecated and will be removed from pandas in a future version. Use pandas.concat instead.\n",
      "  df = df.append({'URL': image_src_temp, 'Labels': s}, ignore_index=True)\n"
     ]
    },
    {
     "name": "stdout",
     "output_type": "stream",
     "text": [
      "s\n",
      "Hair Arm One-piece garment Shoulder Human body Flash photography Neck Day dress Waist Sleeve\n"
     ]
    },
    {
     "name": "stderr",
     "output_type": "stream",
     "text": [
      "/var/folders/f5/7w8rh9rx11938lxyvdr2g_940000gn/T/ipykernel_94711/975253196.py:27: FutureWarning: The frame.append method is deprecated and will be removed from pandas in a future version. Use pandas.concat instead.\n",
      "  df = df.append({'URL': image_src_temp, 'Labels': s}, ignore_index=True)\n"
     ]
    },
    {
     "name": "stdout",
     "output_type": "stream",
     "text": [
      "s\n",
      "Joint Sky Shorts Hairstyle Shoulder Arm Photograph Stomach Leg Muscle\n"
     ]
    },
    {
     "name": "stderr",
     "output_type": "stream",
     "text": [
      "/var/folders/f5/7w8rh9rx11938lxyvdr2g_940000gn/T/ipykernel_94711/975253196.py:27: FutureWarning: The frame.append method is deprecated and will be removed from pandas in a future version. Use pandas.concat instead.\n",
      "  df = df.append({'URL': image_src_temp, 'Labels': s}, ignore_index=True)\n"
     ]
    },
    {
     "name": "stdout",
     "output_type": "stream",
     "text": [
      "s\n",
      "Hair Joint Shorts Leg Dress shirt One-piece garment Neck Sleeve Day dress Knee\n"
     ]
    },
    {
     "name": "stderr",
     "output_type": "stream",
     "text": [
      "/var/folders/f5/7w8rh9rx11938lxyvdr2g_940000gn/T/ipykernel_94711/975253196.py:27: FutureWarning: The frame.append method is deprecated and will be removed from pandas in a future version. Use pandas.concat instead.\n",
      "  df = df.append({'URL': image_src_temp, 'Labels': s}, ignore_index=True)\n"
     ]
    },
    {
     "name": "stdout",
     "output_type": "stream",
     "text": [
      "s\n",
      "Sky Tree Brassiere People on beach Thigh Swimwear Waist Knee Arecales Leisure\n"
     ]
    },
    {
     "name": "stderr",
     "output_type": "stream",
     "text": [
      "/var/folders/f5/7w8rh9rx11938lxyvdr2g_940000gn/T/ipykernel_94711/975253196.py:27: FutureWarning: The frame.append method is deprecated and will be removed from pandas in a future version. Use pandas.concat instead.\n",
      "  df = df.append({'URL': image_src_temp, 'Labels': s}, ignore_index=True)\n"
     ]
    },
    {
     "name": "stdout",
     "output_type": "stream",
     "text": [
      "s\n",
      "Footwear Sky Cloud Muscle Flash photography Travel Thigh Waist Happy Leisure\n"
     ]
    },
    {
     "name": "stderr",
     "output_type": "stream",
     "text": [
      "/var/folders/f5/7w8rh9rx11938lxyvdr2g_940000gn/T/ipykernel_94711/975253196.py:27: FutureWarning: The frame.append method is deprecated and will be removed from pandas in a future version. Use pandas.concat instead.\n",
      "  df = df.append({'URL': image_src_temp, 'Labels': s}, ignore_index=True)\n"
     ]
    },
    {
     "name": "stdout",
     "output_type": "stream",
     "text": [
      "s\n",
      "Sky Shorts Cloud Thigh Knee People on beach Happy People in nature Barefoot Leisure\n"
     ]
    },
    {
     "name": "stderr",
     "output_type": "stream",
     "text": [
      "/var/folders/f5/7w8rh9rx11938lxyvdr2g_940000gn/T/ipykernel_94711/975253196.py:27: FutureWarning: The frame.append method is deprecated and will be removed from pandas in a future version. Use pandas.concat instead.\n",
      "  df = df.append({'URL': image_src_temp, 'Labels': s}, ignore_index=True)\n"
     ]
    },
    {
     "name": "stdout",
     "output_type": "stream",
     "text": [
      "s\n",
      "Shirt Dress Azure Human body Sleeve Coat Waist Rectangle Street fashion Fashion design\n"
     ]
    },
    {
     "name": "stderr",
     "output_type": "stream",
     "text": [
      "/var/folders/f5/7w8rh9rx11938lxyvdr2g_940000gn/T/ipykernel_94711/975253196.py:27: FutureWarning: The frame.append method is deprecated and will be removed from pandas in a future version. Use pandas.concat instead.\n",
      "  df = df.append({'URL': image_src_temp, 'Labels': s}, ignore_index=True)\n"
     ]
    },
    {
     "name": "stdout",
     "output_type": "stream",
     "text": [
      "s\n",
      "Shoulder Car Hood yoga pant Vehicle Sleeve Waist Sportswear Shorts Thigh\n"
     ]
    },
    {
     "name": "stderr",
     "output_type": "stream",
     "text": [
      "/var/folders/f5/7w8rh9rx11938lxyvdr2g_940000gn/T/ipykernel_94711/975253196.py:27: FutureWarning: The frame.append method is deprecated and will be removed from pandas in a future version. Use pandas.concat instead.\n",
      "  df = df.append({'URL': image_src_temp, 'Labels': s}, ignore_index=True)\n"
     ]
    },
    {
     "name": "stdout",
     "output_type": "stream",
     "text": [
      "s\n",
      "Face Hair Chin Outerwear Eyebrow Shirt Eye Eyelash Neck Human body\n"
     ]
    },
    {
     "name": "stderr",
     "output_type": "stream",
     "text": [
      "/var/folders/f5/7w8rh9rx11938lxyvdr2g_940000gn/T/ipykernel_94711/975253196.py:27: FutureWarning: The frame.append method is deprecated and will be removed from pandas in a future version. Use pandas.concat instead.\n",
      "  df = df.append({'URL': image_src_temp, 'Labels': s}, ignore_index=True)\n"
     ]
    },
    {
     "name": "stdout",
     "output_type": "stream",
     "text": [
      "s\n",
      "Flash photography Orange Entertainment Heat Event Darkness Electricity Midnight Fun Performance art\n"
     ]
    },
    {
     "name": "stderr",
     "output_type": "stream",
     "text": [
      "/var/folders/f5/7w8rh9rx11938lxyvdr2g_940000gn/T/ipykernel_94711/975253196.py:27: FutureWarning: The frame.append method is deprecated and will be removed from pandas in a future version. Use pandas.concat instead.\n",
      "  df = df.append({'URL': image_src_temp, 'Labels': s}, ignore_index=True)\n"
     ]
    },
    {
     "name": "stdout",
     "output_type": "stream",
     "text": [
      "s\n",
      "Sky Flash photography Sleeve Happy Street fashion Hat Pole Formal wear Bridge Fun\n"
     ]
    },
    {
     "name": "stderr",
     "output_type": "stream",
     "text": [
      "/var/folders/f5/7w8rh9rx11938lxyvdr2g_940000gn/T/ipykernel_94711/975253196.py:27: FutureWarning: The frame.append method is deprecated and will be removed from pandas in a future version. Use pandas.concat instead.\n",
      "  df = df.append({'URL': image_src_temp, 'Labels': s}, ignore_index=True)\n"
     ]
    },
    {
     "name": "stdout",
     "output_type": "stream",
     "text": [
      "s\n",
      "Footwear Flash photography Fashion design Entertainment Event Street fashion Gadget Performing arts Flooring Font\n"
     ]
    },
    {
     "name": "stderr",
     "output_type": "stream",
     "text": [
      "/var/folders/f5/7w8rh9rx11938lxyvdr2g_940000gn/T/ipykernel_94711/975253196.py:27: FutureWarning: The frame.append method is deprecated and will be removed from pandas in a future version. Use pandas.concat instead.\n",
      "  df = df.append({'URL': image_src_temp, 'Labels': s}, ignore_index=True)\n"
     ]
    },
    {
     "name": "stdout",
     "output_type": "stream",
     "text": [
      "s\n",
      "Sky Vertebrate Green Sunglasses Tree Dog breed Fawn Carnivore Happy Fun\n"
     ]
    },
    {
     "name": "stderr",
     "output_type": "stream",
     "text": [
      "/var/folders/f5/7w8rh9rx11938lxyvdr2g_940000gn/T/ipykernel_94711/975253196.py:27: FutureWarning: The frame.append method is deprecated and will be removed from pandas in a future version. Use pandas.concat instead.\n",
      "  df = df.append({'URL': image_src_temp, 'Labels': s}, ignore_index=True)\n"
     ]
    },
    {
     "name": "stdout",
     "output_type": "stream",
     "text": [
      "s\n",
      "Shoe Plant Shoulder Smile Leg Flash photography People in nature Happy Gesture Thigh\n"
     ]
    },
    {
     "name": "stderr",
     "output_type": "stream",
     "text": [
      "/var/folders/f5/7w8rh9rx11938lxyvdr2g_940000gn/T/ipykernel_94711/975253196.py:27: FutureWarning: The frame.append method is deprecated and will be removed from pandas in a future version. Use pandas.concat instead.\n",
      "  df = df.append({'URL': image_src_temp, 'Labels': s}, ignore_index=True)\n"
     ]
    },
    {
     "name": "stdout",
     "output_type": "stream",
     "text": [
      "s\n",
      "Skin Photograph Flash photography People in nature Sky Happy Shorts Gesture Leisure Grass\n"
     ]
    },
    {
     "name": "stderr",
     "output_type": "stream",
     "text": [
      "/var/folders/f5/7w8rh9rx11938lxyvdr2g_940000gn/T/ipykernel_94711/975253196.py:27: FutureWarning: The frame.append method is deprecated and will be removed from pandas in a future version. Use pandas.concat instead.\n",
      "  df = df.append({'URL': image_src_temp, 'Labels': s}, ignore_index=True)\n"
     ]
    },
    {
     "name": "stdout",
     "output_type": "stream",
     "text": [
      "s\n",
      "Clothing Cloud Sky Flash photography People in nature Sleeve Happy Hat Sun hat Waist\n"
     ]
    },
    {
     "name": "stderr",
     "output_type": "stream",
     "text": [
      "/var/folders/f5/7w8rh9rx11938lxyvdr2g_940000gn/T/ipykernel_94711/975253196.py:27: FutureWarning: The frame.append method is deprecated and will be removed from pandas in a future version. Use pandas.concat instead.\n",
      "  df = df.append({'URL': image_src_temp, 'Labels': s}, ignore_index=True)\n"
     ]
    },
    {
     "name": "stdout",
     "output_type": "stream",
     "text": [
      "s\n",
      "Clothing Shoe Arm Photograph Muscle White Light Human Fashion Black\n"
     ]
    },
    {
     "name": "stderr",
     "output_type": "stream",
     "text": [
      "/var/folders/f5/7w8rh9rx11938lxyvdr2g_940000gn/T/ipykernel_94711/975253196.py:27: FutureWarning: The frame.append method is deprecated and will be removed from pandas in a future version. Use pandas.concat instead.\n",
      "  df = df.append({'URL': image_src_temp, 'Labels': s}, ignore_index=True)\n"
     ]
    },
    {
     "name": "stdout",
     "output_type": "stream",
     "text": [
      "s\n",
      "Face Shorts Water Cloud Arm Muscle People in nature Flash photography Human body Neck\n"
     ]
    },
    {
     "name": "stderr",
     "output_type": "stream",
     "text": [
      "/var/folders/f5/7w8rh9rx11938lxyvdr2g_940000gn/T/ipykernel_94711/975253196.py:27: FutureWarning: The frame.append method is deprecated and will be removed from pandas in a future version. Use pandas.concat instead.\n",
      "  df = df.append({'URL': image_src_temp, 'Labels': s}, ignore_index=True)\n"
     ]
    },
    {
     "name": "stdout",
     "output_type": "stream",
     "text": [
      "s\n",
      "Hair Head Eye Human body Natural material Pink Eyelash Feather Magenta Peach\n"
     ]
    },
    {
     "name": "stderr",
     "output_type": "stream",
     "text": [
      "/var/folders/f5/7w8rh9rx11938lxyvdr2g_940000gn/T/ipykernel_94711/975253196.py:27: FutureWarning: The frame.append method is deprecated and will be removed from pandas in a future version. Use pandas.concat instead.\n",
      "  df = df.append({'URL': image_src_temp, 'Labels': s}, ignore_index=True)\n"
     ]
    },
    {
     "name": "stdout",
     "output_type": "stream",
     "text": [
      "s\n",
      "Plant Tree Terrestrial plant Rectangle Arecales Art Symmetry Flowering plant Painting Pattern\n"
     ]
    },
    {
     "name": "stderr",
     "output_type": "stream",
     "text": [
      "/var/folders/f5/7w8rh9rx11938lxyvdr2g_940000gn/T/ipykernel_94711/975253196.py:27: FutureWarning: The frame.append method is deprecated and will be removed from pandas in a future version. Use pandas.concat instead.\n",
      "  df = df.append({'URL': image_src_temp, 'Labels': s}, ignore_index=True)\n"
     ]
    },
    {
     "name": "stdout",
     "output_type": "stream",
     "text": [
      "s\n",
      "Flower Petal Plant Terrestrial plant Tints and shades Flowering plant Magenta Peach Event Font\n"
     ]
    },
    {
     "name": "stderr",
     "output_type": "stream",
     "text": [
      "/var/folders/f5/7w8rh9rx11938lxyvdr2g_940000gn/T/ipykernel_94711/975253196.py:27: FutureWarning: The frame.append method is deprecated and will be removed from pandas in a future version. Use pandas.concat instead.\n",
      "  df = df.append({'URL': image_src_temp, 'Labels': s}, ignore_index=True)\n"
     ]
    },
    {
     "name": "stdout",
     "output_type": "stream",
     "text": [
      "s\n",
      "Clothing Joint Sky Shoulder People in nature Dress Flash photography Neck Waist Standing\n"
     ]
    },
    {
     "name": "stderr",
     "output_type": "stream",
     "text": [
      "/var/folders/f5/7w8rh9rx11938lxyvdr2g_940000gn/T/ipykernel_94711/975253196.py:27: FutureWarning: The frame.append method is deprecated and will be removed from pandas in a future version. Use pandas.concat instead.\n",
      "  df = df.append({'URL': image_src_temp, 'Labels': s}, ignore_index=True)\n"
     ]
    },
    {
     "name": "stdout",
     "output_type": "stream",
     "text": [
      "s\n",
      "Hair Water Sky Natural environment Beach People in nature Happy Sunlight Thigh Travel\n"
     ]
    },
    {
     "name": "stderr",
     "output_type": "stream",
     "text": [
      "/var/folders/f5/7w8rh9rx11938lxyvdr2g_940000gn/T/ipykernel_94711/975253196.py:27: FutureWarning: The frame.append method is deprecated and will be removed from pandas in a future version. Use pandas.concat instead.\n",
      "  df = df.append({'URL': image_src_temp, 'Labels': s}, ignore_index=True)\n"
     ]
    },
    {
     "name": "stdout",
     "output_type": "stream",
     "text": [
      "s\n",
      "Hair Sky Arm Shoulder Leg Ecoregion Comfort People in nature Natural environment Human body\n"
     ]
    },
    {
     "name": "stderr",
     "output_type": "stream",
     "text": [
      "/var/folders/f5/7w8rh9rx11938lxyvdr2g_940000gn/T/ipykernel_94711/975253196.py:27: FutureWarning: The frame.append method is deprecated and will be removed from pandas in a future version. Use pandas.concat instead.\n",
      "  df = df.append({'URL': image_src_temp, 'Labels': s}, ignore_index=True)\n"
     ]
    },
    {
     "name": "stdout",
     "output_type": "stream",
     "text": [
      "s\n",
      "Shoe Leg Sleeve Street fashion Waist Fashion design Knee Blazer Thigh Formal wear\n"
     ]
    },
    {
     "name": "stderr",
     "output_type": "stream",
     "text": [
      "/var/folders/f5/7w8rh9rx11938lxyvdr2g_940000gn/T/ipykernel_94711/975253196.py:27: FutureWarning: The frame.append method is deprecated and will be removed from pandas in a future version. Use pandas.concat instead.\n",
      "  df = df.append({'URL': image_src_temp, 'Labels': s}, ignore_index=True)\n"
     ]
    },
    {
     "name": "stdout",
     "output_type": "stream",
     "text": [
      "s\n",
      "Water Sky Fluid Cloud Liquid Natural landscape Horizon Beach Rectangle Landscape\n"
     ]
    },
    {
     "name": "stderr",
     "output_type": "stream",
     "text": [
      "/var/folders/f5/7w8rh9rx11938lxyvdr2g_940000gn/T/ipykernel_94711/975253196.py:27: FutureWarning: The frame.append method is deprecated and will be removed from pandas in a future version. Use pandas.concat instead.\n",
      "  df = df.append({'URL': image_src_temp, 'Labels': s}, ignore_index=True)\n"
     ]
    },
    {
     "name": "stdout",
     "output_type": "stream",
     "text": [
      "s\n",
      "Clothing Sky People in nature Leg Plant Human body Flash photography Knee Happy Thigh\n"
     ]
    },
    {
     "name": "stderr",
     "output_type": "stream",
     "text": [
      "/var/folders/f5/7w8rh9rx11938lxyvdr2g_940000gn/T/ipykernel_94711/975253196.py:27: FutureWarning: The frame.append method is deprecated and will be removed from pandas in a future version. Use pandas.concat instead.\n",
      "  df = df.append({'URL': image_src_temp, 'Labels': s}, ignore_index=True)\n"
     ]
    },
    {
     "name": "stdout",
     "output_type": "stream",
     "text": [
      "s\n",
      "Clothing Glasses Lip Sky Water Outerwear Cloud Shoulder Facial expression Sunglasses\n"
     ]
    },
    {
     "name": "stderr",
     "output_type": "stream",
     "text": [
      "/var/folders/f5/7w8rh9rx11938lxyvdr2g_940000gn/T/ipykernel_94711/975253196.py:27: FutureWarning: The frame.append method is deprecated and will be removed from pandas in a future version. Use pandas.concat instead.\n",
      "  df = df.append({'URL': image_src_temp, 'Labels': s}, ignore_index=True)\n"
     ]
    },
    {
     "name": "stdout",
     "output_type": "stream",
     "text": [
      "s\n",
      "Arm Photograph Muscle Leg Dress Flash photography Fashion Automotive design Thigh Font\n"
     ]
    },
    {
     "name": "stderr",
     "output_type": "stream",
     "text": [
      "/var/folders/f5/7w8rh9rx11938lxyvdr2g_940000gn/T/ipykernel_94711/975253196.py:27: FutureWarning: The frame.append method is deprecated and will be removed from pandas in a future version. Use pandas.concat instead.\n",
      "  df = df.append({'URL': image_src_temp, 'Labels': s}, ignore_index=True)\n"
     ]
    },
    {
     "name": "stdout",
     "output_type": "stream",
     "text": [
      "s\n",
      "Joint Skin Sky Smile Shoulder Arm Leg One-piece garment Plant Flash photography\n"
     ]
    },
    {
     "name": "stderr",
     "output_type": "stream",
     "text": [
      "/var/folders/f5/7w8rh9rx11938lxyvdr2g_940000gn/T/ipykernel_94711/975253196.py:27: FutureWarning: The frame.append method is deprecated and will be removed from pandas in a future version. Use pandas.concat instead.\n",
      "  df = df.append({'URL': image_src_temp, 'Labels': s}, ignore_index=True)\n"
     ]
    },
    {
     "name": "stdout",
     "output_type": "stream",
     "text": [
      "s\n",
      "Hair Joint Hand Arm Shoulder Leg Neck Human body Flash photography Waist\n"
     ]
    },
    {
     "name": "stderr",
     "output_type": "stream",
     "text": [
      "/var/folders/f5/7w8rh9rx11938lxyvdr2g_940000gn/T/ipykernel_94711/975253196.py:27: FutureWarning: The frame.append method is deprecated and will be removed from pandas in a future version. Use pandas.concat instead.\n",
      "  df = df.append({'URL': image_src_temp, 'Labels': s}, ignore_index=True)\n"
     ]
    },
    {
     "name": "stdout",
     "output_type": "stream",
     "text": [
      "s\n",
      "Clothing Joint Hand Shoe Outerwear Arm Shoulder Leg Shorts Muscle\n"
     ]
    },
    {
     "name": "stderr",
     "output_type": "stream",
     "text": [
      "/var/folders/f5/7w8rh9rx11938lxyvdr2g_940000gn/T/ipykernel_94711/975253196.py:27: FutureWarning: The frame.append method is deprecated and will be removed from pandas in a future version. Use pandas.concat instead.\n",
      "  df = df.append({'URL': image_src_temp, 'Labels': s}, ignore_index=True)\n"
     ]
    },
    {
     "name": "stdout",
     "output_type": "stream",
     "text": [
      "s\n",
      "Joint Shoulder Comfort Neck Sleeve Knee Waist Thigh Elbow Fashion design\n"
     ]
    },
    {
     "name": "stderr",
     "output_type": "stream",
     "text": [
      "/var/folders/f5/7w8rh9rx11938lxyvdr2g_940000gn/T/ipykernel_94711/975253196.py:27: FutureWarning: The frame.append method is deprecated and will be removed from pandas in a future version. Use pandas.concat instead.\n",
      "  df = df.append({'URL': image_src_temp, 'Labels': s}, ignore_index=True)\n"
     ]
    },
    {
     "name": "stdout",
     "output_type": "stream",
     "text": [
      "s\n",
      "Cloud Sky Plant Branch Twig Vegetation Natural landscape Wood Grass Tints and shades\n"
     ]
    },
    {
     "name": "stderr",
     "output_type": "stream",
     "text": [
      "/var/folders/f5/7w8rh9rx11938lxyvdr2g_940000gn/T/ipykernel_94711/975253196.py:27: FutureWarning: The frame.append method is deprecated and will be removed from pandas in a future version. Use pandas.concat instead.\n",
      "  df = df.append({'URL': image_src_temp, 'Labels': s}, ignore_index=True)\n"
     ]
    },
    {
     "name": "stdout",
     "output_type": "stream",
     "text": [
      "s\n",
      "Sky Plant Cloud Building Neighbourhood Public space Font Real estate Facade Commercial building\n"
     ]
    },
    {
     "name": "stderr",
     "output_type": "stream",
     "text": [
      "/var/folders/f5/7w8rh9rx11938lxyvdr2g_940000gn/T/ipykernel_94711/975253196.py:27: FutureWarning: The frame.append method is deprecated and will be removed from pandas in a future version. Use pandas.concat instead.\n",
      "  df = df.append({'URL': image_src_temp, 'Labels': s}, ignore_index=True)\n"
     ]
    },
    {
     "name": "stdout",
     "output_type": "stream",
     "text": [
      "s\n",
      "Sleeve T-shirt Rectangle Font Active shirt Pattern Magenta Electric blue Sportswear Brand\n"
     ]
    },
    {
     "name": "stderr",
     "output_type": "stream",
     "text": [
      "/var/folders/f5/7w8rh9rx11938lxyvdr2g_940000gn/T/ipykernel_94711/975253196.py:27: FutureWarning: The frame.append method is deprecated and will be removed from pandas in a future version. Use pandas.concat instead.\n",
      "  df = df.append({'URL': image_src_temp, 'Labels': s}, ignore_index=True)\n"
     ]
    },
    {
     "name": "stdout",
     "output_type": "stream",
     "text": [
      "s\n",
      "Joint Lip Shoulder Eyebrow Eye Eyelash Comfort Azure Neck Human body\n"
     ]
    },
    {
     "name": "stderr",
     "output_type": "stream",
     "text": [
      "/var/folders/f5/7w8rh9rx11938lxyvdr2g_940000gn/T/ipykernel_94711/975253196.py:27: FutureWarning: The frame.append method is deprecated and will be removed from pandas in a future version. Use pandas.concat instead.\n",
      "  df = df.append({'URL': image_src_temp, 'Labels': s}, ignore_index=True)\n"
     ]
    },
    {
     "name": "stdout",
     "output_type": "stream",
     "text": [
      "s\n",
      "Outerwear Arm Shoulder Coat Cap Neck Sleeve Waist Street fashion Gesture\n"
     ]
    },
    {
     "name": "stderr",
     "output_type": "stream",
     "text": [
      "/var/folders/f5/7w8rh9rx11938lxyvdr2g_940000gn/T/ipykernel_94711/975253196.py:27: FutureWarning: The frame.append method is deprecated and will be removed from pandas in a future version. Use pandas.concat instead.\n",
      "  df = df.append({'URL': image_src_temp, 'Labels': s}, ignore_index=True)\n"
     ]
    },
    {
     "name": "stdout",
     "output_type": "stream",
     "text": [
      "s\n",
      "Outerwear Shoulder Vision care Sunglasses Dress shirt Street fashion Eyewear Textile Sleeve Standing\n"
     ]
    },
    {
     "name": "stderr",
     "output_type": "stream",
     "text": [
      "/var/folders/f5/7w8rh9rx11938lxyvdr2g_940000gn/T/ipykernel_94711/975253196.py:27: FutureWarning: The frame.append method is deprecated and will be removed from pandas in a future version. Use pandas.concat instead.\n",
      "  df = df.append({'URL': image_src_temp, 'Labels': s}, ignore_index=True)\n"
     ]
    },
    {
     "name": "stdout",
     "output_type": "stream",
     "text": [
      "s\n",
      "Neck Sleeve Yellow Flash photography Thigh Waist Black hair Tableware Fashion design Trunk\n"
     ]
    },
    {
     "name": "stderr",
     "output_type": "stream",
     "text": [
      "/var/folders/f5/7w8rh9rx11938lxyvdr2g_940000gn/T/ipykernel_94711/975253196.py:27: FutureWarning: The frame.append method is deprecated and will be removed from pandas in a future version. Use pandas.concat instead.\n",
      "  df = df.append({'URL': image_src_temp, 'Labels': s}, ignore_index=True)\n"
     ]
    },
    {
     "name": "stdout",
     "output_type": "stream",
     "text": [
      "s\n",
      "Hairstyle Shoulder White Hood Eyelash Automotive design Automotive lighting Comfort Window Flash photography\n"
     ]
    },
    {
     "name": "stderr",
     "output_type": "stream",
     "text": [
      "/var/folders/f5/7w8rh9rx11938lxyvdr2g_940000gn/T/ipykernel_94711/975253196.py:27: FutureWarning: The frame.append method is deprecated and will be removed from pandas in a future version. Use pandas.concat instead.\n",
      "  df = df.append({'URL': image_src_temp, 'Labels': s}, ignore_index=True)\n"
     ]
    },
    {
     "name": "stdout",
     "output_type": "stream",
     "text": [
      "s\n",
      "Font Electric blue Carmine Magenta Fashion accessory Graphics Illustration Brand Chair Logo\n"
     ]
    },
    {
     "name": "stderr",
     "output_type": "stream",
     "text": [
      "/var/folders/f5/7w8rh9rx11938lxyvdr2g_940000gn/T/ipykernel_94711/975253196.py:27: FutureWarning: The frame.append method is deprecated and will be removed from pandas in a future version. Use pandas.concat instead.\n",
      "  df = df.append({'URL': image_src_temp, 'Labels': s}, ignore_index=True)\n"
     ]
    },
    {
     "name": "stdout",
     "output_type": "stream",
     "text": [
      "s\n",
      "Clothing Joint Hand Outerwear Shoulder Arm Leg Muscle Human body Knee\n"
     ]
    },
    {
     "name": "stderr",
     "output_type": "stream",
     "text": [
      "/var/folders/f5/7w8rh9rx11938lxyvdr2g_940000gn/T/ipykernel_94711/975253196.py:27: FutureWarning: The frame.append method is deprecated and will be removed from pandas in a future version. Use pandas.concat instead.\n",
      "  df = df.append({'URL': image_src_temp, 'Labels': s}, ignore_index=True)\n"
     ]
    },
    {
     "name": "stdout",
     "output_type": "stream",
     "text": [
      "s\n",
      "Nose Face Cheek Skin Chin Eyebrow Eye Mouth Eyelash Jaw\n"
     ]
    },
    {
     "name": "stderr",
     "output_type": "stream",
     "text": [
      "/var/folders/f5/7w8rh9rx11938lxyvdr2g_940000gn/T/ipykernel_94711/975253196.py:27: FutureWarning: The frame.append method is deprecated and will be removed from pandas in a future version. Use pandas.concat instead.\n",
      "  df = df.append({'URL': image_src_temp, 'Labels': s}, ignore_index=True)\n"
     ]
    },
    {
     "name": "stdout",
     "output_type": "stream",
     "text": [
      "s\n",
      "Joint Shoulder Eyelash Neck Jaw Sleeve Comfort Elbow Layered hair Black hair\n"
     ]
    },
    {
     "name": "stderr",
     "output_type": "stream",
     "text": [
      "/var/folders/f5/7w8rh9rx11938lxyvdr2g_940000gn/T/ipykernel_94711/975253196.py:27: FutureWarning: The frame.append method is deprecated and will be removed from pandas in a future version. Use pandas.concat instead.\n",
      "  df = df.append({'URL': image_src_temp, 'Labels': s}, ignore_index=True)\n"
     ]
    },
    {
     "name": "stdout",
     "output_type": "stream",
     "text": [
      "s\n",
      "Joint Skin Lip Hand Shoulder White Muscle Human body Neck Sleeve\n"
     ]
    },
    {
     "name": "stderr",
     "output_type": "stream",
     "text": [
      "/var/folders/f5/7w8rh9rx11938lxyvdr2g_940000gn/T/ipykernel_94711/975253196.py:27: FutureWarning: The frame.append method is deprecated and will be removed from pandas in a future version. Use pandas.concat instead.\n",
      "  df = df.append({'URL': image_src_temp, 'Labels': s}, ignore_index=True)\n"
     ]
    },
    {
     "name": "stdout",
     "output_type": "stream",
     "text": [
      "s\n",
      "Table Gold Lamp Shade Headgear Wood Rectangle Tints and shades Art Ceiling\n"
     ]
    },
    {
     "name": "stderr",
     "output_type": "stream",
     "text": [
      "/var/folders/f5/7w8rh9rx11938lxyvdr2g_940000gn/T/ipykernel_94711/975253196.py:27: FutureWarning: The frame.append method is deprecated and will be removed from pandas in a future version. Use pandas.concat instead.\n",
      "  df = df.append({'URL': image_src_temp, 'Labels': s}, ignore_index=True)\n"
     ]
    },
    {
     "name": "stdout",
     "output_type": "stream",
     "text": [
      "s\n",
      "Lip Eye Eyelash Purple Human body Gesture Street fashion Black hair Happy Jacket\n"
     ]
    },
    {
     "name": "stderr",
     "output_type": "stream",
     "text": [
      "/var/folders/f5/7w8rh9rx11938lxyvdr2g_940000gn/T/ipykernel_94711/975253196.py:27: FutureWarning: The frame.append method is deprecated and will be removed from pandas in a future version. Use pandas.concat instead.\n",
      "  df = df.append({'URL': image_src_temp, 'Labels': s}, ignore_index=True)\n"
     ]
    },
    {
     "name": "stdout",
     "output_type": "stream",
     "text": [
      "s\n",
      "Joint Hand White Shorts Sleeve Thigh Gesture Street fashion Collar Blazer\n"
     ]
    },
    {
     "name": "stderr",
     "output_type": "stream",
     "text": [
      "/var/folders/f5/7w8rh9rx11938lxyvdr2g_940000gn/T/ipykernel_94711/975253196.py:27: FutureWarning: The frame.append method is deprecated and will be removed from pandas in a future version. Use pandas.concat instead.\n",
      "  df = df.append({'URL': image_src_temp, 'Labels': s}, ignore_index=True)\n"
     ]
    },
    {
     "name": "stdout",
     "output_type": "stream",
     "text": [
      "s\n",
      "White Orange Neck Sleeve Waist Collar Luggage and bags Red Shoulder bag Fashion design\n"
     ]
    },
    {
     "name": "stderr",
     "output_type": "stream",
     "text": [
      "/var/folders/f5/7w8rh9rx11938lxyvdr2g_940000gn/T/ipykernel_94711/975253196.py:27: FutureWarning: The frame.append method is deprecated and will be removed from pandas in a future version. Use pandas.concat instead.\n",
      "  df = df.append({'URL': image_src_temp, 'Labels': s}, ignore_index=True)\n"
     ]
    },
    {
     "name": "stdout",
     "output_type": "stream",
     "text": [
      "s\n",
      "Lip Mouth Muscle Eyelash Jaw Neck Gesture Black hair Long hair Flash photography\n"
     ]
    },
    {
     "name": "stderr",
     "output_type": "stream",
     "text": [
      "/var/folders/f5/7w8rh9rx11938lxyvdr2g_940000gn/T/ipykernel_94711/975253196.py:27: FutureWarning: The frame.append method is deprecated and will be removed from pandas in a future version. Use pandas.concat instead.\n",
      "  df = df.append({'URL': image_src_temp, 'Labels': s}, ignore_index=True)\n"
     ]
    },
    {
     "name": "stdout",
     "output_type": "stream",
     "text": [
      "s\n",
      "Font Darkness Brand Photo caption Graphics Logo Monochrome photography\n"
     ]
    },
    {
     "name": "stderr",
     "output_type": "stream",
     "text": [
      "/var/folders/f5/7w8rh9rx11938lxyvdr2g_940000gn/T/ipykernel_94711/975253196.py:27: FutureWarning: The frame.append method is deprecated and will be removed from pandas in a future version. Use pandas.concat instead.\n",
      "  df = df.append({'URL': image_src_temp, 'Labels': s}, ignore_index=True)\n"
     ]
    },
    {
     "name": "stdout",
     "output_type": "stream",
     "text": [
      "s\n",
      "Hair Face Jeans Hand Shirt Shorts Hairstyle Dress shirt Fashion Human body\n"
     ]
    },
    {
     "name": "stderr",
     "output_type": "stream",
     "text": [
      "/var/folders/f5/7w8rh9rx11938lxyvdr2g_940000gn/T/ipykernel_94711/975253196.py:27: FutureWarning: The frame.append method is deprecated and will be removed from pandas in a future version. Use pandas.concat instead.\n",
      "  df = df.append({'URL': image_src_temp, 'Labels': s}, ignore_index=True)\n"
     ]
    },
    {
     "name": "stdout",
     "output_type": "stream",
     "text": [
      "s\n",
      "Hair Jeans Street fashion Neck Sleeve Waist Grey Collar Knee Fashion design\n"
     ]
    },
    {
     "name": "stderr",
     "output_type": "stream",
     "text": [
      "/var/folders/f5/7w8rh9rx11938lxyvdr2g_940000gn/T/ipykernel_94711/975253196.py:27: FutureWarning: The frame.append method is deprecated and will be removed from pandas in a future version. Use pandas.concat instead.\n",
      "  df = df.append({'URL': image_src_temp, 'Labels': s}, ignore_index=True)\n"
     ]
    },
    {
     "name": "stdout",
     "output_type": "stream",
     "text": [
      "s\n",
      "White Leg Fashion Human body Dress shirt Neck Sleeve Comfort Thigh Collar\n"
     ]
    },
    {
     "name": "stderr",
     "output_type": "stream",
     "text": [
      "/var/folders/f5/7w8rh9rx11938lxyvdr2g_940000gn/T/ipykernel_94711/975253196.py:27: FutureWarning: The frame.append method is deprecated and will be removed from pandas in a future version. Use pandas.concat instead.\n",
      "  df = df.append({'URL': image_src_temp, 'Labels': s}, ignore_index=True)\n"
     ]
    },
    {
     "name": "stdout",
     "output_type": "stream",
     "text": [
      "s\n",
      "Hair Face Joint Lip Hairstyle Shoulder Neck Flash photography Eyelash Sleeve\n"
     ]
    },
    {
     "name": "stderr",
     "output_type": "stream",
     "text": [
      "/var/folders/f5/7w8rh9rx11938lxyvdr2g_940000gn/T/ipykernel_94711/975253196.py:27: FutureWarning: The frame.append method is deprecated and will be removed from pandas in a future version. Use pandas.concat instead.\n",
      "  df = df.append({'URL': image_src_temp, 'Labels': s}, ignore_index=True)\n"
     ]
    },
    {
     "name": "stdout",
     "output_type": "stream",
     "text": [
      "s\n",
      "Shoe Leg Neck Sleeve Waist Street fashion Thigh Collar Knee Cool\n"
     ]
    },
    {
     "name": "stderr",
     "output_type": "stream",
     "text": [
      "/var/folders/f5/7w8rh9rx11938lxyvdr2g_940000gn/T/ipykernel_94711/975253196.py:27: FutureWarning: The frame.append method is deprecated and will be removed from pandas in a future version. Use pandas.concat instead.\n",
      "  df = df.append({'URL': image_src_temp, 'Labels': s}, ignore_index=True)\n"
     ]
    },
    {
     "name": "stdout",
     "output_type": "stream",
     "text": [
      "s\n",
      "Clothing Outerwear Hairstyle White Fashion Street fashion Neck Textile Sleeve Grey\n"
     ]
    },
    {
     "name": "stderr",
     "output_type": "stream",
     "text": [
      "/var/folders/f5/7w8rh9rx11938lxyvdr2g_940000gn/T/ipykernel_94711/975253196.py:27: FutureWarning: The frame.append method is deprecated and will be removed from pandas in a future version. Use pandas.concat instead.\n",
      "  df = df.append({'URL': image_src_temp, 'Labels': s}, ignore_index=True)\n"
     ]
    },
    {
     "name": "stdout",
     "output_type": "stream",
     "text": [
      "s\n",
      "Outerwear White Neck Fashion Sleeve Textile Street fashion Dress shirt Eyelash Collar\n"
     ]
    },
    {
     "name": "stderr",
     "output_type": "stream",
     "text": [
      "/var/folders/f5/7w8rh9rx11938lxyvdr2g_940000gn/T/ipykernel_94711/975253196.py:27: FutureWarning: The frame.append method is deprecated and will be removed from pandas in a future version. Use pandas.concat instead.\n",
      "  df = df.append({'URL': image_src_temp, 'Labels': s}, ignore_index=True)\n"
     ]
    },
    {
     "name": "stdout",
     "output_type": "stream",
     "text": [
      "s\n",
      "Joint yoga pant Active pants Sleeve Waist Knee Thigh Flooring Sportswear Wood\n"
     ]
    },
    {
     "name": "stderr",
     "output_type": "stream",
     "text": [
      "/var/folders/f5/7w8rh9rx11938lxyvdr2g_940000gn/T/ipykernel_94711/975253196.py:27: FutureWarning: The frame.append method is deprecated and will be removed from pandas in a future version. Use pandas.concat instead.\n",
      "  df = df.append({'URL': image_src_temp, 'Labels': s}, ignore_index=True)\n"
     ]
    },
    {
     "name": "stdout",
     "output_type": "stream",
     "text": [
      "s\n",
      "Joint Sheath dress Lip Hairstyle Shoulder Arm Muscle Leg Fashion Dress\n"
     ]
    },
    {
     "name": "stderr",
     "output_type": "stream",
     "text": [
      "/var/folders/f5/7w8rh9rx11938lxyvdr2g_940000gn/T/ipykernel_94711/975253196.py:27: FutureWarning: The frame.append method is deprecated and will be removed from pandas in a future version. Use pandas.concat instead.\n",
      "  df = df.append({'URL': image_src_temp, 'Labels': s}, ignore_index=True)\n"
     ]
    },
    {
     "name": "stdout",
     "output_type": "stream",
     "text": [
      "s\n",
      "Shoulder Product Neck Textile Sleeve Grey Collar Waist Denim Sportswear\n"
     ]
    },
    {
     "name": "stderr",
     "output_type": "stream",
     "text": [
      "/var/folders/f5/7w8rh9rx11938lxyvdr2g_940000gn/T/ipykernel_94711/975253196.py:27: FutureWarning: The frame.append method is deprecated and will be removed from pandas in a future version. Use pandas.concat instead.\n",
      "  df = df.append({'URL': image_src_temp, 'Labels': s}, ignore_index=True)\n"
     ]
    },
    {
     "name": "stdout",
     "output_type": "stream",
     "text": [
      "s\n",
      "Font Brand\n"
     ]
    },
    {
     "name": "stderr",
     "output_type": "stream",
     "text": [
      "/var/folders/f5/7w8rh9rx11938lxyvdr2g_940000gn/T/ipykernel_94711/975253196.py:27: FutureWarning: The frame.append method is deprecated and will be removed from pandas in a future version. Use pandas.concat instead.\n",
      "  df = df.append({'URL': image_src_temp, 'Labels': s}, ignore_index=True)\n"
     ]
    },
    {
     "name": "stdout",
     "output_type": "stream",
     "text": [
      "s\n",
      "Font Brand Electric blue Logo Magenta Rectangle\n"
     ]
    },
    {
     "name": "stderr",
     "output_type": "stream",
     "text": [
      "/var/folders/f5/7w8rh9rx11938lxyvdr2g_940000gn/T/ipykernel_94711/975253196.py:27: FutureWarning: The frame.append method is deprecated and will be removed from pandas in a future version. Use pandas.concat instead.\n",
      "  df = df.append({'URL': image_src_temp, 'Labels': s}, ignore_index=True)\n"
     ]
    },
    {
     "name": "stdout",
     "output_type": "stream",
     "text": [
      "s\n",
      "Flower Sky Plant People in nature Dress shirt Nature Green Natural landscape Natural environment Mountain\n"
     ]
    },
    {
     "name": "stderr",
     "output_type": "stream",
     "text": [
      "/var/folders/f5/7w8rh9rx11938lxyvdr2g_940000gn/T/ipykernel_94711/975253196.py:27: FutureWarning: The frame.append method is deprecated and will be removed from pandas in a future version. Use pandas.concat instead.\n",
      "  df = df.append({'URL': image_src_temp, 'Labels': s}, ignore_index=True)\n"
     ]
    },
    {
     "name": "stdout",
     "output_type": "stream",
     "text": [
      "s\n",
      "Joint Shoulder White Blue Neck Fashion Textile Sleeve Waist Street fashion\n"
     ]
    },
    {
     "name": "stderr",
     "output_type": "stream",
     "text": [
      "/var/folders/f5/7w8rh9rx11938lxyvdr2g_940000gn/T/ipykernel_94711/975253196.py:27: FutureWarning: The frame.append method is deprecated and will be removed from pandas in a future version. Use pandas.concat instead.\n",
      "  df = df.append({'URL': image_src_temp, 'Labels': s}, ignore_index=True)\n"
     ]
    },
    {
     "name": "stdout",
     "output_type": "stream",
     "text": [
      "s\n",
      "Face Joint Lip Chin Shoulder Eyebrow Muscle Eyelash Neck Fashion\n"
     ]
    },
    {
     "name": "stderr",
     "output_type": "stream",
     "text": [
      "/var/folders/f5/7w8rh9rx11938lxyvdr2g_940000gn/T/ipykernel_94711/975253196.py:27: FutureWarning: The frame.append method is deprecated and will be removed from pandas in a future version. Use pandas.concat instead.\n",
      "  df = df.append({'URL': image_src_temp, 'Labels': s}, ignore_index=True)\n"
     ]
    },
    {
     "name": "stdout",
     "output_type": "stream",
     "text": [
      "s\n",
      "Outerwear Tartan Blue Dress shirt Textile Fashion Sleeve Plaid Waist Street fashion\n"
     ]
    },
    {
     "name": "stderr",
     "output_type": "stream",
     "text": [
      "/var/folders/f5/7w8rh9rx11938lxyvdr2g_940000gn/T/ipykernel_94711/975253196.py:27: FutureWarning: The frame.append method is deprecated and will be removed from pandas in a future version. Use pandas.concat instead.\n",
      "  df = df.append({'URL': image_src_temp, 'Labels': s}, ignore_index=True)\n"
     ]
    },
    {
     "name": "stdout",
     "output_type": "stream",
     "text": [
      "s\n",
      "Clothing Joint Outerwear Hand Shoulder Arm Photograph Shirt Green Blue\n"
     ]
    },
    {
     "name": "stderr",
     "output_type": "stream",
     "text": [
      "/var/folders/f5/7w8rh9rx11938lxyvdr2g_940000gn/T/ipykernel_94711/975253196.py:27: FutureWarning: The frame.append method is deprecated and will be removed from pandas in a future version. Use pandas.concat instead.\n",
      "  df = df.append({'URL': image_src_temp, 'Labels': s}, ignore_index=True)\n"
     ]
    },
    {
     "name": "stdout",
     "output_type": "stream",
     "text": [
      "s\n",
      "Joint Outerwear Green One-piece garment Fashion Neck Sleeve Standing Waist Gesture\n"
     ]
    },
    {
     "name": "stderr",
     "output_type": "stream",
     "text": [
      "/var/folders/f5/7w8rh9rx11938lxyvdr2g_940000gn/T/ipykernel_94711/975253196.py:27: FutureWarning: The frame.append method is deprecated and will be removed from pandas in a future version. Use pandas.concat instead.\n",
      "  df = df.append({'URL': image_src_temp, 'Labels': s}, ignore_index=True)\n"
     ]
    },
    {
     "name": "stdout",
     "output_type": "stream",
     "text": [
      "s\n",
      "Cloud Outerwear White Sky Neck Sleeve Grey Collar Font Fashion design\n"
     ]
    },
    {
     "name": "stderr",
     "output_type": "stream",
     "text": [
      "/var/folders/f5/7w8rh9rx11938lxyvdr2g_940000gn/T/ipykernel_94711/975253196.py:27: FutureWarning: The frame.append method is deprecated and will be removed from pandas in a future version. Use pandas.concat instead.\n",
      "  df = df.append({'URL': image_src_temp, 'Labels': s}, ignore_index=True)\n"
     ]
    },
    {
     "name": "stdout",
     "output_type": "stream",
     "text": [
      "s\n",
      "Photograph Light Black Tartan Orange Textile Sleeve Yellow Plaid Baby & toddler clothing\n"
     ]
    },
    {
     "name": "stderr",
     "output_type": "stream",
     "text": [
      "/var/folders/f5/7w8rh9rx11938lxyvdr2g_940000gn/T/ipykernel_94711/975253196.py:27: FutureWarning: The frame.append method is deprecated and will be removed from pandas in a future version. Use pandas.concat instead.\n",
      "  df = df.append({'URL': image_src_temp, 'Labels': s}, ignore_index=True)\n"
     ]
    },
    {
     "name": "stdout",
     "output_type": "stream",
     "text": [
      "s\n",
      "Clothing Skin Lip Hairstyle Shoulder Eyebrow Facial expression Eyelash Organ Neck\n"
     ]
    },
    {
     "name": "stderr",
     "output_type": "stream",
     "text": [
      "/var/folders/f5/7w8rh9rx11938lxyvdr2g_940000gn/T/ipykernel_94711/975253196.py:27: FutureWarning: The frame.append method is deprecated and will be removed from pandas in a future version. Use pandas.concat instead.\n",
      "  df = df.append({'URL': image_src_temp, 'Labels': s}, ignore_index=True)\n"
     ]
    },
    {
     "name": "stdout",
     "output_type": "stream",
     "text": [
      "s\n",
      "Leg Flash photography Neck Sleeve Comfort Knee Waist Thigh Elbow Blazer\n"
     ]
    },
    {
     "name": "stderr",
     "output_type": "stream",
     "text": [
      "/var/folders/f5/7w8rh9rx11938lxyvdr2g_940000gn/T/ipykernel_94711/975253196.py:27: FutureWarning: The frame.append method is deprecated and will be removed from pandas in a future version. Use pandas.concat instead.\n",
      "  df = df.append({'URL': image_src_temp, 'Labels': s}, ignore_index=True)\n"
     ]
    },
    {
     "name": "stdout",
     "output_type": "stream",
     "text": [
      "s\n",
      "Hair Suit trousers Eye Leg Dress shirt Neck Human body Sleeve Comfort Smile\n"
     ]
    },
    {
     "name": "stderr",
     "output_type": "stream",
     "text": [
      "/var/folders/f5/7w8rh9rx11938lxyvdr2g_940000gn/T/ipykernel_94711/975253196.py:27: FutureWarning: The frame.append method is deprecated and will be removed from pandas in a future version. Use pandas.concat instead.\n",
      "  df = df.append({'URL': image_src_temp, 'Labels': s}, ignore_index=True)\n"
     ]
    },
    {
     "name": "stdout",
     "output_type": "stream",
     "text": [
      "s\n",
      "Joint Hand Leg Shorts Product Human body Neck Sleeve Waist Knee\n"
     ]
    },
    {
     "name": "stderr",
     "output_type": "stream",
     "text": [
      "/var/folders/f5/7w8rh9rx11938lxyvdr2g_940000gn/T/ipykernel_94711/975253196.py:27: FutureWarning: The frame.append method is deprecated and will be removed from pandas in a future version. Use pandas.concat instead.\n",
      "  df = df.append({'URL': image_src_temp, 'Labels': s}, ignore_index=True)\n"
     ]
    },
    {
     "name": "stdout",
     "output_type": "stream",
     "text": [
      "s\n",
      "Outerwear Dress shirt Sleeve Tie Gesture Grey Collar Font Handwriting Suit\n"
     ]
    },
    {
     "name": "stderr",
     "output_type": "stream",
     "text": [
      "/var/folders/f5/7w8rh9rx11938lxyvdr2g_940000gn/T/ipykernel_94711/975253196.py:27: FutureWarning: The frame.append method is deprecated and will be removed from pandas in a future version. Use pandas.concat instead.\n",
      "  df = df.append({'URL': image_src_temp, 'Labels': s}, ignore_index=True)\n"
     ]
    },
    {
     "name": "stdout",
     "output_type": "stream",
     "text": [
      "s\n",
      "Face Hair Leg Product Human body Sleeve Waist Knee Thigh Grey\n"
     ]
    },
    {
     "name": "stderr",
     "output_type": "stream",
     "text": [
      "/var/folders/f5/7w8rh9rx11938lxyvdr2g_940000gn/T/ipykernel_94711/975253196.py:27: FutureWarning: The frame.append method is deprecated and will be removed from pandas in a future version. Use pandas.concat instead.\n",
      "  df = df.append({'URL': image_src_temp, 'Labels': s}, ignore_index=True)\n"
     ]
    },
    {
     "name": "stdout",
     "output_type": "stream",
     "text": [
      "s\n",
      "Human body Flash photography Neck Sleeve Waist Gesture Elbow Gown Trunk Chest\n"
     ]
    },
    {
     "name": "stderr",
     "output_type": "stream",
     "text": [
      "/var/folders/f5/7w8rh9rx11938lxyvdr2g_940000gn/T/ipykernel_94711/975253196.py:27: FutureWarning: The frame.append method is deprecated and will be removed from pandas in a future version. Use pandas.concat instead.\n",
      "  df = df.append({'URL': image_src_temp, 'Labels': s}, ignore_index=True)\n"
     ]
    },
    {
     "name": "stdout",
     "output_type": "stream",
     "text": [
      "s\n",
      "Leg Sleeve Beige Knee Overcoat Waist Thigh Street fashion Fashion design Blazer\n"
     ]
    },
    {
     "name": "stderr",
     "output_type": "stream",
     "text": [
      "/var/folders/f5/7w8rh9rx11938lxyvdr2g_940000gn/T/ipykernel_94711/975253196.py:27: FutureWarning: The frame.append method is deprecated and will be removed from pandas in a future version. Use pandas.concat instead.\n",
      "  df = df.append({'URL': image_src_temp, 'Labels': s}, ignore_index=True)\n"
     ]
    },
    {
     "name": "stdout",
     "output_type": "stream",
     "text": [
      "s\n",
      "Suit trousers Shoulder Dress shirt Neck Sleeve Street fashion Collar Waist Fashion design Blazer\n"
     ]
    },
    {
     "name": "stderr",
     "output_type": "stream",
     "text": [
      "/var/folders/f5/7w8rh9rx11938lxyvdr2g_940000gn/T/ipykernel_94711/975253196.py:27: FutureWarning: The frame.append method is deprecated and will be removed from pandas in a future version. Use pandas.concat instead.\n",
      "  df = df.append({'URL': image_src_temp, 'Labels': s}, ignore_index=True)\n"
     ]
    },
    {
     "name": "stdout",
     "output_type": "stream",
     "text": [
      "s\n",
      "Shoulder Neck Bag Dress Sleeve Gesture Grey Headgear Waist Armour\n"
     ]
    },
    {
     "name": "stderr",
     "output_type": "stream",
     "text": [
      "/var/folders/f5/7w8rh9rx11938lxyvdr2g_940000gn/T/ipykernel_94711/975253196.py:27: FutureWarning: The frame.append method is deprecated and will be removed from pandas in a future version. Use pandas.concat instead.\n",
      "  df = df.append({'URL': image_src_temp, 'Labels': s}, ignore_index=True)\n"
     ]
    },
    {
     "name": "stdout",
     "output_type": "stream",
     "text": [
      "s\n",
      "Joint Skin Lip Outerwear Shoulder Facial expression White Neck Eyelash Sleeve\n"
     ]
    },
    {
     "name": "stderr",
     "output_type": "stream",
     "text": [
      "/var/folders/f5/7w8rh9rx11938lxyvdr2g_940000gn/T/ipykernel_94711/975253196.py:27: FutureWarning: The frame.append method is deprecated and will be removed from pandas in a future version. Use pandas.concat instead.\n",
      "  df = df.append({'URL': image_src_temp, 'Labels': s}, ignore_index=True)\n"
     ]
    },
    {
     "name": "stdout",
     "output_type": "stream",
     "text": [
      "s\n",
      "Arm Human body Flash photography Waist Sleeve Thigh Gesture Happy Abdomen Trunk\n"
     ]
    },
    {
     "name": "stderr",
     "output_type": "stream",
     "text": [
      "/var/folders/f5/7w8rh9rx11938lxyvdr2g_940000gn/T/ipykernel_94711/975253196.py:27: FutureWarning: The frame.append method is deprecated and will be removed from pandas in a future version. Use pandas.concat instead.\n",
      "  df = df.append({'URL': image_src_temp, 'Labels': s}, ignore_index=True)\n"
     ]
    },
    {
     "name": "stdout",
     "output_type": "stream",
     "text": [
      "s\n",
      "Flower Plant Ecoregion Petal Art paint Paint Botany Painting Creative arts Art\n"
     ]
    },
    {
     "name": "stderr",
     "output_type": "stream",
     "text": [
      "/var/folders/f5/7w8rh9rx11938lxyvdr2g_940000gn/T/ipykernel_94711/975253196.py:27: FutureWarning: The frame.append method is deprecated and will be removed from pandas in a future version. Use pandas.concat instead.\n",
      "  df = df.append({'URL': image_src_temp, 'Labels': s}, ignore_index=True)\n"
     ]
    },
    {
     "name": "stdout",
     "output_type": "stream",
     "text": [
      "s\n",
      "Eyelash Flash photography Neck Sleeve Gesture Waist Makeover Happy Thigh Fashion design\n"
     ]
    },
    {
     "name": "stderr",
     "output_type": "stream",
     "text": [
      "/var/folders/f5/7w8rh9rx11938lxyvdr2g_940000gn/T/ipykernel_94711/975253196.py:27: FutureWarning: The frame.append method is deprecated and will be removed from pandas in a future version. Use pandas.concat instead.\n",
      "  df = df.append({'URL': image_src_temp, 'Labels': s}, ignore_index=True)\n"
     ]
    },
    {
     "name": "stdout",
     "output_type": "stream",
     "text": [
      "s\n",
      "Forehead Hair Nose Cheek Skin Lip Chin Smile Hairstyle Eyebrow\n"
     ]
    },
    {
     "name": "stderr",
     "output_type": "stream",
     "text": [
      "/var/folders/f5/7w8rh9rx11938lxyvdr2g_940000gn/T/ipykernel_94711/975253196.py:27: FutureWarning: The frame.append method is deprecated and will be removed from pandas in a future version. Use pandas.concat instead.\n",
      "  df = df.append({'URL': image_src_temp, 'Labels': s}, ignore_index=True)\n"
     ]
    },
    {
     "name": "stdout",
     "output_type": "stream",
     "text": [
      "s\n",
      "Clothing Hair Joint Outerwear White Human body Sleeve Street fashion Standing Waist\n"
     ]
    },
    {
     "name": "stderr",
     "output_type": "stream",
     "text": [
      "/var/folders/f5/7w8rh9rx11938lxyvdr2g_940000gn/T/ipykernel_94711/975253196.py:27: FutureWarning: The frame.append method is deprecated and will be removed from pandas in a future version. Use pandas.concat instead.\n",
      "  df = df.append({'URL': image_src_temp, 'Labels': s}, ignore_index=True)\n"
     ]
    },
    {
     "name": "stdout",
     "output_type": "stream",
     "text": [
      "s\n",
      "Hair Face Joint Skin Head Hairstyle Arm Shoulder Muscle Dress\n"
     ]
    },
    {
     "name": "stderr",
     "output_type": "stream",
     "text": [
      "/var/folders/f5/7w8rh9rx11938lxyvdr2g_940000gn/T/ipykernel_94711/975253196.py:27: FutureWarning: The frame.append method is deprecated and will be removed from pandas in a future version. Use pandas.concat instead.\n",
      "  df = df.append({'URL': image_src_temp, 'Labels': s}, ignore_index=True)\n"
     ]
    },
    {
     "name": "stdout",
     "output_type": "stream",
     "text": [
      "s\n",
      "Plant Flower Plant community Tree Deciduous Terrestrial plant Grass Groundcover Shrub Flowering plant\n"
     ]
    },
    {
     "name": "stderr",
     "output_type": "stream",
     "text": [
      "/var/folders/f5/7w8rh9rx11938lxyvdr2g_940000gn/T/ipykernel_94711/975253196.py:27: FutureWarning: The frame.append method is deprecated and will be removed from pandas in a future version. Use pandas.concat instead.\n",
      "  df = df.append({'URL': image_src_temp, 'Labels': s}, ignore_index=True)\n"
     ]
    },
    {
     "name": "stdout",
     "output_type": "stream",
     "text": [
      "s\n",
      "Flash photography Happy Brassiere Gesture Thigh Comfort Font Long hair Waist Fashion design\n"
     ]
    },
    {
     "name": "stderr",
     "output_type": "stream",
     "text": [
      "/var/folders/f5/7w8rh9rx11938lxyvdr2g_940000gn/T/ipykernel_94711/975253196.py:27: FutureWarning: The frame.append method is deprecated and will be removed from pandas in a future version. Use pandas.concat instead.\n",
      "  df = df.append({'URL': image_src_temp, 'Labels': s}, ignore_index=True)\n"
     ]
    },
    {
     "name": "stdout",
     "output_type": "stream",
     "text": [
      "s\n",
      "Joint Outerwear Neck Sleeve Waist Luggage and bags Knee Thigh Bag Fashion design\n"
     ]
    },
    {
     "name": "stderr",
     "output_type": "stream",
     "text": [
      "/var/folders/f5/7w8rh9rx11938lxyvdr2g_940000gn/T/ipykernel_94711/975253196.py:27: FutureWarning: The frame.append method is deprecated and will be removed from pandas in a future version. Use pandas.concat instead.\n",
      "  df = df.append({'URL': image_src_temp, 'Labels': s}, ignore_index=True)\n"
     ]
    },
    {
     "name": "stdout",
     "output_type": "stream",
     "text": [
      "s\n",
      "Smile Nose Head Lip Eyebrow Photograph Mouth Black Tooth Flash photography\n"
     ]
    },
    {
     "name": "stderr",
     "output_type": "stream",
     "text": [
      "/var/folders/f5/7w8rh9rx11938lxyvdr2g_940000gn/T/ipykernel_94711/975253196.py:27: FutureWarning: The frame.append method is deprecated and will be removed from pandas in a future version. Use pandas.concat instead.\n",
      "  df = df.append({'URL': image_src_temp, 'Labels': s}, ignore_index=True)\n"
     ]
    },
    {
     "name": "stdout",
     "output_type": "stream",
     "text": [
      "s\n",
      "Head Hand Arm Facial expression Mouth Eyelash Neck Human body Sleeve Happy\n"
     ]
    },
    {
     "name": "stderr",
     "output_type": "stream",
     "text": [
      "/var/folders/f5/7w8rh9rx11938lxyvdr2g_940000gn/T/ipykernel_94711/975253196.py:27: FutureWarning: The frame.append method is deprecated and will be removed from pandas in a future version. Use pandas.concat instead.\n",
      "  df = df.append({'URL': image_src_temp, 'Labels': s}, ignore_index=True)\n"
     ]
    },
    {
     "name": "stdout",
     "output_type": "stream",
     "text": [
      "s\n",
      "Cornrows Sleeve Gesture Jheri curl Smile Happy T-shirt Fashion design Braid Font\n"
     ]
    },
    {
     "name": "stderr",
     "output_type": "stream",
     "text": [
      "/var/folders/f5/7w8rh9rx11938lxyvdr2g_940000gn/T/ipykernel_94711/975253196.py:27: FutureWarning: The frame.append method is deprecated and will be removed from pandas in a future version. Use pandas.concat instead.\n",
      "  df = df.append({'URL': image_src_temp, 'Labels': s}, ignore_index=True)\n"
     ]
    },
    {
     "name": "stdout",
     "output_type": "stream",
     "text": [
      "s\n",
      "Sleeve Font Gesture Guitar accessory Musician Jersey T-shirt Happy Musical instrument accessory Music\n"
     ]
    },
    {
     "name": "stderr",
     "output_type": "stream",
     "text": [
      "/var/folders/f5/7w8rh9rx11938lxyvdr2g_940000gn/T/ipykernel_94711/975253196.py:27: FutureWarning: The frame.append method is deprecated and will be removed from pandas in a future version. Use pandas.concat instead.\n",
      "  df = df.append({'URL': image_src_temp, 'Labels': s}, ignore_index=True)\n"
     ]
    },
    {
     "name": "stdout",
     "output_type": "stream",
     "text": [
      "s\n",
      "Face Trousers Shoe Neck Sleeve Waist Dress shirt Gesture Belt Collar\n"
     ]
    },
    {
     "name": "stderr",
     "output_type": "stream",
     "text": [
      "/var/folders/f5/7w8rh9rx11938lxyvdr2g_940000gn/T/ipykernel_94711/975253196.py:27: FutureWarning: The frame.append method is deprecated and will be removed from pandas in a future version. Use pandas.concat instead.\n",
      "  df = df.append({'URL': image_src_temp, 'Labels': s}, ignore_index=True)\n"
     ]
    },
    {
     "name": "stdout",
     "output_type": "stream",
     "text": [
      "s\n",
      "Forehead Nose Cheek Skin Lip Smile Mouth Eyebrow Eye Facial expression\n"
     ]
    },
    {
     "name": "stderr",
     "output_type": "stream",
     "text": [
      "/var/folders/f5/7w8rh9rx11938lxyvdr2g_940000gn/T/ipykernel_94711/975253196.py:27: FutureWarning: The frame.append method is deprecated and will be removed from pandas in a future version. Use pandas.concat instead.\n",
      "  df = df.append({'URL': image_src_temp, 'Labels': s}, ignore_index=True)\n"
     ]
    },
    {
     "name": "stdout",
     "output_type": "stream",
     "text": [
      "s\n",
      "Sports uniform Outerwear Shirt Jersey Clothes hanger Neck Sports jersey Sleeve Collar Sportswear\n"
     ]
    },
    {
     "name": "stderr",
     "output_type": "stream",
     "text": [
      "/var/folders/f5/7w8rh9rx11938lxyvdr2g_940000gn/T/ipykernel_94711/975253196.py:27: FutureWarning: The frame.append method is deprecated and will be removed from pandas in a future version. Use pandas.concat instead.\n",
      "  df = df.append({'URL': image_src_temp, 'Labels': s}, ignore_index=True)\n"
     ]
    },
    {
     "name": "stdout",
     "output_type": "stream",
     "text": [
      "s\n",
      "Forehead Nose Hair Face Cheek Head Lip Chin Eyebrow Eyelash\n"
     ]
    },
    {
     "name": "stderr",
     "output_type": "stream",
     "text": [
      "/var/folders/f5/7w8rh9rx11938lxyvdr2g_940000gn/T/ipykernel_94711/975253196.py:27: FutureWarning: The frame.append method is deprecated and will be removed from pandas in a future version. Use pandas.concat instead.\n",
      "  df = df.append({'URL': image_src_temp, 'Labels': s}, ignore_index=True)\n"
     ]
    },
    {
     "name": "stdout",
     "output_type": "stream",
     "text": [
      "s\n",
      "Sky Water Daytime Vertebrate Light Human People in nature Flash photography Happy Standing\n"
     ]
    },
    {
     "name": "stderr",
     "output_type": "stream",
     "text": [
      "/var/folders/f5/7w8rh9rx11938lxyvdr2g_940000gn/T/ipykernel_94711/975253196.py:27: FutureWarning: The frame.append method is deprecated and will be removed from pandas in a future version. Use pandas.concat instead.\n",
      "  df = df.append({'URL': image_src_temp, 'Labels': s}, ignore_index=True)\n"
     ]
    },
    {
     "name": "stdout",
     "output_type": "stream",
     "text": [
      "s\n",
      "Glasses Smile Outerwear Vision care Arm Shoulder Sunglasses Eyewear Sleeve Street fashion\n"
     ]
    },
    {
     "name": "stderr",
     "output_type": "stream",
     "text": [
      "/var/folders/f5/7w8rh9rx11938lxyvdr2g_940000gn/T/ipykernel_94711/975253196.py:27: FutureWarning: The frame.append method is deprecated and will be removed from pandas in a future version. Use pandas.concat instead.\n",
      "  df = df.append({'URL': image_src_temp, 'Labels': s}, ignore_index=True)\n"
     ]
    },
    {
     "name": "stdout",
     "output_type": "stream",
     "text": [
      "s\n",
      "Sleeve Beige Street fashion Musical instrument Vintage clothing Fashion design Fur Costume Uniform Trench coat\n"
     ]
    },
    {
     "name": "stderr",
     "output_type": "stream",
     "text": [
      "/var/folders/f5/7w8rh9rx11938lxyvdr2g_940000gn/T/ipykernel_94711/975253196.py:27: FutureWarning: The frame.append method is deprecated and will be removed from pandas in a future version. Use pandas.concat instead.\n",
      "  df = df.append({'URL': image_src_temp, 'Labels': s}, ignore_index=True)\n"
     ]
    },
    {
     "name": "stdout",
     "output_type": "stream",
     "text": [
      "s\n",
      "Hair Joint Chin Shoulder Stomach Arm Leg Neck camisoles Undershirt\n"
     ]
    },
    {
     "name": "stderr",
     "output_type": "stream",
     "text": [
      "/var/folders/f5/7w8rh9rx11938lxyvdr2g_940000gn/T/ipykernel_94711/975253196.py:27: FutureWarning: The frame.append method is deprecated and will be removed from pandas in a future version. Use pandas.concat instead.\n",
      "  df = df.append({'URL': image_src_temp, 'Labels': s}, ignore_index=True)\n"
     ]
    },
    {
     "name": "stdout",
     "output_type": "stream",
     "text": [
      "s\n",
      "Joint Skin Lip Hand Hairstyle Shoulder Arm Facial expression Muscle Comfort\n"
     ]
    },
    {
     "name": "stderr",
     "output_type": "stream",
     "text": [
      "/var/folders/f5/7w8rh9rx11938lxyvdr2g_940000gn/T/ipykernel_94711/975253196.py:27: FutureWarning: The frame.append method is deprecated and will be removed from pandas in a future version. Use pandas.concat instead.\n",
      "  df = df.append({'URL': image_src_temp, 'Labels': s}, ignore_index=True)\n"
     ]
    },
    {
     "name": "stdout",
     "output_type": "stream",
     "text": [
      "s\n",
      "Joint Lip Arm Shoulder Leg Muscle Lipstick Neck Human body Waist\n"
     ]
    },
    {
     "name": "stderr",
     "output_type": "stream",
     "text": [
      "/var/folders/f5/7w8rh9rx11938lxyvdr2g_940000gn/T/ipykernel_94711/975253196.py:27: FutureWarning: The frame.append method is deprecated and will be removed from pandas in a future version. Use pandas.concat instead.\n",
      "  df = df.append({'URL': image_src_temp, 'Labels': s}, ignore_index=True)\n"
     ]
    },
    {
     "name": "stdout",
     "output_type": "stream",
     "text": [
      "s\n",
      "Hair Joint Lip Outerwear Shoulder Neck Fashion Lipstick Sleeve Textile\n"
     ]
    },
    {
     "name": "stderr",
     "output_type": "stream",
     "text": [
      "/var/folders/f5/7w8rh9rx11938lxyvdr2g_940000gn/T/ipykernel_94711/975253196.py:27: FutureWarning: The frame.append method is deprecated and will be removed from pandas in a future version. Use pandas.concat instead.\n",
      "  df = df.append({'URL': image_src_temp, 'Labels': s}, ignore_index=True)\n"
     ]
    },
    {
     "name": "stdout",
     "output_type": "stream",
     "text": [
      "s\n",
      "Clothing Joint Smile Hand Shoulder Arm Organ Neck Fashion Jaw\n"
     ]
    },
    {
     "name": "stderr",
     "output_type": "stream",
     "text": [
      "/var/folders/f5/7w8rh9rx11938lxyvdr2g_940000gn/T/ipykernel_94711/975253196.py:27: FutureWarning: The frame.append method is deprecated and will be removed from pandas in a future version. Use pandas.concat instead.\n",
      "  df = df.append({'URL': image_src_temp, 'Labels': s}, ignore_index=True)\n"
     ]
    },
    {
     "name": "stdout",
     "output_type": "stream",
     "text": [
      "s\n",
      "Joint Lip Human body Neck Sleeve Flash photography Street fashion Gesture Thigh Waist\n"
     ]
    },
    {
     "name": "stderr",
     "output_type": "stream",
     "text": [
      "/var/folders/f5/7w8rh9rx11938lxyvdr2g_940000gn/T/ipykernel_94711/975253196.py:27: FutureWarning: The frame.append method is deprecated and will be removed from pandas in a future version. Use pandas.concat instead.\n",
      "  df = df.append({'URL': image_src_temp, 'Labels': s}, ignore_index=True)\n"
     ]
    },
    {
     "name": "stdout",
     "output_type": "stream",
     "text": [
      "s\n",
      "Outerwear Eyebrow Vision care Jheri curl Flash photography Neck Eyewear Gesture Collar Headgear\n"
     ]
    },
    {
     "name": "stderr",
     "output_type": "stream",
     "text": [
      "/var/folders/f5/7w8rh9rx11938lxyvdr2g_940000gn/T/ipykernel_94711/975253196.py:27: FutureWarning: The frame.append method is deprecated and will be removed from pandas in a future version. Use pandas.concat instead.\n",
      "  df = df.append({'URL': image_src_temp, 'Labels': s}, ignore_index=True)\n"
     ]
    },
    {
     "name": "stdout",
     "output_type": "stream",
     "text": [
      "s\n",
      "Hairstyle Neck Sleeve Waist Street fashion Jacket Gesture Collar Thigh Headgear\n"
     ]
    },
    {
     "name": "stderr",
     "output_type": "stream",
     "text": [
      "/var/folders/f5/7w8rh9rx11938lxyvdr2g_940000gn/T/ipykernel_94711/975253196.py:27: FutureWarning: The frame.append method is deprecated and will be removed from pandas in a future version. Use pandas.concat instead.\n",
      "  df = df.append({'URL': image_src_temp, 'Labels': s}, ignore_index=True)\n"
     ]
    },
    {
     "name": "stdout",
     "output_type": "stream",
     "text": [
      "s\n",
      "Joint Skin Outerwear Hairstyle Shoulder Comfort Neck Flash photography Knee Waist\n"
     ]
    },
    {
     "name": "stderr",
     "output_type": "stream",
     "text": [
      "/var/folders/f5/7w8rh9rx11938lxyvdr2g_940000gn/T/ipykernel_94711/975253196.py:27: FutureWarning: The frame.append method is deprecated and will be removed from pandas in a future version. Use pandas.concat instead.\n",
      "  df = df.append({'URL': image_src_temp, 'Labels': s}, ignore_index=True)\n"
     ]
    },
    {
     "name": "stdout",
     "output_type": "stream",
     "text": [
      "s\n",
      "Joint Outerwear Hairstyle Shoulder Leg Street fashion Human body Knee Neck Sleeve\n"
     ]
    },
    {
     "name": "stderr",
     "output_type": "stream",
     "text": [
      "/var/folders/f5/7w8rh9rx11938lxyvdr2g_940000gn/T/ipykernel_94711/975253196.py:27: FutureWarning: The frame.append method is deprecated and will be removed from pandas in a future version. Use pandas.concat instead.\n",
      "  df = df.append({'URL': image_src_temp, 'Labels': s}, ignore_index=True)\n"
     ]
    },
    {
     "name": "stdout",
     "output_type": "stream",
     "text": [
      "s\n",
      "Plant Sleeve Eyewear Street fashion Waist Fawn Fashion design Luggage and bags Sneakers Long hair\n"
     ]
    },
    {
     "name": "stderr",
     "output_type": "stream",
     "text": [
      "/var/folders/f5/7w8rh9rx11938lxyvdr2g_940000gn/T/ipykernel_94711/975253196.py:27: FutureWarning: The frame.append method is deprecated and will be removed from pandas in a future version. Use pandas.concat instead.\n",
      "  df = df.append({'URL': image_src_temp, 'Labels': s}, ignore_index=True)\n"
     ]
    },
    {
     "name": "stdout",
     "output_type": "stream",
     "text": [
      "s\n",
      "Overcoat Building Dress shirt Street fashion Asphalt Sleeve Orange Trench coat Road surface Collar\n"
     ]
    },
    {
     "name": "stderr",
     "output_type": "stream",
     "text": [
      "/var/folders/f5/7w8rh9rx11938lxyvdr2g_940000gn/T/ipykernel_94711/975253196.py:27: FutureWarning: The frame.append method is deprecated and will be removed from pandas in a future version. Use pandas.concat instead.\n",
      "  df = df.append({'URL': image_src_temp, 'Labels': s}, ignore_index=True)\n"
     ]
    },
    {
     "name": "stdout",
     "output_type": "stream",
     "text": [
      "s\n",
      "Hair Joint Head Lip Hand Outerwear Hairstyle Shoulder Eyelash Neck\n"
     ]
    },
    {
     "name": "stderr",
     "output_type": "stream",
     "text": [
      "/var/folders/f5/7w8rh9rx11938lxyvdr2g_940000gn/T/ipykernel_94711/975253196.py:27: FutureWarning: The frame.append method is deprecated and will be removed from pandas in a future version. Use pandas.concat instead.\n",
      "  df = df.append({'URL': image_src_temp, 'Labels': s}, ignore_index=True)\n"
     ]
    },
    {
     "name": "stdout",
     "output_type": "stream",
     "text": [
      "s\n",
      "Head Hairstyle Shoe Shoulder Comfort Sleeve Flash photography Grey Knee Thigh\n"
     ]
    },
    {
     "name": "stderr",
     "output_type": "stream",
     "text": [
      "/var/folders/f5/7w8rh9rx11938lxyvdr2g_940000gn/T/ipykernel_94711/975253196.py:27: FutureWarning: The frame.append method is deprecated and will be removed from pandas in a future version. Use pandas.concat instead.\n",
      "  df = df.append({'URL': image_src_temp, 'Labels': s}, ignore_index=True)\n"
     ]
    },
    {
     "name": "stdout",
     "output_type": "stream",
     "text": [
      "s\n",
      "Lip Chin Hairstyle Shoulder Eyebrow Neck Human body Flash photography Eyelash Body jewelry\n"
     ]
    },
    {
     "name": "stderr",
     "output_type": "stream",
     "text": [
      "/var/folders/f5/7w8rh9rx11938lxyvdr2g_940000gn/T/ipykernel_94711/975253196.py:27: FutureWarning: The frame.append method is deprecated and will be removed from pandas in a future version. Use pandas.concat instead.\n",
      "  df = df.append({'URL': image_src_temp, 'Labels': s}, ignore_index=True)\n"
     ]
    },
    {
     "name": "stdout",
     "output_type": "stream",
     "text": [
      "s\n",
      "Footwear Outerwear Shoe Smile Leg Street fashion Eyewear Sleeve Knee Waist\n"
     ]
    },
    {
     "name": "stderr",
     "output_type": "stream",
     "text": [
      "/var/folders/f5/7w8rh9rx11938lxyvdr2g_940000gn/T/ipykernel_94711/975253196.py:27: FutureWarning: The frame.append method is deprecated and will be removed from pandas in a future version. Use pandas.concat instead.\n",
      "  df = df.append({'URL': image_src_temp, 'Labels': s}, ignore_index=True)\n"
     ]
    },
    {
     "name": "stdout",
     "output_type": "stream",
     "text": [
      "s\n",
      "Joint Smile Hairstyle Shoulder Arm Facial expression Organ Neck Sleeve Textile\n"
     ]
    },
    {
     "name": "stderr",
     "output_type": "stream",
     "text": [
      "/var/folders/f5/7w8rh9rx11938lxyvdr2g_940000gn/T/ipykernel_94711/975253196.py:27: FutureWarning: The frame.append method is deprecated and will be removed from pandas in a future version. Use pandas.concat instead.\n",
      "  df = df.append({'URL': image_src_temp, 'Labels': s}, ignore_index=True)\n"
     ]
    },
    {
     "name": "stdout",
     "output_type": "stream",
     "text": [
      "s\n",
      "Face Lip Outerwear Vision care Sunglasses Goggles Purple Flash photography Sleeve Eyewear\n"
     ]
    },
    {
     "name": "stderr",
     "output_type": "stream",
     "text": [
      "/var/folders/f5/7w8rh9rx11938lxyvdr2g_940000gn/T/ipykernel_94711/975253196.py:27: FutureWarning: The frame.append method is deprecated and will be removed from pandas in a future version. Use pandas.concat instead.\n",
      "  df = df.append({'URL': image_src_temp, 'Labels': s}, ignore_index=True)\n"
     ]
    },
    {
     "name": "stdout",
     "output_type": "stream",
     "text": [
      "s\n",
      "White Black Flash photography Black-and-white Standing Grey Style Symmetry Tints and shades Monochrome\n"
     ]
    },
    {
     "name": "stderr",
     "output_type": "stream",
     "text": [
      "/var/folders/f5/7w8rh9rx11938lxyvdr2g_940000gn/T/ipykernel_94711/975253196.py:27: FutureWarning: The frame.append method is deprecated and will be removed from pandas in a future version. Use pandas.concat instead.\n",
      "  df = df.append({'URL': image_src_temp, 'Labels': s}, ignore_index=True)\n"
     ]
    },
    {
     "name": "stdout",
     "output_type": "stream",
     "text": [
      "s\n",
      "Water Sky Smile Arm Shoulder Photograph People in nature Human body Flash photography Neck\n"
     ]
    },
    {
     "name": "stderr",
     "output_type": "stream",
     "text": [
      "/var/folders/f5/7w8rh9rx11938lxyvdr2g_940000gn/T/ipykernel_94711/975253196.py:27: FutureWarning: The frame.append method is deprecated and will be removed from pandas in a future version. Use pandas.concat instead.\n",
      "  df = df.append({'URL': image_src_temp, 'Labels': s}, ignore_index=True)\n"
     ]
    },
    {
     "name": "stdout",
     "output_type": "stream",
     "text": [
      "s\n",
      "Joint Shoe Dress shirt Sleeve Knee Collar Street fashion Thigh Window Comfort\n"
     ]
    },
    {
     "name": "stderr",
     "output_type": "stream",
     "text": [
      "/var/folders/f5/7w8rh9rx11938lxyvdr2g_940000gn/T/ipykernel_94711/975253196.py:27: FutureWarning: The frame.append method is deprecated and will be removed from pandas in a future version. Use pandas.concat instead.\n",
      "  df = df.append({'URL': image_src_temp, 'Labels': s}, ignore_index=True)\n"
     ]
    },
    {
     "name": "stdout",
     "output_type": "stream",
     "text": [
      "s\n",
      "Forehead Face Nose Cheek Skin Head Lip Eyebrow Shoulder Vision care\n"
     ]
    },
    {
     "name": "stderr",
     "output_type": "stream",
     "text": [
      "/var/folders/f5/7w8rh9rx11938lxyvdr2g_940000gn/T/ipykernel_94711/975253196.py:27: FutureWarning: The frame.append method is deprecated and will be removed from pandas in a future version. Use pandas.concat instead.\n",
      "  df = df.append({'URL': image_src_temp, 'Labels': s}, ignore_index=True)\n"
     ]
    },
    {
     "name": "stdout",
     "output_type": "stream",
     "text": [
      "s\n",
      "Vision care Leg Sunglasses Street fashion Sleeve Knee Grey Waist Collar Thigh\n"
     ]
    },
    {
     "name": "stderr",
     "output_type": "stream",
     "text": [
      "/var/folders/f5/7w8rh9rx11938lxyvdr2g_940000gn/T/ipykernel_94711/975253196.py:27: FutureWarning: The frame.append method is deprecated and will be removed from pandas in a future version. Use pandas.concat instead.\n",
      "  df = df.append({'URL': image_src_temp, 'Labels': s}, ignore_index=True)\n"
     ]
    },
    {
     "name": "stdout",
     "output_type": "stream",
     "text": [
      "s\n",
      "Lip Outerwear Neck Sleeve Street fashion Pink Collar Natural material Fashion design Waist\n"
     ]
    },
    {
     "name": "stderr",
     "output_type": "stream",
     "text": [
      "/var/folders/f5/7w8rh9rx11938lxyvdr2g_940000gn/T/ipykernel_94711/975253196.py:27: FutureWarning: The frame.append method is deprecated and will be removed from pandas in a future version. Use pandas.concat instead.\n",
      "  df = df.append({'URL': image_src_temp, 'Labels': s}, ignore_index=True)\n"
     ]
    },
    {
     "name": "stdout",
     "output_type": "stream",
     "text": [
      "s\n",
      "Smile Outerwear Shoulder Tartan Purple Street fashion Textile Sleeve Standing Waist\n"
     ]
    },
    {
     "name": "stderr",
     "output_type": "stream",
     "text": [
      "/var/folders/f5/7w8rh9rx11938lxyvdr2g_940000gn/T/ipykernel_94711/975253196.py:27: FutureWarning: The frame.append method is deprecated and will be removed from pandas in a future version. Use pandas.concat instead.\n",
      "  df = df.append({'URL': image_src_temp, 'Labels': s}, ignore_index=True)\n"
     ]
    },
    {
     "name": "stdout",
     "output_type": "stream",
     "text": [
      "s\n",
      "Lip Outerwear Hairstyle Arm Shoulder Cap Neck Flash photography Street fashion Fashion\n"
     ]
    },
    {
     "name": "stderr",
     "output_type": "stream",
     "text": [
      "/var/folders/f5/7w8rh9rx11938lxyvdr2g_940000gn/T/ipykernel_94711/975253196.py:27: FutureWarning: The frame.append method is deprecated and will be removed from pandas in a future version. Use pandas.concat instead.\n",
      "  df = df.append({'URL': image_src_temp, 'Labels': s}, ignore_index=True)\n"
     ]
    },
    {
     "name": "stdout",
     "output_type": "stream",
     "text": [
      "s\n",
      "Shoe Shoulder White Leg Comfort Picture frame Human body Textile Sleeve Knee\n"
     ]
    },
    {
     "name": "stderr",
     "output_type": "stream",
     "text": [
      "/var/folders/f5/7w8rh9rx11938lxyvdr2g_940000gn/T/ipykernel_94711/975253196.py:27: FutureWarning: The frame.append method is deprecated and will be removed from pandas in a future version. Use pandas.concat instead.\n",
      "  df = df.append({'URL': image_src_temp, 'Labels': s}, ignore_index=True)\n"
     ]
    },
    {
     "name": "stdout",
     "output_type": "stream",
     "text": [
      "s\n",
      "Joint Shoe Shoulder Leg Human Sleeve Comfort Gesture Grey Happy\n"
     ]
    },
    {
     "name": "stderr",
     "output_type": "stream",
     "text": [
      "/var/folders/f5/7w8rh9rx11938lxyvdr2g_940000gn/T/ipykernel_94711/975253196.py:27: FutureWarning: The frame.append method is deprecated and will be removed from pandas in a future version. Use pandas.concat instead.\n",
      "  df = df.append({'URL': image_src_temp, 'Labels': s}, ignore_index=True)\n"
     ]
    },
    {
     "name": "stdout",
     "output_type": "stream",
     "text": [
      "s\n",
      "Joint Shoe Shoulder Leg Street fashion Fashion Neck Sleeve Knee Standing\n"
     ]
    },
    {
     "name": "stderr",
     "output_type": "stream",
     "text": [
      "/var/folders/f5/7w8rh9rx11938lxyvdr2g_940000gn/T/ipykernel_94711/975253196.py:27: FutureWarning: The frame.append method is deprecated and will be removed from pandas in a future version. Use pandas.concat instead.\n",
      "  df = df.append({'URL': image_src_temp, 'Labels': s}, ignore_index=True)\n"
     ]
    },
    {
     "name": "stdout",
     "output_type": "stream",
     "text": [
      "s\n",
      "Joint Shoe Outerwear Shoulder Leg Overcoat Eyewear Luggage and bags Street fashion Neck\n"
     ]
    },
    {
     "name": "stderr",
     "output_type": "stream",
     "text": [
      "/var/folders/f5/7w8rh9rx11938lxyvdr2g_940000gn/T/ipykernel_94711/975253196.py:27: FutureWarning: The frame.append method is deprecated and will be removed from pandas in a future version. Use pandas.concat instead.\n",
      "  df = df.append({'URL': image_src_temp, 'Labels': s}, ignore_index=True)\n"
     ]
    },
    {
     "name": "stdout",
     "output_type": "stream",
     "text": [
      "s\n",
      "Joint Shoulder Leg Comfort Plant Fashion Neck Sleeve Thigh Knee\n"
     ]
    },
    {
     "name": "stderr",
     "output_type": "stream",
     "text": [
      "/var/folders/f5/7w8rh9rx11938lxyvdr2g_940000gn/T/ipykernel_94711/975253196.py:27: FutureWarning: The frame.append method is deprecated and will be removed from pandas in a future version. Use pandas.concat instead.\n",
      "  df = df.append({'URL': image_src_temp, 'Labels': s}, ignore_index=True)\n"
     ]
    },
    {
     "name": "stdout",
     "output_type": "stream",
     "text": [
      "s\n",
      "Hair Face Head Lip Sky Eye Flash photography Sleeve Glove Happy\n"
     ]
    },
    {
     "name": "stderr",
     "output_type": "stream",
     "text": [
      "/var/folders/f5/7w8rh9rx11938lxyvdr2g_940000gn/T/ipykernel_94711/975253196.py:27: FutureWarning: The frame.append method is deprecated and will be removed from pandas in a future version. Use pandas.concat instead.\n",
      "  df = df.append({'URL': image_src_temp, 'Labels': s}, ignore_index=True)\n"
     ]
    },
    {
     "name": "stdout",
     "output_type": "stream",
     "text": [
      "s\n",
      "Comfort Knee Thigh Wood Floor Flooring Bed Hardwood Barefoot Human leg\n"
     ]
    },
    {
     "name": "stderr",
     "output_type": "stream",
     "text": [
      "/var/folders/f5/7w8rh9rx11938lxyvdr2g_940000gn/T/ipykernel_94711/975253196.py:27: FutureWarning: The frame.append method is deprecated and will be removed from pandas in a future version. Use pandas.concat instead.\n",
      "  df = df.append({'URL': image_src_temp, 'Labels': s}, ignore_index=True)\n"
     ]
    },
    {
     "name": "stdout",
     "output_type": "stream",
     "text": [
      "s\n",
      "Joint Lip Shoe Shoulder Flash photography Neck Sleeve Comfort Coat Waist\n"
     ]
    },
    {
     "name": "stderr",
     "output_type": "stream",
     "text": [
      "/var/folders/f5/7w8rh9rx11938lxyvdr2g_940000gn/T/ipykernel_94711/975253196.py:27: FutureWarning: The frame.append method is deprecated and will be removed from pandas in a future version. Use pandas.concat instead.\n",
      "  df = df.append({'URL': image_src_temp, 'Labels': s}, ignore_index=True)\n"
     ]
    },
    {
     "name": "stdout",
     "output_type": "stream",
     "text": [
      "s\n",
      "Nose Skin Chin Hairstyle Eyebrow Eye Mouth Facial expression Organ Jaw\n"
     ]
    },
    {
     "name": "stderr",
     "output_type": "stream",
     "text": [
      "/var/folders/f5/7w8rh9rx11938lxyvdr2g_940000gn/T/ipykernel_94711/975253196.py:27: FutureWarning: The frame.append method is deprecated and will be removed from pandas in a future version. Use pandas.concat instead.\n",
      "  df = df.append({'URL': image_src_temp, 'Labels': s}, ignore_index=True)\n"
     ]
    },
    {
     "name": "stdout",
     "output_type": "stream",
     "text": [
      "s\n",
      "Glasses Sky Cloud Sunglasses Street fashion Eyewear Sleeve Standing Hat Asphalt\n"
     ]
    },
    {
     "name": "stderr",
     "output_type": "stream",
     "text": [
      "/var/folders/f5/7w8rh9rx11938lxyvdr2g_940000gn/T/ipykernel_94711/975253196.py:27: FutureWarning: The frame.append method is deprecated and will be removed from pandas in a future version. Use pandas.concat instead.\n",
      "  df = df.append({'URL': image_src_temp, 'Labels': s}, ignore_index=True)\n"
     ]
    },
    {
     "name": "stdout",
     "output_type": "stream",
     "text": [
      "s\n",
      "Forehead Nose Skin Lip Chin Eyebrow Smile Shoulder Facial expression Mouth\n"
     ]
    },
    {
     "name": "stderr",
     "output_type": "stream",
     "text": [
      "/var/folders/f5/7w8rh9rx11938lxyvdr2g_940000gn/T/ipykernel_94711/975253196.py:27: FutureWarning: The frame.append method is deprecated and will be removed from pandas in a future version. Use pandas.concat instead.\n",
      "  df = df.append({'URL': image_src_temp, 'Labels': s}, ignore_index=True)\n"
     ]
    },
    {
     "name": "stdout",
     "output_type": "stream",
     "text": [
      "s\n",
      "Plant Sky Asphalt Road surface Font Happy Grass People in nature T-shirt Landscape\n"
     ]
    },
    {
     "name": "stderr",
     "output_type": "stream",
     "text": [
      "/var/folders/f5/7w8rh9rx11938lxyvdr2g_940000gn/T/ipykernel_94711/975253196.py:27: FutureWarning: The frame.append method is deprecated and will be removed from pandas in a future version. Use pandas.concat instead.\n",
      "  df = df.append({'URL': image_src_temp, 'Labels': s}, ignore_index=True)\n"
     ]
    },
    {
     "name": "stdout",
     "output_type": "stream",
     "text": [
      "s\n",
      "Smile Dress Textile Sleeve Font Flash photography Happy Flooring Wood Fashion design\n"
     ]
    },
    {
     "name": "stderr",
     "output_type": "stream",
     "text": [
      "/var/folders/f5/7w8rh9rx11938lxyvdr2g_940000gn/T/ipykernel_94711/975253196.py:27: FutureWarning: The frame.append method is deprecated and will be removed from pandas in a future version. Use pandas.concat instead.\n",
      "  df = df.append({'URL': image_src_temp, 'Labels': s}, ignore_index=True)\n"
     ]
    },
    {
     "name": "stdout",
     "output_type": "stream",
     "text": [
      "s\n",
      "Smile Plant Comfort Fur clothing Textile Couch Happy Natural material Fawn Picture frame\n"
     ]
    },
    {
     "name": "stderr",
     "output_type": "stream",
     "text": [
      "/var/folders/f5/7w8rh9rx11938lxyvdr2g_940000gn/T/ipykernel_94711/975253196.py:27: FutureWarning: The frame.append method is deprecated and will be removed from pandas in a future version. Use pandas.concat instead.\n",
      "  df = df.append({'URL': image_src_temp, 'Labels': s}, ignore_index=True)\n"
     ]
    },
    {
     "name": "stdout",
     "output_type": "stream",
     "text": [
      "s\n",
      "Hair Joint Skin Head Lip Shoe Shoulder Hairstyle Arm Mouth\n"
     ]
    },
    {
     "name": "stderr",
     "output_type": "stream",
     "text": [
      "/var/folders/f5/7w8rh9rx11938lxyvdr2g_940000gn/T/ipykernel_94711/975253196.py:27: FutureWarning: The frame.append method is deprecated and will be removed from pandas in a future version. Use pandas.concat instead.\n",
      "  df = df.append({'URL': image_src_temp, 'Labels': s}, ignore_index=True)\n"
     ]
    },
    {
     "name": "stdout",
     "output_type": "stream",
     "text": [
      "s\n",
      "Joint Shoe Plant Outerwear Shoulder Leg Street fashion Dress shirt Neck Human body\n"
     ]
    },
    {
     "name": "stderr",
     "output_type": "stream",
     "text": [
      "/var/folders/f5/7w8rh9rx11938lxyvdr2g_940000gn/T/ipykernel_94711/975253196.py:27: FutureWarning: The frame.append method is deprecated and will be removed from pandas in a future version. Use pandas.concat instead.\n",
      "  df = df.append({'URL': image_src_temp, 'Labels': s}, ignore_index=True)\n"
     ]
    },
    {
     "name": "stdout",
     "output_type": "stream",
     "text": [
      "s\n",
      "Joint Shoulder Leg Dress shirt Neck Sleeve Waist Street fashion Knee Flash photography\n"
     ]
    },
    {
     "name": "stderr",
     "output_type": "stream",
     "text": [
      "/var/folders/f5/7w8rh9rx11938lxyvdr2g_940000gn/T/ipykernel_94711/975253196.py:27: FutureWarning: The frame.append method is deprecated and will be removed from pandas in a future version. Use pandas.concat instead.\n",
      "  df = df.append({'URL': image_src_temp, 'Labels': s}, ignore_index=True)\n"
     ]
    },
    {
     "name": "stdout",
     "output_type": "stream",
     "text": [
      "s\n",
      "Joint Plant Shoulder Picture frame One-piece garment Neck Sleeve Waist Dress Standing\n"
     ]
    },
    {
     "name": "stderr",
     "output_type": "stream",
     "text": [
      "/var/folders/f5/7w8rh9rx11938lxyvdr2g_940000gn/T/ipykernel_94711/975253196.py:27: FutureWarning: The frame.append method is deprecated and will be removed from pandas in a future version. Use pandas.concat instead.\n",
      "  df = df.append({'URL': image_src_temp, 'Labels': s}, ignore_index=True)\n"
     ]
    },
    {
     "name": "stdout",
     "output_type": "stream",
     "text": [
      "s\n",
      "Flash photography Latex clothing Sleeve Waist Eyewear Leather jacket Latex Street fashion Fashion design Thigh\n"
     ]
    },
    {
     "name": "stderr",
     "output_type": "stream",
     "text": [
      "/var/folders/f5/7w8rh9rx11938lxyvdr2g_940000gn/T/ipykernel_94711/975253196.py:27: FutureWarning: The frame.append method is deprecated and will be removed from pandas in a future version. Use pandas.concat instead.\n",
      "  df = df.append({'URL': image_src_temp, 'Labels': s}, ignore_index=True)\n"
     ]
    },
    {
     "name": "stdout",
     "output_type": "stream",
     "text": [
      "s\n",
      "Sleeve Flash photography Jacket Street fashion Tints and shades Magenta Electric blue Fashion design Recreation Fun\n"
     ]
    },
    {
     "name": "stderr",
     "output_type": "stream",
     "text": [
      "/var/folders/f5/7w8rh9rx11938lxyvdr2g_940000gn/T/ipykernel_94711/975253196.py:27: FutureWarning: The frame.append method is deprecated and will be removed from pandas in a future version. Use pandas.concat instead.\n",
      "  df = df.append({'URL': image_src_temp, 'Labels': s}, ignore_index=True)\n"
     ]
    },
    {
     "name": "stdout",
     "output_type": "stream",
     "text": [
      "s\n",
      "Shoulder Dress shirt Human body Eyewear Neck Sleeve Street fashion Waist Automotive design Collar\n"
     ]
    },
    {
     "name": "stderr",
     "output_type": "stream",
     "text": [
      "/var/folders/f5/7w8rh9rx11938lxyvdr2g_940000gn/T/ipykernel_94711/975253196.py:27: FutureWarning: The frame.append method is deprecated and will be removed from pandas in a future version. Use pandas.concat instead.\n",
      "  df = df.append({'URL': image_src_temp, 'Labels': s}, ignore_index=True)\n"
     ]
    },
    {
     "name": "stdout",
     "output_type": "stream",
     "text": [
      "s\n",
      "Neck Sleeve Cornrows Street fashion Waist Flash photography Fashion design Black hair Jacket Blazer\n"
     ]
    },
    {
     "name": "stderr",
     "output_type": "stream",
     "text": [
      "/var/folders/f5/7w8rh9rx11938lxyvdr2g_940000gn/T/ipykernel_94711/975253196.py:27: FutureWarning: The frame.append method is deprecated and will be removed from pandas in a future version. Use pandas.concat instead.\n",
      "  df = df.append({'URL': image_src_temp, 'Labels': s}, ignore_index=True)\n"
     ]
    },
    {
     "name": "stdout",
     "output_type": "stream",
     "text": [
      "s\n",
      "Property Purple Light Product Textile Interior design Floor Line Violet Wall\n"
     ]
    },
    {
     "name": "stderr",
     "output_type": "stream",
     "text": [
      "/var/folders/f5/7w8rh9rx11938lxyvdr2g_940000gn/T/ipykernel_94711/975253196.py:27: FutureWarning: The frame.append method is deprecated and will be removed from pandas in a future version. Use pandas.concat instead.\n",
      "  df = df.append({'URL': image_src_temp, 'Labels': s}, ignore_index=True)\n"
     ]
    },
    {
     "name": "stdout",
     "output_type": "stream",
     "text": [
      "s\n",
      "Fixture Facade Door Tints and shades Window Symmetry Rectangle Glass Building City\n"
     ]
    },
    {
     "name": "stderr",
     "output_type": "stream",
     "text": [
      "/var/folders/f5/7w8rh9rx11938lxyvdr2g_940000gn/T/ipykernel_94711/975253196.py:27: FutureWarning: The frame.append method is deprecated and will be removed from pandas in a future version. Use pandas.concat instead.\n",
      "  df = df.append({'URL': image_src_temp, 'Labels': s}, ignore_index=True)\n"
     ]
    },
    {
     "name": "stdout",
     "output_type": "stream",
     "text": [
      "s\n",
      "Product Fashion Automotive design Interior design Building Floor Flooring Retail Beauty Fashion design\n"
     ]
    },
    {
     "name": "stderr",
     "output_type": "stream",
     "text": [
      "/var/folders/f5/7w8rh9rx11938lxyvdr2g_940000gn/T/ipykernel_94711/975253196.py:27: FutureWarning: The frame.append method is deprecated and will be removed from pandas in a future version. Use pandas.concat instead.\n",
      "  df = df.append({'URL': image_src_temp, 'Labels': s}, ignore_index=True)\n"
     ]
    },
    {
     "name": "stdout",
     "output_type": "stream",
     "text": [
      "s\n",
      "Brown Orange Material property Font Automotive design Event Wood Fashion accessory Goggles Brand\n"
     ]
    },
    {
     "name": "stderr",
     "output_type": "stream",
     "text": [
      "/var/folders/f5/7w8rh9rx11938lxyvdr2g_940000gn/T/ipykernel_94711/975253196.py:27: FutureWarning: The frame.append method is deprecated and will be removed from pandas in a future version. Use pandas.concat instead.\n",
      "  df = df.append({'URL': image_src_temp, 'Labels': s}, ignore_index=True)\n"
     ]
    },
    {
     "name": "stdout",
     "output_type": "stream",
     "text": [
      "s\n",
      "Brown Wood Font Wall Material property Art Publication Design Graphics Visual arts\n"
     ]
    },
    {
     "name": "stderr",
     "output_type": "stream",
     "text": [
      "/var/folders/f5/7w8rh9rx11938lxyvdr2g_940000gn/T/ipykernel_94711/975253196.py:27: FutureWarning: The frame.append method is deprecated and will be removed from pandas in a future version. Use pandas.concat instead.\n",
      "  df = df.append({'URL': image_src_temp, 'Labels': s}, ignore_index=True)\n"
     ]
    },
    {
     "name": "stdout",
     "output_type": "stream",
     "text": [
      "s\n",
      "Human Wood Book Publication Font Bookcase Flash photography Tints and shades Entertainment Darkness\n"
     ]
    },
    {
     "name": "stderr",
     "output_type": "stream",
     "text": [
      "/var/folders/f5/7w8rh9rx11938lxyvdr2g_940000gn/T/ipykernel_94711/975253196.py:27: FutureWarning: The frame.append method is deprecated and will be removed from pandas in a future version. Use pandas.concat instead.\n",
      "  df = df.append({'URL': image_src_temp, 'Labels': s}, ignore_index=True)\n"
     ]
    },
    {
     "name": "stdout",
     "output_type": "stream",
     "text": [
      "s\n",
      "Tints and shades Wood Darkness Sitting Room Fun Event Visual arts Conversation Animation\n"
     ]
    },
    {
     "name": "stderr",
     "output_type": "stream",
     "text": [
      "/var/folders/f5/7w8rh9rx11938lxyvdr2g_940000gn/T/ipykernel_94711/975253196.py:27: FutureWarning: The frame.append method is deprecated and will be removed from pandas in a future version. Use pandas.concat instead.\n",
      "  df = df.append({'URL': image_src_temp, 'Labels': s}, ignore_index=True)\n"
     ]
    },
    {
     "name": "stdout",
     "output_type": "stream",
     "text": [
      "s\n",
      "Joint Skin Shoe Outerwear Hairstyle Shoulder Leg White Black Fashion\n"
     ]
    },
    {
     "name": "stderr",
     "output_type": "stream",
     "text": [
      "/var/folders/f5/7w8rh9rx11938lxyvdr2g_940000gn/T/ipykernel_94711/975253196.py:27: FutureWarning: The frame.append method is deprecated and will be removed from pandas in a future version. Use pandas.concat instead.\n",
      "  df = df.append({'URL': image_src_temp, 'Labels': s}, ignore_index=True)\n"
     ]
    },
    {
     "name": "stdout",
     "output_type": "stream",
     "text": [
      "s\n",
      "Hair Outerwear Eyelash Vision care Glove Neck Ear Gesture Eyewear Audio equipment\n"
     ]
    },
    {
     "name": "stderr",
     "output_type": "stream",
     "text": [
      "/var/folders/f5/7w8rh9rx11938lxyvdr2g_940000gn/T/ipykernel_94711/975253196.py:27: FutureWarning: The frame.append method is deprecated and will be removed from pandas in a future version. Use pandas.concat instead.\n",
      "  df = df.append({'URL': image_src_temp, 'Labels': s}, ignore_index=True)\n"
     ]
    },
    {
     "name": "stdout",
     "output_type": "stream",
     "text": [
      "s\n",
      "Hair Joint Shoulder Leg Comfort Neck Flash photography Sleeve Waist Thigh\n"
     ]
    },
    {
     "name": "stderr",
     "output_type": "stream",
     "text": [
      "/var/folders/f5/7w8rh9rx11938lxyvdr2g_940000gn/T/ipykernel_94711/975253196.py:27: FutureWarning: The frame.append method is deprecated and will be removed from pandas in a future version. Use pandas.concat instead.\n",
      "  df = df.append({'URL': image_src_temp, 'Labels': s}, ignore_index=True)\n"
     ]
    },
    {
     "name": "stdout",
     "output_type": "stream",
     "text": [
      "s\n",
      "Outerwear Smile Human body Street fashion Textile Sleeve Standing Overcoat Gesture Collar\n"
     ]
    },
    {
     "name": "stderr",
     "output_type": "stream",
     "text": [
      "/var/folders/f5/7w8rh9rx11938lxyvdr2g_940000gn/T/ipykernel_94711/975253196.py:27: FutureWarning: The frame.append method is deprecated and will be removed from pandas in a future version. Use pandas.concat instead.\n",
      "  df = df.append({'URL': image_src_temp, 'Labels': s}, ignore_index=True)\n"
     ]
    },
    {
     "name": "stdout",
     "output_type": "stream",
     "text": [
      "s\n",
      "Joint Shoulder Leg Neck Dress shirt Waist Sleeve Knee Thigh Wood\n"
     ]
    },
    {
     "name": "stderr",
     "output_type": "stream",
     "text": [
      "/var/folders/f5/7w8rh9rx11938lxyvdr2g_940000gn/T/ipykernel_94711/975253196.py:27: FutureWarning: The frame.append method is deprecated and will be removed from pandas in a future version. Use pandas.concat instead.\n",
      "  df = df.append({'URL': image_src_temp, 'Labels': s}, ignore_index=True)\n"
     ]
    },
    {
     "name": "stdout",
     "output_type": "stream",
     "text": [
      "s\n",
      "Glasses Sky People in nature Happy Grass Plant Headgear Grassland Landscape Tree\n"
     ]
    },
    {
     "name": "stderr",
     "output_type": "stream",
     "text": [
      "/var/folders/f5/7w8rh9rx11938lxyvdr2g_940000gn/T/ipykernel_94711/975253196.py:27: FutureWarning: The frame.append method is deprecated and will be removed from pandas in a future version. Use pandas.concat instead.\n",
      "  df = df.append({'URL': image_src_temp, 'Labels': s}, ignore_index=True)\n"
     ]
    },
    {
     "name": "stdout",
     "output_type": "stream",
     "text": [
      "s\n",
      "Sky Flash photography Sleeve Cloud Standing Happy Gesture Rectangle People in nature Event\n"
     ]
    },
    {
     "name": "stderr",
     "output_type": "stream",
     "text": [
      "/var/folders/f5/7w8rh9rx11938lxyvdr2g_940000gn/T/ipykernel_94711/975253196.py:27: FutureWarning: The frame.append method is deprecated and will be removed from pandas in a future version. Use pandas.concat instead.\n",
      "  df = df.append({'URL': image_src_temp, 'Labels': s}, ignore_index=True)\n"
     ]
    },
    {
     "name": "stdout",
     "output_type": "stream",
     "text": [
      "s\n",
      "Sky Cloud Hairstyle Shoulder Plant Flash photography Street fashion Neck Sleeve Waist\n"
     ]
    },
    {
     "name": "stderr",
     "output_type": "stream",
     "text": [
      "/var/folders/f5/7w8rh9rx11938lxyvdr2g_940000gn/T/ipykernel_94711/975253196.py:27: FutureWarning: The frame.append method is deprecated and will be removed from pandas in a future version. Use pandas.concat instead.\n",
      "  df = df.append({'URL': image_src_temp, 'Labels': s}, ignore_index=True)\n"
     ]
    },
    {
     "name": "stdout",
     "output_type": "stream",
     "text": [
      "s\n",
      "Outerwear Sky Flash photography Sleeve Parka Street fashion Fur clothing Happy Animal product Headgear\n"
     ]
    },
    {
     "name": "stderr",
     "output_type": "stream",
     "text": [
      "/var/folders/f5/7w8rh9rx11938lxyvdr2g_940000gn/T/ipykernel_94711/975253196.py:27: FutureWarning: The frame.append method is deprecated and will be removed from pandas in a future version. Use pandas.concat instead.\n",
      "  df = df.append({'URL': image_src_temp, 'Labels': s}, ignore_index=True)\n"
     ]
    },
    {
     "name": "stdout",
     "output_type": "stream",
     "text": [
      "s\n",
      "Hair Joint Outerwear Shoe Shoulder Leg Neck Knee Sleeve Waist\n"
     ]
    },
    {
     "name": "stderr",
     "output_type": "stream",
     "text": [
      "/var/folders/f5/7w8rh9rx11938lxyvdr2g_940000gn/T/ipykernel_94711/975253196.py:27: FutureWarning: The frame.append method is deprecated and will be removed from pandas in a future version. Use pandas.concat instead.\n",
      "  df = df.append({'URL': image_src_temp, 'Labels': s}, ignore_index=True)\n"
     ]
    },
    {
     "name": "stdout",
     "output_type": "stream",
     "text": [
      "s\n",
      "Face Azure Sleeve Comfort Street fashion Grey Flash photography Headgear Cap Electric blue\n"
     ]
    },
    {
     "name": "stderr",
     "output_type": "stream",
     "text": [
      "/var/folders/f5/7w8rh9rx11938lxyvdr2g_940000gn/T/ipykernel_94711/975253196.py:27: FutureWarning: The frame.append method is deprecated and will be removed from pandas in a future version. Use pandas.concat instead.\n",
      "  df = df.append({'URL': image_src_temp, 'Labels': s}, ignore_index=True)\n"
     ]
    },
    {
     "name": "stdout",
     "output_type": "stream",
     "text": [
      "s\n",
      "Face Smile Lip Hairstyle Eyebrow Shoulder Flash photography Neck Fashion Sleeve\n"
     ]
    },
    {
     "name": "stderr",
     "output_type": "stream",
     "text": [
      "/var/folders/f5/7w8rh9rx11938lxyvdr2g_940000gn/T/ipykernel_94711/975253196.py:27: FutureWarning: The frame.append method is deprecated and will be removed from pandas in a future version. Use pandas.concat instead.\n",
      "  df = df.append({'URL': image_src_temp, 'Labels': s}, ignore_index=True)\n"
     ]
    },
    {
     "name": "stdout",
     "output_type": "stream",
     "text": [
      "s\n",
      "Shoulder Neck Textile Sleeve Wood Comfort Fashion design Knee Thigh Human leg\n"
     ]
    },
    {
     "name": "stderr",
     "output_type": "stream",
     "text": [
      "/var/folders/f5/7w8rh9rx11938lxyvdr2g_940000gn/T/ipykernel_94711/975253196.py:27: FutureWarning: The frame.append method is deprecated and will be removed from pandas in a future version. Use pandas.concat instead.\n",
      "  df = df.append({'URL': image_src_temp, 'Labels': s}, ignore_index=True)\n"
     ]
    },
    {
     "name": "stdout",
     "output_type": "stream",
     "text": [
      "s\n",
      "Kitchen sink Countertop Sink Cabinetry Tap Leg Plumbing fixture Kitchen appliance Kitchen Waist\n"
     ]
    },
    {
     "name": "stderr",
     "output_type": "stream",
     "text": [
      "/var/folders/f5/7w8rh9rx11938lxyvdr2g_940000gn/T/ipykernel_94711/975253196.py:27: FutureWarning: The frame.append method is deprecated and will be removed from pandas in a future version. Use pandas.concat instead.\n",
      "  df = df.append({'URL': image_src_temp, 'Labels': s}, ignore_index=True)\n"
     ]
    },
    {
     "name": "stdout",
     "output_type": "stream",
     "text": [
      "s\n",
      "Hair Joint Outerwear Arm Shoulder Comfort Neck Sleeve Gesture Happy\n"
     ]
    },
    {
     "name": "stderr",
     "output_type": "stream",
     "text": [
      "/var/folders/f5/7w8rh9rx11938lxyvdr2g_940000gn/T/ipykernel_94711/975253196.py:27: FutureWarning: The frame.append method is deprecated and will be removed from pandas in a future version. Use pandas.concat instead.\n",
      "  df = df.append({'URL': image_src_temp, 'Labels': s}, ignore_index=True)\n"
     ]
    },
    {
     "name": "stdout",
     "output_type": "stream",
     "text": [
      "s\n",
      "Face Hand Outerwear Leg Human body Flash photography Knee Sleeve Gesture Thigh\n"
     ]
    },
    {
     "name": "stderr",
     "output_type": "stream",
     "text": [
      "/var/folders/f5/7w8rh9rx11938lxyvdr2g_940000gn/T/ipykernel_94711/975253196.py:27: FutureWarning: The frame.append method is deprecated and will be removed from pandas in a future version. Use pandas.concat instead.\n",
      "  df = df.append({'URL': image_src_temp, 'Labels': s}, ignore_index=True)\n"
     ]
    },
    {
     "name": "stdout",
     "output_type": "stream",
     "text": [
      "s\n",
      "Nose Cheek Lip Chin Eyebrow Mouth Flash photography Jaw Eyelash Iris\n"
     ]
    },
    {
     "name": "stderr",
     "output_type": "stream",
     "text": [
      "/var/folders/f5/7w8rh9rx11938lxyvdr2g_940000gn/T/ipykernel_94711/975253196.py:27: FutureWarning: The frame.append method is deprecated and will be removed from pandas in a future version. Use pandas.concat instead.\n",
      "  df = df.append({'URL': image_src_temp, 'Labels': s}, ignore_index=True)\n"
     ]
    },
    {
     "name": "stdout",
     "output_type": "stream",
     "text": [
      "s\n",
      "Hair Joint Head Lip Hand Outerwear Arm Shoulder Muscle Cornrows\n"
     ]
    },
    {
     "name": "stderr",
     "output_type": "stream",
     "text": [
      "/var/folders/f5/7w8rh9rx11938lxyvdr2g_940000gn/T/ipykernel_94711/975253196.py:27: FutureWarning: The frame.append method is deprecated and will be removed from pandas in a future version. Use pandas.concat instead.\n",
      "  df = df.append({'URL': image_src_temp, 'Labels': s}, ignore_index=True)\n"
     ]
    },
    {
     "name": "stdout",
     "output_type": "stream",
     "text": [
      "s\n",
      "Eyebrow Shoulder Eye Eyelash Neck Jheri curl Sleeve Comfort Cornrows Ringlet\n"
     ]
    },
    {
     "name": "stderr",
     "output_type": "stream",
     "text": [
      "/var/folders/f5/7w8rh9rx11938lxyvdr2g_940000gn/T/ipykernel_94711/975253196.py:27: FutureWarning: The frame.append method is deprecated and will be removed from pandas in a future version. Use pandas.concat instead.\n",
      "  df = df.append({'URL': image_src_temp, 'Labels': s}, ignore_index=True)\n"
     ]
    },
    {
     "name": "stdout",
     "output_type": "stream",
     "text": [
      "s\n",
      "Arm Sleeve Gesture Thigh Cornrows Wood Long hair Art Human leg Fashion design\n"
     ]
    },
    {
     "name": "stderr",
     "output_type": "stream",
     "text": [
      "/var/folders/f5/7w8rh9rx11938lxyvdr2g_940000gn/T/ipykernel_94711/975253196.py:27: FutureWarning: The frame.append method is deprecated and will be removed from pandas in a future version. Use pandas.concat instead.\n",
      "  df = df.append({'URL': image_src_temp, 'Labels': s}, ignore_index=True)\n"
     ]
    },
    {
     "name": "stdout",
     "output_type": "stream",
     "text": [
      "s\n",
      "Smile Arm Comfort Neck Sleeve Gesture Happy Finger Headgear Human leg\n"
     ]
    },
    {
     "name": "stderr",
     "output_type": "stream",
     "text": [
      "/var/folders/f5/7w8rh9rx11938lxyvdr2g_940000gn/T/ipykernel_94711/975253196.py:27: FutureWarning: The frame.append method is deprecated and will be removed from pandas in a future version. Use pandas.concat instead.\n",
      "  df = df.append({'URL': image_src_temp, 'Labels': s}, ignore_index=True)\n"
     ]
    },
    {
     "name": "stdout",
     "output_type": "stream",
     "text": [
      "s\n",
      "Hair Joint Outerwear Hairstyle Shoulder Eye Cornrows Neck Sleeve Waist\n"
     ]
    },
    {
     "name": "stderr",
     "output_type": "stream",
     "text": [
      "/var/folders/f5/7w8rh9rx11938lxyvdr2g_940000gn/T/ipykernel_94711/975253196.py:27: FutureWarning: The frame.append method is deprecated and will be removed from pandas in a future version. Use pandas.concat instead.\n",
      "  df = df.append({'URL': image_src_temp, 'Labels': s}, ignore_index=True)\n"
     ]
    },
    {
     "name": "stdout",
     "output_type": "stream",
     "text": [
      "s\n",
      "Joint Arm Shoulder Leg Muscle Comfort Neck Sleeve Waist Thigh\n"
     ]
    },
    {
     "name": "stderr",
     "output_type": "stream",
     "text": [
      "/var/folders/f5/7w8rh9rx11938lxyvdr2g_940000gn/T/ipykernel_94711/975253196.py:27: FutureWarning: The frame.append method is deprecated and will be removed from pandas in a future version. Use pandas.concat instead.\n",
      "  df = df.append({'URL': image_src_temp, 'Labels': s}, ignore_index=True)\n"
     ]
    },
    {
     "name": "stdout",
     "output_type": "stream",
     "text": [
      "s\n",
      "Outerwear White Organ Neck Sleeve Cap Headgear Happy Comfort Beauty\n"
     ]
    },
    {
     "name": "stderr",
     "output_type": "stream",
     "text": [
      "/var/folders/f5/7w8rh9rx11938lxyvdr2g_940000gn/T/ipykernel_94711/975253196.py:27: FutureWarning: The frame.append method is deprecated and will be removed from pandas in a future version. Use pandas.concat instead.\n",
      "  df = df.append({'URL': image_src_temp, 'Labels': s}, ignore_index=True)\n"
     ]
    },
    {
     "name": "stdout",
     "output_type": "stream",
     "text": [
      "s\n",
      "Lip Outerwear White Neck Street fashion Flash photography Sleeve Textile Eyelash Fashion model\n"
     ]
    },
    {
     "name": "stderr",
     "output_type": "stream",
     "text": [
      "/var/folders/f5/7w8rh9rx11938lxyvdr2g_940000gn/T/ipykernel_94711/975253196.py:27: FutureWarning: The frame.append method is deprecated and will be removed from pandas in a future version. Use pandas.concat instead.\n",
      "  df = df.append({'URL': image_src_temp, 'Labels': s}, ignore_index=True)\n"
     ]
    },
    {
     "name": "stdout",
     "output_type": "stream",
     "text": [
      "s\n",
      "Outerwear Shoulder Street fashion Overcoat Sleeve Waist Trench coat Fashion design Blazer Fur clothing\n"
     ]
    },
    {
     "name": "stderr",
     "output_type": "stream",
     "text": [
      "/var/folders/f5/7w8rh9rx11938lxyvdr2g_940000gn/T/ipykernel_94711/975253196.py:27: FutureWarning: The frame.append method is deprecated and will be removed from pandas in a future version. Use pandas.concat instead.\n",
      "  df = df.append({'URL': image_src_temp, 'Labels': s}, ignore_index=True)\n"
     ]
    },
    {
     "name": "stdout",
     "output_type": "stream",
     "text": [
      "s\n",
      "Outerwear Window Fashion Sleeve Street fashion Standing Orange Thigh Knee Eyewear\n"
     ]
    },
    {
     "name": "stderr",
     "output_type": "stream",
     "text": [
      "/var/folders/f5/7w8rh9rx11938lxyvdr2g_940000gn/T/ipykernel_94711/975253196.py:27: FutureWarning: The frame.append method is deprecated and will be removed from pandas in a future version. Use pandas.concat instead.\n",
      "  df = df.append({'URL': image_src_temp, 'Labels': s}, ignore_index=True)\n"
     ]
    },
    {
     "name": "stdout",
     "output_type": "stream",
     "text": [
      "s\n",
      "Clothing Smile Skin Outerwear Eyebrow White Sleeve Happy Gesture Comfort\n"
     ]
    },
    {
     "name": "stderr",
     "output_type": "stream",
     "text": [
      "/var/folders/f5/7w8rh9rx11938lxyvdr2g_940000gn/T/ipykernel_94711/975253196.py:27: FutureWarning: The frame.append method is deprecated and will be removed from pandas in a future version. Use pandas.concat instead.\n",
      "  df = df.append({'URL': image_src_temp, 'Labels': s}, ignore_index=True)\n"
     ]
    },
    {
     "name": "stdout",
     "output_type": "stream",
     "text": [
      "s\n",
      "Outerwear Leg Comfort Neck Sleeve Gesture Thigh Collar Dress shirt Elbow\n"
     ]
    },
    {
     "name": "stderr",
     "output_type": "stream",
     "text": [
      "/var/folders/f5/7w8rh9rx11938lxyvdr2g_940000gn/T/ipykernel_94711/975253196.py:27: FutureWarning: The frame.append method is deprecated and will be removed from pandas in a future version. Use pandas.concat instead.\n",
      "  df = df.append({'URL': image_src_temp, 'Labels': s}, ignore_index=True)\n"
     ]
    },
    {
     "name": "stdout",
     "output_type": "stream",
     "text": [
      "s\n",
      "Smile Skin Lip Hand Outerwear Hairstyle Arm Facial expression Human Fashion\n"
     ]
    },
    {
     "name": "stderr",
     "output_type": "stream",
     "text": [
      "/var/folders/f5/7w8rh9rx11938lxyvdr2g_940000gn/T/ipykernel_94711/975253196.py:27: FutureWarning: The frame.append method is deprecated and will be removed from pandas in a future version. Use pandas.concat instead.\n",
      "  df = df.append({'URL': image_src_temp, 'Labels': s}, ignore_index=True)\n"
     ]
    },
    {
     "name": "stdout",
     "output_type": "stream",
     "text": [
      "s\n",
      "Joint Skin Lip Shoulder Shoe Leg Neck Flash photography Sleeve Standing\n"
     ]
    },
    {
     "name": "stderr",
     "output_type": "stream",
     "text": [
      "/var/folders/f5/7w8rh9rx11938lxyvdr2g_940000gn/T/ipykernel_94711/975253196.py:27: FutureWarning: The frame.append method is deprecated and will be removed from pandas in a future version. Use pandas.concat instead.\n",
      "  df = df.append({'URL': image_src_temp, 'Labels': s}, ignore_index=True)\n"
     ]
    },
    {
     "name": "stdout",
     "output_type": "stream",
     "text": [
      "s\n",
      "Hairstyle Fur clothing Vertebrate Parka Natural material Animal product Street fashion Mammal Feather Fawn\n"
     ]
    },
    {
     "name": "stderr",
     "output_type": "stream",
     "text": [
      "/var/folders/f5/7w8rh9rx11938lxyvdr2g_940000gn/T/ipykernel_94711/975253196.py:27: FutureWarning: The frame.append method is deprecated and will be removed from pandas in a future version. Use pandas.concat instead.\n",
      "  df = df.append({'URL': image_src_temp, 'Labels': s}, ignore_index=True)\n"
     ]
    },
    {
     "name": "stdout",
     "output_type": "stream",
     "text": [
      "s\n",
      "Automotive lighting Automotive design Automotive exterior Vehicle door Motor vehicle Rectangle Font Art Display device Display case\n"
     ]
    },
    {
     "name": "stderr",
     "output_type": "stream",
     "text": [
      "/var/folders/f5/7w8rh9rx11938lxyvdr2g_940000gn/T/ipykernel_94711/975253196.py:27: FutureWarning: The frame.append method is deprecated and will be removed from pandas in a future version. Use pandas.concat instead.\n",
      "  df = df.append({'URL': image_src_temp, 'Labels': s}, ignore_index=True)\n"
     ]
    },
    {
     "name": "stdout",
     "output_type": "stream",
     "text": [
      "s\n",
      "Gesture Sky Font Tree Display device Personal protective equipment Electronic device Rectangle Flash photography Electric blue\n"
     ]
    },
    {
     "name": "stderr",
     "output_type": "stream",
     "text": [
      "/var/folders/f5/7w8rh9rx11938lxyvdr2g_940000gn/T/ipykernel_94711/975253196.py:27: FutureWarning: The frame.append method is deprecated and will be removed from pandas in a future version. Use pandas.concat instead.\n",
      "  df = df.append({'URL': image_src_temp, 'Labels': s}, ignore_index=True)\n"
     ]
    },
    {
     "name": "stdout",
     "output_type": "stream",
     "text": [
      "s\n",
      "Automotive design Rectangle Automotive lighting Automotive mirror Motor vehicle Vehicle door Automotive exterior Font Gadget Windscreen wiper\n"
     ]
    },
    {
     "name": "stderr",
     "output_type": "stream",
     "text": [
      "/var/folders/f5/7w8rh9rx11938lxyvdr2g_940000gn/T/ipykernel_94711/975253196.py:27: FutureWarning: The frame.append method is deprecated and will be removed from pandas in a future version. Use pandas.concat instead.\n",
      "  df = df.append({'URL': image_src_temp, 'Labels': s}, ignore_index=True)\n"
     ]
    },
    {
     "name": "stdout",
     "output_type": "stream",
     "text": [
      "s\n",
      "Purple Output device Rectangle Violet Television set Line Gadget Magenta Sky Display device\n"
     ]
    },
    {
     "name": "stderr",
     "output_type": "stream",
     "text": [
      "/var/folders/f5/7w8rh9rx11938lxyvdr2g_940000gn/T/ipykernel_94711/975253196.py:27: FutureWarning: The frame.append method is deprecated and will be removed from pandas in a future version. Use pandas.concat instead.\n",
      "  df = df.append({'URL': image_src_temp, 'Labels': s}, ignore_index=True)\n"
     ]
    },
    {
     "name": "stdout",
     "output_type": "stream",
     "text": [
      "s\n",
      "Sleeve Rectangle Gadget Font Display device Electronic device Electric blue Fictional character Magenta Multimedia\n"
     ]
    },
    {
     "name": "stderr",
     "output_type": "stream",
     "text": [
      "/var/folders/f5/7w8rh9rx11938lxyvdr2g_940000gn/T/ipykernel_94711/975253196.py:27: FutureWarning: The frame.append method is deprecated and will be removed from pandas in a future version. Use pandas.concat instead.\n",
      "  df = df.append({'URL': image_src_temp, 'Labels': s}, ignore_index=True)\n"
     ]
    },
    {
     "name": "stdout",
     "output_type": "stream",
     "text": [
      "s\n",
      "Arm Human body Flash photography Neck Sleeve Waist Gesture Comfort Thigh Elbow\n"
     ]
    },
    {
     "name": "stderr",
     "output_type": "stream",
     "text": [
      "/var/folders/f5/7w8rh9rx11938lxyvdr2g_940000gn/T/ipykernel_94711/975253196.py:27: FutureWarning: The frame.append method is deprecated and will be removed from pandas in a future version. Use pandas.concat instead.\n",
      "  df = df.append({'URL': image_src_temp, 'Labels': s}, ignore_index=True)\n"
     ]
    },
    {
     "name": "stdout",
     "output_type": "stream",
     "text": [
      "s\n",
      "Smile Neck Sleeve Collar Street fashion Jacket Black hair Leather jacket Comfort Magenta\n"
     ]
    },
    {
     "name": "stderr",
     "output_type": "stream",
     "text": [
      "/var/folders/f5/7w8rh9rx11938lxyvdr2g_940000gn/T/ipykernel_94711/975253196.py:27: FutureWarning: The frame.append method is deprecated and will be removed from pandas in a future version. Use pandas.concat instead.\n",
      "  df = df.append({'URL': image_src_temp, 'Labels': s}, ignore_index=True)\n"
     ]
    },
    {
     "name": "stdout",
     "output_type": "stream",
     "text": [
      "s\n",
      "Outerwear Bag Luggage and bags Sleeve Grey Collar Automotive design Blazer Formal wear Electric blue\n"
     ]
    },
    {
     "name": "stderr",
     "output_type": "stream",
     "text": [
      "/var/folders/f5/7w8rh9rx11938lxyvdr2g_940000gn/T/ipykernel_94711/975253196.py:27: FutureWarning: The frame.append method is deprecated and will be removed from pandas in a future version. Use pandas.concat instead.\n",
      "  df = df.append({'URL': image_src_temp, 'Labels': s}, ignore_index=True)\n"
     ]
    },
    {
     "name": "stdout",
     "output_type": "stream",
     "text": [
      "s\n",
      "Joint Outerwear Hairstyle Photograph Shoulder Fashion Sleeve Flash photography Standing Street fashion\n"
     ]
    },
    {
     "name": "stderr",
     "output_type": "stream",
     "text": [
      "/var/folders/f5/7w8rh9rx11938lxyvdr2g_940000gn/T/ipykernel_94711/975253196.py:27: FutureWarning: The frame.append method is deprecated and will be removed from pandas in a future version. Use pandas.concat instead.\n",
      "  df = df.append({'URL': image_src_temp, 'Labels': s}, ignore_index=True)\n"
     ]
    },
    {
     "name": "stdout",
     "output_type": "stream",
     "text": [
      "s\n",
      "White Light Product Sleeve Collar Material property Bag Automotive design Sports gear Motor vehicle\n"
     ]
    },
    {
     "name": "stderr",
     "output_type": "stream",
     "text": [
      "/var/folders/f5/7w8rh9rx11938lxyvdr2g_940000gn/T/ipykernel_94711/975253196.py:27: FutureWarning: The frame.append method is deprecated and will be removed from pandas in a future version. Use pandas.concat instead.\n",
      "  df = df.append({'URL': image_src_temp, 'Labels': s}, ignore_index=True)\n"
     ]
    },
    {
     "name": "stdout",
     "output_type": "stream",
     "text": [
      "s\n",
      "Flash photography Sleeve Font Personal protective equipment Monochrome photography Jewellery Monochrome Leather jacket Bag Fashion accessory\n"
     ]
    },
    {
     "name": "stderr",
     "output_type": "stream",
     "text": [
      "/var/folders/f5/7w8rh9rx11938lxyvdr2g_940000gn/T/ipykernel_94711/975253196.py:27: FutureWarning: The frame.append method is deprecated and will be removed from pandas in a future version. Use pandas.concat instead.\n",
      "  df = df.append({'URL': image_src_temp, 'Labels': s}, ignore_index=True)\n"
     ]
    },
    {
     "name": "stdout",
     "output_type": "stream",
     "text": [
      "s\n",
      "Font Electric blue Logo Brand Graphics Trademark\n"
     ]
    },
    {
     "name": "stderr",
     "output_type": "stream",
     "text": [
      "/var/folders/f5/7w8rh9rx11938lxyvdr2g_940000gn/T/ipykernel_94711/975253196.py:27: FutureWarning: The frame.append method is deprecated and will be removed from pandas in a future version. Use pandas.concat instead.\n",
      "  df = df.append({'URL': image_src_temp, 'Labels': s}, ignore_index=True)\n"
     ]
    },
    {
     "name": "stdout",
     "output_type": "stream",
     "text": [
      "s\n",
      "Blue Smile Sleeve Eyewear Standing Sky Street fashion Waist Collar Knee\n"
     ]
    },
    {
     "name": "stderr",
     "output_type": "stream",
     "text": [
      "/var/folders/f5/7w8rh9rx11938lxyvdr2g_940000gn/T/ipykernel_94711/975253196.py:27: FutureWarning: The frame.append method is deprecated and will be removed from pandas in a future version. Use pandas.concat instead.\n",
      "  df = df.append({'URL': image_src_temp, 'Labels': s}, ignore_index=True)\n"
     ]
    },
    {
     "name": "stdout",
     "output_type": "stream",
     "text": [
      "s\n",
      "Footwear Shoe Shoulder Leg Dress shirt Neck Sleeve Waist Street fashion Collar\n"
     ]
    },
    {
     "name": "stderr",
     "output_type": "stream",
     "text": [
      "/var/folders/f5/7w8rh9rx11938lxyvdr2g_940000gn/T/ipykernel_94711/975253196.py:27: FutureWarning: The frame.append method is deprecated and will be removed from pandas in a future version. Use pandas.concat instead.\n",
      "  df = df.append({'URL': image_src_temp, 'Labels': s}, ignore_index=True)\n"
     ]
    },
    {
     "name": "stdout",
     "output_type": "stream",
     "text": [
      "s\n",
      "Hand Outerwear Street fashion Sleeve Cap Gesture Flash photography Headgear Cool Waist\n"
     ]
    },
    {
     "name": "stderr",
     "output_type": "stream",
     "text": [
      "/var/folders/f5/7w8rh9rx11938lxyvdr2g_940000gn/T/ipykernel_94711/975253196.py:27: FutureWarning: The frame.append method is deprecated and will be removed from pandas in a future version. Use pandas.concat instead.\n",
      "  df = df.append({'URL': image_src_temp, 'Labels': s}, ignore_index=True)\n"
     ]
    },
    {
     "name": "stdout",
     "output_type": "stream",
     "text": [
      "s\n",
      "Face Joint Skin Lip Hand Outerwear Arm Shoulder Human body Eyelash\n"
     ]
    },
    {
     "name": "stderr",
     "output_type": "stream",
     "text": [
      "/var/folders/f5/7w8rh9rx11938lxyvdr2g_940000gn/T/ipykernel_94711/975253196.py:27: FutureWarning: The frame.append method is deprecated and will be removed from pandas in a future version. Use pandas.concat instead.\n",
      "  df = df.append({'URL': image_src_temp, 'Labels': s}, ignore_index=True)\n"
     ]
    },
    {
     "name": "stdout",
     "output_type": "stream",
     "text": [
      "s\n",
      "Footwear Shoe Outerwear Shoulder Window Plant White Eyewear Neck Houseplant\n"
     ]
    },
    {
     "name": "stderr",
     "output_type": "stream",
     "text": [
      "/var/folders/f5/7w8rh9rx11938lxyvdr2g_940000gn/T/ipykernel_94711/975253196.py:27: FutureWarning: The frame.append method is deprecated and will be removed from pandas in a future version. Use pandas.concat instead.\n",
      "  df = df.append({'URL': image_src_temp, 'Labels': s}, ignore_index=True)\n"
     ]
    },
    {
     "name": "stdout",
     "output_type": "stream",
     "text": [
      "s\n",
      "Leg Street fashion Flash photography Sleeve Waist Standing Knee Thigh Collar Denim\n"
     ]
    },
    {
     "name": "stderr",
     "output_type": "stream",
     "text": [
      "/var/folders/f5/7w8rh9rx11938lxyvdr2g_940000gn/T/ipykernel_94711/975253196.py:27: FutureWarning: The frame.append method is deprecated and will be removed from pandas in a future version. Use pandas.concat instead.\n",
      "  df = df.append({'URL': image_src_temp, 'Labels': s}, ignore_index=True)\n"
     ]
    },
    {
     "name": "stdout",
     "output_type": "stream",
     "text": [
      "s\n",
      "Outerwear White Street fashion Sleeve Comfort Gesture Glove Finger Cap Cool\n"
     ]
    },
    {
     "name": "stderr",
     "output_type": "stream",
     "text": [
      "/var/folders/f5/7w8rh9rx11938lxyvdr2g_940000gn/T/ipykernel_94711/975253196.py:27: FutureWarning: The frame.append method is deprecated and will be removed from pandas in a future version. Use pandas.concat instead.\n",
      "  df = df.append({'URL': image_src_temp, 'Labels': s}, ignore_index=True)\n"
     ]
    },
    {
     "name": "stdout",
     "output_type": "stream",
     "text": [
      "s\n",
      "Footwear Jeans Glasses Plant Leg Overcoat Window Sky Tree Waist\n"
     ]
    },
    {
     "name": "stderr",
     "output_type": "stream",
     "text": [
      "/var/folders/f5/7w8rh9rx11938lxyvdr2g_940000gn/T/ipykernel_94711/975253196.py:27: FutureWarning: The frame.append method is deprecated and will be removed from pandas in a future version. Use pandas.concat instead.\n",
      "  df = df.append({'URL': image_src_temp, 'Labels': s}, ignore_index=True)\n"
     ]
    },
    {
     "name": "stdout",
     "output_type": "stream",
     "text": [
      "s\n",
      "Building Window Photograph Street fashion Smile Sleeve Standing Gesture Collar Cool\n"
     ]
    },
    {
     "name": "stderr",
     "output_type": "stream",
     "text": [
      "/var/folders/f5/7w8rh9rx11938lxyvdr2g_940000gn/T/ipykernel_94711/975253196.py:27: FutureWarning: The frame.append method is deprecated and will be removed from pandas in a future version. Use pandas.concat instead.\n",
      "  df = df.append({'URL': image_src_temp, 'Labels': s}, ignore_index=True)\n"
     ]
    },
    {
     "name": "stdout",
     "output_type": "stream",
     "text": [
      "s\n",
      "Clothing Overcoat Shoulder Trench coat Street fashion Sleeve Dress shirt Waist Collar Knee\n"
     ]
    },
    {
     "name": "stderr",
     "output_type": "stream",
     "text": [
      "/var/folders/f5/7w8rh9rx11938lxyvdr2g_940000gn/T/ipykernel_94711/975253196.py:27: FutureWarning: The frame.append method is deprecated and will be removed from pandas in a future version. Use pandas.concat instead.\n",
      "  df = df.append({'URL': image_src_temp, 'Labels': s}, ignore_index=True)\n"
     ]
    },
    {
     "name": "stdout",
     "output_type": "stream",
     "text": [
      "s\n",
      "Forehead Face Hair Lip Chin Outerwear Hairstyle Shoulder Organ Human\n"
     ]
    },
    {
     "name": "stderr",
     "output_type": "stream",
     "text": [
      "/var/folders/f5/7w8rh9rx11938lxyvdr2g_940000gn/T/ipykernel_94711/975253196.py:27: FutureWarning: The frame.append method is deprecated and will be removed from pandas in a future version. Use pandas.concat instead.\n",
      "  df = df.append({'URL': image_src_temp, 'Labels': s}, ignore_index=True)\n"
     ]
    },
    {
     "name": "stdout",
     "output_type": "stream",
     "text": [
      "s\n",
      "Outerwear Hairstyle Shoulder Coat Black Street fashion Sky Neck Textile Sleeve\n"
     ]
    },
    {
     "name": "stderr",
     "output_type": "stream",
     "text": [
      "/var/folders/f5/7w8rh9rx11938lxyvdr2g_940000gn/T/ipykernel_94711/975253196.py:27: FutureWarning: The frame.append method is deprecated and will be removed from pandas in a future version. Use pandas.concat instead.\n",
      "  df = df.append({'URL': image_src_temp, 'Labels': s}, ignore_index=True)\n"
     ]
    },
    {
     "name": "stdout",
     "output_type": "stream",
     "text": [
      "s\n",
      "Face Hair Lip Eyebrow Shoulder Cap Smile Eyewear Flash photography Neck\n"
     ]
    },
    {
     "name": "stderr",
     "output_type": "stream",
     "text": [
      "/var/folders/f5/7w8rh9rx11938lxyvdr2g_940000gn/T/ipykernel_94711/975253196.py:27: FutureWarning: The frame.append method is deprecated and will be removed from pandas in a future version. Use pandas.concat instead.\n",
      "  df = df.append({'URL': image_src_temp, 'Labels': s}, ignore_index=True)\n"
     ]
    },
    {
     "name": "stdout",
     "output_type": "stream",
     "text": [
      "s\n",
      "Coat Overcoat Arm Human body Neck Sleeve Waist Street fashion Gesture Trench coat\n"
     ]
    },
    {
     "name": "stderr",
     "output_type": "stream",
     "text": [
      "/var/folders/f5/7w8rh9rx11938lxyvdr2g_940000gn/T/ipykernel_94711/975253196.py:27: FutureWarning: The frame.append method is deprecated and will be removed from pandas in a future version. Use pandas.concat instead.\n",
      "  df = df.append({'URL': image_src_temp, 'Labels': s}, ignore_index=True)\n"
     ]
    },
    {
     "name": "stdout",
     "output_type": "stream",
     "text": [
      "s\n",
      "Footwear Outerwear Shoe Leg Street fashion Fashion Hat Sleeve Overcoat Waist\n"
     ]
    },
    {
     "name": "stderr",
     "output_type": "stream",
     "text": [
      "/var/folders/f5/7w8rh9rx11938lxyvdr2g_940000gn/T/ipykernel_94711/975253196.py:27: FutureWarning: The frame.append method is deprecated and will be removed from pandas in a future version. Use pandas.concat instead.\n",
      "  df = df.append({'URL': image_src_temp, 'Labels': s}, ignore_index=True)\n"
     ]
    },
    {
     "name": "stdout",
     "output_type": "stream",
     "text": [
      "s\n",
      "Shoe Photograph Sky Sleeve People in nature Cap Eyewear Hat Sneakers Street fashion\n"
     ]
    },
    {
     "name": "stderr",
     "output_type": "stream",
     "text": [
      "/var/folders/f5/7w8rh9rx11938lxyvdr2g_940000gn/T/ipykernel_94711/975253196.py:27: FutureWarning: The frame.append method is deprecated and will be removed from pandas in a future version. Use pandas.concat instead.\n",
      "  df = df.append({'URL': image_src_temp, 'Labels': s}, ignore_index=True)\n"
     ]
    },
    {
     "name": "stdout",
     "output_type": "stream",
     "text": [
      "s\n",
      "Plant People in nature Wood Glove Tree Natural landscape Terrestrial plant Trunk Grass Forest\n"
     ]
    },
    {
     "name": "stderr",
     "output_type": "stream",
     "text": [
      "/var/folders/f5/7w8rh9rx11938lxyvdr2g_940000gn/T/ipykernel_94711/975253196.py:27: FutureWarning: The frame.append method is deprecated and will be removed from pandas in a future version. Use pandas.concat instead.\n",
      "  df = df.append({'URL': image_src_temp, 'Labels': s}, ignore_index=True)\n"
     ]
    },
    {
     "name": "stdout",
     "output_type": "stream",
     "text": [
      "s\n",
      "Glove Sky Tree Plant Sleeve Flash photography Headgear Eyewear Personal protective equipment Electric blue\n"
     ]
    },
    {
     "name": "stderr",
     "output_type": "stream",
     "text": [
      "/var/folders/f5/7w8rh9rx11938lxyvdr2g_940000gn/T/ipykernel_94711/975253196.py:27: FutureWarning: The frame.append method is deprecated and will be removed from pandas in a future version. Use pandas.concat instead.\n",
      "  df = df.append({'URL': image_src_temp, 'Labels': s}, ignore_index=True)\n"
     ]
    },
    {
     "name": "stdout",
     "output_type": "stream",
     "text": [
      "s\n",
      "Car Land vehicle Wheel Vehicle Tire Window Building Hood Motor vehicle Automotive design\n"
     ]
    },
    {
     "name": "stderr",
     "output_type": "stream",
     "text": [
      "/var/folders/f5/7w8rh9rx11938lxyvdr2g_940000gn/T/ipykernel_94711/975253196.py:27: FutureWarning: The frame.append method is deprecated and will be removed from pandas in a future version. Use pandas.concat instead.\n",
      "  df = df.append({'URL': image_src_temp, 'Labels': s}, ignore_index=True)\n"
     ]
    },
    {
     "name": "stdout",
     "output_type": "stream",
     "text": [
      "s\n",
      "Sky Dress shirt Sleeve Gesture Asphalt Grey Waist Street fashion Tree Blazer\n"
     ]
    },
    {
     "name": "stderr",
     "output_type": "stream",
     "text": [
      "/var/folders/f5/7w8rh9rx11938lxyvdr2g_940000gn/T/ipykernel_94711/975253196.py:27: FutureWarning: The frame.append method is deprecated and will be removed from pandas in a future version. Use pandas.concat instead.\n",
      "  df = df.append({'URL': image_src_temp, 'Labels': s}, ignore_index=True)\n"
     ]
    },
    {
     "name": "stdout",
     "output_type": "stream",
     "text": [
      "s\n",
      "Glasses Shoulder Vision care Dress shirt Eyewear Neck Human body Comfort Sunglasses Sleeve\n"
     ]
    },
    {
     "name": "stderr",
     "output_type": "stream",
     "text": [
      "/var/folders/f5/7w8rh9rx11938lxyvdr2g_940000gn/T/ipykernel_94711/975253196.py:27: FutureWarning: The frame.append method is deprecated and will be removed from pandas in a future version. Use pandas.concat instead.\n",
      "  df = df.append({'URL': image_src_temp, 'Labels': s}, ignore_index=True)\n"
     ]
    },
    {
     "name": "stdout",
     "output_type": "stream",
     "text": [
      "s\n",
      "Building Outerwear Shoe Window Flowerpot Leg Plant Street fashion Standing Houseplant\n"
     ]
    },
    {
     "name": "stderr",
     "output_type": "stream",
     "text": [
      "/var/folders/f5/7w8rh9rx11938lxyvdr2g_940000gn/T/ipykernel_94711/975253196.py:27: FutureWarning: The frame.append method is deprecated and will be removed from pandas in a future version. Use pandas.concat instead.\n",
      "  df = df.append({'URL': image_src_temp, 'Labels': s}, ignore_index=True)\n"
     ]
    },
    {
     "name": "stdout",
     "output_type": "stream",
     "text": [
      "s\n",
      "Outerwear Blue Window Street fashion Azure Building Textile Sleeve Standing Sky\n"
     ]
    },
    {
     "name": "stderr",
     "output_type": "stream",
     "text": [
      "/var/folders/f5/7w8rh9rx11938lxyvdr2g_940000gn/T/ipykernel_94711/975253196.py:27: FutureWarning: The frame.append method is deprecated and will be removed from pandas in a future version. Use pandas.concat instead.\n",
      "  df = df.append({'URL': image_src_temp, 'Labels': s}, ignore_index=True)\n"
     ]
    },
    {
     "name": "stdout",
     "output_type": "stream",
     "text": [
      "s\n",
      "Shoe Window Leg Building Street fashion Fashion Road surface Standing Knee Wood\n"
     ]
    },
    {
     "name": "stderr",
     "output_type": "stream",
     "text": [
      "/var/folders/f5/7w8rh9rx11938lxyvdr2g_940000gn/T/ipykernel_94711/975253196.py:27: FutureWarning: The frame.append method is deprecated and will be removed from pandas in a future version. Use pandas.concat instead.\n",
      "  df = df.append({'URL': image_src_temp, 'Labels': s}, ignore_index=True)\n"
     ]
    },
    {
     "name": "stdout",
     "output_type": "stream",
     "text": [
      "s\n",
      "Joint Skin Lip Shoulder Eye Facial expression Blue Leg Organ Black\n"
     ]
    },
    {
     "name": "stderr",
     "output_type": "stream",
     "text": [
      "/var/folders/f5/7w8rh9rx11938lxyvdr2g_940000gn/T/ipykernel_94711/975253196.py:27: FutureWarning: The frame.append method is deprecated and will be removed from pandas in a future version. Use pandas.concat instead.\n",
      "  df = df.append({'URL': image_src_temp, 'Labels': s}, ignore_index=True)\n"
     ]
    },
    {
     "name": "stdout",
     "output_type": "stream",
     "text": [
      "s\n",
      "Joint Lip Outerwear Arm Shoulder Street fashion Fashion Neck Textile Sleeve\n"
     ]
    },
    {
     "name": "stderr",
     "output_type": "stream",
     "text": [
      "/var/folders/f5/7w8rh9rx11938lxyvdr2g_940000gn/T/ipykernel_94711/975253196.py:27: FutureWarning: The frame.append method is deprecated and will be removed from pandas in a future version. Use pandas.concat instead.\n",
      "  df = df.append({'URL': image_src_temp, 'Labels': s}, ignore_index=True)\n"
     ]
    },
    {
     "name": "stdout",
     "output_type": "stream",
     "text": [
      "s\n",
      "Smile Outerwear Photograph Plant Blue Street fashion Azure Sleeve Glove Jacket\n"
     ]
    },
    {
     "name": "stderr",
     "output_type": "stream",
     "text": [
      "/var/folders/f5/7w8rh9rx11938lxyvdr2g_940000gn/T/ipykernel_94711/975253196.py:27: FutureWarning: The frame.append method is deprecated and will be removed from pandas in a future version. Use pandas.concat instead.\n",
      "  df = df.append({'URL': image_src_temp, 'Labels': s}, ignore_index=True)\n"
     ]
    },
    {
     "name": "stdout",
     "output_type": "stream",
     "text": [
      "s\n",
      "Outerwear Photograph Plant White Sleeve Textile Street fashion Collar Overcoat Grass\n"
     ]
    },
    {
     "name": "stderr",
     "output_type": "stream",
     "text": [
      "/var/folders/f5/7w8rh9rx11938lxyvdr2g_940000gn/T/ipykernel_94711/975253196.py:27: FutureWarning: The frame.append method is deprecated and will be removed from pandas in a future version. Use pandas.concat instead.\n",
      "  df = df.append({'URL': image_src_temp, 'Labels': s}, ignore_index=True)\n"
     ]
    },
    {
     "name": "stdout",
     "output_type": "stream",
     "text": [
      "s\n",
      "Outerwear Shoulder Overcoat Leg Street fashion Window Sleeve Fur clothing Standing Waist\n"
     ]
    },
    {
     "name": "stderr",
     "output_type": "stream",
     "text": [
      "/var/folders/f5/7w8rh9rx11938lxyvdr2g_940000gn/T/ipykernel_94711/975253196.py:27: FutureWarning: The frame.append method is deprecated and will be removed from pandas in a future version. Use pandas.concat instead.\n",
      "  df = df.append({'URL': image_src_temp, 'Labels': s}, ignore_index=True)\n"
     ]
    },
    {
     "name": "stdout",
     "output_type": "stream",
     "text": [
      "s\n",
      "Outerwear Shoulder Window Natural material Fur clothing Animal product Street fashion Fashion Textile Eyewear\n"
     ]
    },
    {
     "name": "stderr",
     "output_type": "stream",
     "text": [
      "/var/folders/f5/7w8rh9rx11938lxyvdr2g_940000gn/T/ipykernel_94711/975253196.py:27: FutureWarning: The frame.append method is deprecated and will be removed from pandas in a future version. Use pandas.concat instead.\n",
      "  df = df.append({'URL': image_src_temp, 'Labels': s}, ignore_index=True)\n"
     ]
    },
    {
     "name": "stdout",
     "output_type": "stream",
     "text": [
      "s\n",
      "Cloud Sky Natural landscape Font Morning Happy Plant Landscape Poster Publication\n"
     ]
    },
    {
     "name": "stderr",
     "output_type": "stream",
     "text": [
      "/var/folders/f5/7w8rh9rx11938lxyvdr2g_940000gn/T/ipykernel_94711/975253196.py:27: FutureWarning: The frame.append method is deprecated and will be removed from pandas in a future version. Use pandas.concat instead.\n",
      "  df = df.append({'URL': image_src_temp, 'Labels': s}, ignore_index=True)\n"
     ]
    },
    {
     "name": "stdout",
     "output_type": "stream",
     "text": [
      "s\n",
      "Hand Outerwear Arm Mouth White Vision care Television Flash photography Eyewear Gesture\n"
     ]
    },
    {
     "name": "stderr",
     "output_type": "stream",
     "text": [
      "/var/folders/f5/7w8rh9rx11938lxyvdr2g_940000gn/T/ipykernel_94711/975253196.py:27: FutureWarning: The frame.append method is deprecated and will be removed from pandas in a future version. Use pandas.concat instead.\n",
      "  df = df.append({'URL': image_src_temp, 'Labels': s}, ignore_index=True)\n"
     ]
    },
    {
     "name": "stdout",
     "output_type": "stream",
     "text": [
      "s\n",
      "Forehead Nose Smile Lip Chin Eyebrow Eye Eyelash Jheri curl Black\n"
     ]
    },
    {
     "name": "stderr",
     "output_type": "stream",
     "text": [
      "/var/folders/f5/7w8rh9rx11938lxyvdr2g_940000gn/T/ipykernel_94711/975253196.py:27: FutureWarning: The frame.append method is deprecated and will be removed from pandas in a future version. Use pandas.concat instead.\n",
      "  df = df.append({'URL': image_src_temp, 'Labels': s}, ignore_index=True)\n"
     ]
    }
   ],
   "source": [
    "xlrd.xlsx.ensure_elementtree_imported(False, None)\n",
    "xlrd.xlsx.Element_has_iter = True\n",
    "\n",
    "Application_Credentials = 'My Project 74932-95eea7d0bd8b.json'\n",
    "os.environ['GOOGLE_APPLICATION_CREDENTIALS'] = Application_Credentials\n",
    "client = vision.ImageAnnotatorClient()\n",
    "image = vision.Image()\n",
    "\n",
    "loc = (\"insta_url.xlsx\")\n",
    "wb = xlrd.open_workbook(loc)\n",
    "sheet = wb.sheet_by_index(0)\n",
    "sheet.cell_value(0, 0)\n",
    "df = pd.DataFrame()\n",
    "# loop through every url, retrieve the image and send to google vision\n",
    "for i in range(sheet.nrows):\n",
    "    image_src_temp = sheet.cell_value(i, 0)\n",
    "    image.source.image_uri = image_src_temp\n",
    "    response = client.label_detection(image=image)\n",
    "    labels = response.label_annotations\n",
    "    l = []\n",
    "    for label in labels:\n",
    "        l.append(label.description)\n",
    "    s = ' '.join(l)\n",
    "    print(\"s\")\n",
    "    print(s)\n",
    "    df = df.append({'URL': image_src_temp, 'Labels': s}, ignore_index=True)\n",
    "df.to_excel(\"GV_Output.xlsx\",index=False)\n",
    "\n"
   ]
  },
  {
   "cell_type": "code",
   "execution_count": 3,
   "id": "791019a3",
   "metadata": {},
   "outputs": [],
   "source": [
    "labels = pd.read_excel('GV_Output.xlsx')"
   ]
  },
  {
   "cell_type": "code",
   "execution_count": 4,
   "id": "f9d63cc8",
   "metadata": {},
   "outputs": [],
   "source": [
    "labels = labels.dropna()"
   ]
  },
  {
   "cell_type": "code",
   "execution_count": 5,
   "id": "63decf9c",
   "metadata": {
    "scrolled": true
   },
   "outputs": [
    {
     "data": {
      "text/html": [
       "<div>\n",
       "<style scoped>\n",
       "    .dataframe tbody tr th:only-of-type {\n",
       "        vertical-align: middle;\n",
       "    }\n",
       "\n",
       "    .dataframe tbody tr th {\n",
       "        vertical-align: top;\n",
       "    }\n",
       "\n",
       "    .dataframe thead th {\n",
       "        text-align: right;\n",
       "    }\n",
       "</style>\n",
       "<table border=\"1\" class=\"dataframe\">\n",
       "  <thead>\n",
       "    <tr style=\"text-align: right;\">\n",
       "      <th></th>\n",
       "      <th>URL</th>\n",
       "      <th>Labels</th>\n",
       "    </tr>\n",
       "  </thead>\n",
       "  <tbody>\n",
       "    <tr>\n",
       "      <th>0</th>\n",
       "      <td>https://instagram.fyhu1-1.fna.fbcdn.net/v/t51....</td>\n",
       "      <td>Hair Joint Hand Outerwear Arm Shoulder Dress W...</td>\n",
       "    </tr>\n",
       "    <tr>\n",
       "      <th>3</th>\n",
       "      <td>https://instagram.fyhu1-1.fna.fbcdn.net/v/t51....</td>\n",
       "      <td>Plant Automotive design Rectangle Ceiling Glas...</td>\n",
       "    </tr>\n",
       "    <tr>\n",
       "      <th>4</th>\n",
       "      <td>https://instagram.fyhu1-1.fna.fbcdn.net/v/t51....</td>\n",
       "      <td>Joint Skin Lip Plant Hairstyle Shoulder Flower...</td>\n",
       "    </tr>\n",
       "    <tr>\n",
       "      <th>5</th>\n",
       "      <td>https://instagram.fyhu1-1.fna.fbcdn.net/v/t51....</td>\n",
       "      <td>Water Sky Cloud Plant Nature Azure Natural lan...</td>\n",
       "    </tr>\n",
       "    <tr>\n",
       "      <th>6</th>\n",
       "      <td>https://instagram.fyhu1-1.fna.fbcdn.net/v/t51....</td>\n",
       "      <td>Furniture Leg Sunglasses Vision care Wood Wais...</td>\n",
       "    </tr>\n",
       "  </tbody>\n",
       "</table>\n",
       "</div>"
      ],
      "text/plain": [
       "                                                 URL  \\\n",
       "0  https://instagram.fyhu1-1.fna.fbcdn.net/v/t51....   \n",
       "3  https://instagram.fyhu1-1.fna.fbcdn.net/v/t51....   \n",
       "4  https://instagram.fyhu1-1.fna.fbcdn.net/v/t51....   \n",
       "5  https://instagram.fyhu1-1.fna.fbcdn.net/v/t51....   \n",
       "6  https://instagram.fyhu1-1.fna.fbcdn.net/v/t51....   \n",
       "\n",
       "                                              Labels  \n",
       "0  Hair Joint Hand Outerwear Arm Shoulder Dress W...  \n",
       "3  Plant Automotive design Rectangle Ceiling Glas...  \n",
       "4  Joint Skin Lip Plant Hairstyle Shoulder Flower...  \n",
       "5  Water Sky Cloud Plant Nature Azure Natural lan...  \n",
       "6  Furniture Leg Sunglasses Vision care Wood Wais...  "
      ]
     },
     "execution_count": 5,
     "metadata": {},
     "output_type": "execute_result"
    }
   ],
   "source": [
    "labels.head()"
   ]
  },
  {
   "cell_type": "markdown",
   "id": "c15a781f",
   "metadata": {},
   "source": [
    "## Task: perform topic modeling on labels\n",
    "### necessary data process steps"
   ]
  },
  {
   "cell_type": "code",
   "execution_count": 7,
   "id": "98bf7ee0",
   "metadata": {},
   "outputs": [],
   "source": [
    "punctuation_tokenizer = nltk.WordPunctTokenizer()\n",
    "stop = nltk.corpus.stopwords.words('english')\n",
    "lemmer = nltk.WordNetLemmatizer()\n",
    "def norm(text):\n",
    "    text = re.sub(r'[^a-zA-Z\\s]', '', text, re.I|re.A)\n",
    "    text = text.lower()\n",
    "    text = text.strip()\n",
    "\n",
    "    words = punctuation_tokenizer.tokenize(text)\n",
    "    filtered_words = [word for word in words if word not in stop]\n",
    "    lemmer_text = [lemmer.lemmatize(i) for i in filtered_words]\n",
    "    lemmer_text = [word for word in lemmer_text if not word.isnumeric()]\n",
    "\n",
    "    text = ' '.join(lemmer_text)\n",
    "\n",
    "    return text\n",
    "\n",
    "def coherence(df, dic, summaries, finish, begin, step):\n",
    "    values = []\n",
    "    a_list = []\n",
    "\n",
    "    for topics in range(begin, finish, step):\n",
    "        lda = gensim.models.LdaMulticore(corpus=df, id2word=dic, num_topics=topics, chunksize=100, passes=500, per_word_topics=True, random_state=100)\n",
    "        a_list.append(lda)\n",
    "\n",
    "        coherence = CoherenceModel(model=lda, texts=summaries, dictionary=dic, coherence='c_v')\n",
    "        values.append(coherence.get_coherence())\n",
    "\n",
    "    return a_list, values\n",
    "\n",
    "norma = np.vectorize(norm)\n",
    "norm_insta = norma(labels['Labels'])\n"
   ]
  },
  {
   "cell_type": "code",
   "execution_count": 14,
   "id": "eb0b42ba",
   "metadata": {},
   "outputs": [],
   "source": [
    "token_norm_df = [word_tokenize(i) for i in norm_insta]\n",
    "dic = corpora.Dictionary(token_norm_df)\n",
    "dic.filter_extremes()\n",
    "\n",
    "summaries = token_norm_df\n",
    "df1 = [dic.doc2bow(i) for i in summaries]"
   ]
  },
  {
   "cell_type": "code",
   "execution_count": 16,
   "id": "68084874",
   "metadata": {},
   "outputs": [],
   "source": [
    "num_of_topics_start = 2\n",
    "num_of_topics_end = 10\n",
    "model_list, coherence_values = coherence(df1, dic, summaries, num_of_topics_end, num_of_topics_start, 1)\n"
   ]
  },
  {
   "cell_type": "markdown",
   "id": "5a0833f9",
   "metadata": {},
   "source": [
    "## Task: to find out the optimum number of topics\n",
    "\n",
    "### Methodology\n",
    "I parsed image labels from Google Vision based on the url I had in the original dataset, and removed some rows with no label. And then I lemmatized and tokenized the selected labels for better measurement. \n",
    "\n",
    "To increase the reliability of my topic modeling result, I then evaluated at which threshold is the optimal number of topics for these documents to yield the highest coherence score.\n",
    "According to the coherence - topics graphs below, the coherence score is highest when the number of topics is at 5. Since Aritzia is basically advertizing clothes, it also makes sense to divide the topic into 5 categories. \n",
    "\n",
    "Thus, I decided to choose to generate 5 main topics for the selected labels. "
   ]
  },
  {
   "cell_type": "code",
   "execution_count": 17,
   "id": "372e812c",
   "metadata": {
    "scrolled": false
   },
   "outputs": [
    {
     "data": {
      "image/png": "[encoded data removed]",
      "text/plain": [
       "<Figure size 576x576 with 1 Axes>"
      ]
     },
     "metadata": {
      "needs_background": "light"
     },
     "output_type": "display_data"
    }
   ],
   "source": [
    "x_axis = range(num_of_topics_start, num_of_topics_end, 1)\n",
    "ax = plt.subplots(figsize=(8,8))\n",
    "plt.plot(x_axis, coherence_values)\n",
    "plt.xlabel('Num of Topics')\n",
    "plt.ylabel('Coherence')\n",
    "plt.show()"
   ]
  },
  {
   "cell_type": "code",
   "execution_count": 18,
   "id": "124f7d5e",
   "metadata": {},
   "outputs": [],
   "source": [
    "# Final model with best # of topics\n",
    "lda = gensim.models.LdaMulticore(corpus=df1, id2word=dic, num_topics=5, chunksize=100, passes=500, per_word_topics=True, random_state=100)\n"
   ]
  },
  {
   "cell_type": "code",
   "execution_count": 19,
   "id": "acc9b9ed",
   "metadata": {},
   "outputs": [
    {
     "name": "stdout",
     "output_type": "stream",
     "text": [
      "Score 0.4480429308532585\n"
     ]
    }
   ],
   "source": [
    "coherence_model1 = CoherenceModel(model=lda, texts=summaries, dictionary=dic, coherence='c_v')\n",
    "score = coherence_model1.get_coherence()\n",
    "print('Score', score)"
   ]
  },
  {
   "cell_type": "code",
   "execution_count": 20,
   "id": "26780280",
   "metadata": {
    "scrolled": false
   },
   "outputs": [
    {
     "name": "stdout",
     "output_type": "stream",
     "text": [
      "[(0,\n",
      "  '0.082*\"design\" + 0.063*\"automotive\" + 0.047*\"vehicle\" + 0.045*\"bag\" + '\n",
      "  '0.032*\"fur\" + 0.030*\"device\" + 0.030*\"dog\" + 0.029*\"flooring\" + '\n",
      "  '0.028*\"fashion\" + 0.026*\"material\"'),\n",
      " (1,\n",
      "  '0.093*\"sky\" + 0.073*\"plant\" + 0.061*\"happy\" + 0.056*\"nature\" + '\n",
      "  '0.055*\"people\" + 0.033*\"flash\" + 0.032*\"photography\" + 0.031*\"tree\" + '\n",
      "  '0.030*\"cloud\" + 0.028*\"human\"'),\n",
      " (2,\n",
      "  '0.098*\"font\" + 0.060*\"art\" + 0.053*\"rectangle\" + 0.045*\"blue\" + '\n",
      "  '0.044*\"electric\" + 0.032*\"brand\" + 0.032*\"equipment\" + 0.029*\"wood\" + '\n",
      "  '0.028*\"shade\" + 0.027*\"event\"'),\n",
      " (3,\n",
      "  '0.108*\"fashion\" + 0.096*\"sleeve\" + 0.063*\"street\" + 0.056*\"waist\" + '\n",
      "  '0.046*\"neck\" + 0.039*\"leg\" + 0.037*\"outerwear\" + 0.033*\"thigh\" + '\n",
      "  '0.033*\"shoulder\" + 0.028*\"knee\"'),\n",
      " (4,\n",
      "  '0.065*\"shoulder\" + 0.057*\"lip\" + 0.049*\"human\" + 0.047*\"arm\" + '\n",
      "  '0.046*\"joint\" + 0.044*\"body\" + 0.038*\"hair\" + 0.038*\"neck\" + 0.032*\"skin\" + '\n",
      "  '0.031*\"eyelash\"')]\n"
     ]
    }
   ],
   "source": [
    "pprint(lda.print_topics(num_topics=5))\n",
    "dic_lda = lda[df1]"
   ]
  },
  {
   "cell_type": "code",
   "execution_count": 21,
   "id": "cf6004d8",
   "metadata": {},
   "outputs": [
    {
     "name": "stderr",
     "output_type": "stream",
     "text": [
      "/Users/zorak/opt/anaconda3/lib/python3.9/site-packages/pyLDAvis/_prepare.py:246: FutureWarning: In a future version of pandas all arguments of DataFrame.drop except for the argument 'labels' will be keyword-only.\n",
      "  default_term_info = default_term_info.sort_values(\n",
      "/Users/zorak/opt/anaconda3/lib/python3.9/site-packages/past/builtins/misc.py:45: DeprecationWarning: the imp module is deprecated in favour of importlib; see the module's documentation for alternative uses\n",
      "  from imp import reload\n",
      "/Users/zorak/opt/anaconda3/lib/python3.9/site-packages/past/builtins/misc.py:45: DeprecationWarning: the imp module is deprecated in favour of importlib; see the module's documentation for alternative uses\n",
      "  from imp import reload\n",
      "/Users/zorak/opt/anaconda3/lib/python3.9/site-packages/past/builtins/misc.py:45: DeprecationWarning: the imp module is deprecated in favour of importlib; see the module's documentation for alternative uses\n",
      "  from imp import reload\n",
      "/Users/zorak/opt/anaconda3/lib/python3.9/site-packages/past/builtins/misc.py:45: DeprecationWarning: the imp module is deprecated in favour of importlib; see the module's documentation for alternative uses\n",
      "  from imp import reload\n"
     ]
    }
   ],
   "source": [
    "#visualize topic modeling result\n",
    "import pyLDAvis\n",
    "import pyLDAvis.gensim_models\n",
    "import pickle \n",
    "\n",
    "pyLDAvis.enable_notebook()\n",
    "graph = pyLDAvis.gensim_models.prepare(lda, df1, dic)\n",
    "graph\n",
    "pyLDAvis.save_html(graph, 'lda.html')"
   ]
  },
  {
   "cell_type": "markdown",
   "id": "9706e582",
   "metadata": {},
   "source": [
    "##  Task: Report the top 25 words for each topic and give a suitable name\n",
    "Topic 1: fashion, sleeve, street, waist, neck, leg, outerwear, thigh, shoulder, knee, collar, joint, dress, textile, shoe, gesture, white, shirt, flash, photography, comfort, standing, eyewear, design, clothing.\n",
    "\n",
    "Name for topic 1: Types of clothing\n",
    "\n",
    "\n",
    "Topic 2: shoulder, lip, human, arm, joint, body, hair, neck, skin, eyelash, hairstyle, eyebrow, face, outerwear, smile, flash, photography, head, muscle, hand, eye, chin, nose, mouth, sleeve.\n",
    "\n",
    "Name for topic 2: Parts of the body\n",
    "\n",
    "Topic 3: sky, plant, happy, nature, people, flash, photography, tree, cloud, human, landscape, gesture, natural, grass, body, hat, water, snow, sleeve, sportswear, thigh, elbow, stomach, cap, waist.\n",
    "\n",
    "Name for topic 3: Natural scenery\n",
    "\n",
    "Topic 4: font, art, rectangle, blue, electric, brand, equipment, wood, shade, event, magenta, logo, tint, graphic, tshirt, sport, enntertainment, accessory, design, table, photography, fun, gesture, pattern, personal.\n",
    "\n",
    "Name for topic 4: Appearance design\n",
    "\n",
    "Topic 5: design, automotive, vehicle, bag, fur, device, dog, flooring, fashion, material, building, wood, product, floor, luggage, trench, window, natural, motor, interior, door, fawn, lighting, comfort, hood. \n",
    "\n",
    "Name for topic 5: Home decoration "
   ]
  },
  {
   "cell_type": "markdown",
   "id": "28929da6",
   "metadata": {},
   "source": [
    "## Task: find out the highest and the lowest quartiles based on engagement\n",
    "\n",
    "Sort the data from high to low engagement (measured by the number of comments), and take the highest and the lowest quartiles."
   ]
  },
  {
   "cell_type": "code",
   "execution_count": 8,
   "id": "778d45d4",
   "metadata": {},
   "outputs": [],
   "source": [
    "insta_sorted = insta.sort_values(by = [\"Comments\"])"
   ]
  },
  {
   "cell_type": "code",
   "execution_count": 23,
   "id": "9c314fc0",
   "metadata": {},
   "outputs": [
    {
     "data": {
      "text/plain": [
       "125.0"
      ]
     },
     "execution_count": 23,
     "metadata": {},
     "output_type": "execute_result"
    }
   ],
   "source": [
    "500*(1/4)"
   ]
  },
  {
   "cell_type": "code",
   "execution_count": 9,
   "id": "bbdf50ad",
   "metadata": {},
   "outputs": [],
   "source": [
    "lowest = insta_sorted.head(125)\n",
    "highest = insta_sorted.tail(125)"
   ]
  },
  {
   "cell_type": "markdown",
   "id": "cce9e8ad",
   "metadata": {},
   "source": [
    "## Task: to get the labels for posts in the highest and the lowest quartiles"
   ]
  },
  {
   "cell_type": "code",
   "execution_count": 25,
   "id": "1f3e5bf3",
   "metadata": {},
   "outputs": [],
   "source": [
    "lowest_url = lowest['URL']\n",
    "lowest_url.to_excel(\"lowest_url.xlsx\", header= False, index=False)\n",
    "highest_url = highest['URL']\n",
    "highest_url.to_excel(\"highest_url.xlsx\", header= False, index=False)"
   ]
  },
  {
   "cell_type": "code",
   "execution_count": 26,
   "id": "1ebed169",
   "metadata": {
    "collapsed": true
   },
   "outputs": [
    {
     "name": "stdout",
     "output_type": "stream",
     "text": [
      "s\n",
      "Nose Cheek Lip Smile Eyebrow Eyelash Mouth Ear Jaw Flash photography\n"
     ]
    },
    {
     "name": "stderr",
     "output_type": "stream",
     "text": [
      "/var/folders/f5/7w8rh9rx11938lxyvdr2g_940000gn/T/ipykernel_94711/1421014058.py:23: FutureWarning: The frame.append method is deprecated and will be removed from pandas in a future version. Use pandas.concat instead.\n",
      "  df = df.append({'URL': image_src_temp, 'Labels': s}, ignore_index=True)\n"
     ]
    },
    {
     "name": "stdout",
     "output_type": "stream",
     "text": [
      "s\n",
      "Toy Black Sleeve Font Line Red Entertainment Art Event Uniform\n"
     ]
    },
    {
     "name": "stderr",
     "output_type": "stream",
     "text": [
      "/var/folders/f5/7w8rh9rx11938lxyvdr2g_940000gn/T/ipykernel_94711/1421014058.py:23: FutureWarning: The frame.append method is deprecated and will be removed from pandas in a future version. Use pandas.concat instead.\n",
      "  df = df.append({'URL': image_src_temp, 'Labels': s}, ignore_index=True)\n"
     ]
    },
    {
     "name": "stdout",
     "output_type": "stream",
     "text": [
      "s\n",
      "Brown Amber Orange Wood Tints and shades Pattern Peach Event Electric blue Art\n"
     ]
    },
    {
     "name": "stderr",
     "output_type": "stream",
     "text": [
      "/var/folders/f5/7w8rh9rx11938lxyvdr2g_940000gn/T/ipykernel_94711/1421014058.py:23: FutureWarning: The frame.append method is deprecated and will be removed from pandas in a future version. Use pandas.concat instead.\n",
      "  df = df.append({'URL': image_src_temp, 'Labels': s}, ignore_index=True)\n"
     ]
    },
    {
     "name": "stdout",
     "output_type": "stream",
     "text": [
      "s\n",
      "Face Joint Skin Smile Head Lip Hand Outerwear Hairstyle Arm\n"
     ]
    },
    {
     "name": "stderr",
     "output_type": "stream",
     "text": [
      "/var/folders/f5/7w8rh9rx11938lxyvdr2g_940000gn/T/ipykernel_94711/1421014058.py:23: FutureWarning: The frame.append method is deprecated and will be removed from pandas in a future version. Use pandas.concat instead.\n",
      "  df = df.append({'URL': image_src_temp, 'Labels': s}, ignore_index=True)\n"
     ]
    },
    {
     "name": "stdout",
     "output_type": "stream",
     "text": [
      "s\n",
      "Companion dog Feather Wing Tail Art Fur Liver Fashion accessory Darkness Natural material\n"
     ]
    },
    {
     "name": "stderr",
     "output_type": "stream",
     "text": [
      "/var/folders/f5/7w8rh9rx11938lxyvdr2g_940000gn/T/ipykernel_94711/1421014058.py:23: FutureWarning: The frame.append method is deprecated and will be removed from pandas in a future version. Use pandas.concat instead.\n",
      "  df = df.append({'URL': image_src_temp, 'Labels': s}, ignore_index=True)\n"
     ]
    },
    {
     "name": "stdout",
     "output_type": "stream",
     "text": [
      "s\n",
      "Skin Sky Cloud Flash photography Plant Happy People in nature Grass Grassland Rural area\n"
     ]
    },
    {
     "name": "stderr",
     "output_type": "stream",
     "text": [
      "/var/folders/f5/7w8rh9rx11938lxyvdr2g_940000gn/T/ipykernel_94711/1421014058.py:23: FutureWarning: The frame.append method is deprecated and will be removed from pandas in a future version. Use pandas.concat instead.\n",
      "  df = df.append({'URL': image_src_temp, 'Labels': s}, ignore_index=True)\n"
     ]
    },
    {
     "name": "stdout",
     "output_type": "stream",
     "text": [
      "s\n",
      "Chin Arm Human body Neck Dress shirt Sleeve Street fashion Collar Waist Sportswear\n"
     ]
    },
    {
     "name": "stderr",
     "output_type": "stream",
     "text": [
      "/var/folders/f5/7w8rh9rx11938lxyvdr2g_940000gn/T/ipykernel_94711/1421014058.py:23: FutureWarning: The frame.append method is deprecated and will be removed from pandas in a future version. Use pandas.concat instead.\n",
      "  df = df.append({'URL': image_src_temp, 'Labels': s}, ignore_index=True)\n"
     ]
    },
    {
     "name": "stdout",
     "output_type": "stream",
     "text": [
      "s\n",
      "Forehead Shoulder Neck Eyelash Flash photography Sleeve Cool Font Happy T-shirt\n"
     ]
    },
    {
     "name": "stderr",
     "output_type": "stream",
     "text": [
      "/var/folders/f5/7w8rh9rx11938lxyvdr2g_940000gn/T/ipykernel_94711/1421014058.py:23: FutureWarning: The frame.append method is deprecated and will be removed from pandas in a future version. Use pandas.concat instead.\n",
      "  df = df.append({'URL': image_src_temp, 'Labels': s}, ignore_index=True)\n"
     ]
    },
    {
     "name": "stdout",
     "output_type": "stream",
     "text": [
      "s\n",
      "Plant Knee Grass Asphalt Thigh Tree Sky Sportswear Street fashion Recreation\n"
     ]
    },
    {
     "name": "stderr",
     "output_type": "stream",
     "text": [
      "/var/folders/f5/7w8rh9rx11938lxyvdr2g_940000gn/T/ipykernel_94711/1421014058.py:23: FutureWarning: The frame.append method is deprecated and will be removed from pandas in a future version. Use pandas.concat instead.\n",
      "  df = df.append({'URL': image_src_temp, 'Labels': s}, ignore_index=True)\n"
     ]
    },
    {
     "name": "stdout",
     "output_type": "stream",
     "text": [
      "s\n",
      "Cloud Sky Plant Branch Twig Vegetation Natural landscape Wood Grass Tints and shades\n"
     ]
    },
    {
     "name": "stderr",
     "output_type": "stream",
     "text": [
      "/var/folders/f5/7w8rh9rx11938lxyvdr2g_940000gn/T/ipykernel_94711/1421014058.py:23: FutureWarning: The frame.append method is deprecated and will be removed from pandas in a future version. Use pandas.concat instead.\n",
      "  df = df.append({'URL': image_src_temp, 'Labels': s}, ignore_index=True)\n"
     ]
    },
    {
     "name": "stdout",
     "output_type": "stream",
     "text": [
      "s\n",
      "Forehead Hair Nose Cheek Skin Lip Chin Smile Hairstyle Eyebrow\n"
     ]
    },
    {
     "name": "stderr",
     "output_type": "stream",
     "text": [
      "/var/folders/f5/7w8rh9rx11938lxyvdr2g_940000gn/T/ipykernel_94711/1421014058.py:23: FutureWarning: The frame.append method is deprecated and will be removed from pandas in a future version. Use pandas.concat instead.\n",
      "  df = df.append({'URL': image_src_temp, 'Labels': s}, ignore_index=True)\n"
     ]
    },
    {
     "name": "stdout",
     "output_type": "stream",
     "text": [
      "s\n",
      "Sky Flash photography Sleeve Happy Street fashion Hat Pole Formal wear Bridge Fun\n"
     ]
    },
    {
     "name": "stderr",
     "output_type": "stream",
     "text": [
      "/var/folders/f5/7w8rh9rx11938lxyvdr2g_940000gn/T/ipykernel_94711/1421014058.py:23: FutureWarning: The frame.append method is deprecated and will be removed from pandas in a future version. Use pandas.concat instead.\n",
      "  df = df.append({'URL': image_src_temp, 'Labels': s}, ignore_index=True)\n"
     ]
    },
    {
     "name": "stdout",
     "output_type": "stream",
     "text": [
      "s\n",
      "Eyebrow Shoulder Eye Eyelash Neck Jheri curl Sleeve Comfort Cornrows Ringlet\n"
     ]
    },
    {
     "name": "stderr",
     "output_type": "stream",
     "text": [
      "/var/folders/f5/7w8rh9rx11938lxyvdr2g_940000gn/T/ipykernel_94711/1421014058.py:23: FutureWarning: The frame.append method is deprecated and will be removed from pandas in a future version. Use pandas.concat instead.\n",
      "  df = df.append({'URL': image_src_temp, 'Labels': s}, ignore_index=True)\n"
     ]
    },
    {
     "name": "stdout",
     "output_type": "stream",
     "text": [
      "s\n",
      "Forehead Nose Smile Lip Vision care Eyelash Hat Mouth Neck Human body\n"
     ]
    },
    {
     "name": "stderr",
     "output_type": "stream",
     "text": [
      "/var/folders/f5/7w8rh9rx11938lxyvdr2g_940000gn/T/ipykernel_94711/1421014058.py:23: FutureWarning: The frame.append method is deprecated and will be removed from pandas in a future version. Use pandas.concat instead.\n",
      "  df = df.append({'URL': image_src_temp, 'Labels': s}, ignore_index=True)\n"
     ]
    },
    {
     "name": "stdout",
     "output_type": "stream",
     "text": [
      "s\n",
      "Sleeve Flash photography Jacket Street fashion Tints and shades Magenta Electric blue Fashion design Recreation Fun\n"
     ]
    },
    {
     "name": "stderr",
     "output_type": "stream",
     "text": [
      "/var/folders/f5/7w8rh9rx11938lxyvdr2g_940000gn/T/ipykernel_94711/1421014058.py:23: FutureWarning: The frame.append method is deprecated and will be removed from pandas in a future version. Use pandas.concat instead.\n",
      "  df = df.append({'URL': image_src_temp, 'Labels': s}, ignore_index=True)\n"
     ]
    },
    {
     "name": "stdout",
     "output_type": "stream",
     "text": [
      "s\n",
      "Eyelash Flash photography Neck Sleeve Gesture Waist Makeover Happy Thigh Fashion design\n"
     ]
    },
    {
     "name": "stderr",
     "output_type": "stream",
     "text": [
      "/var/folders/f5/7w8rh9rx11938lxyvdr2g_940000gn/T/ipykernel_94711/1421014058.py:23: FutureWarning: The frame.append method is deprecated and will be removed from pandas in a future version. Use pandas.concat instead.\n",
      "  df = df.append({'URL': image_src_temp, 'Labels': s}, ignore_index=True)\n"
     ]
    },
    {
     "name": "stdout",
     "output_type": "stream",
     "text": [
      "s\n",
      "Sky Blue Standing Happy Gesture Leisure Art T-shirt Balance Fun\n"
     ]
    },
    {
     "name": "stderr",
     "output_type": "stream",
     "text": [
      "/var/folders/f5/7w8rh9rx11938lxyvdr2g_940000gn/T/ipykernel_94711/1421014058.py:23: FutureWarning: The frame.append method is deprecated and will be removed from pandas in a future version. Use pandas.concat instead.\n",
      "  df = df.append({'URL': image_src_temp, 'Labels': s}, ignore_index=True)\n"
     ]
    },
    {
     "name": "stdout",
     "output_type": "stream",
     "text": [
      "s\n",
      "Human Wood Book Publication Font Bookcase Flash photography Tints and shades Entertainment Darkness\n"
     ]
    },
    {
     "name": "stderr",
     "output_type": "stream",
     "text": [
      "/var/folders/f5/7w8rh9rx11938lxyvdr2g_940000gn/T/ipykernel_94711/1421014058.py:23: FutureWarning: The frame.append method is deprecated and will be removed from pandas in a future version. Use pandas.concat instead.\n",
      "  df = df.append({'URL': image_src_temp, 'Labels': s}, ignore_index=True)\n"
     ]
    },
    {
     "name": "stdout",
     "output_type": "stream",
     "text": [
      "s\n",
      "Shoulder Photograph Eyebrow Eye Facial expression Plant Happy Eyelash Petal Smile\n"
     ]
    },
    {
     "name": "stderr",
     "output_type": "stream",
     "text": [
      "/var/folders/f5/7w8rh9rx11938lxyvdr2g_940000gn/T/ipykernel_94711/1421014058.py:23: FutureWarning: The frame.append method is deprecated and will be removed from pandas in a future version. Use pandas.concat instead.\n",
      "  df = df.append({'URL': image_src_temp, 'Labels': s}, ignore_index=True)\n"
     ]
    },
    {
     "name": "stdout",
     "output_type": "stream",
     "text": [
      "s\n",
      "Fashion Gesture Pink Street fashion Costume hat Party hat Thigh Fashion design Entertainment Performing arts\n"
     ]
    },
    {
     "name": "stderr",
     "output_type": "stream",
     "text": [
      "/var/folders/f5/7w8rh9rx11938lxyvdr2g_940000gn/T/ipykernel_94711/1421014058.py:23: FutureWarning: The frame.append method is deprecated and will be removed from pandas in a future version. Use pandas.concat instead.\n",
      "  df = df.append({'URL': image_src_temp, 'Labels': s}, ignore_index=True)\n"
     ]
    },
    {
     "name": "stdout",
     "output_type": "stream",
     "text": [
      "s\n",
      "Skin Lip Hairstyle Photograph Eyebrow Facial expression White Eyelash Organ Lipstick\n"
     ]
    },
    {
     "name": "stderr",
     "output_type": "stream",
     "text": [
      "/var/folders/f5/7w8rh9rx11938lxyvdr2g_940000gn/T/ipykernel_94711/1421014058.py:23: FutureWarning: The frame.append method is deprecated and will be removed from pandas in a future version. Use pandas.concat instead.\n",
      "  df = df.append({'URL': image_src_temp, 'Labels': s}, ignore_index=True)\n"
     ]
    },
    {
     "name": "stdout",
     "output_type": "stream",
     "text": [
      "s\n",
      "Plant Smile Sleeve Street fashion Asphalt Sky Tree Sportswear Leisure Happy\n"
     ]
    },
    {
     "name": "stderr",
     "output_type": "stream",
     "text": [
      "/var/folders/f5/7w8rh9rx11938lxyvdr2g_940000gn/T/ipykernel_94711/1421014058.py:23: FutureWarning: The frame.append method is deprecated and will be removed from pandas in a future version. Use pandas.concat instead.\n",
      "  df = df.append({'URL': image_src_temp, 'Labels': s}, ignore_index=True)\n"
     ]
    },
    {
     "name": "stdout",
     "output_type": "stream",
     "text": [
      "s\n",
      "Hair Joint Hand Outerwear Arm Shoulder Dress White Azure Neck\n"
     ]
    },
    {
     "name": "stderr",
     "output_type": "stream",
     "text": [
      "/var/folders/f5/7w8rh9rx11938lxyvdr2g_940000gn/T/ipykernel_94711/1421014058.py:23: FutureWarning: The frame.append method is deprecated and will be removed from pandas in a future version. Use pandas.concat instead.\n",
      "  df = df.append({'URL': image_src_temp, 'Labels': s}, ignore_index=True)\n"
     ]
    },
    {
     "name": "stdout",
     "output_type": "stream",
     "text": [
      "s\n",
      "Face Hair Leg Product Human body Sleeve Waist Knee Thigh Grey\n"
     ]
    },
    {
     "name": "stderr",
     "output_type": "stream",
     "text": [
      "/var/folders/f5/7w8rh9rx11938lxyvdr2g_940000gn/T/ipykernel_94711/1421014058.py:23: FutureWarning: The frame.append method is deprecated and will be removed from pandas in a future version. Use pandas.concat instead.\n",
      "  df = df.append({'URL': image_src_temp, 'Labels': s}, ignore_index=True)\n"
     ]
    },
    {
     "name": "stdout",
     "output_type": "stream",
     "text": [
      "s\n",
      "Shoulder Car Hood yoga pant Vehicle Sleeve Waist Sportswear Shorts Thigh\n"
     ]
    },
    {
     "name": "stderr",
     "output_type": "stream",
     "text": [
      "/var/folders/f5/7w8rh9rx11938lxyvdr2g_940000gn/T/ipykernel_94711/1421014058.py:23: FutureWarning: The frame.append method is deprecated and will be removed from pandas in a future version. Use pandas.concat instead.\n",
      "  df = df.append({'URL': image_src_temp, 'Labels': s}, ignore_index=True)\n"
     ]
    },
    {
     "name": "stdout",
     "output_type": "stream",
     "text": [
      "s\n",
      "Face Shorts Water Cloud Arm Muscle People in nature Flash photography Human body Neck\n"
     ]
    },
    {
     "name": "stderr",
     "output_type": "stream",
     "text": [
      "/var/folders/f5/7w8rh9rx11938lxyvdr2g_940000gn/T/ipykernel_94711/1421014058.py:23: FutureWarning: The frame.append method is deprecated and will be removed from pandas in a future version. Use pandas.concat instead.\n",
      "  df = df.append({'URL': image_src_temp, 'Labels': s}, ignore_index=True)\n"
     ]
    },
    {
     "name": "stdout",
     "output_type": "stream",
     "text": [
      "s\n",
      "Shorts Rolling Sky Sports equipment Elbow Happy Hat Knee Helmet Sneakers\n"
     ]
    },
    {
     "name": "stderr",
     "output_type": "stream",
     "text": [
      "/var/folders/f5/7w8rh9rx11938lxyvdr2g_940000gn/T/ipykernel_94711/1421014058.py:23: FutureWarning: The frame.append method is deprecated and will be removed from pandas in a future version. Use pandas.concat instead.\n",
      "  df = df.append({'URL': image_src_temp, 'Labels': s}, ignore_index=True)\n"
     ]
    },
    {
     "name": "stdout",
     "output_type": "stream",
     "text": [
      "s\n",
      "Joint Lip Shoulder Eyebrow Eye Eyelash Comfort Azure Neck Human body\n"
     ]
    },
    {
     "name": "stderr",
     "output_type": "stream",
     "text": [
      "/var/folders/f5/7w8rh9rx11938lxyvdr2g_940000gn/T/ipykernel_94711/1421014058.py:23: FutureWarning: The frame.append method is deprecated and will be removed from pandas in a future version. Use pandas.concat instead.\n",
      "  df = df.append({'URL': image_src_temp, 'Labels': s}, ignore_index=True)\n"
     ]
    },
    {
     "name": "stdout",
     "output_type": "stream",
     "text": [
      "s\n",
      "Hand Outerwear Arm Mouth White Vision care Television Flash photography Eyewear Gesture\n"
     ]
    },
    {
     "name": "stderr",
     "output_type": "stream",
     "text": [
      "/var/folders/f5/7w8rh9rx11938lxyvdr2g_940000gn/T/ipykernel_94711/1421014058.py:23: FutureWarning: The frame.append method is deprecated and will be removed from pandas in a future version. Use pandas.concat instead.\n",
      "  df = df.append({'URL': image_src_temp, 'Labels': s}, ignore_index=True)\n"
     ]
    },
    {
     "name": "stdout",
     "output_type": "stream",
     "text": [
      "s\n",
      "Hair Face Skin Head Smile Lip Outerwear Eye Arm Photograph\n"
     ]
    },
    {
     "name": "stderr",
     "output_type": "stream",
     "text": [
      "/var/folders/f5/7w8rh9rx11938lxyvdr2g_940000gn/T/ipykernel_94711/1421014058.py:23: FutureWarning: The frame.append method is deprecated and will be removed from pandas in a future version. Use pandas.concat instead.\n",
      "  df = df.append({'URL': image_src_temp, 'Labels': s}, ignore_index=True)\n"
     ]
    },
    {
     "name": "stdout",
     "output_type": "stream",
     "text": [
      "s\n",
      "Muscle Flash photography Thigh Waist Black hair Trunk Beauty Mesh Human leg Event\n"
     ]
    },
    {
     "name": "stderr",
     "output_type": "stream",
     "text": [
      "/var/folders/f5/7w8rh9rx11938lxyvdr2g_940000gn/T/ipykernel_94711/1421014058.py:23: FutureWarning: The frame.append method is deprecated and will be removed from pandas in a future version. Use pandas.concat instead.\n",
      "  df = df.append({'URL': image_src_temp, 'Labels': s}, ignore_index=True)\n"
     ]
    },
    {
     "name": "stdout",
     "output_type": "stream",
     "text": [
      "s\n",
      "Surfboard Plant Sky Eyewear People in nature Sneakers Surfing Equipment Travel Happy Street fashion\n"
     ]
    },
    {
     "name": "stderr",
     "output_type": "stream",
     "text": [
      "/var/folders/f5/7w8rh9rx11938lxyvdr2g_940000gn/T/ipykernel_94711/1421014058.py:23: FutureWarning: The frame.append method is deprecated and will be removed from pandas in a future version. Use pandas.concat instead.\n",
      "  df = df.append({'URL': image_src_temp, 'Labels': s}, ignore_index=True)\n"
     ]
    },
    {
     "name": "stdout",
     "output_type": "stream",
     "text": [
      "s\n",
      "Water Sky Fluid Cloud Liquid Natural landscape Horizon Beach Rectangle Landscape\n"
     ]
    },
    {
     "name": "stderr",
     "output_type": "stream",
     "text": [
      "/var/folders/f5/7w8rh9rx11938lxyvdr2g_940000gn/T/ipykernel_94711/1421014058.py:23: FutureWarning: The frame.append method is deprecated and will be removed from pandas in a future version. Use pandas.concat instead.\n",
      "  df = df.append({'URL': image_src_temp, 'Labels': s}, ignore_index=True)\n"
     ]
    },
    {
     "name": "stdout",
     "output_type": "stream",
     "text": [
      "s\n",
      "Tartan Shoulder White Neck Sleeve Street fashion Waist Fence Grey Plaid\n"
     ]
    },
    {
     "name": "stderr",
     "output_type": "stream",
     "text": [
      "/var/folders/f5/7w8rh9rx11938lxyvdr2g_940000gn/T/ipykernel_94711/1421014058.py:23: FutureWarning: The frame.append method is deprecated and will be removed from pandas in a future version. Use pandas.concat instead.\n",
      "  df = df.append({'URL': image_src_temp, 'Labels': s}, ignore_index=True)\n"
     ]
    },
    {
     "name": "stdout",
     "output_type": "stream",
     "text": [
      "s\n",
      "Clothing Hair Face Joint Head Plant Arm Shoulder Eye Human body\n"
     ]
    },
    {
     "name": "stderr",
     "output_type": "stream",
     "text": [
      "/var/folders/f5/7w8rh9rx11938lxyvdr2g_940000gn/T/ipykernel_94711/1421014058.py:23: FutureWarning: The frame.append method is deprecated and will be removed from pandas in a future version. Use pandas.concat instead.\n",
      "  df = df.append({'URL': image_src_temp, 'Labels': s}, ignore_index=True)\n"
     ]
    },
    {
     "name": "stdout",
     "output_type": "stream",
     "text": [
      "s\n",
      "Hand Eye People in nature Tartan Human body Textile Dress Sleeve Flash photography Happy\n"
     ]
    },
    {
     "name": "stderr",
     "output_type": "stream",
     "text": [
      "/var/folders/f5/7w8rh9rx11938lxyvdr2g_940000gn/T/ipykernel_94711/1421014058.py:23: FutureWarning: The frame.append method is deprecated and will be removed from pandas in a future version. Use pandas.concat instead.\n",
      "  df = df.append({'URL': image_src_temp, 'Labels': s}, ignore_index=True)\n"
     ]
    },
    {
     "name": "stdout",
     "output_type": "stream",
     "text": [
      "s\n",
      "Joint Sky Shorts Hairstyle Shoulder Arm Photograph Stomach Leg Muscle\n"
     ]
    },
    {
     "name": "stderr",
     "output_type": "stream",
     "text": [
      "/var/folders/f5/7w8rh9rx11938lxyvdr2g_940000gn/T/ipykernel_94711/1421014058.py:23: FutureWarning: The frame.append method is deprecated and will be removed from pandas in a future version. Use pandas.concat instead.\n",
      "  df = df.append({'URL': image_src_temp, 'Labels': s}, ignore_index=True)\n"
     ]
    },
    {
     "name": "stdout",
     "output_type": "stream",
     "text": [
      "s\n",
      "Sky Water Ecoregion Plant People in nature Natural landscape Tree Gesture Grass Happy\n"
     ]
    },
    {
     "name": "stderr",
     "output_type": "stream",
     "text": [
      "/var/folders/f5/7w8rh9rx11938lxyvdr2g_940000gn/T/ipykernel_94711/1421014058.py:23: FutureWarning: The frame.append method is deprecated and will be removed from pandas in a future version. Use pandas.concat instead.\n",
      "  df = df.append({'URL': image_src_temp, 'Labels': s}, ignore_index=True)\n"
     ]
    },
    {
     "name": "stdout",
     "output_type": "stream",
     "text": [
      "s\n",
      "Hair Joint Shoulder Leg Comfort Neck Flash photography Sleeve Waist Thigh\n"
     ]
    },
    {
     "name": "stderr",
     "output_type": "stream",
     "text": [
      "/var/folders/f5/7w8rh9rx11938lxyvdr2g_940000gn/T/ipykernel_94711/1421014058.py:23: FutureWarning: The frame.append method is deprecated and will be removed from pandas in a future version. Use pandas.concat instead.\n",
      "  df = df.append({'URL': image_src_temp, 'Labels': s}, ignore_index=True)\n"
     ]
    },
    {
     "name": "stdout",
     "output_type": "stream",
     "text": [
      "s\n",
      "Plant White Hat Sun hat Azure People in nature Sleeve Fedora Standing Fence\n"
     ]
    },
    {
     "name": "stderr",
     "output_type": "stream",
     "text": [
      "/var/folders/f5/7w8rh9rx11938lxyvdr2g_940000gn/T/ipykernel_94711/1421014058.py:23: FutureWarning: The frame.append method is deprecated and will be removed from pandas in a future version. Use pandas.concat instead.\n",
      "  df = df.append({'URL': image_src_temp, 'Labels': s}, ignore_index=True)\n"
     ]
    },
    {
     "name": "stdout",
     "output_type": "stream",
     "text": [
      "s\n",
      "Font Brand Rectangle Graphics Logo\n"
     ]
    },
    {
     "name": "stderr",
     "output_type": "stream",
     "text": [
      "/var/folders/f5/7w8rh9rx11938lxyvdr2g_940000gn/T/ipykernel_94711/1421014058.py:23: FutureWarning: The frame.append method is deprecated and will be removed from pandas in a future version. Use pandas.concat instead.\n",
      "  df = df.append({'URL': image_src_temp, 'Labels': s}, ignore_index=True)\n"
     ]
    },
    {
     "name": "stdout",
     "output_type": "stream",
     "text": [
      "s\n",
      "Suit trousers Hair Leg Light Lighting Sleeve Standing Suit Lamp Entertainment\n"
     ]
    },
    {
     "name": "stderr",
     "output_type": "stream",
     "text": [
      "/var/folders/f5/7w8rh9rx11938lxyvdr2g_940000gn/T/ipykernel_94711/1421014058.py:23: FutureWarning: The frame.append method is deprecated and will be removed from pandas in a future version. Use pandas.concat instead.\n",
      "  df = df.append({'URL': image_src_temp, 'Labels': s}, ignore_index=True)\n"
     ]
    },
    {
     "name": "stdout",
     "output_type": "stream",
     "text": [
      "s\n",
      "Shoulder Swimsuit top Muscle Lingerie top Brassiere Human body Swimwear Waist Thigh Undergarment\n"
     ]
    },
    {
     "name": "stderr",
     "output_type": "stream",
     "text": [
      "/var/folders/f5/7w8rh9rx11938lxyvdr2g_940000gn/T/ipykernel_94711/1421014058.py:23: FutureWarning: The frame.append method is deprecated and will be removed from pandas in a future version. Use pandas.concat instead.\n",
      "  df = df.append({'URL': image_src_temp, 'Labels': s}, ignore_index=True)\n"
     ]
    },
    {
     "name": "stdout",
     "output_type": "stream",
     "text": [
      "s\n",
      "Sleeve Beige Street fashion Musical instrument Vintage clothing Fashion design Fur Costume Uniform Trench coat\n"
     ]
    },
    {
     "name": "stderr",
     "output_type": "stream",
     "text": [
      "/var/folders/f5/7w8rh9rx11938lxyvdr2g_940000gn/T/ipykernel_94711/1421014058.py:23: FutureWarning: The frame.append method is deprecated and will be removed from pandas in a future version. Use pandas.concat instead.\n",
      "  df = df.append({'URL': image_src_temp, 'Labels': s}, ignore_index=True)\n"
     ]
    },
    {
     "name": "stdout",
     "output_type": "stream",
     "text": [
      "s\n",
      "Dance Art Artist Flash photography Entertainment Painting Fashion design Performing arts Choreography Event\n"
     ]
    },
    {
     "name": "stderr",
     "output_type": "stream",
     "text": [
      "/var/folders/f5/7w8rh9rx11938lxyvdr2g_940000gn/T/ipykernel_94711/1421014058.py:23: FutureWarning: The frame.append method is deprecated and will be removed from pandas in a future version. Use pandas.concat instead.\n",
      "  df = df.append({'URL': image_src_temp, 'Labels': s}, ignore_index=True)\n"
     ]
    },
    {
     "name": "stdout",
     "output_type": "stream",
     "text": [
      "s\n",
      "Active pants Sleeve sweatpant Sportswear Street fashion Smile Hat Grass Knee Cap\n"
     ]
    },
    {
     "name": "stderr",
     "output_type": "stream",
     "text": [
      "/var/folders/f5/7w8rh9rx11938lxyvdr2g_940000gn/T/ipykernel_94711/1421014058.py:23: FutureWarning: The frame.append method is deprecated and will be removed from pandas in a future version. Use pandas.concat instead.\n",
      "  df = df.append({'URL': image_src_temp, 'Labels': s}, ignore_index=True)\n"
     ]
    },
    {
     "name": "stdout",
     "output_type": "stream",
     "text": [
      "s\n",
      "Plant Tree Terrestrial plant Rectangle Arecales Art Symmetry Flowering plant Painting Pattern\n"
     ]
    },
    {
     "name": "stderr",
     "output_type": "stream",
     "text": [
      "/var/folders/f5/7w8rh9rx11938lxyvdr2g_940000gn/T/ipykernel_94711/1421014058.py:23: FutureWarning: The frame.append method is deprecated and will be removed from pandas in a future version. Use pandas.concat instead.\n",
      "  df = df.append({'URL': image_src_temp, 'Labels': s}, ignore_index=True)\n"
     ]
    },
    {
     "name": "stdout",
     "output_type": "stream",
     "text": [
      "s\n",
      "Plant Snow Wood Fawn Tree Trunk Carnivore Freezing Twig Winter\n"
     ]
    },
    {
     "name": "stderr",
     "output_type": "stream",
     "text": [
      "/var/folders/f5/7w8rh9rx11938lxyvdr2g_940000gn/T/ipykernel_94711/1421014058.py:23: FutureWarning: The frame.append method is deprecated and will be removed from pandas in a future version. Use pandas.concat instead.\n",
      "  df = df.append({'URL': image_src_temp, 'Labels': s}, ignore_index=True)\n"
     ]
    },
    {
     "name": "stdout",
     "output_type": "stream",
     "text": [
      "s\n",
      "Shorts Active shorts Sports equipment Playing sports Streetball Leisure Player Grass Plant Sports\n"
     ]
    },
    {
     "name": "stderr",
     "output_type": "stream",
     "text": [
      "/var/folders/f5/7w8rh9rx11938lxyvdr2g_940000gn/T/ipykernel_94711/1421014058.py:23: FutureWarning: The frame.append method is deprecated and will be removed from pandas in a future version. Use pandas.concat instead.\n",
      "  df = df.append({'URL': image_src_temp, 'Labels': s}, ignore_index=True)\n"
     ]
    },
    {
     "name": "stdout",
     "output_type": "stream",
     "text": [
      "s\n",
      "Footwear Flash photography Fashion design Entertainment Event Street fashion Gadget Performing arts Flooring Font\n"
     ]
    },
    {
     "name": "stderr",
     "output_type": "stream",
     "text": [
      "/var/folders/f5/7w8rh9rx11938lxyvdr2g_940000gn/T/ipykernel_94711/1421014058.py:23: FutureWarning: The frame.append method is deprecated and will be removed from pandas in a future version. Use pandas.concat instead.\n",
      "  df = df.append({'URL': image_src_temp, 'Labels': s}, ignore_index=True)\n"
     ]
    },
    {
     "name": "stdout",
     "output_type": "stream",
     "text": [
      "s\n",
      "Hair Joint Head Lip Outerwear Hairstyle Shoulder Eyebrow Eye Fur clothing\n"
     ]
    },
    {
     "name": "stderr",
     "output_type": "stream",
     "text": [
      "/var/folders/f5/7w8rh9rx11938lxyvdr2g_940000gn/T/ipykernel_94711/1421014058.py:23: FutureWarning: The frame.append method is deprecated and will be removed from pandas in a future version. Use pandas.concat instead.\n",
      "  df = df.append({'URL': image_src_temp, 'Labels': s}, ignore_index=True)\n"
     ]
    },
    {
     "name": "stdout",
     "output_type": "stream",
     "text": [
      "s\n",
      "Face Smile Lip Hairstyle Eyebrow Shoulder Flash photography Neck Fashion Sleeve\n"
     ]
    },
    {
     "name": "stderr",
     "output_type": "stream",
     "text": [
      "/var/folders/f5/7w8rh9rx11938lxyvdr2g_940000gn/T/ipykernel_94711/1421014058.py:23: FutureWarning: The frame.append method is deprecated and will be removed from pandas in a future version. Use pandas.concat instead.\n",
      "  df = df.append({'URL': image_src_temp, 'Labels': s}, ignore_index=True)\n"
     ]
    },
    {
     "name": "stdout",
     "output_type": "stream",
     "text": [
      "s\n",
      "Face Hair Chin Outerwear Eyebrow Shirt Eye Eyelash Neck Human body\n"
     ]
    },
    {
     "name": "stderr",
     "output_type": "stream",
     "text": [
      "/var/folders/f5/7w8rh9rx11938lxyvdr2g_940000gn/T/ipykernel_94711/1421014058.py:23: FutureWarning: The frame.append method is deprecated and will be removed from pandas in a future version. Use pandas.concat instead.\n",
      "  df = df.append({'URL': image_src_temp, 'Labels': s}, ignore_index=True)\n"
     ]
    },
    {
     "name": "stdout",
     "output_type": "stream",
     "text": [
      "s\n",
      "Hair Head Eye Human body Natural material Pink Eyelash Feather Magenta Peach\n"
     ]
    },
    {
     "name": "stderr",
     "output_type": "stream",
     "text": [
      "/var/folders/f5/7w8rh9rx11938lxyvdr2g_940000gn/T/ipykernel_94711/1421014058.py:23: FutureWarning: The frame.append method is deprecated and will be removed from pandas in a future version. Use pandas.concat instead.\n",
      "  df = df.append({'URL': image_src_temp, 'Labels': s}, ignore_index=True)\n"
     ]
    },
    {
     "name": "stdout",
     "output_type": "stream",
     "text": [
      "s\n",
      "Joint Shoe Plant Outerwear Shoulder Leg Street fashion Dress shirt Neck Human body\n"
     ]
    },
    {
     "name": "stderr",
     "output_type": "stream",
     "text": [
      "/var/folders/f5/7w8rh9rx11938lxyvdr2g_940000gn/T/ipykernel_94711/1421014058.py:23: FutureWarning: The frame.append method is deprecated and will be removed from pandas in a future version. Use pandas.concat instead.\n",
      "  df = df.append({'URL': image_src_temp, 'Labels': s}, ignore_index=True)\n"
     ]
    },
    {
     "name": "stdout",
     "output_type": "stream",
     "text": [
      "s\n",
      "Outerwear Shoulder Leg Human body Neck Waist Sleeve Purple Street fashion Thigh\n"
     ]
    },
    {
     "name": "stderr",
     "output_type": "stream",
     "text": [
      "/var/folders/f5/7w8rh9rx11938lxyvdr2g_940000gn/T/ipykernel_94711/1421014058.py:23: FutureWarning: The frame.append method is deprecated and will be removed from pandas in a future version. Use pandas.concat instead.\n",
      "  df = df.append({'URL': image_src_temp, 'Labels': s}, ignore_index=True)\n"
     ]
    },
    {
     "name": "stdout",
     "output_type": "stream",
     "text": [
      "s\n",
      "Head Outerwear Parka Eye Glove Snow Leg Human body Textile Sleeve\n"
     ]
    },
    {
     "name": "stderr",
     "output_type": "stream",
     "text": [
      "/var/folders/f5/7w8rh9rx11938lxyvdr2g_940000gn/T/ipykernel_94711/1421014058.py:23: FutureWarning: The frame.append method is deprecated and will be removed from pandas in a future version. Use pandas.concat instead.\n",
      "  df = df.append({'URL': image_src_temp, 'Labels': s}, ignore_index=True)\n"
     ]
    },
    {
     "name": "stdout",
     "output_type": "stream",
     "text": [
      "s\n",
      "Shirt Dress Azure Human body Sleeve Coat Waist Rectangle Street fashion Fashion design\n"
     ]
    },
    {
     "name": "stderr",
     "output_type": "stream",
     "text": [
      "/var/folders/f5/7w8rh9rx11938lxyvdr2g_940000gn/T/ipykernel_94711/1421014058.py:23: FutureWarning: The frame.append method is deprecated and will be removed from pandas in a future version. Use pandas.concat instead.\n",
      "  df = df.append({'URL': image_src_temp, 'Labels': s}, ignore_index=True)\n"
     ]
    },
    {
     "name": "stdout",
     "output_type": "stream",
     "text": [
      "s\n",
      "Arm Photograph Muscle Leg Dress Flash photography Fashion Automotive design Thigh Font\n"
     ]
    },
    {
     "name": "stderr",
     "output_type": "stream",
     "text": [
      "/var/folders/f5/7w8rh9rx11938lxyvdr2g_940000gn/T/ipykernel_94711/1421014058.py:23: FutureWarning: The frame.append method is deprecated and will be removed from pandas in a future version. Use pandas.concat instead.\n",
      "  df = df.append({'URL': image_src_temp, 'Labels': s}, ignore_index=True)\n"
     ]
    },
    {
     "name": "stdout",
     "output_type": "stream",
     "text": [
      "s\n",
      "Forehead Hair Nose Cheek Lip Chin Eyelash Mouth Jaw Smile\n"
     ]
    },
    {
     "name": "stderr",
     "output_type": "stream",
     "text": [
      "/var/folders/f5/7w8rh9rx11938lxyvdr2g_940000gn/T/ipykernel_94711/1421014058.py:23: FutureWarning: The frame.append method is deprecated and will be removed from pandas in a future version. Use pandas.concat instead.\n",
      "  df = df.append({'URL': image_src_temp, 'Labels': s}, ignore_index=True)\n"
     ]
    },
    {
     "name": "stdout",
     "output_type": "stream",
     "text": [
      "s\n",
      "Tableware Drinkware Mountain Dishware Coffee cup Snow Cup Table Serveware Slope\n"
     ]
    },
    {
     "name": "stderr",
     "output_type": "stream",
     "text": [
      "/var/folders/f5/7w8rh9rx11938lxyvdr2g_940000gn/T/ipykernel_94711/1421014058.py:23: FutureWarning: The frame.append method is deprecated and will be removed from pandas in a future version. Use pandas.concat instead.\n",
      "  df = df.append({'URL': image_src_temp, 'Labels': s}, ignore_index=True)\n"
     ]
    },
    {
     "name": "stdout",
     "output_type": "stream",
     "text": [
      "s\n",
      "Clothing Skin Lip Hairstyle Shoulder Eyebrow Facial expression Eyelash Organ Neck\n"
     ]
    },
    {
     "name": "stderr",
     "output_type": "stream",
     "text": [
      "/var/folders/f5/7w8rh9rx11938lxyvdr2g_940000gn/T/ipykernel_94711/1421014058.py:23: FutureWarning: The frame.append method is deprecated and will be removed from pandas in a future version. Use pandas.concat instead.\n",
      "  df = df.append({'URL': image_src_temp, 'Labels': s}, ignore_index=True)\n"
     ]
    },
    {
     "name": "stdout",
     "output_type": "stream",
     "text": [
      "s\n",
      "Dress shirt Human body Sleeve Waist Gesture Collar Fashion design Thigh Trunk Fashion model\n"
     ]
    },
    {
     "name": "stderr",
     "output_type": "stream",
     "text": [
      "/var/folders/f5/7w8rh9rx11938lxyvdr2g_940000gn/T/ipykernel_94711/1421014058.py:23: FutureWarning: The frame.append method is deprecated and will be removed from pandas in a future version. Use pandas.concat instead.\n",
      "  df = df.append({'URL': image_src_temp, 'Labels': s}, ignore_index=True)\n"
     ]
    },
    {
     "name": "stdout",
     "output_type": "stream",
     "text": [
      "s\n",
      "Forehead Nose Smile Lip Chin Eyebrow Eye Eyelash Jheri curl Black\n"
     ]
    },
    {
     "name": "stderr",
     "output_type": "stream",
     "text": [
      "/var/folders/f5/7w8rh9rx11938lxyvdr2g_940000gn/T/ipykernel_94711/1421014058.py:23: FutureWarning: The frame.append method is deprecated and will be removed from pandas in a future version. Use pandas.concat instead.\n",
      "  df = df.append({'URL': image_src_temp, 'Labels': s}, ignore_index=True)\n"
     ]
    },
    {
     "name": "stdout",
     "output_type": "stream",
     "text": [
      "s\n",
      "Font Electric blue Signage Brand\n"
     ]
    },
    {
     "name": "stderr",
     "output_type": "stream",
     "text": [
      "/var/folders/f5/7w8rh9rx11938lxyvdr2g_940000gn/T/ipykernel_94711/1421014058.py:23: FutureWarning: The frame.append method is deprecated and will be removed from pandas in a future version. Use pandas.concat instead.\n",
      "  df = df.append({'URL': image_src_temp, 'Labels': s}, ignore_index=True)\n"
     ]
    },
    {
     "name": "stdout",
     "output_type": "stream",
     "text": [
      "s\n",
      "Hair Neck Eyelash Rectangle Sunglasses Art Chest Font Fashion accessory Fur\n"
     ]
    },
    {
     "name": "stderr",
     "output_type": "stream",
     "text": [
      "/var/folders/f5/7w8rh9rx11938lxyvdr2g_940000gn/T/ipykernel_94711/1421014058.py:23: FutureWarning: The frame.append method is deprecated and will be removed from pandas in a future version. Use pandas.concat instead.\n",
      "  df = df.append({'URL': image_src_temp, 'Labels': s}, ignore_index=True)\n"
     ]
    },
    {
     "name": "stdout",
     "output_type": "stream",
     "text": [
      "s\n",
      "Shoe Photograph Sky Sleeve People in nature Cap Eyewear Hat Sneakers Street fashion\n"
     ]
    },
    {
     "name": "stderr",
     "output_type": "stream",
     "text": [
      "/var/folders/f5/7w8rh9rx11938lxyvdr2g_940000gn/T/ipykernel_94711/1421014058.py:23: FutureWarning: The frame.append method is deprecated and will be removed from pandas in a future version. Use pandas.concat instead.\n",
      "  df = df.append({'URL': image_src_temp, 'Labels': s}, ignore_index=True)\n"
     ]
    },
    {
     "name": "stdout",
     "output_type": "stream",
     "text": [
      "s\n",
      "Plant Botany Leaf People in nature Nature Tree Natural landscape Vegetation Wood Grass\n"
     ]
    },
    {
     "name": "stderr",
     "output_type": "stream",
     "text": [
      "/var/folders/f5/7w8rh9rx11938lxyvdr2g_940000gn/T/ipykernel_94711/1421014058.py:23: FutureWarning: The frame.append method is deprecated and will be removed from pandas in a future version. Use pandas.concat instead.\n",
      "  df = df.append({'URL': image_src_temp, 'Labels': s}, ignore_index=True)\n"
     ]
    },
    {
     "name": "stdout",
     "output_type": "stream",
     "text": [
      "s\n",
      "Joint Hand Leg Shorts Product Human body Neck Sleeve Waist Knee\n"
     ]
    },
    {
     "name": "stderr",
     "output_type": "stream",
     "text": [
      "/var/folders/f5/7w8rh9rx11938lxyvdr2g_940000gn/T/ipykernel_94711/1421014058.py:23: FutureWarning: The frame.append method is deprecated and will be removed from pandas in a future version. Use pandas.concat instead.\n",
      "  df = df.append({'URL': image_src_temp, 'Labels': s}, ignore_index=True)\n"
     ]
    },
    {
     "name": "stdout",
     "output_type": "stream",
     "text": [
      "s\n",
      "Tableware Liquid Drinkware Stemware Serveware Rectangle Champagne stemware Flooring Barware Dishware\n"
     ]
    },
    {
     "name": "stderr",
     "output_type": "stream",
     "text": [
      "/var/folders/f5/7w8rh9rx11938lxyvdr2g_940000gn/T/ipykernel_94711/1421014058.py:23: FutureWarning: The frame.append method is deprecated and will be removed from pandas in a future version. Use pandas.concat instead.\n",
      "  df = df.append({'URL': image_src_temp, 'Labels': s}, ignore_index=True)\n"
     ]
    },
    {
     "name": "stdout",
     "output_type": "stream",
     "text": [
      "s\n",
      "Forehead Hair Face Head Lip Outerwear Eyebrow White Black Flash photography\n"
     ]
    },
    {
     "name": "stderr",
     "output_type": "stream",
     "text": [
      "/var/folders/f5/7w8rh9rx11938lxyvdr2g_940000gn/T/ipykernel_94711/1421014058.py:23: FutureWarning: The frame.append method is deprecated and will be removed from pandas in a future version. Use pandas.concat instead.\n",
      "  df = df.append({'URL': image_src_temp, 'Labels': s}, ignore_index=True)\n"
     ]
    },
    {
     "name": "stdout",
     "output_type": "stream",
     "text": [
      "s\n",
      "Photograph White Purple Cap Sleeve Hat Gesture Bag Pink Happy\n"
     ]
    },
    {
     "name": "stderr",
     "output_type": "stream",
     "text": [
      "/var/folders/f5/7w8rh9rx11938lxyvdr2g_940000gn/T/ipykernel_94711/1421014058.py:23: FutureWarning: The frame.append method is deprecated and will be removed from pandas in a future version. Use pandas.concat instead.\n",
      "  df = df.append({'URL': image_src_temp, 'Labels': s}, ignore_index=True)\n"
     ]
    },
    {
     "name": "stdout",
     "output_type": "stream",
     "text": [
      "s\n",
      "Sky Flash photography Sleeve Cloud Standing Happy Gesture Rectangle People in nature Event\n"
     ]
    },
    {
     "name": "stderr",
     "output_type": "stream",
     "text": [
      "/var/folders/f5/7w8rh9rx11938lxyvdr2g_940000gn/T/ipykernel_94711/1421014058.py:23: FutureWarning: The frame.append method is deprecated and will be removed from pandas in a future version. Use pandas.concat instead.\n",
      "  df = df.append({'URL': image_src_temp, 'Labels': s}, ignore_index=True)\n"
     ]
    },
    {
     "name": "stdout",
     "output_type": "stream",
     "text": [
      "s\n",
      "Footwear Joint Shoe Shoulder Building Sky Leg Skyscraper Fashion Street fashion\n"
     ]
    },
    {
     "name": "stderr",
     "output_type": "stream",
     "text": [
      "/var/folders/f5/7w8rh9rx11938lxyvdr2g_940000gn/T/ipykernel_94711/1421014058.py:23: FutureWarning: The frame.append method is deprecated and will be removed from pandas in a future version. Use pandas.concat instead.\n",
      "  df = df.append({'URL': image_src_temp, 'Labels': s}, ignore_index=True)\n"
     ]
    },
    {
     "name": "stdout",
     "output_type": "stream",
     "text": [
      "s\n",
      "Shoulder Sunglasses Hood Green Blue Vision care Shorts Sleeve Automotive design Automotive lighting\n"
     ]
    },
    {
     "name": "stderr",
     "output_type": "stream",
     "text": [
      "/var/folders/f5/7w8rh9rx11938lxyvdr2g_940000gn/T/ipykernel_94711/1421014058.py:23: FutureWarning: The frame.append method is deprecated and will be removed from pandas in a future version. Use pandas.concat instead.\n",
      "  df = df.append({'URL': image_src_temp, 'Labels': s}, ignore_index=True)\n"
     ]
    },
    {
     "name": "stdout",
     "output_type": "stream",
     "text": [
      "s\n",
      "Hair Face Joint Lip Hairstyle Shoulder Neck Flash photography Eyelash Sleeve\n"
     ]
    },
    {
     "name": "stderr",
     "output_type": "stream",
     "text": [
      "/var/folders/f5/7w8rh9rx11938lxyvdr2g_940000gn/T/ipykernel_94711/1421014058.py:23: FutureWarning: The frame.append method is deprecated and will be removed from pandas in a future version. Use pandas.concat instead.\n",
      "  df = df.append({'URL': image_src_temp, 'Labels': s}, ignore_index=True)\n"
     ]
    },
    {
     "name": "stdout",
     "output_type": "stream",
     "text": [
      "s\n",
      "Hair Nose Face Brown Skin Head Chin Eyebrow Hairstyle Eye\n"
     ]
    },
    {
     "name": "stderr",
     "output_type": "stream",
     "text": [
      "/var/folders/f5/7w8rh9rx11938lxyvdr2g_940000gn/T/ipykernel_94711/1421014058.py:23: FutureWarning: The frame.append method is deprecated and will be removed from pandas in a future version. Use pandas.concat instead.\n",
      "  df = df.append({'URL': image_src_temp, 'Labels': s}, ignore_index=True)\n"
     ]
    },
    {
     "name": "stdout",
     "output_type": "stream",
     "text": [
      "s\n",
      "Plant People in nature Wood Glove Tree Natural landscape Terrestrial plant Trunk Grass Forest\n"
     ]
    },
    {
     "name": "stderr",
     "output_type": "stream",
     "text": [
      "/var/folders/f5/7w8rh9rx11938lxyvdr2g_940000gn/T/ipykernel_94711/1421014058.py:23: FutureWarning: The frame.append method is deprecated and will be removed from pandas in a future version. Use pandas.concat instead.\n",
      "  df = df.append({'URL': image_src_temp, 'Labels': s}, ignore_index=True)\n"
     ]
    },
    {
     "name": "stdout",
     "output_type": "stream",
     "text": [
      "s\n",
      "Hair Lip Flash photography Street fashion Neck Sleeve Grey Wood Jacket Blazer\n"
     ]
    },
    {
     "name": "stderr",
     "output_type": "stream",
     "text": [
      "/var/folders/f5/7w8rh9rx11938lxyvdr2g_940000gn/T/ipykernel_94711/1421014058.py:23: FutureWarning: The frame.append method is deprecated and will be removed from pandas in a future version. Use pandas.concat instead.\n",
      "  df = df.append({'URL': image_src_temp, 'Labels': s}, ignore_index=True)\n"
     ]
    },
    {
     "name": "stdout",
     "output_type": "stream",
     "text": [
      "s\n",
      "Sleeve Bag Undergarment Bat Font Fashion accessory Linens Carmine Magenta Tree\n"
     ]
    },
    {
     "name": "stderr",
     "output_type": "stream",
     "text": [
      "/var/folders/f5/7w8rh9rx11938lxyvdr2g_940000gn/T/ipykernel_94711/1421014058.py:23: FutureWarning: The frame.append method is deprecated and will be removed from pandas in a future version. Use pandas.concat instead.\n",
      "  df = df.append({'URL': image_src_temp, 'Labels': s}, ignore_index=True)\n"
     ]
    },
    {
     "name": "stdout",
     "output_type": "stream",
     "text": [
      "s\n",
      "Table Gold Lamp Shade Headgear Wood Rectangle Tints and shades Art Ceiling\n"
     ]
    },
    {
     "name": "stderr",
     "output_type": "stream",
     "text": [
      "/var/folders/f5/7w8rh9rx11938lxyvdr2g_940000gn/T/ipykernel_94711/1421014058.py:23: FutureWarning: The frame.append method is deprecated and will be removed from pandas in a future version. Use pandas.concat instead.\n",
      "  df = df.append({'URL': image_src_temp, 'Labels': s}, ignore_index=True)\n"
     ]
    },
    {
     "name": "stdout",
     "output_type": "stream",
     "text": [
      "s\n",
      "Clothing Shoe Arm Photograph Muscle White Light Human Fashion Black\n"
     ]
    },
    {
     "name": "stderr",
     "output_type": "stream",
     "text": [
      "/var/folders/f5/7w8rh9rx11938lxyvdr2g_940000gn/T/ipykernel_94711/1421014058.py:23: FutureWarning: The frame.append method is deprecated and will be removed from pandas in a future version. Use pandas.concat instead.\n",
      "  df = df.append({'URL': image_src_temp, 'Labels': s}, ignore_index=True)\n"
     ]
    },
    {
     "name": "stdout",
     "output_type": "stream",
     "text": [
      "s\n",
      "Clothing Jeans Sky Plant People in nature Flash photography Happy Gesture Sunlight Grass\n"
     ]
    },
    {
     "name": "stderr",
     "output_type": "stream",
     "text": [
      "/var/folders/f5/7w8rh9rx11938lxyvdr2g_940000gn/T/ipykernel_94711/1421014058.py:23: FutureWarning: The frame.append method is deprecated and will be removed from pandas in a future version. Use pandas.concat instead.\n",
      "  df = df.append({'URL': image_src_temp, 'Labels': s}, ignore_index=True)\n"
     ]
    },
    {
     "name": "stdout",
     "output_type": "stream",
     "text": [
      "s\n",
      "Joint Muscle Leg Comfort Undershirt Neck Stomach Sleeve Knee Thigh\n"
     ]
    },
    {
     "name": "stderr",
     "output_type": "stream",
     "text": [
      "/var/folders/f5/7w8rh9rx11938lxyvdr2g_940000gn/T/ipykernel_94711/1421014058.py:23: FutureWarning: The frame.append method is deprecated and will be removed from pandas in a future version. Use pandas.concat instead.\n",
      "  df = df.append({'URL': image_src_temp, 'Labels': s}, ignore_index=True)\n"
     ]
    },
    {
     "name": "stdout",
     "output_type": "stream",
     "text": [
      "s\n",
      "Gesture Interaction Flash photography Happy Magenta Fun Event Sky Entertainment Sunset\n"
     ]
    },
    {
     "name": "stderr",
     "output_type": "stream",
     "text": [
      "/var/folders/f5/7w8rh9rx11938lxyvdr2g_940000gn/T/ipykernel_94711/1421014058.py:23: FutureWarning: The frame.append method is deprecated and will be removed from pandas in a future version. Use pandas.concat instead.\n",
      "  df = df.append({'URL': image_src_temp, 'Labels': s}, ignore_index=True)\n"
     ]
    },
    {
     "name": "stdout",
     "output_type": "stream",
     "text": [
      "s\n",
      "Hair Skin Lip Shoulder Sky Leg Tartan Plant People in nature Blue\n"
     ]
    },
    {
     "name": "stderr",
     "output_type": "stream",
     "text": [
      "/var/folders/f5/7w8rh9rx11938lxyvdr2g_940000gn/T/ipykernel_94711/1421014058.py:23: FutureWarning: The frame.append method is deprecated and will be removed from pandas in a future version. Use pandas.concat instead.\n",
      "  df = df.append({'URL': image_src_temp, 'Labels': s}, ignore_index=True)\n"
     ]
    },
    {
     "name": "stdout",
     "output_type": "stream",
     "text": [
      "s\n",
      "Smile Arm Comfort Neck Sleeve Gesture Happy Finger Headgear Human leg\n"
     ]
    },
    {
     "name": "stderr",
     "output_type": "stream",
     "text": [
      "/var/folders/f5/7w8rh9rx11938lxyvdr2g_940000gn/T/ipykernel_94711/1421014058.py:23: FutureWarning: The frame.append method is deprecated and will be removed from pandas in a future version. Use pandas.concat instead.\n",
      "  df = df.append({'URL': image_src_temp, 'Labels': s}, ignore_index=True)\n"
     ]
    },
    {
     "name": "stdout",
     "output_type": "stream",
     "text": [
      "s\n",
      "Arm Neck Sleeve Street fashion Collar Waist Natural material Fashion design Blazer Fashion model\n"
     ]
    },
    {
     "name": "stderr",
     "output_type": "stream",
     "text": [
      "/var/folders/f5/7w8rh9rx11938lxyvdr2g_940000gn/T/ipykernel_94711/1421014058.py:23: FutureWarning: The frame.append method is deprecated and will be removed from pandas in a future version. Use pandas.concat instead.\n",
      "  df = df.append({'URL': image_src_temp, 'Labels': s}, ignore_index=True)\n"
     ]
    },
    {
     "name": "stdout",
     "output_type": "stream",
     "text": [
      "s\n",
      "Face Hair Lip Outerwear Arm Stomach Fashion Sleeve Waist Thigh\n"
     ]
    },
    {
     "name": "stderr",
     "output_type": "stream",
     "text": [
      "/var/folders/f5/7w8rh9rx11938lxyvdr2g_940000gn/T/ipykernel_94711/1421014058.py:23: FutureWarning: The frame.append method is deprecated and will be removed from pandas in a future version. Use pandas.concat instead.\n",
      "  df = df.append({'URL': image_src_temp, 'Labels': s}, ignore_index=True)\n"
     ]
    },
    {
     "name": "stdout",
     "output_type": "stream",
     "text": [
      "s\n",
      "Shoulder Eye Smile Neck Flash photography Sleeve Street fashion Happy Sky Waist\n"
     ]
    },
    {
     "name": "stderr",
     "output_type": "stream",
     "text": [
      "/var/folders/f5/7w8rh9rx11938lxyvdr2g_940000gn/T/ipykernel_94711/1421014058.py:23: FutureWarning: The frame.append method is deprecated and will be removed from pandas in a future version. Use pandas.concat instead.\n",
      "  df = df.append({'URL': image_src_temp, 'Labels': s}, ignore_index=True)\n"
     ]
    },
    {
     "name": "stdout",
     "output_type": "stream",
     "text": [
      "s\n",
      "Flower Petal Plant Terrestrial plant Tints and shades Flowering plant Magenta Peach Event Font\n"
     ]
    },
    {
     "name": "stderr",
     "output_type": "stream",
     "text": [
      "/var/folders/f5/7w8rh9rx11938lxyvdr2g_940000gn/T/ipykernel_94711/1421014058.py:23: FutureWarning: The frame.append method is deprecated and will be removed from pandas in a future version. Use pandas.concat instead.\n",
      "  df = df.append({'URL': image_src_temp, 'Labels': s}, ignore_index=True)\n"
     ]
    },
    {
     "name": "stdout",
     "output_type": "stream",
     "text": [
      "s\n",
      "Gesture Sky Font Tree Display device Personal protective equipment Electronic device Rectangle Flash photography Electric blue\n"
     ]
    },
    {
     "name": "stderr",
     "output_type": "stream",
     "text": [
      "/var/folders/f5/7w8rh9rx11938lxyvdr2g_940000gn/T/ipykernel_94711/1421014058.py:23: FutureWarning: The frame.append method is deprecated and will be removed from pandas in a future version. Use pandas.concat instead.\n",
      "  df = df.append({'URL': image_src_temp, 'Labels': s}, ignore_index=True)\n"
     ]
    },
    {
     "name": "stdout",
     "output_type": "stream",
     "text": [
      "s\n",
      "Sky Shorts Cloud Thigh Knee People on beach Happy People in nature Barefoot Leisure\n"
     ]
    },
    {
     "name": "stderr",
     "output_type": "stream",
     "text": [
      "/var/folders/f5/7w8rh9rx11938lxyvdr2g_940000gn/T/ipykernel_94711/1421014058.py:23: FutureWarning: The frame.append method is deprecated and will be removed from pandas in a future version. Use pandas.concat instead.\n",
      "  df = df.append({'URL': image_src_temp, 'Labels': s}, ignore_index=True)\n"
     ]
    },
    {
     "name": "stdout",
     "output_type": "stream",
     "text": [
      "s\n",
      "Joint Arm Shoulder Leg Neck Flash photography Fashion Sleeve Waist Thigh\n"
     ]
    },
    {
     "name": "stderr",
     "output_type": "stream",
     "text": [
      "/var/folders/f5/7w8rh9rx11938lxyvdr2g_940000gn/T/ipykernel_94711/1421014058.py:23: FutureWarning: The frame.append method is deprecated and will be removed from pandas in a future version. Use pandas.concat instead.\n",
      "  df = df.append({'URL': image_src_temp, 'Labels': s}, ignore_index=True)\n"
     ]
    },
    {
     "name": "stdout",
     "output_type": "stream",
     "text": [
      "s\n",
      "Smile Outerwear Military camouflage Camouflage Beard Human body Sleeve Gesture Flash photography Cool\n"
     ]
    },
    {
     "name": "stderr",
     "output_type": "stream",
     "text": [
      "/var/folders/f5/7w8rh9rx11938lxyvdr2g_940000gn/T/ipykernel_94711/1421014058.py:23: FutureWarning: The frame.append method is deprecated and will be removed from pandas in a future version. Use pandas.concat instead.\n",
      "  df = df.append({'URL': image_src_temp, 'Labels': s}, ignore_index=True)\n"
     ]
    },
    {
     "name": "stdout",
     "output_type": "stream",
     "text": [
      "s\n",
      "Outerwear Overcoat Sleeve Gesture Collar Trench coat Headgear Street fashion Blazer Fashion design\n"
     ]
    },
    {
     "name": "stderr",
     "output_type": "stream",
     "text": [
      "/var/folders/f5/7w8rh9rx11938lxyvdr2g_940000gn/T/ipykernel_94711/1421014058.py:23: FutureWarning: The frame.append method is deprecated and will be removed from pandas in a future version. Use pandas.concat instead.\n",
      "  df = df.append({'URL': image_src_temp, 'Labels': s}, ignore_index=True)\n"
     ]
    },
    {
     "name": "stdout",
     "output_type": "stream",
     "text": [
      "s\n",
      "Joint Skin Lip Outerwear Shoulder Facial expression White Neck Eyelash Sleeve\n"
     ]
    },
    {
     "name": "stderr",
     "output_type": "stream",
     "text": [
      "/var/folders/f5/7w8rh9rx11938lxyvdr2g_940000gn/T/ipykernel_94711/1421014058.py:23: FutureWarning: The frame.append method is deprecated and will be removed from pandas in a future version. Use pandas.concat instead.\n",
      "  df = df.append({'URL': image_src_temp, 'Labels': s}, ignore_index=True)\n"
     ]
    },
    {
     "name": "stdout",
     "output_type": "stream",
     "text": [
      "s\n",
      "Hair Water Sky Natural environment Beach People in nature Happy Sunlight Thigh Travel\n"
     ]
    },
    {
     "name": "stderr",
     "output_type": "stream",
     "text": [
      "/var/folders/f5/7w8rh9rx11938lxyvdr2g_940000gn/T/ipykernel_94711/1421014058.py:23: FutureWarning: The frame.append method is deprecated and will be removed from pandas in a future version. Use pandas.concat instead.\n",
      "  df = df.append({'URL': image_src_temp, 'Labels': s}, ignore_index=True)\n"
     ]
    },
    {
     "name": "stdout",
     "output_type": "stream",
     "text": [
      "s\n",
      "Clothing Lip Outerwear White Neck Street fashion Jaw Sleeve Gesture Collar\n"
     ]
    },
    {
     "name": "stderr",
     "output_type": "stream",
     "text": [
      "/var/folders/f5/7w8rh9rx11938lxyvdr2g_940000gn/T/ipykernel_94711/1421014058.py:23: FutureWarning: The frame.append method is deprecated and will be removed from pandas in a future version. Use pandas.concat instead.\n",
      "  df = df.append({'URL': image_src_temp, 'Labels': s}, ignore_index=True)\n"
     ]
    },
    {
     "name": "stdout",
     "output_type": "stream",
     "text": [
      "s\n",
      "Face Joint Skin Lip Shoulder Arm Leg Neck Human body Flash photography\n"
     ]
    },
    {
     "name": "stderr",
     "output_type": "stream",
     "text": [
      "/var/folders/f5/7w8rh9rx11938lxyvdr2g_940000gn/T/ipykernel_94711/1421014058.py:23: FutureWarning: The frame.append method is deprecated and will be removed from pandas in a future version. Use pandas.concat instead.\n",
      "  df = df.append({'URL': image_src_temp, 'Labels': s}, ignore_index=True)\n"
     ]
    },
    {
     "name": "stdout",
     "output_type": "stream",
     "text": [
      "s\n",
      "Outerwear Photograph Window Fixture Sleeve Textile Street fashion Jacket Collar Leather jacket\n"
     ]
    },
    {
     "name": "stderr",
     "output_type": "stream",
     "text": [
      "/var/folders/f5/7w8rh9rx11938lxyvdr2g_940000gn/T/ipykernel_94711/1421014058.py:23: FutureWarning: The frame.append method is deprecated and will be removed from pandas in a future version. Use pandas.concat instead.\n",
      "  df = df.append({'URL': image_src_temp, 'Labels': s}, ignore_index=True)\n"
     ]
    },
    {
     "name": "stdout",
     "output_type": "stream",
     "text": [
      "s\n",
      "Face Joint Lip Chin Hand Arm Shoulder Eyebrow Eye Mouth\n"
     ]
    },
    {
     "name": "stderr",
     "output_type": "stream",
     "text": [
      "/var/folders/f5/7w8rh9rx11938lxyvdr2g_940000gn/T/ipykernel_94711/1421014058.py:23: FutureWarning: The frame.append method is deprecated and will be removed from pandas in a future version. Use pandas.concat instead.\n",
      "  df = df.append({'URL': image_src_temp, 'Labels': s}, ignore_index=True)\n"
     ]
    },
    {
     "name": "stdout",
     "output_type": "stream",
     "text": [
      "s\n",
      "Hair Joint Outerwear Shoe Shoulder Leg Neck Knee Sleeve Waist\n"
     ]
    },
    {
     "name": "stderr",
     "output_type": "stream",
     "text": [
      "/var/folders/f5/7w8rh9rx11938lxyvdr2g_940000gn/T/ipykernel_94711/1421014058.py:23: FutureWarning: The frame.append method is deprecated and will be removed from pandas in a future version. Use pandas.concat instead.\n",
      "  df = df.append({'URL': image_src_temp, 'Labels': s}, ignore_index=True)\n"
     ]
    },
    {
     "name": "stdout",
     "output_type": "stream",
     "text": [
      "s\n",
      "Outerwear Shoulder Overcoat Leg Street fashion Window Sleeve Fur clothing Standing Waist\n"
     ]
    },
    {
     "name": "stderr",
     "output_type": "stream",
     "text": [
      "/var/folders/f5/7w8rh9rx11938lxyvdr2g_940000gn/T/ipykernel_94711/1421014058.py:23: FutureWarning: The frame.append method is deprecated and will be removed from pandas in a future version. Use pandas.concat instead.\n",
      "  df = df.append({'URL': image_src_temp, 'Labels': s}, ignore_index=True)\n"
     ]
    },
    {
     "name": "stdout",
     "output_type": "stream",
     "text": [
      "s\n",
      "Joint Shoulder Leg Neck Dress shirt Waist Sleeve Knee Thigh Wood\n"
     ]
    },
    {
     "name": "stderr",
     "output_type": "stream",
     "text": [
      "/var/folders/f5/7w8rh9rx11938lxyvdr2g_940000gn/T/ipykernel_94711/1421014058.py:23: FutureWarning: The frame.append method is deprecated and will be removed from pandas in a future version. Use pandas.concat instead.\n",
      "  df = df.append({'URL': image_src_temp, 'Labels': s}, ignore_index=True)\n"
     ]
    },
    {
     "name": "stdout",
     "output_type": "stream",
     "text": [
      "s\n",
      "Dog Carnivore Dog breed Tail Companion dog Feather Toy dog Fur Terrier Fashion accessory\n"
     ]
    },
    {
     "name": "stderr",
     "output_type": "stream",
     "text": [
      "/var/folders/f5/7w8rh9rx11938lxyvdr2g_940000gn/T/ipykernel_94711/1421014058.py:23: FutureWarning: The frame.append method is deprecated and will be removed from pandas in a future version. Use pandas.concat instead.\n",
      "  df = df.append({'URL': image_src_temp, 'Labels': s}, ignore_index=True)\n"
     ]
    },
    {
     "name": "stdout",
     "output_type": "stream",
     "text": [
      "s\n",
      "Flash photography Orange Entertainment Heat Event Darkness Electricity Midnight Fun Performance art\n"
     ]
    },
    {
     "name": "stderr",
     "output_type": "stream",
     "text": [
      "/var/folders/f5/7w8rh9rx11938lxyvdr2g_940000gn/T/ipykernel_94711/1421014058.py:23: FutureWarning: The frame.append method is deprecated and will be removed from pandas in a future version. Use pandas.concat instead.\n",
      "  df = df.append({'URL': image_src_temp, 'Labels': s}, ignore_index=True)\n"
     ]
    },
    {
     "name": "stdout",
     "output_type": "stream",
     "text": [
      "s\n",
      "Smile Skin Sky People in nature Tree Happy Gesture Jacket Travel Interaction\n"
     ]
    },
    {
     "name": "stderr",
     "output_type": "stream",
     "text": [
      "/var/folders/f5/7w8rh9rx11938lxyvdr2g_940000gn/T/ipykernel_94711/1421014058.py:23: FutureWarning: The frame.append method is deprecated and will be removed from pandas in a future version. Use pandas.concat instead.\n",
      "  df = df.append({'URL': image_src_temp, 'Labels': s}, ignore_index=True)\n"
     ]
    },
    {
     "name": "stdout",
     "output_type": "stream",
     "text": [
      "s\n",
      "People in nature Plant Tree Branch Sky Happy Jacket Groundcover Shrub Landscape\n"
     ]
    },
    {
     "name": "stderr",
     "output_type": "stream",
     "text": [
      "/var/folders/f5/7w8rh9rx11938lxyvdr2g_940000gn/T/ipykernel_94711/1421014058.py:23: FutureWarning: The frame.append method is deprecated and will be removed from pandas in a future version. Use pandas.concat instead.\n",
      "  df = df.append({'URL': image_src_temp, 'Labels': s}, ignore_index=True)\n"
     ]
    },
    {
     "name": "stdout",
     "output_type": "stream",
     "text": [
      "s\n",
      "Leg Street fashion Flash photography Sleeve Waist Standing Knee Thigh Collar Denim\n"
     ]
    },
    {
     "name": "stderr",
     "output_type": "stream",
     "text": [
      "/var/folders/f5/7w8rh9rx11938lxyvdr2g_940000gn/T/ipykernel_94711/1421014058.py:23: FutureWarning: The frame.append method is deprecated and will be removed from pandas in a future version. Use pandas.concat instead.\n",
      "  df = df.append({'URL': image_src_temp, 'Labels': s}, ignore_index=True)\n"
     ]
    },
    {
     "name": "stdout",
     "output_type": "stream",
     "text": [
      "s\n",
      "Outerwear Arm Shoulder Coat Cap Neck Sleeve Waist Street fashion Gesture\n"
     ]
    },
    {
     "name": "stderr",
     "output_type": "stream",
     "text": [
      "/var/folders/f5/7w8rh9rx11938lxyvdr2g_940000gn/T/ipykernel_94711/1421014058.py:23: FutureWarning: The frame.append method is deprecated and will be removed from pandas in a future version. Use pandas.concat instead.\n",
      "  df = df.append({'URL': image_src_temp, 'Labels': s}, ignore_index=True)\n"
     ]
    },
    {
     "name": "stdout",
     "output_type": "stream",
     "text": [
      "s\n",
      "Neck Sleeve Yellow Flash photography Thigh Waist Black hair Tableware Fashion design Trunk\n"
     ]
    },
    {
     "name": "stderr",
     "output_type": "stream",
     "text": [
      "/var/folders/f5/7w8rh9rx11938lxyvdr2g_940000gn/T/ipykernel_94711/1421014058.py:23: FutureWarning: The frame.append method is deprecated and will be removed from pandas in a future version. Use pandas.concat instead.\n",
      "  df = df.append({'URL': image_src_temp, 'Labels': s}, ignore_index=True)\n"
     ]
    },
    {
     "name": "stdout",
     "output_type": "stream",
     "text": [
      "s\n",
      "Outerwear Vision care Flash photography Purple Neck Textile Sleeve Street fashion Grey Jacket\n"
     ]
    },
    {
     "name": "stderr",
     "output_type": "stream",
     "text": [
      "/var/folders/f5/7w8rh9rx11938lxyvdr2g_940000gn/T/ipykernel_94711/1421014058.py:23: FutureWarning: The frame.append method is deprecated and will be removed from pandas in a future version. Use pandas.concat instead.\n",
      "  df = df.append({'URL': image_src_temp, 'Labels': s}, ignore_index=True)\n"
     ]
    },
    {
     "name": "stdout",
     "output_type": "stream",
     "text": [
      "s\n",
      "Clothing Footwear Land vehicle Shoe Hairstyle Car Photograph Wheel Street fashion Black\n"
     ]
    },
    {
     "name": "stderr",
     "output_type": "stream",
     "text": [
      "/var/folders/f5/7w8rh9rx11938lxyvdr2g_940000gn/T/ipykernel_94711/1421014058.py:23: FutureWarning: The frame.append method is deprecated and will be removed from pandas in a future version. Use pandas.concat instead.\n",
      "  df = df.append({'URL': image_src_temp, 'Labels': s}, ignore_index=True)\n"
     ]
    },
    {
     "name": "stdout",
     "output_type": "stream",
     "text": [
      "s\n",
      "Joint Arm Stomach Muscle Human body Neck Sleeve Waist Flash photography Thigh\n"
     ]
    },
    {
     "name": "stderr",
     "output_type": "stream",
     "text": [
      "/var/folders/f5/7w8rh9rx11938lxyvdr2g_940000gn/T/ipykernel_94711/1421014058.py:23: FutureWarning: The frame.append method is deprecated and will be removed from pandas in a future version. Use pandas.concat instead.\n",
      "  df = df.append({'URL': image_src_temp, 'Labels': s}, ignore_index=True)\n"
     ]
    },
    {
     "name": "stdout",
     "output_type": "stream",
     "text": [
      "s\n",
      "Forehead Nose Cheek Skin Lip Smile Mouth Eyebrow Eye Facial expression\n"
     ]
    },
    {
     "name": "stderr",
     "output_type": "stream",
     "text": [
      "/var/folders/f5/7w8rh9rx11938lxyvdr2g_940000gn/T/ipykernel_94711/1421014058.py:23: FutureWarning: The frame.append method is deprecated and will be removed from pandas in a future version. Use pandas.concat instead.\n",
      "  df = df.append({'URL': image_src_temp, 'Labels': s}, ignore_index=True)\n"
     ]
    },
    {
     "name": "stdout",
     "output_type": "stream",
     "text": [
      "s\n",
      "Automotive design Building Architecture Floor Flooring Ceiling Art Space Glass Luxury vehicle\n"
     ]
    },
    {
     "name": "stderr",
     "output_type": "stream",
     "text": [
      "/var/folders/f5/7w8rh9rx11938lxyvdr2g_940000gn/T/ipykernel_94711/1421014058.py:23: FutureWarning: The frame.append method is deprecated and will be removed from pandas in a future version. Use pandas.concat instead.\n",
      "  df = df.append({'URL': image_src_temp, 'Labels': s}, ignore_index=True)\n"
     ]
    },
    {
     "name": "stdout",
     "output_type": "stream",
     "text": [
      "s\n",
      "Clothing Footwear Shoe Outerwear Leg Human body Fashion Sleeve Street fashion Gesture\n"
     ]
    },
    {
     "name": "stderr",
     "output_type": "stream",
     "text": [
      "/var/folders/f5/7w8rh9rx11938lxyvdr2g_940000gn/T/ipykernel_94711/1421014058.py:23: FutureWarning: The frame.append method is deprecated and will be removed from pandas in a future version. Use pandas.concat instead.\n",
      "  df = df.append({'URL': image_src_temp, 'Labels': s}, ignore_index=True)\n"
     ]
    },
    {
     "name": "stdout",
     "output_type": "stream",
     "text": [
      "s\n",
      "Font Brand\n"
     ]
    },
    {
     "name": "stderr",
     "output_type": "stream",
     "text": [
      "/var/folders/f5/7w8rh9rx11938lxyvdr2g_940000gn/T/ipykernel_94711/1421014058.py:23: FutureWarning: The frame.append method is deprecated and will be removed from pandas in a future version. Use pandas.concat instead.\n",
      "  df = df.append({'URL': image_src_temp, 'Labels': s}, ignore_index=True)\n"
     ]
    },
    {
     "name": "stdout",
     "output_type": "stream",
     "text": [
      "s\n",
      "Rectangle Font Gadget Electronic device Technology Communication Device Logo Metal Graphics Brand\n"
     ]
    },
    {
     "name": "stderr",
     "output_type": "stream",
     "text": [
      "/var/folders/f5/7w8rh9rx11938lxyvdr2g_940000gn/T/ipykernel_94711/1421014058.py:23: FutureWarning: The frame.append method is deprecated and will be removed from pandas in a future version. Use pandas.concat instead.\n",
      "  df = df.append({'URL': image_src_temp, 'Labels': s}, ignore_index=True)\n"
     ]
    },
    {
     "name": "stdout",
     "output_type": "stream",
     "text": [
      "s\n",
      "Shoulder Neck Textile Sleeve Wood Comfort Fashion design Knee Thigh Human leg\n"
     ]
    },
    {
     "name": "stderr",
     "output_type": "stream",
     "text": [
      "/var/folders/f5/7w8rh9rx11938lxyvdr2g_940000gn/T/ipykernel_94711/1421014058.py:23: FutureWarning: The frame.append method is deprecated and will be removed from pandas in a future version. Use pandas.concat instead.\n",
      "  df = df.append({'URL': image_src_temp, 'Labels': s}, ignore_index=True)\n"
     ]
    },
    {
     "name": "stdout",
     "output_type": "stream",
     "text": [
      "s\n",
      "Joint Plant Shoulder Picture frame One-piece garment Neck Sleeve Waist Dress Standing\n"
     ]
    },
    {
     "name": "stderr",
     "output_type": "stream",
     "text": [
      "/var/folders/f5/7w8rh9rx11938lxyvdr2g_940000gn/T/ipykernel_94711/1421014058.py:23: FutureWarning: The frame.append method is deprecated and will be removed from pandas in a future version. Use pandas.concat instead.\n",
      "  df = df.append({'URL': image_src_temp, 'Labels': s}, ignore_index=True)\n"
     ]
    },
    {
     "name": "stdout",
     "output_type": "stream",
     "text": [
      "s\n",
      "Sky Cloud Hairstyle Shoulder Plant Flash photography Street fashion Neck Sleeve Waist\n"
     ]
    },
    {
     "name": "stderr",
     "output_type": "stream",
     "text": [
      "/var/folders/f5/7w8rh9rx11938lxyvdr2g_940000gn/T/ipykernel_94711/1421014058.py:23: FutureWarning: The frame.append method is deprecated and will be removed from pandas in a future version. Use pandas.concat instead.\n",
      "  df = df.append({'URL': image_src_temp, 'Labels': s}, ignore_index=True)\n"
     ]
    },
    {
     "name": "stdout",
     "output_type": "stream",
     "text": [
      "s\n",
      "Flash photography Latex clothing Sleeve Waist Eyewear Leather jacket Latex Street fashion Fashion design Thigh\n"
     ]
    },
    {
     "name": "stderr",
     "output_type": "stream",
     "text": [
      "/var/folders/f5/7w8rh9rx11938lxyvdr2g_940000gn/T/ipykernel_94711/1421014058.py:23: FutureWarning: The frame.append method is deprecated and will be removed from pandas in a future version. Use pandas.concat instead.\n",
      "  df = df.append({'URL': image_src_temp, 'Labels': s}, ignore_index=True)\n"
     ]
    },
    {
     "name": "stdout",
     "output_type": "stream",
     "text": [
      "s\n",
      "Outerwear Blue Window Street fashion Azure Building Textile Sleeve Standing Sky\n"
     ]
    },
    {
     "name": "stderr",
     "output_type": "stream",
     "text": [
      "/var/folders/f5/7w8rh9rx11938lxyvdr2g_940000gn/T/ipykernel_94711/1421014058.py:23: FutureWarning: The frame.append method is deprecated and will be removed from pandas in a future version. Use pandas.concat instead.\n",
      "  df = df.append({'URL': image_src_temp, 'Labels': s}, ignore_index=True)\n"
     ]
    }
   ],
   "source": [
    "Application_Credentials = 'My Project 74932-95eea7d0bd8b.json'\n",
    "os.environ['GOOGLE_APPLICATION_CREDENTIALS'] = Application_Credentials\n",
    "client = vision.ImageAnnotatorClient()\n",
    "image = vision.Image()\n",
    "\n",
    "loc = (\"lowest_url.xlsx\")\n",
    "wb = xlrd.open_workbook(loc)\n",
    "sheet = wb.sheet_by_index(0)\n",
    "sheet.cell_value(0, 0)\n",
    "df = pd.DataFrame()\n",
    "# loop through every url, retrieve the image and send to google vision\n",
    "for i in range(sheet.nrows):\n",
    "    image_src_temp = sheet.cell_value(i, 0)\n",
    "    image.source.image_uri = image_src_temp\n",
    "    response = client.label_detection(image=image)\n",
    "    labels = response.label_annotations\n",
    "    l = []\n",
    "    for label in labels:\n",
    "        l.append(label.description)\n",
    "    s = ' '.join(l)\n",
    "    print(\"s\")\n",
    "    print(s)\n",
    "    df = df.append({'URL': image_src_temp, 'Labels': s}, ignore_index=True)\n",
    "df.to_excel(\"GV_lowest.xlsx\",index=False)"
   ]
  },
  {
   "cell_type": "code",
   "execution_count": 27,
   "id": "c0fa54a4",
   "metadata": {
    "collapsed": true
   },
   "outputs": [
    {
     "name": "stdout",
     "output_type": "stream",
     "text": [
      "s\n",
      "Hair Face Joint Skin Lip Chin Hairstyle Arm Shoulder Eyebrow\n"
     ]
    },
    {
     "name": "stderr",
     "output_type": "stream",
     "text": [
      "/var/folders/f5/7w8rh9rx11938lxyvdr2g_940000gn/T/ipykernel_94711/1372266351.py:23: FutureWarning: The frame.append method is deprecated and will be removed from pandas in a future version. Use pandas.concat instead.\n",
      "  df = df.append({'URL': image_src_temp, 'Labels': s}, ignore_index=True)\n"
     ]
    },
    {
     "name": "stdout",
     "output_type": "stream",
     "text": [
      "s\n",
      "Forehead Nose Smile Cheek Skin Chin Hand Hairstyle Eyebrow Mouth\n"
     ]
    },
    {
     "name": "stderr",
     "output_type": "stream",
     "text": [
      "/var/folders/f5/7w8rh9rx11938lxyvdr2g_940000gn/T/ipykernel_94711/1372266351.py:23: FutureWarning: The frame.append method is deprecated and will be removed from pandas in a future version. Use pandas.concat instead.\n",
      "  df = df.append({'URL': image_src_temp, 'Labels': s}, ignore_index=True)\n"
     ]
    },
    {
     "name": "stdout",
     "output_type": "stream",
     "text": [
      "s\n",
      "Hairstyle Fur clothing Vertebrate Parka Natural material Animal product Street fashion Mammal Feather Fawn\n"
     ]
    },
    {
     "name": "stderr",
     "output_type": "stream",
     "text": [
      "/var/folders/f5/7w8rh9rx11938lxyvdr2g_940000gn/T/ipykernel_94711/1372266351.py:23: FutureWarning: The frame.append method is deprecated and will be removed from pandas in a future version. Use pandas.concat instead.\n",
      "  df = df.append({'URL': image_src_temp, 'Labels': s}, ignore_index=True)\n"
     ]
    },
    {
     "name": "stdout",
     "output_type": "stream",
     "text": [
      "s\n",
      "Joint Lip Human body Neck Sleeve Flash photography Street fashion Gesture Thigh Waist\n"
     ]
    },
    {
     "name": "stderr",
     "output_type": "stream",
     "text": [
      "/var/folders/f5/7w8rh9rx11938lxyvdr2g_940000gn/T/ipykernel_94711/1372266351.py:23: FutureWarning: The frame.append method is deprecated and will be removed from pandas in a future version. Use pandas.concat instead.\n",
      "  df = df.append({'URL': image_src_temp, 'Labels': s}, ignore_index=True)\n"
     ]
    },
    {
     "name": "stdout",
     "output_type": "stream",
     "text": [
      "s\n",
      "Comfort Sleeve Knee Thigh Elbow Flooring Street fashion Human leg Fashion design Flash photography\n"
     ]
    },
    {
     "name": "stderr",
     "output_type": "stream",
     "text": [
      "/var/folders/f5/7w8rh9rx11938lxyvdr2g_940000gn/T/ipykernel_94711/1372266351.py:23: FutureWarning: The frame.append method is deprecated and will be removed from pandas in a future version. Use pandas.concat instead.\n",
      "  df = df.append({'URL': image_src_temp, 'Labels': s}, ignore_index=True)\n"
     ]
    },
    {
     "name": "stdout",
     "output_type": "stream",
     "text": [
      "s\n",
      "Cartoon Line Art Font Wood Illustration Sweetness Icing Visual arts Comfort food\n"
     ]
    },
    {
     "name": "stderr",
     "output_type": "stream",
     "text": [
      "/var/folders/f5/7w8rh9rx11938lxyvdr2g_940000gn/T/ipykernel_94711/1372266351.py:23: FutureWarning: The frame.append method is deprecated and will be removed from pandas in a future version. Use pandas.concat instead.\n",
      "  df = df.append({'URL': image_src_temp, 'Labels': s}, ignore_index=True)\n"
     ]
    },
    {
     "name": "stdout",
     "output_type": "stream",
     "text": [
      "s\n",
      "Outerwear Shoulder Window Natural material Fur clothing Animal product Street fashion Fashion Textile Eyewear\n"
     ]
    },
    {
     "name": "stderr",
     "output_type": "stream",
     "text": [
      "/var/folders/f5/7w8rh9rx11938lxyvdr2g_940000gn/T/ipykernel_94711/1372266351.py:23: FutureWarning: The frame.append method is deprecated and will be removed from pandas in a future version. Use pandas.concat instead.\n",
      "  df = df.append({'URL': image_src_temp, 'Labels': s}, ignore_index=True)\n"
     ]
    },
    {
     "name": "stdout",
     "output_type": "stream",
     "text": [
      "s\n",
      "Joint Shoulder Arm White Product Human body Fashion Sleeve Standing Cartoon\n"
     ]
    },
    {
     "name": "stderr",
     "output_type": "stream",
     "text": [
      "/var/folders/f5/7w8rh9rx11938lxyvdr2g_940000gn/T/ipykernel_94711/1372266351.py:23: FutureWarning: The frame.append method is deprecated and will be removed from pandas in a future version. Use pandas.concat instead.\n",
      "  df = df.append({'URL': image_src_temp, 'Labels': s}, ignore_index=True)\n"
     ]
    },
    {
     "name": "stdout",
     "output_type": "stream",
     "text": [
      "s\n",
      "Font Electric blue Logo Brand Graphics Trademark\n"
     ]
    },
    {
     "name": "stderr",
     "output_type": "stream",
     "text": [
      "/var/folders/f5/7w8rh9rx11938lxyvdr2g_940000gn/T/ipykernel_94711/1372266351.py:23: FutureWarning: The frame.append method is deprecated and will be removed from pandas in a future version. Use pandas.concat instead.\n",
      "  df = df.append({'URL': image_src_temp, 'Labels': s}, ignore_index=True)\n"
     ]
    },
    {
     "name": "stdout",
     "output_type": "stream",
     "text": [
      "s\n",
      "Fluid Musical instrument Ingredient Serveware Material property Wood Helmet Staple food Vinegar Tints and shades\n"
     ]
    },
    {
     "name": "stderr",
     "output_type": "stream",
     "text": [
      "/var/folders/f5/7w8rh9rx11938lxyvdr2g_940000gn/T/ipykernel_94711/1372266351.py:23: FutureWarning: The frame.append method is deprecated and will be removed from pandas in a future version. Use pandas.concat instead.\n",
      "  df = df.append({'URL': image_src_temp, 'Labels': s}, ignore_index=True)\n"
     ]
    },
    {
     "name": "stdout",
     "output_type": "stream",
     "text": [
      "s\n",
      "Table Green Rectangle Font Tree Wood Gambling Pattern Art Room\n"
     ]
    },
    {
     "name": "stderr",
     "output_type": "stream",
     "text": [
      "/var/folders/f5/7w8rh9rx11938lxyvdr2g_940000gn/T/ipykernel_94711/1372266351.py:23: FutureWarning: The frame.append method is deprecated and will be removed from pandas in a future version. Use pandas.concat instead.\n",
      "  df = df.append({'URL': image_src_temp, 'Labels': s}, ignore_index=True)\n"
     ]
    },
    {
     "name": "stdout",
     "output_type": "stream",
     "text": [
      "s\n",
      "Clothing Joint Jeans Shoulder Arm White Shorts Azure Neck Waist\n"
     ]
    },
    {
     "name": "stderr",
     "output_type": "stream",
     "text": [
      "/var/folders/f5/7w8rh9rx11938lxyvdr2g_940000gn/T/ipykernel_94711/1372266351.py:23: FutureWarning: The frame.append method is deprecated and will be removed from pandas in a future version. Use pandas.concat instead.\n",
      "  df = df.append({'URL': image_src_temp, 'Labels': s}, ignore_index=True)\n"
     ]
    },
    {
     "name": "stdout",
     "output_type": "stream",
     "text": [
      "s\n",
      "Joint Shoe Leg Comfort Neck Flash photography Sleeve Waist Knee Thigh\n"
     ]
    },
    {
     "name": "stderr",
     "output_type": "stream",
     "text": [
      "/var/folders/f5/7w8rh9rx11938lxyvdr2g_940000gn/T/ipykernel_94711/1372266351.py:23: FutureWarning: The frame.append method is deprecated and will be removed from pandas in a future version. Use pandas.concat instead.\n",
      "  df = df.append({'URL': image_src_temp, 'Labels': s}, ignore_index=True)\n"
     ]
    },
    {
     "name": "stdout",
     "output_type": "stream",
     "text": [
      "s\n",
      "Joint Shoulder White Azure Human body Neck Sleeve Waist Knee Street fashion\n"
     ]
    },
    {
     "name": "stderr",
     "output_type": "stream",
     "text": [
      "/var/folders/f5/7w8rh9rx11938lxyvdr2g_940000gn/T/ipykernel_94711/1372266351.py:23: FutureWarning: The frame.append method is deprecated and will be removed from pandas in a future version. Use pandas.concat instead.\n",
      "  df = df.append({'URL': image_src_temp, 'Labels': s}, ignore_index=True)\n"
     ]
    },
    {
     "name": "stdout",
     "output_type": "stream",
     "text": [
      "s\n",
      "Joint Lip Shoe Shoulder Flash photography Neck Sleeve Comfort Coat Waist\n"
     ]
    },
    {
     "name": "stderr",
     "output_type": "stream",
     "text": [
      "/var/folders/f5/7w8rh9rx11938lxyvdr2g_940000gn/T/ipykernel_94711/1372266351.py:23: FutureWarning: The frame.append method is deprecated and will be removed from pandas in a future version. Use pandas.concat instead.\n",
      "  df = df.append({'URL': image_src_temp, 'Labels': s}, ignore_index=True)\n"
     ]
    },
    {
     "name": "stdout",
     "output_type": "stream",
     "text": [
      "s\n",
      "Smile Plant Comfort Fur clothing Textile Couch Happy Natural material Fawn Picture frame\n"
     ]
    },
    {
     "name": "stderr",
     "output_type": "stream",
     "text": [
      "/var/folders/f5/7w8rh9rx11938lxyvdr2g_940000gn/T/ipykernel_94711/1372266351.py:23: FutureWarning: The frame.append method is deprecated and will be removed from pandas in a future version. Use pandas.concat instead.\n",
      "  df = df.append({'URL': image_src_temp, 'Labels': s}, ignore_index=True)\n"
     ]
    },
    {
     "name": "stdout",
     "output_type": "stream",
     "text": [
      "s\n",
      "Font Book Publication Electric blue Rectangle Brand\n"
     ]
    },
    {
     "name": "stderr",
     "output_type": "stream",
     "text": [
      "/var/folders/f5/7w8rh9rx11938lxyvdr2g_940000gn/T/ipykernel_94711/1372266351.py:23: FutureWarning: The frame.append method is deprecated and will be removed from pandas in a future version. Use pandas.concat instead.\n",
      "  df = df.append({'URL': image_src_temp, 'Labels': s}, ignore_index=True)\n"
     ]
    },
    {
     "name": "stdout",
     "output_type": "stream",
     "text": [
      "s\n",
      "Plant Sleeve Eyewear Street fashion Waist Fawn Fashion design Luggage and bags Sneakers Long hair\n"
     ]
    },
    {
     "name": "stderr",
     "output_type": "stream",
     "text": [
      "/var/folders/f5/7w8rh9rx11938lxyvdr2g_940000gn/T/ipykernel_94711/1372266351.py:23: FutureWarning: The frame.append method is deprecated and will be removed from pandas in a future version. Use pandas.concat instead.\n",
      "  df = df.append({'URL': image_src_temp, 'Labels': s}, ignore_index=True)\n"
     ]
    },
    {
     "name": "stdout",
     "output_type": "stream",
     "text": [
      "s\n",
      "Arm Human body Flash photography Neck Sleeve Waist Gesture Comfort Thigh Elbow\n"
     ]
    },
    {
     "name": "stderr",
     "output_type": "stream",
     "text": [
      "/var/folders/f5/7w8rh9rx11938lxyvdr2g_940000gn/T/ipykernel_94711/1372266351.py:23: FutureWarning: The frame.append method is deprecated and will be removed from pandas in a future version. Use pandas.concat instead.\n",
      "  df = df.append({'URL': image_src_temp, 'Labels': s}, ignore_index=True)\n"
     ]
    },
    {
     "name": "stdout",
     "output_type": "stream",
     "text": [
      "s\n",
      "Face Trousers Shoe Neck Sleeve Waist Dress shirt Gesture Belt Collar\n"
     ]
    },
    {
     "name": "stderr",
     "output_type": "stream",
     "text": [
      "/var/folders/f5/7w8rh9rx11938lxyvdr2g_940000gn/T/ipykernel_94711/1372266351.py:23: FutureWarning: The frame.append method is deprecated and will be removed from pandas in a future version. Use pandas.concat instead.\n",
      "  df = df.append({'URL': image_src_temp, 'Labels': s}, ignore_index=True)\n"
     ]
    },
    {
     "name": "stdout",
     "output_type": "stream",
     "text": [
      "s\n",
      "Footwear Sky Plant Leg Tree Shorts Sleeve Waist Knee Luggage and bags\n"
     ]
    },
    {
     "name": "stderr",
     "output_type": "stream",
     "text": [
      "/var/folders/f5/7w8rh9rx11938lxyvdr2g_940000gn/T/ipykernel_94711/1372266351.py:23: FutureWarning: The frame.append method is deprecated and will be removed from pandas in a future version. Use pandas.concat instead.\n",
      "  df = df.append({'URL': image_src_temp, 'Labels': s}, ignore_index=True)\n"
     ]
    },
    {
     "name": "stdout",
     "output_type": "stream",
     "text": [
      "s\n",
      "Face Hair Lip Eyebrow Shoulder Cap Smile Eyewear Flash photography Neck\n"
     ]
    },
    {
     "name": "stderr",
     "output_type": "stream",
     "text": [
      "/var/folders/f5/7w8rh9rx11938lxyvdr2g_940000gn/T/ipykernel_94711/1372266351.py:23: FutureWarning: The frame.append method is deprecated and will be removed from pandas in a future version. Use pandas.concat instead.\n",
      "  df = df.append({'URL': image_src_temp, 'Labels': s}, ignore_index=True)\n"
     ]
    },
    {
     "name": "stdout",
     "output_type": "stream",
     "text": [
      "s\n",
      "Water Sky Smile Arm Shoulder Photograph People in nature Human body Flash photography Neck\n"
     ]
    },
    {
     "name": "stderr",
     "output_type": "stream",
     "text": [
      "/var/folders/f5/7w8rh9rx11938lxyvdr2g_940000gn/T/ipykernel_94711/1372266351.py:23: FutureWarning: The frame.append method is deprecated and will be removed from pandas in a future version. Use pandas.concat instead.\n",
      "  df = df.append({'URL': image_src_temp, 'Labels': s}, ignore_index=True)\n"
     ]
    },
    {
     "name": "stdout",
     "output_type": "stream",
     "text": [
      "s\n",
      "Building Window Photograph Street fashion Smile Sleeve Standing Gesture Collar Cool\n"
     ]
    },
    {
     "name": "stderr",
     "output_type": "stream",
     "text": [
      "/var/folders/f5/7w8rh9rx11938lxyvdr2g_940000gn/T/ipykernel_94711/1372266351.py:23: FutureWarning: The frame.append method is deprecated and will be removed from pandas in a future version. Use pandas.concat instead.\n",
      "  df = df.append({'URL': image_src_temp, 'Labels': s}, ignore_index=True)\n"
     ]
    },
    {
     "name": "stdout",
     "output_type": "stream",
     "text": [
      "s\n",
      "Shoe Leg Sky White Snow Flash photography Sleeve Slope Waist Knee\n"
     ]
    },
    {
     "name": "stderr",
     "output_type": "stream",
     "text": [
      "/var/folders/f5/7w8rh9rx11938lxyvdr2g_940000gn/T/ipykernel_94711/1372266351.py:23: FutureWarning: The frame.append method is deprecated and will be removed from pandas in a future version. Use pandas.concat instead.\n",
      "  df = df.append({'URL': image_src_temp, 'Labels': s}, ignore_index=True)\n"
     ]
    },
    {
     "name": "stdout",
     "output_type": "stream",
     "text": [
      "s\n",
      "Tableware Dishware Serveware Body jewelry Wood Circle Font Metal Jewellery Rectangle\n"
     ]
    },
    {
     "name": "stderr",
     "output_type": "stream",
     "text": [
      "/var/folders/f5/7w8rh9rx11938lxyvdr2g_940000gn/T/ipykernel_94711/1372266351.py:23: FutureWarning: The frame.append method is deprecated and will be removed from pandas in a future version. Use pandas.concat instead.\n",
      "  df = df.append({'URL': image_src_temp, 'Labels': s}, ignore_index=True)\n"
     ]
    },
    {
     "name": "stdout",
     "output_type": "stream",
     "text": [
      "s\n",
      "Outerwear Leg Sleeve Temple Street fashion Waist Grey Road surface Hat Headgear\n"
     ]
    },
    {
     "name": "stderr",
     "output_type": "stream",
     "text": [
      "/var/folders/f5/7w8rh9rx11938lxyvdr2g_940000gn/T/ipykernel_94711/1372266351.py:23: FutureWarning: The frame.append method is deprecated and will be removed from pandas in a future version. Use pandas.concat instead.\n",
      "  df = df.append({'URL': image_src_temp, 'Labels': s}, ignore_index=True)\n"
     ]
    },
    {
     "name": "stdout",
     "output_type": "stream",
     "text": [
      "s\n",
      "Outerwear White Street fashion Sleeve Comfort Gesture Glove Finger Cap Cool\n"
     ]
    },
    {
     "name": "stderr",
     "output_type": "stream",
     "text": [
      "/var/folders/f5/7w8rh9rx11938lxyvdr2g_940000gn/T/ipykernel_94711/1372266351.py:23: FutureWarning: The frame.append method is deprecated and will be removed from pandas in a future version. Use pandas.concat instead.\n",
      "  df = df.append({'URL': image_src_temp, 'Labels': s}, ignore_index=True)\n"
     ]
    },
    {
     "name": "stdout",
     "output_type": "stream",
     "text": [
      "s\n",
      "Joint Shoe Shoulder Leg Human Sleeve Comfort Gesture Grey Happy\n"
     ]
    },
    {
     "name": "stderr",
     "output_type": "stream",
     "text": [
      "/var/folders/f5/7w8rh9rx11938lxyvdr2g_940000gn/T/ipykernel_94711/1372266351.py:23: FutureWarning: The frame.append method is deprecated and will be removed from pandas in a future version. Use pandas.concat instead.\n",
      "  df = df.append({'URL': image_src_temp, 'Labels': s}, ignore_index=True)\n"
     ]
    },
    {
     "name": "stdout",
     "output_type": "stream",
     "text": [
      "s\n",
      "Food Tableware Ingredient Rectangle Dishware Cuisine Dish Kopi tubruk Drinkware Recipe\n"
     ]
    },
    {
     "name": "stderr",
     "output_type": "stream",
     "text": [
      "/var/folders/f5/7w8rh9rx11938lxyvdr2g_940000gn/T/ipykernel_94711/1372266351.py:23: FutureWarning: The frame.append method is deprecated and will be removed from pandas in a future version. Use pandas.concat instead.\n",
      "  df = df.append({'URL': image_src_temp, 'Labels': s}, ignore_index=True)\n"
     ]
    },
    {
     "name": "stdout",
     "output_type": "stream",
     "text": [
      "s\n",
      "Outerwear Leg Comfort Neck Sleeve Gesture Thigh Collar Dress shirt Elbow\n"
     ]
    },
    {
     "name": "stderr",
     "output_type": "stream",
     "text": [
      "/var/folders/f5/7w8rh9rx11938lxyvdr2g_940000gn/T/ipykernel_94711/1372266351.py:23: FutureWarning: The frame.append method is deprecated and will be removed from pandas in a future version. Use pandas.concat instead.\n",
      "  df = df.append({'URL': image_src_temp, 'Labels': s}, ignore_index=True)\n"
     ]
    },
    {
     "name": "stdout",
     "output_type": "stream",
     "text": [
      "s\n",
      "Joint Shoulder White Leg Product Black Dress Human body Shorts Fashion\n"
     ]
    },
    {
     "name": "stderr",
     "output_type": "stream",
     "text": [
      "/var/folders/f5/7w8rh9rx11938lxyvdr2g_940000gn/T/ipykernel_94711/1372266351.py:23: FutureWarning: The frame.append method is deprecated and will be removed from pandas in a future version. Use pandas.concat instead.\n",
      "  df = df.append({'URL': image_src_temp, 'Labels': s}, ignore_index=True)\n"
     ]
    },
    {
     "name": "stdout",
     "output_type": "stream",
     "text": [
      "s\n",
      "Lip Shoulder Eye Flash photography Neck Sleeve Coat Grey Jacket Waist\n"
     ]
    },
    {
     "name": "stderr",
     "output_type": "stream",
     "text": [
      "/var/folders/f5/7w8rh9rx11938lxyvdr2g_940000gn/T/ipykernel_94711/1372266351.py:23: FutureWarning: The frame.append method is deprecated and will be removed from pandas in a future version. Use pandas.concat instead.\n",
      "  df = df.append({'URL': image_src_temp, 'Labels': s}, ignore_index=True)\n"
     ]
    },
    {
     "name": "stdout",
     "output_type": "stream",
     "text": [
      "s\n",
      "Hair Lip Outerwear Hairstyle Shoulder Photograph Facial expression People in nature Fashion Street fashion\n"
     ]
    },
    {
     "name": "stderr",
     "output_type": "stream",
     "text": [
      "/var/folders/f5/7w8rh9rx11938lxyvdr2g_940000gn/T/ipykernel_94711/1372266351.py:23: FutureWarning: The frame.append method is deprecated and will be removed from pandas in a future version. Use pandas.concat instead.\n",
      "  df = df.append({'URL': image_src_temp, 'Labels': s}, ignore_index=True)\n"
     ]
    },
    {
     "name": "stdout",
     "output_type": "stream",
     "text": [
      "s\n",
      "Brown Dog Snow Dog breed Carnivore Liver Pet supply Working animal Companion dog Fawn\n"
     ]
    },
    {
     "name": "stderr",
     "output_type": "stream",
     "text": [
      "/var/folders/f5/7w8rh9rx11938lxyvdr2g_940000gn/T/ipykernel_94711/1372266351.py:23: FutureWarning: The frame.append method is deprecated and will be removed from pandas in a future version. Use pandas.concat instead.\n",
      "  df = df.append({'URL': image_src_temp, 'Labels': s}, ignore_index=True)\n"
     ]
    },
    {
     "name": "stdout",
     "output_type": "stream",
     "text": [
      "s\n",
      "Art Gas Electric blue Circle Pattern Aluminium Fashion accessory Symmetry Plastic Font\n"
     ]
    },
    {
     "name": "stderr",
     "output_type": "stream",
     "text": [
      "/var/folders/f5/7w8rh9rx11938lxyvdr2g_940000gn/T/ipykernel_94711/1372266351.py:23: FutureWarning: The frame.append method is deprecated and will be removed from pandas in a future version. Use pandas.concat instead.\n",
      "  df = df.append({'URL': image_src_temp, 'Labels': s}, ignore_index=True)\n"
     ]
    },
    {
     "name": "stdout",
     "output_type": "stream",
     "text": [
      "s\n",
      "Joint Lip Hairstyle Shoulder Fashion Neck Flash photography Textile Sleeve Street fashion\n"
     ]
    },
    {
     "name": "stderr",
     "output_type": "stream",
     "text": [
      "/var/folders/f5/7w8rh9rx11938lxyvdr2g_940000gn/T/ipykernel_94711/1372266351.py:23: FutureWarning: The frame.append method is deprecated and will be removed from pandas in a future version. Use pandas.concat instead.\n",
      "  df = df.append({'URL': image_src_temp, 'Labels': s}, ignore_index=True)\n"
     ]
    },
    {
     "name": "stdout",
     "output_type": "stream",
     "text": [
      "s\n",
      "Outerwear White Neck Fashion Sleeve Textile Street fashion Dress shirt Eyelash Collar\n"
     ]
    },
    {
     "name": "stderr",
     "output_type": "stream",
     "text": [
      "/var/folders/f5/7w8rh9rx11938lxyvdr2g_940000gn/T/ipykernel_94711/1372266351.py:23: FutureWarning: The frame.append method is deprecated and will be removed from pandas in a future version. Use pandas.concat instead.\n",
      "  df = df.append({'URL': image_src_temp, 'Labels': s}, ignore_index=True)\n"
     ]
    },
    {
     "name": "stdout",
     "output_type": "stream",
     "text": [
      "s\n",
      "Footwear Outerwear Shoe Smile Leg Street fashion Eyewear Sleeve Knee Waist\n"
     ]
    },
    {
     "name": "stderr",
     "output_type": "stream",
     "text": [
      "/var/folders/f5/7w8rh9rx11938lxyvdr2g_940000gn/T/ipykernel_94711/1372266351.py:23: FutureWarning: The frame.append method is deprecated and will be removed from pandas in a future version. Use pandas.concat instead.\n",
      "  df = df.append({'URL': image_src_temp, 'Labels': s}, ignore_index=True)\n"
     ]
    },
    {
     "name": "stdout",
     "output_type": "stream",
     "text": [
      "s\n",
      "Joint Hairstyle Outerwear Shirt Shoulder Arm Tartan Dress shirt Neck Fashion\n"
     ]
    },
    {
     "name": "stderr",
     "output_type": "stream",
     "text": [
      "/var/folders/f5/7w8rh9rx11938lxyvdr2g_940000gn/T/ipykernel_94711/1372266351.py:23: FutureWarning: The frame.append method is deprecated and will be removed from pandas in a future version. Use pandas.concat instead.\n",
      "  df = df.append({'URL': image_src_temp, 'Labels': s}, ignore_index=True)\n"
     ]
    },
    {
     "name": "stdout",
     "output_type": "stream",
     "text": [
      "s\n",
      "Flash photography Happy Brassiere Gesture Thigh Comfort Font Long hair Waist Fashion design\n"
     ]
    },
    {
     "name": "stderr",
     "output_type": "stream",
     "text": [
      "/var/folders/f5/7w8rh9rx11938lxyvdr2g_940000gn/T/ipykernel_94711/1372266351.py:23: FutureWarning: The frame.append method is deprecated and will be removed from pandas in a future version. Use pandas.concat instead.\n",
      "  df = df.append({'URL': image_src_temp, 'Labels': s}, ignore_index=True)\n"
     ]
    },
    {
     "name": "stdout",
     "output_type": "stream",
     "text": [
      "s\n",
      "Outerwear Shoulder Glove White Human body Sleeve Purple Gesture Jacket Eyewear\n"
     ]
    },
    {
     "name": "stderr",
     "output_type": "stream",
     "text": [
      "/var/folders/f5/7w8rh9rx11938lxyvdr2g_940000gn/T/ipykernel_94711/1372266351.py:23: FutureWarning: The frame.append method is deprecated and will be removed from pandas in a future version. Use pandas.concat instead.\n",
      "  df = df.append({'URL': image_src_temp, 'Labels': s}, ignore_index=True)\n"
     ]
    },
    {
     "name": "stdout",
     "output_type": "stream",
     "text": [
      "s\n",
      "Clothing Joint Outerwear Human body Sleeve Gesture Thigh Waist Electric blue Knee\n"
     ]
    },
    {
     "name": "stderr",
     "output_type": "stream",
     "text": [
      "/var/folders/f5/7w8rh9rx11938lxyvdr2g_940000gn/T/ipykernel_94711/1372266351.py:23: FutureWarning: The frame.append method is deprecated and will be removed from pandas in a future version. Use pandas.concat instead.\n",
      "  df = df.append({'URL': image_src_temp, 'Labels': s}, ignore_index=True)\n"
     ]
    },
    {
     "name": "stdout",
     "output_type": "stream",
     "text": [
      "s\n",
      "Joint Outerwear Hairstyle Shoulder Leg Street fashion Human body Knee Neck Sleeve\n"
     ]
    },
    {
     "name": "stderr",
     "output_type": "stream",
     "text": [
      "/var/folders/f5/7w8rh9rx11938lxyvdr2g_940000gn/T/ipykernel_94711/1372266351.py:23: FutureWarning: The frame.append method is deprecated and will be removed from pandas in a future version. Use pandas.concat instead.\n",
      "  df = df.append({'URL': image_src_temp, 'Labels': s}, ignore_index=True)\n"
     ]
    },
    {
     "name": "stdout",
     "output_type": "stream",
     "text": [
      "s\n",
      "Face Hair Joint Skin Lip Hairstyle Arm Shoulder Leg Human\n"
     ]
    },
    {
     "name": "stderr",
     "output_type": "stream",
     "text": [
      "/var/folders/f5/7w8rh9rx11938lxyvdr2g_940000gn/T/ipykernel_94711/1372266351.py:23: FutureWarning: The frame.append method is deprecated and will be removed from pandas in a future version. Use pandas.concat instead.\n",
      "  df = df.append({'URL': image_src_temp, 'Labels': s}, ignore_index=True)\n"
     ]
    },
    {
     "name": "stdout",
     "output_type": "stream",
     "text": [
      "s\n",
      "Skin Smile Head Outerwear Shoulder Fashion Human body Sleeve Textile Standing\n"
     ]
    },
    {
     "name": "stderr",
     "output_type": "stream",
     "text": [
      "/var/folders/f5/7w8rh9rx11938lxyvdr2g_940000gn/T/ipykernel_94711/1372266351.py:23: FutureWarning: The frame.append method is deprecated and will be removed from pandas in a future version. Use pandas.concat instead.\n",
      "  df = df.append({'URL': image_src_temp, 'Labels': s}, ignore_index=True)\n"
     ]
    },
    {
     "name": "stdout",
     "output_type": "stream",
     "text": [
      "s\n",
      "Leg Flash photography Neck Sleeve Comfort Knee Waist Thigh Elbow Blazer\n"
     ]
    },
    {
     "name": "stderr",
     "output_type": "stream",
     "text": [
      "/var/folders/f5/7w8rh9rx11938lxyvdr2g_940000gn/T/ipykernel_94711/1372266351.py:23: FutureWarning: The frame.append method is deprecated and will be removed from pandas in a future version. Use pandas.concat instead.\n",
      "  df = df.append({'URL': image_src_temp, 'Labels': s}, ignore_index=True)\n"
     ]
    },
    {
     "name": "stdout",
     "output_type": "stream",
     "text": [
      "s\n",
      "Leg Sleeve Waist Thigh Gesture Undergarment Sportswear Human leg Personal protective equipment Font\n"
     ]
    },
    {
     "name": "stderr",
     "output_type": "stream",
     "text": [
      "/var/folders/f5/7w8rh9rx11938lxyvdr2g_940000gn/T/ipykernel_94711/1372266351.py:23: FutureWarning: The frame.append method is deprecated and will be removed from pandas in a future version. Use pandas.concat instead.\n",
      "  df = df.append({'URL': image_src_temp, 'Labels': s}, ignore_index=True)\n"
     ]
    },
    {
     "name": "stdout",
     "output_type": "stream",
     "text": [
      "s\n",
      "Leg Street fashion Wall Wood Waist Knee Brick Eyewear Thigh Human leg\n"
     ]
    },
    {
     "name": "stderr",
     "output_type": "stream",
     "text": [
      "/var/folders/f5/7w8rh9rx11938lxyvdr2g_940000gn/T/ipykernel_94711/1372266351.py:23: FutureWarning: The frame.append method is deprecated and will be removed from pandas in a future version. Use pandas.concat instead.\n",
      "  df = df.append({'URL': image_src_temp, 'Labels': s}, ignore_index=True)\n"
     ]
    },
    {
     "name": "stdout",
     "output_type": "stream",
     "text": [
      "s\n",
      "Hair Arm One-piece garment Shoulder Human body Flash photography Neck Day dress Waist Sleeve\n"
     ]
    },
    {
     "name": "stderr",
     "output_type": "stream",
     "text": [
      "/var/folders/f5/7w8rh9rx11938lxyvdr2g_940000gn/T/ipykernel_94711/1372266351.py:23: FutureWarning: The frame.append method is deprecated and will be removed from pandas in a future version. Use pandas.concat instead.\n",
      "  df = df.append({'URL': image_src_temp, 'Labels': s}, ignore_index=True)\n"
     ]
    },
    {
     "name": "stdout",
     "output_type": "stream",
     "text": [
      "s\n",
      "Joint Shoulder White Blue Neck Fashion Textile Sleeve Waist Street fashion\n"
     ]
    },
    {
     "name": "stderr",
     "output_type": "stream",
     "text": [
      "/var/folders/f5/7w8rh9rx11938lxyvdr2g_940000gn/T/ipykernel_94711/1372266351.py:23: FutureWarning: The frame.append method is deprecated and will be removed from pandas in a future version. Use pandas.concat instead.\n",
      "  df = df.append({'URL': image_src_temp, 'Labels': s}, ignore_index=True)\n"
     ]
    },
    {
     "name": "stdout",
     "output_type": "stream",
     "text": [
      "s\n",
      "Joint Outerwear Shoe Shoulder Latex clothing Street fashion Waist Sleeve Standing Eyewear\n"
     ]
    },
    {
     "name": "stderr",
     "output_type": "stream",
     "text": [
      "/var/folders/f5/7w8rh9rx11938lxyvdr2g_940000gn/T/ipykernel_94711/1372266351.py:23: FutureWarning: The frame.append method is deprecated and will be removed from pandas in a future version. Use pandas.concat instead.\n",
      "  df = df.append({'URL': image_src_temp, 'Labels': s}, ignore_index=True)\n"
     ]
    },
    {
     "name": "stdout",
     "output_type": "stream",
     "text": [
      "s\n",
      "Shoe Leg Neck Sleeve Waist Street fashion Thigh Collar Knee Cool\n"
     ]
    },
    {
     "name": "stderr",
     "output_type": "stream",
     "text": [
      "/var/folders/f5/7w8rh9rx11938lxyvdr2g_940000gn/T/ipykernel_94711/1372266351.py:23: FutureWarning: The frame.append method is deprecated and will be removed from pandas in a future version. Use pandas.concat instead.\n",
      "  df = df.append({'URL': image_src_temp, 'Labels': s}, ignore_index=True)\n"
     ]
    },
    {
     "name": "stdout",
     "output_type": "stream",
     "text": [
      "s\n",
      "Hair Joint Arm Shoulder Fashion Neck Sleeve Waist Thigh Gesture\n"
     ]
    },
    {
     "name": "stderr",
     "output_type": "stream",
     "text": [
      "/var/folders/f5/7w8rh9rx11938lxyvdr2g_940000gn/T/ipykernel_94711/1372266351.py:23: FutureWarning: The frame.append method is deprecated and will be removed from pandas in a future version. Use pandas.concat instead.\n",
      "  df = df.append({'URL': image_src_temp, 'Labels': s}, ignore_index=True)\n"
     ]
    },
    {
     "name": "stdout",
     "output_type": "stream",
     "text": [
      "s\n",
      "Clothing Overcoat Shoulder Trench coat Street fashion Sleeve Dress shirt Waist Collar Knee\n"
     ]
    },
    {
     "name": "stderr",
     "output_type": "stream",
     "text": [
      "/var/folders/f5/7w8rh9rx11938lxyvdr2g_940000gn/T/ipykernel_94711/1372266351.py:23: FutureWarning: The frame.append method is deprecated and will be removed from pandas in a future version. Use pandas.concat instead.\n",
      "  df = df.append({'URL': image_src_temp, 'Labels': s}, ignore_index=True)\n"
     ]
    },
    {
     "name": "stdout",
     "output_type": "stream",
     "text": [
      "s\n",
      "Outerwear Shoulder Street fashion Overcoat Sleeve Waist Trench coat Fashion design Blazer Fur clothing\n"
     ]
    },
    {
     "name": "stderr",
     "output_type": "stream",
     "text": [
      "/var/folders/f5/7w8rh9rx11938lxyvdr2g_940000gn/T/ipykernel_94711/1372266351.py:23: FutureWarning: The frame.append method is deprecated and will be removed from pandas in a future version. Use pandas.concat instead.\n",
      "  df = df.append({'URL': image_src_temp, 'Labels': s}, ignore_index=True)\n"
     ]
    },
    {
     "name": "stdout",
     "output_type": "stream",
     "text": [
      "s\n",
      "Smile Outerwear Photograph Plant Blue Street fashion Azure Sleeve Glove Jacket\n"
     ]
    },
    {
     "name": "stderr",
     "output_type": "stream",
     "text": [
      "/var/folders/f5/7w8rh9rx11938lxyvdr2g_940000gn/T/ipykernel_94711/1372266351.py:23: FutureWarning: The frame.append method is deprecated and will be removed from pandas in a future version. Use pandas.concat instead.\n",
      "  df = df.append({'URL': image_src_temp, 'Labels': s}, ignore_index=True)\n"
     ]
    },
    {
     "name": "stdout",
     "output_type": "stream",
     "text": [
      "s\n",
      "Joint yoga pant Active pants Sleeve Waist Knee Thigh Flooring Sportswear Wood\n"
     ]
    },
    {
     "name": "stderr",
     "output_type": "stream",
     "text": [
      "/var/folders/f5/7w8rh9rx11938lxyvdr2g_940000gn/T/ipykernel_94711/1372266351.py:23: FutureWarning: The frame.append method is deprecated and will be removed from pandas in a future version. Use pandas.concat instead.\n",
      "  df = df.append({'URL': image_src_temp, 'Labels': s}, ignore_index=True)\n"
     ]
    },
    {
     "name": "stdout",
     "output_type": "stream",
     "text": [
      "s\n",
      "Shoe Tennis Racketlon Sports equipment Tennis racket Strings Tennis Equipment Leg Sports uniform Tennis player\n"
     ]
    },
    {
     "name": "stderr",
     "output_type": "stream",
     "text": [
      "/var/folders/f5/7w8rh9rx11938lxyvdr2g_940000gn/T/ipykernel_94711/1372266351.py:23: FutureWarning: The frame.append method is deprecated and will be removed from pandas in a future version. Use pandas.concat instead.\n",
      "  df = df.append({'URL': image_src_temp, 'Labels': s}, ignore_index=True)\n"
     ]
    },
    {
     "name": "stdout",
     "output_type": "stream",
     "text": [
      "s\n",
      "Joint Arm Active tank Leg Blue Azure Cycling shorts Jersey Human body Neck\n"
     ]
    },
    {
     "name": "stderr",
     "output_type": "stream",
     "text": [
      "/var/folders/f5/7w8rh9rx11938lxyvdr2g_940000gn/T/ipykernel_94711/1372266351.py:23: FutureWarning: The frame.append method is deprecated and will be removed from pandas in a future version. Use pandas.concat instead.\n",
      "  df = df.append({'URL': image_src_temp, 'Labels': s}, ignore_index=True)\n"
     ]
    },
    {
     "name": "stdout",
     "output_type": "stream",
     "text": [
      "s\n",
      "Footwear Outerwear Shoe Leg Street fashion Fashion Hat Sleeve Overcoat Waist\n"
     ]
    },
    {
     "name": "stderr",
     "output_type": "stream",
     "text": [
      "/var/folders/f5/7w8rh9rx11938lxyvdr2g_940000gn/T/ipykernel_94711/1372266351.py:23: FutureWarning: The frame.append method is deprecated and will be removed from pandas in a future version. Use pandas.concat instead.\n",
      "  df = df.append({'URL': image_src_temp, 'Labels': s}, ignore_index=True)\n"
     ]
    },
    {
     "name": "stdout",
     "output_type": "stream",
     "text": [
      "s\n",
      "Glasses Smile Outerwear Vision care Arm Shoulder Sunglasses Eyewear Sleeve Street fashion\n"
     ]
    },
    {
     "name": "stderr",
     "output_type": "stream",
     "text": [
      "/var/folders/f5/7w8rh9rx11938lxyvdr2g_940000gn/T/ipykernel_94711/1372266351.py:23: FutureWarning: The frame.append method is deprecated and will be removed from pandas in a future version. Use pandas.concat instead.\n",
      "  df = df.append({'URL': image_src_temp, 'Labels': s}, ignore_index=True)\n"
     ]
    },
    {
     "name": "stdout",
     "output_type": "stream",
     "text": [
      "s\n",
      "Sky Mountain Cloud Smile People in nature Nature Snow Happy Travel Leisure\n"
     ]
    },
    {
     "name": "stderr",
     "output_type": "stream",
     "text": [
      "/var/folders/f5/7w8rh9rx11938lxyvdr2g_940000gn/T/ipykernel_94711/1372266351.py:23: FutureWarning: The frame.append method is deprecated and will be removed from pandas in a future version. Use pandas.concat instead.\n",
      "  df = df.append({'URL': image_src_temp, 'Labels': s}, ignore_index=True)\n"
     ]
    },
    {
     "name": "stdout",
     "output_type": "stream",
     "text": [
      "s\n",
      "Outerwear White Product Neck Sleeve Font T-shirt Fashion design Pattern Magenta\n"
     ]
    },
    {
     "name": "stderr",
     "output_type": "stream",
     "text": [
      "/var/folders/f5/7w8rh9rx11938lxyvdr2g_940000gn/T/ipykernel_94711/1372266351.py:23: FutureWarning: The frame.append method is deprecated and will be removed from pandas in a future version. Use pandas.concat instead.\n",
      "  df = df.append({'URL': image_src_temp, 'Labels': s}, ignore_index=True)\n"
     ]
    },
    {
     "name": "stdout",
     "output_type": "stream",
     "text": [
      "s\n",
      "Cloud Outerwear White Sky Neck Sleeve Grey Collar Font Fashion design\n"
     ]
    },
    {
     "name": "stderr",
     "output_type": "stream",
     "text": [
      "/var/folders/f5/7w8rh9rx11938lxyvdr2g_940000gn/T/ipykernel_94711/1372266351.py:23: FutureWarning: The frame.append method is deprecated and will be removed from pandas in a future version. Use pandas.concat instead.\n",
      "  df = df.append({'URL': image_src_temp, 'Labels': s}, ignore_index=True)\n"
     ]
    },
    {
     "name": "stdout",
     "output_type": "stream",
     "text": [
      "s\n",
      "Hair Jeans Street fashion Neck Sleeve Waist Grey Collar Knee Fashion design\n"
     ]
    },
    {
     "name": "stderr",
     "output_type": "stream",
     "text": [
      "/var/folders/f5/7w8rh9rx11938lxyvdr2g_940000gn/T/ipykernel_94711/1372266351.py:23: FutureWarning: The frame.append method is deprecated and will be removed from pandas in a future version. Use pandas.concat instead.\n",
      "  df = df.append({'URL': image_src_temp, 'Labels': s}, ignore_index=True)\n"
     ]
    },
    {
     "name": "stdout",
     "output_type": "stream",
     "text": [
      "s\n",
      "Product Wood Textile Table Beige Basic pump Clothes hanger Font High heels Rectangle\n"
     ]
    },
    {
     "name": "stderr",
     "output_type": "stream",
     "text": [
      "/var/folders/f5/7w8rh9rx11938lxyvdr2g_940000gn/T/ipykernel_94711/1372266351.py:23: FutureWarning: The frame.append method is deprecated and will be removed from pandas in a future version. Use pandas.concat instead.\n",
      "  df = df.append({'URL': image_src_temp, 'Labels': s}, ignore_index=True)\n"
     ]
    },
    {
     "name": "stdout",
     "output_type": "stream",
     "text": [
      "s\n",
      "Face Skin Head Jeans Hand Shoulder Eyelash Waist Sleeve Thigh\n"
     ]
    },
    {
     "name": "stderr",
     "output_type": "stream",
     "text": [
      "/var/folders/f5/7w8rh9rx11938lxyvdr2g_940000gn/T/ipykernel_94711/1372266351.py:23: FutureWarning: The frame.append method is deprecated and will be removed from pandas in a future version. Use pandas.concat instead.\n",
      "  df = df.append({'URL': image_src_temp, 'Labels': s}, ignore_index=True)\n"
     ]
    },
    {
     "name": "stdout",
     "output_type": "stream",
     "text": [
      "s\n",
      "Arm Flash photography Sky Beach Thigh People in nature Body of water Waist Swimwear Brassiere\n"
     ]
    },
    {
     "name": "stderr",
     "output_type": "stream",
     "text": [
      "/var/folders/f5/7w8rh9rx11938lxyvdr2g_940000gn/T/ipykernel_94711/1372266351.py:23: FutureWarning: The frame.append method is deprecated and will be removed from pandas in a future version. Use pandas.concat instead.\n",
      "  df = df.append({'URL': image_src_temp, 'Labels': s}, ignore_index=True)\n"
     ]
    },
    {
     "name": "stdout",
     "output_type": "stream",
     "text": [
      "s\n",
      "Joint Skin Shoulder Arm Eyelash Neck Sleeve Waist Gesture Elbow\n"
     ]
    },
    {
     "name": "stderr",
     "output_type": "stream",
     "text": [
      "/var/folders/f5/7w8rh9rx11938lxyvdr2g_940000gn/T/ipykernel_94711/1372266351.py:23: FutureWarning: The frame.append method is deprecated and will be removed from pandas in a future version. Use pandas.concat instead.\n",
      "  df = df.append({'URL': image_src_temp, 'Labels': s}, ignore_index=True)\n"
     ]
    },
    {
     "name": "stdout",
     "output_type": "stream",
     "text": [
      "s\n",
      "Clothing Joint Hand Shoe Outerwear Arm Shoulder Leg Shorts Muscle\n"
     ]
    },
    {
     "name": "stderr",
     "output_type": "stream",
     "text": [
      "/var/folders/f5/7w8rh9rx11938lxyvdr2g_940000gn/T/ipykernel_94711/1372266351.py:23: FutureWarning: The frame.append method is deprecated and will be removed from pandas in a future version. Use pandas.concat instead.\n",
      "  df = df.append({'URL': image_src_temp, 'Labels': s}, ignore_index=True)\n"
     ]
    },
    {
     "name": "stdout",
     "output_type": "stream",
     "text": [
      "s\n",
      "Sleeve T-shirt Rectangle Font Active shirt Pattern Magenta Electric blue Sportswear Brand\n"
     ]
    },
    {
     "name": "stderr",
     "output_type": "stream",
     "text": [
      "/var/folders/f5/7w8rh9rx11938lxyvdr2g_940000gn/T/ipykernel_94711/1372266351.py:23: FutureWarning: The frame.append method is deprecated and will be removed from pandas in a future version. Use pandas.concat instead.\n",
      "  df = df.append({'URL': image_src_temp, 'Labels': s}, ignore_index=True)\n"
     ]
    },
    {
     "name": "stdout",
     "output_type": "stream",
     "text": [
      "s\n",
      "Furniture Table Wood Publication Book Chair Rectangle Linens Wicker Art\n"
     ]
    },
    {
     "name": "stderr",
     "output_type": "stream",
     "text": [
      "/var/folders/f5/7w8rh9rx11938lxyvdr2g_940000gn/T/ipykernel_94711/1372266351.py:23: FutureWarning: The frame.append method is deprecated and will be removed from pandas in a future version. Use pandas.concat instead.\n",
      "  df = df.append({'URL': image_src_temp, 'Labels': s}, ignore_index=True)\n"
     ]
    },
    {
     "name": "stdout",
     "output_type": "stream",
     "text": [
      "s\n",
      "Hair Face Joint Skin Head Hairstyle Arm Shoulder Muscle Dress\n"
     ]
    },
    {
     "name": "stderr",
     "output_type": "stream",
     "text": [
      "/var/folders/f5/7w8rh9rx11938lxyvdr2g_940000gn/T/ipykernel_94711/1372266351.py:23: FutureWarning: The frame.append method is deprecated and will be removed from pandas in a future version. Use pandas.concat instead.\n",
      "  df = df.append({'URL': image_src_temp, 'Labels': s}, ignore_index=True)\n"
     ]
    },
    {
     "name": "stdout",
     "output_type": "stream",
     "text": [
      "s\n",
      "Hairstyle Neck Sleeve Waist Street fashion Jacket Gesture Collar Thigh Headgear\n"
     ]
    },
    {
     "name": "stderr",
     "output_type": "stream",
     "text": [
      "/var/folders/f5/7w8rh9rx11938lxyvdr2g_940000gn/T/ipykernel_94711/1372266351.py:23: FutureWarning: The frame.append method is deprecated and will be removed from pandas in a future version. Use pandas.concat instead.\n",
      "  df = df.append({'URL': image_src_temp, 'Labels': s}, ignore_index=True)\n"
     ]
    },
    {
     "name": "stdout",
     "output_type": "stream",
     "text": [
      "s\n",
      "Sleeve T-shirt Rectangle Font Electric blue Sportswear Shorts Logo Brand Graphics\n"
     ]
    },
    {
     "name": "stderr",
     "output_type": "stream",
     "text": [
      "/var/folders/f5/7w8rh9rx11938lxyvdr2g_940000gn/T/ipykernel_94711/1372266351.py:23: FutureWarning: The frame.append method is deprecated and will be removed from pandas in a future version. Use pandas.concat instead.\n",
      "  df = df.append({'URL': image_src_temp, 'Labels': s}, ignore_index=True)\n"
     ]
    },
    {
     "name": "stdout",
     "output_type": "stream",
     "text": [
      "s\n",
      "Joint Arm Shoulder Muscle Stomach Human body Neck Waist Chest Undergarment\n"
     ]
    },
    {
     "name": "stderr",
     "output_type": "stream",
     "text": [
      "/var/folders/f5/7w8rh9rx11938lxyvdr2g_940000gn/T/ipykernel_94711/1372266351.py:23: FutureWarning: The frame.append method is deprecated and will be removed from pandas in a future version. Use pandas.concat instead.\n",
      "  df = df.append({'URL': image_src_temp, 'Labels': s}, ignore_index=True)\n"
     ]
    },
    {
     "name": "stdout",
     "output_type": "stream",
     "text": [
      "s\n",
      "Head Outerwear Helmet Product Sleeve Headgear Font Plastic bottle Rectangle Hat\n"
     ]
    },
    {
     "name": "stderr",
     "output_type": "stream",
     "text": [
      "/var/folders/f5/7w8rh9rx11938lxyvdr2g_940000gn/T/ipykernel_94711/1372266351.py:23: FutureWarning: The frame.append method is deprecated and will be removed from pandas in a future version. Use pandas.concat instead.\n",
      "  df = df.append({'URL': image_src_temp, 'Labels': s}, ignore_index=True)\n"
     ]
    },
    {
     "name": "stdout",
     "output_type": "stream",
     "text": [
      "s\n",
      "Human body Flash photography Neck Sleeve Waist Gesture Elbow Gown Trunk Chest\n"
     ]
    },
    {
     "name": "stderr",
     "output_type": "stream",
     "text": [
      "/var/folders/f5/7w8rh9rx11938lxyvdr2g_940000gn/T/ipykernel_94711/1372266351.py:23: FutureWarning: The frame.append method is deprecated and will be removed from pandas in a future version. Use pandas.concat instead.\n",
      "  df = df.append({'URL': image_src_temp, 'Labels': s}, ignore_index=True)\n"
     ]
    },
    {
     "name": "stdout",
     "output_type": "stream",
     "text": [
      "s\n",
      "Font Darkness Brand Photo caption Graphics Logo Monochrome photography\n"
     ]
    },
    {
     "name": "stderr",
     "output_type": "stream",
     "text": [
      "/var/folders/f5/7w8rh9rx11938lxyvdr2g_940000gn/T/ipykernel_94711/1372266351.py:23: FutureWarning: The frame.append method is deprecated and will be removed from pandas in a future version. Use pandas.concat instead.\n",
      "  df = df.append({'URL': image_src_temp, 'Labels': s}, ignore_index=True)\n"
     ]
    },
    {
     "name": "stdout",
     "output_type": "stream",
     "text": [
      "s\n",
      "Joint Outerwear Shoulder White Neck Textile Sleeve Waist Thigh Chest\n"
     ]
    },
    {
     "name": "stderr",
     "output_type": "stream",
     "text": [
      "/var/folders/f5/7w8rh9rx11938lxyvdr2g_940000gn/T/ipykernel_94711/1372266351.py:23: FutureWarning: The frame.append method is deprecated and will be removed from pandas in a future version. Use pandas.concat instead.\n",
      "  df = df.append({'URL': image_src_temp, 'Labels': s}, ignore_index=True)\n"
     ]
    },
    {
     "name": "stdout",
     "output_type": "stream",
     "text": [
      "s\n",
      "Property Comfort Decoration Plant Building Wood Bed frame Textile Interior design Floor\n"
     ]
    },
    {
     "name": "stderr",
     "output_type": "stream",
     "text": [
      "/var/folders/f5/7w8rh9rx11938lxyvdr2g_940000gn/T/ipykernel_94711/1372266351.py:23: FutureWarning: The frame.append method is deprecated and will be removed from pandas in a future version. Use pandas.concat instead.\n",
      "  df = df.append({'URL': image_src_temp, 'Labels': s}, ignore_index=True)\n"
     ]
    },
    {
     "name": "stdout",
     "output_type": "stream",
     "text": [
      "s\n",
      "Outerwear Smile Human body Street fashion Textile Sleeve Standing Overcoat Gesture Collar\n"
     ]
    },
    {
     "name": "stderr",
     "output_type": "stream",
     "text": [
      "/var/folders/f5/7w8rh9rx11938lxyvdr2g_940000gn/T/ipykernel_94711/1372266351.py:23: FutureWarning: The frame.append method is deprecated and will be removed from pandas in a future version. Use pandas.concat instead.\n",
      "  df = df.append({'URL': image_src_temp, 'Labels': s}, ignore_index=True)\n"
     ]
    },
    {
     "name": "stdout",
     "output_type": "stream",
     "text": [
      "s\n",
      "Sky Dress shirt Sleeve Gesture Asphalt Grey Waist Street fashion Tree Blazer\n"
     ]
    },
    {
     "name": "stderr",
     "output_type": "stream",
     "text": [
      "/var/folders/f5/7w8rh9rx11938lxyvdr2g_940000gn/T/ipykernel_94711/1372266351.py:23: FutureWarning: The frame.append method is deprecated and will be removed from pandas in a future version. Use pandas.concat instead.\n",
      "  df = df.append({'URL': image_src_temp, 'Labels': s}, ignore_index=True)\n"
     ]
    },
    {
     "name": "stdout",
     "output_type": "stream",
     "text": [
      "s\n",
      "Face Lip Outerwear Vision care Sunglasses Goggles Purple Flash photography Sleeve Eyewear\n"
     ]
    },
    {
     "name": "stderr",
     "output_type": "stream",
     "text": [
      "/var/folders/f5/7w8rh9rx11938lxyvdr2g_940000gn/T/ipykernel_94711/1372266351.py:23: FutureWarning: The frame.append method is deprecated and will be removed from pandas in a future version. Use pandas.concat instead.\n",
      "  df = df.append({'URL': image_src_temp, 'Labels': s}, ignore_index=True)\n"
     ]
    },
    {
     "name": "stdout",
     "output_type": "stream",
     "text": [
      "s\n",
      "Footwear Tennis Racketlon Tennis racket Strings Sports equipment Tennis player Leg Soft tennis Racket\n"
     ]
    },
    {
     "name": "stderr",
     "output_type": "stream",
     "text": [
      "/var/folders/f5/7w8rh9rx11938lxyvdr2g_940000gn/T/ipykernel_94711/1372266351.py:23: FutureWarning: The frame.append method is deprecated and will be removed from pandas in a future version. Use pandas.concat instead.\n",
      "  df = df.append({'URL': image_src_temp, 'Labels': s}, ignore_index=True)\n"
     ]
    },
    {
     "name": "stdout",
     "output_type": "stream",
     "text": [
      "s\n",
      "Dog Carnivore Dog breed Companion dog Fawn Toy dog Working animal Toy Snout Poodle\n"
     ]
    },
    {
     "name": "stderr",
     "output_type": "stream",
     "text": [
      "/var/folders/f5/7w8rh9rx11938lxyvdr2g_940000gn/T/ipykernel_94711/1372266351.py:23: FutureWarning: The frame.append method is deprecated and will be removed from pandas in a future version. Use pandas.concat instead.\n",
      "  df = df.append({'URL': image_src_temp, 'Labels': s}, ignore_index=True)\n"
     ]
    },
    {
     "name": "stdout",
     "output_type": "stream",
     "text": [
      "s\n",
      "Flash photography Sleeve Font Personal protective equipment Monochrome photography Jewellery Monochrome Leather jacket Bag Fashion accessory\n"
     ]
    },
    {
     "name": "stderr",
     "output_type": "stream",
     "text": [
      "/var/folders/f5/7w8rh9rx11938lxyvdr2g_940000gn/T/ipykernel_94711/1372266351.py:23: FutureWarning: The frame.append method is deprecated and will be removed from pandas in a future version. Use pandas.concat instead.\n",
      "  df = df.append({'URL': image_src_temp, 'Labels': s}, ignore_index=True)\n"
     ]
    },
    {
     "name": "stdout",
     "output_type": "stream",
     "text": [
      "s\n",
      "Car Land vehicle Wheel Vehicle Tire Window Building Hood Motor vehicle Automotive design\n"
     ]
    },
    {
     "name": "stderr",
     "output_type": "stream",
     "text": [
      "/var/folders/f5/7w8rh9rx11938lxyvdr2g_940000gn/T/ipykernel_94711/1372266351.py:23: FutureWarning: The frame.append method is deprecated and will be removed from pandas in a future version. Use pandas.concat instead.\n",
      "  df = df.append({'URL': image_src_temp, 'Labels': s}, ignore_index=True)\n"
     ]
    },
    {
     "name": "stdout",
     "output_type": "stream",
     "text": [
      "s\n",
      "Water Sky Cloud Plant Nature Azure Natural landscape Vegetation Arecales Sunlight\n"
     ]
    },
    {
     "name": "stderr",
     "output_type": "stream",
     "text": [
      "/var/folders/f5/7w8rh9rx11938lxyvdr2g_940000gn/T/ipykernel_94711/1372266351.py:23: FutureWarning: The frame.append method is deprecated and will be removed from pandas in a future version. Use pandas.concat instead.\n",
      "  df = df.append({'URL': image_src_temp, 'Labels': s}, ignore_index=True)\n"
     ]
    },
    {
     "name": "stdout",
     "output_type": "stream",
     "text": [
      "s\n",
      "Joint Outerwear Hairstyle Photograph Shoulder Fashion Sleeve Flash photography Standing Street fashion\n"
     ]
    },
    {
     "name": "stderr",
     "output_type": "stream",
     "text": [
      "/var/folders/f5/7w8rh9rx11938lxyvdr2g_940000gn/T/ipykernel_94711/1372266351.py:23: FutureWarning: The frame.append method is deprecated and will be removed from pandas in a future version. Use pandas.concat instead.\n",
      "  df = df.append({'URL': image_src_temp, 'Labels': s}, ignore_index=True)\n"
     ]
    },
    {
     "name": "stdout",
     "output_type": "stream",
     "text": [
      "s\n",
      "Hair Joint Outerwear Hairstyle Shoulder Eye Cornrows Neck Sleeve Waist\n"
     ]
    },
    {
     "name": "stderr",
     "output_type": "stream",
     "text": [
      "/var/folders/f5/7w8rh9rx11938lxyvdr2g_940000gn/T/ipykernel_94711/1372266351.py:23: FutureWarning: The frame.append method is deprecated and will be removed from pandas in a future version. Use pandas.concat instead.\n",
      "  df = df.append({'URL': image_src_temp, 'Labels': s}, ignore_index=True)\n"
     ]
    },
    {
     "name": "stdout",
     "output_type": "stream",
     "text": [
      "s\n",
      "Outerwear Facial expression White Textile Neck Sleeve Gesture T-shirt Red Jersey\n"
     ]
    },
    {
     "name": "stderr",
     "output_type": "stream",
     "text": [
      "/var/folders/f5/7w8rh9rx11938lxyvdr2g_940000gn/T/ipykernel_94711/1372266351.py:23: FutureWarning: The frame.append method is deprecated and will be removed from pandas in a future version. Use pandas.concat instead.\n",
      "  df = df.append({'URL': image_src_temp, 'Labels': s}, ignore_index=True)\n"
     ]
    },
    {
     "name": "stdout",
     "output_type": "stream",
     "text": [
      "s\n",
      "Jellyfish Marine invertebrates Bioluminescence Art Gas Electric blue Cnidaria Transparent material Plankton Invertebrate\n"
     ]
    },
    {
     "name": "stderr",
     "output_type": "stream",
     "text": [
      "/var/folders/f5/7w8rh9rx11938lxyvdr2g_940000gn/T/ipykernel_94711/1372266351.py:23: FutureWarning: The frame.append method is deprecated and will be removed from pandas in a future version. Use pandas.concat instead.\n",
      "  df = df.append({'URL': image_src_temp, 'Labels': s}, ignore_index=True)\n"
     ]
    },
    {
     "name": "stdout",
     "output_type": "stream",
     "text": [
      "s\n",
      "Font Logo Brand Circle Rectangle Screenshot Graphics\n"
     ]
    },
    {
     "name": "stderr",
     "output_type": "stream",
     "text": [
      "/var/folders/f5/7w8rh9rx11938lxyvdr2g_940000gn/T/ipykernel_94711/1372266351.py:23: FutureWarning: The frame.append method is deprecated and will be removed from pandas in a future version. Use pandas.concat instead.\n",
      "  df = df.append({'URL': image_src_temp, 'Labels': s}, ignore_index=True)\n"
     ]
    },
    {
     "name": "stdout",
     "output_type": "stream",
     "text": [
      "s\n",
      "Suit trousers Shoulder Dress shirt Neck Sleeve Street fashion Collar Waist Fashion design Blazer\n"
     ]
    },
    {
     "name": "stderr",
     "output_type": "stream",
     "text": [
      "/var/folders/f5/7w8rh9rx11938lxyvdr2g_940000gn/T/ipykernel_94711/1372266351.py:23: FutureWarning: The frame.append method is deprecated and will be removed from pandas in a future version. Use pandas.concat instead.\n",
      "  df = df.append({'URL': image_src_temp, 'Labels': s}, ignore_index=True)\n"
     ]
    },
    {
     "name": "stdout",
     "output_type": "stream",
     "text": [
      "s\n",
      "Forehead Face Nose Cheek Skin Head Lip Eyebrow Shoulder Vision care\n"
     ]
    },
    {
     "name": "stderr",
     "output_type": "stream",
     "text": [
      "/var/folders/f5/7w8rh9rx11938lxyvdr2g_940000gn/T/ipykernel_94711/1372266351.py:23: FutureWarning: The frame.append method is deprecated and will be removed from pandas in a future version. Use pandas.concat instead.\n",
      "  df = df.append({'URL': image_src_temp, 'Labels': s}, ignore_index=True)\n"
     ]
    },
    {
     "name": "stdout",
     "output_type": "stream",
     "text": [
      "s\n",
      "Clothing Shoulder Stomach Shorts Neck Sleeve Waist Thigh Knee Flash photography\n"
     ]
    },
    {
     "name": "stderr",
     "output_type": "stream",
     "text": [
      "/var/folders/f5/7w8rh9rx11938lxyvdr2g_940000gn/T/ipykernel_94711/1372266351.py:23: FutureWarning: The frame.append method is deprecated and will be removed from pandas in a future version. Use pandas.concat instead.\n",
      "  df = df.append({'URL': image_src_temp, 'Labels': s}, ignore_index=True)\n"
     ]
    },
    {
     "name": "stdout",
     "output_type": "stream",
     "text": [
      "s\n",
      "Plant Leaf Infrastructure Road surface Asphalt Yellow Tree Line Sidewalk Thoroughfare\n"
     ]
    },
    {
     "name": "stderr",
     "output_type": "stream",
     "text": [
      "/var/folders/f5/7w8rh9rx11938lxyvdr2g_940000gn/T/ipykernel_94711/1372266351.py:23: FutureWarning: The frame.append method is deprecated and will be removed from pandas in a future version. Use pandas.concat instead.\n",
      "  df = df.append({'URL': image_src_temp, 'Labels': s}, ignore_index=True)\n"
     ]
    },
    {
     "name": "stdout",
     "output_type": "stream",
     "text": [
      "s\n",
      "Clothing Joint Outerwear Shoulder Arm Leg Muscle White Light Blue\n"
     ]
    },
    {
     "name": "stderr",
     "output_type": "stream",
     "text": [
      "/var/folders/f5/7w8rh9rx11938lxyvdr2g_940000gn/T/ipykernel_94711/1372266351.py:23: FutureWarning: The frame.append method is deprecated and will be removed from pandas in a future version. Use pandas.concat instead.\n",
      "  df = df.append({'URL': image_src_temp, 'Labels': s}, ignore_index=True)\n"
     ]
    },
    {
     "name": "stdout",
     "output_type": "stream",
     "text": [
      "s\n",
      "Property Purple Light Product Textile Interior design Floor Line Violet Wall\n"
     ]
    },
    {
     "name": "stderr",
     "output_type": "stream",
     "text": [
      "/var/folders/f5/7w8rh9rx11938lxyvdr2g_940000gn/T/ipykernel_94711/1372266351.py:23: FutureWarning: The frame.append method is deprecated and will be removed from pandas in a future version. Use pandas.concat instead.\n",
      "  df = df.append({'URL': image_src_temp, 'Labels': s}, ignore_index=True)\n"
     ]
    },
    {
     "name": "stdout",
     "output_type": "stream",
     "text": [
      "s\n",
      "Rectangle Font Slope Logo Brand Circle Carmine Number Parallel\n"
     ]
    },
    {
     "name": "stderr",
     "output_type": "stream",
     "text": [
      "/var/folders/f5/7w8rh9rx11938lxyvdr2g_940000gn/T/ipykernel_94711/1372266351.py:23: FutureWarning: The frame.append method is deprecated and will be removed from pandas in a future version. Use pandas.concat instead.\n",
      "  df = df.append({'URL': image_src_temp, 'Labels': s}, ignore_index=True)\n"
     ]
    },
    {
     "name": "stdout",
     "output_type": "stream",
     "text": [
      "s\n",
      "Sunglasses Vision care White Leg Human body Neck Sleeve Waist Eyewear Standing\n"
     ]
    },
    {
     "name": "stderr",
     "output_type": "stream",
     "text": [
      "/var/folders/f5/7w8rh9rx11938lxyvdr2g_940000gn/T/ipykernel_94711/1372266351.py:23: FutureWarning: The frame.append method is deprecated and will be removed from pandas in a future version. Use pandas.concat instead.\n",
      "  df = df.append({'URL': image_src_temp, 'Labels': s}, ignore_index=True)\n"
     ]
    },
    {
     "name": "stdout",
     "output_type": "stream",
     "text": [
      "s\n",
      "Joint Outerwear Shoulder Arm White Muscle Blue Green Neck Waist\n"
     ]
    },
    {
     "name": "stderr",
     "output_type": "stream",
     "text": [
      "/var/folders/f5/7w8rh9rx11938lxyvdr2g_940000gn/T/ipykernel_94711/1372266351.py:23: FutureWarning: The frame.append method is deprecated and will be removed from pandas in a future version. Use pandas.concat instead.\n",
      "  df = df.append({'URL': image_src_temp, 'Labels': s}, ignore_index=True)\n"
     ]
    },
    {
     "name": "stdout",
     "output_type": "stream",
     "text": [
      "s\n",
      "Outerwear White Light Product Black Fashion Sleeve Font Grey Line\n"
     ]
    },
    {
     "name": "stderr",
     "output_type": "stream",
     "text": [
      "/var/folders/f5/7w8rh9rx11938lxyvdr2g_940000gn/T/ipykernel_94711/1372266351.py:23: FutureWarning: The frame.append method is deprecated and will be removed from pandas in a future version. Use pandas.concat instead.\n",
      "  df = df.append({'URL': image_src_temp, 'Labels': s}, ignore_index=True)\n"
     ]
    },
    {
     "name": "stdout",
     "output_type": "stream",
     "text": [
      "s\n",
      "Font Electric blue Carmine Magenta Fashion accessory Graphics Illustration Brand Chair Logo\n"
     ]
    },
    {
     "name": "stderr",
     "output_type": "stream",
     "text": [
      "/var/folders/f5/7w8rh9rx11938lxyvdr2g_940000gn/T/ipykernel_94711/1372266351.py:23: FutureWarning: The frame.append method is deprecated and will be removed from pandas in a future version. Use pandas.concat instead.\n",
      "  df = df.append({'URL': image_src_temp, 'Labels': s}, ignore_index=True)\n"
     ]
    },
    {
     "name": "stdout",
     "output_type": "stream",
     "text": [
      "s\n",
      "Smile Skin Lip Chin Hand Eyebrow Arm Shoulder Mouth Eyelash\n"
     ]
    },
    {
     "name": "stderr",
     "output_type": "stream",
     "text": [
      "/var/folders/f5/7w8rh9rx11938lxyvdr2g_940000gn/T/ipykernel_94711/1372266351.py:23: FutureWarning: The frame.append method is deprecated and will be removed from pandas in a future version. Use pandas.concat instead.\n",
      "  df = df.append({'URL': image_src_temp, 'Labels': s}, ignore_index=True)\n"
     ]
    },
    {
     "name": "stdout",
     "output_type": "stream",
     "text": [
      "s\n",
      "Vertebrate Mammal Organism Cartoon Font Hat Happy Illustration Electric blue Musical instrument\n"
     ]
    },
    {
     "name": "stderr",
     "output_type": "stream",
     "text": [
      "/var/folders/f5/7w8rh9rx11938lxyvdr2g_940000gn/T/ipykernel_94711/1372266351.py:23: FutureWarning: The frame.append method is deprecated and will be removed from pandas in a future version. Use pandas.concat instead.\n",
      "  df = df.append({'URL': image_src_temp, 'Labels': s}, ignore_index=True)\n"
     ]
    },
    {
     "name": "stdout",
     "output_type": "stream",
     "text": [
      "s\n",
      "White Light Product Sleeve Collar Material property Bag Automotive design Sports gear Motor vehicle\n"
     ]
    },
    {
     "name": "stderr",
     "output_type": "stream",
     "text": [
      "/var/folders/f5/7w8rh9rx11938lxyvdr2g_940000gn/T/ipykernel_94711/1372266351.py:23: FutureWarning: The frame.append method is deprecated and will be removed from pandas in a future version. Use pandas.concat instead.\n",
      "  df = df.append({'URL': image_src_temp, 'Labels': s}, ignore_index=True)\n"
     ]
    },
    {
     "name": "stdout",
     "output_type": "stream",
     "text": [
      "s\n",
      "Building Couch Table Furniture Comfort Window Cloud Wood Plant Textile\n"
     ]
    },
    {
     "name": "stderr",
     "output_type": "stream",
     "text": [
      "/var/folders/f5/7w8rh9rx11938lxyvdr2g_940000gn/T/ipykernel_94711/1372266351.py:23: FutureWarning: The frame.append method is deprecated and will be removed from pandas in a future version. Use pandas.concat instead.\n",
      "  df = df.append({'URL': image_src_temp, 'Labels': s}, ignore_index=True)\n"
     ]
    },
    {
     "name": "stdout",
     "output_type": "stream",
     "text": [
      "s\n",
      "Comfort Automotive design Art Interior design Sculpture Floor Flooring Table Linens Wood\n"
     ]
    },
    {
     "name": "stderr",
     "output_type": "stream",
     "text": [
      "/var/folders/f5/7w8rh9rx11938lxyvdr2g_940000gn/T/ipykernel_94711/1372266351.py:23: FutureWarning: The frame.append method is deprecated and will be removed from pandas in a future version. Use pandas.concat instead.\n",
      "  df = df.append({'URL': image_src_temp, 'Labels': s}, ignore_index=True)\n"
     ]
    },
    {
     "name": "stdout",
     "output_type": "stream",
     "text": [
      "s\n",
      "Mobile device Output device Communication Device Telephony Portable communications device Computer Gadget Space bar Font Office equipment\n"
     ]
    },
    {
     "name": "stderr",
     "output_type": "stream",
     "text": [
      "/var/folders/f5/7w8rh9rx11938lxyvdr2g_940000gn/T/ipykernel_94711/1372266351.py:23: FutureWarning: The frame.append method is deprecated and will be removed from pandas in a future version. Use pandas.concat instead.\n",
      "  df = df.append({'URL': image_src_temp, 'Labels': s}, ignore_index=True)\n"
     ]
    },
    {
     "name": "stdout",
     "output_type": "stream",
     "text": [
      "s\n",
      "Rectangle Font Slope Parallel Circle Pattern Logo Office equipment Illustration Brand\n"
     ]
    },
    {
     "name": "stderr",
     "output_type": "stream",
     "text": [
      "/var/folders/f5/7w8rh9rx11938lxyvdr2g_940000gn/T/ipykernel_94711/1372266351.py:23: FutureWarning: The frame.append method is deprecated and will be removed from pandas in a future version. Use pandas.concat instead.\n",
      "  df = df.append({'URL': image_src_temp, 'Labels': s}, ignore_index=True)\n"
     ]
    },
    {
     "name": "stdout",
     "output_type": "stream",
     "text": [
      "s\n",
      "Water Azure Natural landscape Plant Watercourse Formation Landscape Klippe Headland Wind wave\n"
     ]
    },
    {
     "name": "stderr",
     "output_type": "stream",
     "text": [
      "/var/folders/f5/7w8rh9rx11938lxyvdr2g_940000gn/T/ipykernel_94711/1372266351.py:23: FutureWarning: The frame.append method is deprecated and will be removed from pandas in a future version. Use pandas.concat instead.\n",
      "  df = df.append({'URL': image_src_temp, 'Labels': s}, ignore_index=True)\n"
     ]
    },
    {
     "name": "stdout",
     "output_type": "stream",
     "text": [
      "s\n",
      "Product Fashion Automotive design Interior design Building Floor Flooring Retail Beauty Fashion design\n"
     ]
    },
    {
     "name": "stderr",
     "output_type": "stream",
     "text": [
      "/var/folders/f5/7w8rh9rx11938lxyvdr2g_940000gn/T/ipykernel_94711/1372266351.py:23: FutureWarning: The frame.append method is deprecated and will be removed from pandas in a future version. Use pandas.concat instead.\n",
      "  df = df.append({'URL': image_src_temp, 'Labels': s}, ignore_index=True)\n"
     ]
    },
    {
     "name": "stdout",
     "output_type": "stream",
     "text": [
      "s\n",
      "Drinkware Tableware Stemware Wine Gesture Barware Drink Alcoholic beverage Champagne stemware Murphy's irish stout\n"
     ]
    },
    {
     "name": "stderr",
     "output_type": "stream",
     "text": [
      "/var/folders/f5/7w8rh9rx11938lxyvdr2g_940000gn/T/ipykernel_94711/1372266351.py:23: FutureWarning: The frame.append method is deprecated and will be removed from pandas in a future version. Use pandas.concat instead.\n",
      "  df = df.append({'URL': image_src_temp, 'Labels': s}, ignore_index=True)\n"
     ]
    },
    {
     "name": "stdout",
     "output_type": "stream",
     "text": [
      "s\n",
      "Plant Rectangle Wood Font Tree Floor Flooring Wall Grass Brick\n"
     ]
    },
    {
     "name": "stderr",
     "output_type": "stream",
     "text": [
      "/var/folders/f5/7w8rh9rx11938lxyvdr2g_940000gn/T/ipykernel_94711/1372266351.py:23: FutureWarning: The frame.append method is deprecated and will be removed from pandas in a future version. Use pandas.concat instead.\n",
      "  df = df.append({'URL': image_src_temp, 'Labels': s}, ignore_index=True)\n"
     ]
    },
    {
     "name": "stdout",
     "output_type": "stream",
     "text": [
      "s\n",
      "Textile Interior design Style Wall Curtain Tints and shades Wood Fashion design Room Event\n"
     ]
    },
    {
     "name": "stderr",
     "output_type": "stream",
     "text": [
      "/var/folders/f5/7w8rh9rx11938lxyvdr2g_940000gn/T/ipykernel_94711/1372266351.py:23: FutureWarning: The frame.append method is deprecated and will be removed from pandas in a future version. Use pandas.concat instead.\n",
      "  df = df.append({'URL': image_src_temp, 'Labels': s}, ignore_index=True)\n"
     ]
    },
    {
     "name": "stdout",
     "output_type": "stream",
     "text": [
      "s\n",
      "Head Lip Eye White Eyelash Flash photography Tableware Comfort Sleeve Drinkware\n"
     ]
    },
    {
     "name": "stderr",
     "output_type": "stream",
     "text": [
      "/var/folders/f5/7w8rh9rx11938lxyvdr2g_940000gn/T/ipykernel_94711/1372266351.py:23: FutureWarning: The frame.append method is deprecated and will be removed from pandas in a future version. Use pandas.concat instead.\n",
      "  df = df.append({'URL': image_src_temp, 'Labels': s}, ignore_index=True)\n"
     ]
    },
    {
     "name": "stdout",
     "output_type": "stream",
     "text": [
      "s\n",
      "Forehead Nose Cheek Skin Lip Eyebrow Eyelash Jaw Neck Flash photography\n"
     ]
    },
    {
     "name": "stderr",
     "output_type": "stream",
     "text": [
      "/var/folders/f5/7w8rh9rx11938lxyvdr2g_940000gn/T/ipykernel_94711/1372266351.py:23: FutureWarning: The frame.append method is deprecated and will be removed from pandas in a future version. Use pandas.concat instead.\n",
      "  df = df.append({'URL': image_src_temp, 'Labels': s}, ignore_index=True)\n"
     ]
    },
    {
     "name": "stdout",
     "output_type": "stream",
     "text": [
      "s\n",
      "Building Plant Interior design Door Fixture Retail Shade Flowerpot Commercial building Houseplant\n"
     ]
    },
    {
     "name": "stderr",
     "output_type": "stream",
     "text": [
      "/var/folders/f5/7w8rh9rx11938lxyvdr2g_940000gn/T/ipykernel_94711/1372266351.py:23: FutureWarning: The frame.append method is deprecated and will be removed from pandas in a future version. Use pandas.concat instead.\n",
      "  df = df.append({'URL': image_src_temp, 'Labels': s}, ignore_index=True)\n"
     ]
    },
    {
     "name": "stdout",
     "output_type": "stream",
     "text": [
      "s\n",
      "Font Document Letter\n"
     ]
    },
    {
     "name": "stderr",
     "output_type": "stream",
     "text": [
      "/var/folders/f5/7w8rh9rx11938lxyvdr2g_940000gn/T/ipykernel_94711/1372266351.py:23: FutureWarning: The frame.append method is deprecated and will be removed from pandas in a future version. Use pandas.concat instead.\n",
      "  df = df.append({'URL': image_src_temp, 'Labels': s}, ignore_index=True)\n"
     ]
    },
    {
     "name": "stdout",
     "output_type": "stream",
     "text": [
      "s\n",
      "Cloud Sky Natural landscape Font Morning Happy Plant Landscape Poster Publication\n"
     ]
    },
    {
     "name": "stderr",
     "output_type": "stream",
     "text": [
      "/var/folders/f5/7w8rh9rx11938lxyvdr2g_940000gn/T/ipykernel_94711/1372266351.py:23: FutureWarning: The frame.append method is deprecated and will be removed from pandas in a future version. Use pandas.concat instead.\n",
      "  df = df.append({'URL': image_src_temp, 'Labels': s}, ignore_index=True)\n"
     ]
    },
    {
     "name": "stdout",
     "output_type": "stream",
     "text": [
      "s\n",
      "Shoulder Product Neck Textile Sleeve Grey Collar Waist Denim Sportswear\n"
     ]
    },
    {
     "name": "stderr",
     "output_type": "stream",
     "text": [
      "/var/folders/f5/7w8rh9rx11938lxyvdr2g_940000gn/T/ipykernel_94711/1372266351.py:23: FutureWarning: The frame.append method is deprecated and will be removed from pandas in a future version. Use pandas.concat instead.\n",
      "  df = df.append({'URL': image_src_temp, 'Labels': s}, ignore_index=True)\n"
     ]
    },
    {
     "name": "stdout",
     "output_type": "stream",
     "text": [
      "s\n",
      "Sky Plant Cloud Building Neighbourhood Public space Font Real estate Facade Commercial building\n"
     ]
    },
    {
     "name": "stderr",
     "output_type": "stream",
     "text": [
      "/var/folders/f5/7w8rh9rx11938lxyvdr2g_940000gn/T/ipykernel_94711/1372266351.py:23: FutureWarning: The frame.append method is deprecated and will be removed from pandas in a future version. Use pandas.concat instead.\n",
      "  df = df.append({'URL': image_src_temp, 'Labels': s}, ignore_index=True)\n"
     ]
    }
   ],
   "source": [
    "Application_Credentials = 'My Project 74932-95eea7d0bd8b.json'\n",
    "os.environ['GOOGLE_APPLICATION_CREDENTIALS'] = Application_Credentials\n",
    "client = vision.ImageAnnotatorClient()\n",
    "image = vision.Image()\n",
    "\n",
    "loc = (\"highest_url.xlsx\")\n",
    "wb = xlrd.open_workbook(loc)\n",
    "sheet = wb.sheet_by_index(0)\n",
    "sheet.cell_value(0, 0)\n",
    "df = pd.DataFrame()\n",
    "# loop through every url, retrieve the image and send to google vision\n",
    "for i in range(sheet.nrows):\n",
    "    image_src_temp = sheet.cell_value(i, 0)\n",
    "    image.source.image_uri = image_src_temp\n",
    "    response = client.label_detection(image=image)\n",
    "    labels = response.label_annotations\n",
    "    l = []\n",
    "    for label in labels:\n",
    "        l.append(label.description)\n",
    "    s = ' '.join(l)\n",
    "    print(\"s\")\n",
    "    print(s)\n",
    "    df = df.append({'URL': image_src_temp, 'Labels': s}, ignore_index=True)\n",
    "df.to_excel(\"GV_highest.xlsx\",index=False)"
   ]
  },
  {
   "cell_type": "code",
   "execution_count": 12,
   "id": "42975fae",
   "metadata": {},
   "outputs": [],
   "source": [
    "lowest = pd.read_excel('GV_lowest.xlsx')\n",
    "highest = pd.read_excel('GV_highest.xlsx')"
   ]
  },
  {
   "cell_type": "markdown",
   "id": "0ad93bff",
   "metadata": {},
   "source": [
    "## Task: to calculate the respective topic weights for labels of the posts in the lowest and highest quantiles"
   ]
  },
  {
   "cell_type": "code",
   "execution_count": 15,
   "id": "87f8ce76",
   "metadata": {},
   "outputs": [],
   "source": [
    "norma = np.vectorize(norm)\n",
    "norm_lowest = norma(lowest['Labels'])\n",
    "norm_highest = norma(highest['Labels'])\n",
    "\n",
    "\n",
    "token_norm_highest = [word_tokenize(i) for i in norm_highest]\n",
    "dic_highest = corpora.Dictionary(token_norm_highest)\n",
    "dic_highest.filter_extremes()\n",
    "summaries_highest = token_norm_highest\n",
    "df_highest = [dic.doc2bow(i) for i in summaries_highest]\n",
    "\n",
    "token_norm_lowest = [word_tokenize(i) for i in norm_lowest]\n",
    "dic_lowest = corpora.Dictionary(token_norm_lowest)\n",
    "dic_lowest.filter_extremes()\n",
    "\n",
    "summaries_lowest = token_norm_lowest\n",
    "df_lowest = [dic.doc2bow(i) for i in summaries_lowest]\n"
   ]
  },
  {
   "cell_type": "code",
   "execution_count": 16,
   "id": "cfc27ea9",
   "metadata": {
    "collapsed": true
   },
   "outputs": [
    {
     "data": {
      "text/plain": [
       "[[(19, 1),\n",
       "  (23, 1),\n",
       "  (26, 1),\n",
       "  (58, 1),\n",
       "  (90, 1),\n",
       "  (91, 1),\n",
       "  (96, 1),\n",
       "  (143, 1),\n",
       "  (145, 1),\n",
       "  (150, 1)],\n",
       " [(10, 1), (13, 1), (51, 1), (59, 1), (67, 1), (81, 1), (105, 1), (108, 1)],\n",
       " [(10, 1),\n",
       "  (13, 1),\n",
       "  (18, 1),\n",
       "  (43, 1),\n",
       "  (47, 1),\n",
       "  (49, 1),\n",
       "  (61, 1),\n",
       "  (74, 1),\n",
       "  (125, 1),\n",
       "  (126, 1)],\n",
       " [(0, 1),\n",
       "  (4, 1),\n",
       "  (5, 1),\n",
       "  (7, 1),\n",
       "  (21, 1),\n",
       "  (23, 1),\n",
       "  (27, 1),\n",
       "  (64, 1),\n",
       "  (96, 1),\n",
       "  (100, 1)],\n",
       " [(10, 1),\n",
       "  (30, 1),\n",
       "  (35, 1),\n",
       "  (84, 1),\n",
       "  (102, 1),\n",
       "  (110, 1),\n",
       "  (156, 1),\n",
       "  (157, 1),\n",
       "  (158, 1)],\n",
       " [(16, 1),\n",
       "  (19, 1),\n",
       "  (24, 1),\n",
       "  (25, 1),\n",
       "  (26, 1),\n",
       "  (27, 1),\n",
       "  (28, 1),\n",
       "  (31, 1),\n",
       "  (87, 1),\n",
       "  (93, 1)],\n",
       " [(0, 1),\n",
       "  (2, 1),\n",
       "  (6, 1),\n",
       "  (35, 1),\n",
       "  (38, 1),\n",
       "  (42, 1),\n",
       "  (48, 1),\n",
       "  (51, 1),\n",
       "  (54, 1),\n",
       "  (55, 1),\n",
       "  (77, 1),\n",
       "  (133, 1),\n",
       "  (142, 1)],\n",
       " [(6, 1),\n",
       "  (8, 1),\n",
       "  (19, 1),\n",
       "  (26, 1),\n",
       "  (51, 1),\n",
       "  (52, 1),\n",
       "  (59, 1),\n",
       "  (91, 1),\n",
       "  (93, 1),\n",
       "  (141, 1),\n",
       "  (144, 1)],\n",
       " [(16, 1),\n",
       "  (31, 1),\n",
       "  (35, 1),\n",
       "  (38, 1),\n",
       "  (40, 1),\n",
       "  (46, 1),\n",
       "  (50, 1),\n",
       "  (66, 1),\n",
       "  (87, 1),\n",
       "  (133, 1)],\n",
       " [(16, 1),\n",
       "  (18, 1),\n",
       "  (28, 1),\n",
       "  (29, 1),\n",
       "  (30, 1),\n",
       "  (31, 1),\n",
       "  (43, 1),\n",
       "  (74, 1),\n",
       "  (87, 1)],\n",
       " [(3, 1),\n",
       "  (21, 1),\n",
       "  (23, 1),\n",
       "  (27, 1),\n",
       "  (77, 1),\n",
       "  (90, 1),\n",
       "  (96, 1),\n",
       "  (143, 1),\n",
       "  (144, 1),\n",
       "  (145, 1)],\n",
       " [(19, 1),\n",
       "  (26, 1),\n",
       "  (31, 1),\n",
       "  (35, 1),\n",
       "  (38, 1),\n",
       "  (51, 1),\n",
       "  (93, 1),\n",
       "  (124, 1),\n",
       "  (127, 1),\n",
       "  (128, 1),\n",
       "  (129, 1)],\n",
       " [(6, 1),\n",
       "  (8, 1),\n",
       "  (34, 1),\n",
       "  (51, 1),\n",
       "  (89, 1),\n",
       "  (90, 1),\n",
       "  (91, 1),\n",
       "  (147, 1),\n",
       "  (149, 1),\n",
       "  (184, 1)],\n",
       " [(6, 1),\n",
       "  (23, 1),\n",
       "  (33, 1),\n",
       "  (41, 1),\n",
       "  (54, 1),\n",
       "  (55, 1),\n",
       "  (91, 1),\n",
       "  (96, 1),\n",
       "  (128, 1),\n",
       "  (144, 1),\n",
       "  (145, 1),\n",
       "  (150, 1)],\n",
       " [(12, 1),\n",
       "  (18, 1),\n",
       "  (19, 1),\n",
       "  (26, 1),\n",
       "  (35, 2),\n",
       "  (38, 1),\n",
       "  (47, 1),\n",
       "  (49, 1),\n",
       "  (51, 1),\n",
       "  (60, 1),\n",
       "  (74, 1),\n",
       "  (124, 1),\n",
       "  (148, 1)],\n",
       " [(6, 1),\n",
       "  (12, 1),\n",
       "  (19, 1),\n",
       "  (26, 1),\n",
       "  (35, 1),\n",
       "  (40, 1),\n",
       "  (42, 1),\n",
       "  (51, 1),\n",
       "  (57, 1),\n",
       "  (91, 1),\n",
       "  (93, 1)],\n",
       " [(10, 1),\n",
       "  (31, 1),\n",
       "  (47, 1),\n",
       "  (52, 1),\n",
       "  (57, 1),\n",
       "  (93, 1),\n",
       "  (119, 1),\n",
       "  (124, 1),\n",
       "  (166, 1)],\n",
       " [(18, 1),\n",
       "  (19, 1),\n",
       "  (26, 1),\n",
       "  (43, 1),\n",
       "  (55, 1),\n",
       "  (59, 1),\n",
       "  (74, 1),\n",
       "  (105, 1),\n",
       "  (110, 1),\n",
       "  (182, 1)],\n",
       " [(8, 1),\n",
       "  (16, 1),\n",
       "  (88, 1),\n",
       "  (89, 1),\n",
       "  (90, 1),\n",
       "  (91, 1),\n",
       "  (92, 1),\n",
       "  (93, 1),\n",
       "  (94, 1),\n",
       "  (95, 1),\n",
       "  (96, 1)],\n",
       " [(10, 1),\n",
       "  (12, 1),\n",
       "  (35, 3),\n",
       "  (38, 1),\n",
       "  (40, 1),\n",
       "  (57, 1),\n",
       "  (105, 1),\n",
       "  (106, 1),\n",
       "  (107, 1),\n",
       "  (128, 2)],\n",
       " [(9, 1),\n",
       "  (21, 1),\n",
       "  (23, 1),\n",
       "  (27, 1),\n",
       "  (88, 1),\n",
       "  (90, 1),\n",
       "  (91, 1),\n",
       "  (92, 1),\n",
       "  (95, 1),\n",
       "  (179, 1)],\n",
       " [(16, 1),\n",
       "  (31, 1),\n",
       "  (35, 1),\n",
       "  (38, 1),\n",
       "  (46, 1),\n",
       "  (51, 1),\n",
       "  (66, 1),\n",
       "  (93, 1),\n",
       "  (96, 1),\n",
       "  (133, 1),\n",
       "  (166, 1)],\n",
       " [(0, 1),\n",
       "  (1, 1),\n",
       "  (2, 1),\n",
       "  (3, 1),\n",
       "  (4, 1),\n",
       "  (5, 1),\n",
       "  (6, 1),\n",
       "  (7, 1),\n",
       "  (8, 1),\n",
       "  (9, 1)],\n",
       " [(3, 1),\n",
       "  (22, 1),\n",
       "  (40, 1),\n",
       "  (42, 1),\n",
       "  (50, 1),\n",
       "  (51, 1),\n",
       "  (54, 1),\n",
       "  (55, 1),\n",
       "  (62, 1),\n",
       "  (71, 1),\n",
       "  (100, 1)],\n",
       " [(8, 1),\n",
       "  (40, 1),\n",
       "  (42, 1),\n",
       "  (51, 1),\n",
       "  (80, 1),\n",
       "  (99, 1),\n",
       "  (133, 1),\n",
       "  (170, 1),\n",
       "  (171, 1)],\n",
       " [(0, 1),\n",
       "  (6, 1),\n",
       "  (19, 1),\n",
       "  (24, 1),\n",
       "  (25, 1),\n",
       "  (26, 1),\n",
       "  (28, 1),\n",
       "  (32, 1),\n",
       "  (54, 1),\n",
       "  (55, 1),\n",
       "  (75, 1),\n",
       "  (80, 1),\n",
       "  (100, 1)],\n",
       " [(31, 1), (50, 1), (80, 1), (82, 1), (83, 1), (93, 1), (128, 1), (132, 1)],\n",
       " [(1, 1),\n",
       "  (5, 1),\n",
       "  (6, 1),\n",
       "  (8, 1),\n",
       "  (23, 1),\n",
       "  (34, 1),\n",
       "  (54, 1),\n",
       "  (55, 1),\n",
       "  (89, 1),\n",
       "  (90, 1),\n",
       "  (91, 1)],\n",
       " [(0, 1),\n",
       "  (4, 1),\n",
       "  (7, 1),\n",
       "  (9, 1),\n",
       "  (19, 1),\n",
       "  (26, 1),\n",
       "  (33, 1),\n",
       "  (41, 1),\n",
       "  (57, 1),\n",
       "  (121, 1),\n",
       "  (150, 1)],\n",
       " [(0, 1),\n",
       "  (3, 1),\n",
       "  (7, 1),\n",
       "  (23, 1),\n",
       "  (27, 1),\n",
       "  (64, 1),\n",
       "  (89, 1),\n",
       "  (95, 1),\n",
       "  (96, 1),\n",
       "  (100, 1)],\n",
       " [(3, 1),\n",
       "  (13, 1),\n",
       "  (19, 1),\n",
       "  (22, 1),\n",
       "  (26, 1),\n",
       "  (40, 1),\n",
       "  (42, 1),\n",
       "  (55, 1),\n",
       "  (75, 1),\n",
       "  (81, 1),\n",
       "  (123, 1)],\n",
       " [(16, 1),\n",
       "  (24, 1),\n",
       "  (25, 1),\n",
       "  (31, 1),\n",
       "  (35, 1),\n",
       "  (38, 1),\n",
       "  (82, 1),\n",
       "  (93, 1),\n",
       "  (121, 1),\n",
       "  (164, 1)],\n",
       " [(17, 1), (28, 1), (29, 2), (30, 1), (31, 1), (32, 1), (53, 1)],\n",
       " [(6, 1),\n",
       "  (8, 1),\n",
       "  (9, 1),\n",
       "  (35, 1),\n",
       "  (38, 1),\n",
       "  (42, 1),\n",
       "  (51, 1),\n",
       "  (71, 1),\n",
       "  (180, 1)],\n",
       " [(0, 1),\n",
       "  (3, 1),\n",
       "  (5, 1),\n",
       "  (8, 1),\n",
       "  (16, 1),\n",
       "  (54, 1),\n",
       "  (55, 1),\n",
       "  (56, 1),\n",
       "  (64, 1),\n",
       "  (89, 1),\n",
       "  (100, 1)],\n",
       " [(2, 1),\n",
       "  (4, 1),\n",
       "  (19, 1),\n",
       "  (24, 1),\n",
       "  (25, 1),\n",
       "  (26, 1),\n",
       "  (51, 1),\n",
       "  (54, 1),\n",
       "  (55, 1),\n",
       "  (73, 1),\n",
       "  (89, 1),\n",
       "  (93, 1),\n",
       "  (180, 1)],\n",
       " [(0, 1),\n",
       "  (5, 1),\n",
       "  (8, 1),\n",
       "  (21, 1),\n",
       "  (22, 1),\n",
       "  (31, 1),\n",
       "  (75, 1),\n",
       "  (80, 1),\n",
       "  (95, 1),\n",
       "  (101, 1)],\n",
       " [(16, 1),\n",
       "  (24, 1),\n",
       "  (25, 1),\n",
       "  (29, 1),\n",
       "  (30, 1),\n",
       "  (31, 1),\n",
       "  (32, 1),\n",
       "  (44, 1),\n",
       "  (46, 1),\n",
       "  (57, 1),\n",
       "  (87, 1),\n",
       "  (93, 1)],\n",
       " [(3, 1),\n",
       "  (5, 1),\n",
       "  (6, 1),\n",
       "  (8, 1),\n",
       "  (19, 1),\n",
       "  (22, 1),\n",
       "  (26, 1),\n",
       "  (34, 1),\n",
       "  (40, 1),\n",
       "  (42, 1),\n",
       "  (51, 1)],\n",
       " [(1, 1), (9, 1), (16, 1), (24, 1), (25, 1), (51, 1), (119, 1), (128, 2)],\n",
       " [(17, 1), (59, 1), (112, 1), (130, 1), (146, 1)],\n",
       " [(3, 1),\n",
       "  (22, 1),\n",
       "  (51, 1),\n",
       "  (76, 1),\n",
       "  (97, 1),\n",
       "  (105, 1),\n",
       "  (118, 1),\n",
       "  (119, 1),\n",
       "  (120, 2)],\n",
       " [(8, 1), (40, 1), (42, 1), (54, 1), (55, 1), (75, 1)],\n",
       " [(12, 1), (35, 2), (38, 1), (51, 1), (56, 1), (158, 1), (176, 1), (178, 1)],\n",
       " [(10, 2), (12, 1), (13, 1), (19, 1), (26, 1), (35, 1), (105, 1), (106, 1)],\n",
       " [(35, 1),\n",
       "  (38, 1),\n",
       "  (50, 1),\n",
       "  (51, 1),\n",
       "  (87, 1),\n",
       "  (96, 1),\n",
       "  (128, 1),\n",
       "  (133, 1),\n",
       "  (167, 1),\n",
       "  (183, 1)],\n",
       " [(10, 1), (16, 3), (17, 1), (46, 1), (61, 1), (86, 1)],\n",
       " [(16, 1), (43, 1), (46, 1), (123, 1), (154, 1), (155, 1), (162, 1), (163, 1)],\n",
       " [(16, 1), (80, 2), (82, 1), (83, 3), (87, 1), (166, 1), (167, 1)],\n",
       " [(10, 1),\n",
       "  (12, 1),\n",
       "  (13, 1),\n",
       "  (14, 1),\n",
       "  (19, 1),\n",
       "  (26, 1),\n",
       "  (35, 2),\n",
       "  (38, 1),\n",
       "  (59, 1),\n",
       "  (78, 1),\n",
       "  (105, 1),\n",
       "  (106, 1),\n",
       "  (139, 1)],\n",
       " [(3, 1),\n",
       "  (5, 1),\n",
       "  (7, 1),\n",
       "  (8, 1),\n",
       "  (21, 1),\n",
       "  (23, 1),\n",
       "  (56, 1),\n",
       "  (64, 1),\n",
       "  (89, 1),\n",
       "  (90, 1),\n",
       "  (158, 1)],\n",
       " [(6, 1),\n",
       "  (8, 1),\n",
       "  (19, 1),\n",
       "  (21, 1),\n",
       "  (23, 1),\n",
       "  (26, 1),\n",
       "  (35, 1),\n",
       "  (51, 1),\n",
       "  (90, 1),\n",
       "  (96, 1),\n",
       "  (100, 1)],\n",
       " [(3, 1),\n",
       "  (6, 1),\n",
       "  (7, 1),\n",
       "  (54, 1),\n",
       "  (55, 1),\n",
       "  (77, 1),\n",
       "  (89, 1),\n",
       "  (90, 1),\n",
       "  (91, 1),\n",
       "  (100, 1),\n",
       "  (142, 1)],\n",
       " [(3, 1),\n",
       "  (30, 1),\n",
       "  (54, 1),\n",
       "  (55, 1),\n",
       "  (60, 1),\n",
       "  (64, 1),\n",
       "  (89, 1),\n",
       "  (91, 1),\n",
       "  (102, 1),\n",
       "  (107, 1)],\n",
       " [(2, 1),\n",
       "  (5, 1),\n",
       "  (6, 1),\n",
       "  (7, 1),\n",
       "  (8, 1),\n",
       "  (16, 1),\n",
       "  (22, 1),\n",
       "  (35, 1),\n",
       "  (38, 1),\n",
       "  (54, 1),\n",
       "  (55, 1),\n",
       "  (122, 1),\n",
       "  (142, 1)],\n",
       " [(6, 1),\n",
       "  (7, 1),\n",
       "  (8, 1),\n",
       "  (22, 1),\n",
       "  (35, 1),\n",
       "  (38, 1),\n",
       "  (40, 1),\n",
       "  (42, 1),\n",
       "  (51, 1),\n",
       "  (54, 1),\n",
       "  (55, 1),\n",
       "  (104, 1)],\n",
       " [(7, 1),\n",
       "  (22, 1),\n",
       "  (51, 1),\n",
       "  (54, 1),\n",
       "  (55, 1),\n",
       "  (64, 1),\n",
       "  (73, 1),\n",
       "  (89, 1),\n",
       "  (155, 1),\n",
       "  (165, 1)],\n",
       " [(1, 1),\n",
       "  (2, 1),\n",
       "  (12, 1),\n",
       "  (17, 1),\n",
       "  (35, 2),\n",
       "  (38, 1),\n",
       "  (42, 1),\n",
       "  (51, 1),\n",
       "  (54, 1),\n",
       "  (55, 1),\n",
       "  (142, 1),\n",
       "  (176, 1)],\n",
       " [(0, 1),\n",
       "  (2, 1),\n",
       "  (11, 1),\n",
       "  (12, 1),\n",
       "  (19, 1),\n",
       "  (22, 1),\n",
       "  (26, 1),\n",
       "  (35, 1),\n",
       "  (40, 1),\n",
       "  (59, 1),\n",
       "  (75, 1),\n",
       "  (95, 1)],\n",
       " [(3, 1),\n",
       "  (23, 1),\n",
       "  (58, 1),\n",
       "  (77, 1),\n",
       "  (91, 1),\n",
       "  (96, 1),\n",
       "  (143, 1),\n",
       "  (144, 1),\n",
       "  (145, 1),\n",
       "  (150, 1)],\n",
       " [(113, 1),\n",
       "  (116, 1),\n",
       "  (117, 1),\n",
       "  (131, 1),\n",
       "  (152, 1),\n",
       "  (153, 1),\n",
       "  (155, 1),\n",
       "  (161, 1)],\n",
       " [(6, 1),\n",
       "  (8, 1),\n",
       "  (21, 1),\n",
       "  (23, 1),\n",
       "  (27, 1),\n",
       "  (56, 1),\n",
       "  (88, 1),\n",
       "  (90, 1),\n",
       "  (91, 1),\n",
       "  (92, 1),\n",
       "  (179, 1)],\n",
       " [(2, 1),\n",
       "  (12, 1),\n",
       "  (35, 2),\n",
       "  (40, 1),\n",
       "  (42, 1),\n",
       "  (48, 1),\n",
       "  (51, 1),\n",
       "  (54, 1),\n",
       "  (55, 1),\n",
       "  (57, 1),\n",
       "  (123, 1),\n",
       "  (142, 1)],\n",
       " [(23, 1),\n",
       "  (77, 1),\n",
       "  (81, 1),\n",
       "  (89, 1),\n",
       "  (90, 1),\n",
       "  (91, 1),\n",
       "  (96, 1),\n",
       "  (144, 1),\n",
       "  (145, 1),\n",
       "  (147, 1),\n",
       "  (149, 1)],\n",
       " [(47, 1), (49, 1), (59, 1), (130, 1)],\n",
       " [(3, 1),\n",
       "  (6, 1),\n",
       "  (10, 1),\n",
       "  (17, 1),\n",
       "  (35, 1),\n",
       "  (39, 1),\n",
       "  (59, 1),\n",
       "  (84, 1),\n",
       "  (91, 1),\n",
       "  (158, 1)],\n",
       " [(24, 1),\n",
       "  (25, 1),\n",
       "  (31, 1),\n",
       "  (35, 1),\n",
       "  (38, 1),\n",
       "  (51, 1),\n",
       "  (95, 1),\n",
       "  (121, 1),\n",
       "  (122, 1),\n",
       "  (128, 1),\n",
       "  (183, 1)],\n",
       " [(16, 1), (24, 2), (25, 1), (29, 1), (30, 1), (43, 1), (46, 1), (87, 1)],\n",
       " [(4, 1),\n",
       "  (5, 1),\n",
       "  (6, 1),\n",
       "  (22, 1),\n",
       "  (42, 1),\n",
       "  (50, 1),\n",
       "  (51, 1),\n",
       "  (54, 1),\n",
       "  (55, 1),\n",
       "  (62, 1),\n",
       "  (80, 1)],\n",
       " [(14, 1), (17, 1), (116, 1), (117, 1), (152, 1), (153, 1)],\n",
       " [(3, 1),\n",
       "  (7, 1),\n",
       "  (9, 1),\n",
       "  (19, 1),\n",
       "  (23, 1),\n",
       "  (26, 1),\n",
       "  (64, 1),\n",
       "  (81, 1),\n",
       "  (90, 1),\n",
       "  (100, 1),\n",
       "  (144, 1)],\n",
       " [(9, 1),\n",
       "  (51, 1),\n",
       "  (57, 1),\n",
       "  (70, 1),\n",
       "  (93, 1),\n",
       "  (95, 1),\n",
       "  (104, 1),\n",
       "  (107, 1),\n",
       "  (128, 1),\n",
       "  (183, 1)],\n",
       " [(13, 1),\n",
       "  (17, 1),\n",
       "  (19, 1),\n",
       "  (24, 1),\n",
       "  (25, 1),\n",
       "  (26, 1),\n",
       "  (28, 1),\n",
       "  (31, 1),\n",
       "  (51, 1),\n",
       "  (57, 1),\n",
       "  (93, 1),\n",
       "  (119, 1)],\n",
       " [(5, 1),\n",
       "  (8, 1),\n",
       "  (22, 1),\n",
       "  (31, 1),\n",
       "  (35, 2),\n",
       "  (38, 1),\n",
       "  (78, 1),\n",
       "  (115, 1),\n",
       "  (122, 1)],\n",
       " [(8, 1),\n",
       "  (11, 2),\n",
       "  (12, 1),\n",
       "  (33, 1),\n",
       "  (39, 1),\n",
       "  (41, 1),\n",
       "  (45, 1),\n",
       "  (47, 1),\n",
       "  (51, 1),\n",
       "  (80, 1),\n",
       "  (118, 1),\n",
       "  (171, 1)],\n",
       " [(3, 1),\n",
       "  (5, 1),\n",
       "  (6, 1),\n",
       "  (8, 1),\n",
       "  (19, 1),\n",
       "  (21, 1),\n",
       "  (23, 1),\n",
       "  (26, 1),\n",
       "  (51, 1),\n",
       "  (91, 1),\n",
       "  (100, 1)],\n",
       " [(3, 1),\n",
       "  (21, 1),\n",
       "  (27, 1),\n",
       "  (64, 1),\n",
       "  (77, 1),\n",
       "  (89, 1),\n",
       "  (90, 1),\n",
       "  (100, 1),\n",
       "  (125, 1),\n",
       "  (145, 1)],\n",
       " [(16, 2),\n",
       "  (24, 1),\n",
       "  (25, 1),\n",
       "  (29, 1),\n",
       "  (30, 1),\n",
       "  (43, 1),\n",
       "  (46, 1),\n",
       "  (87, 1),\n",
       "  (123, 1),\n",
       "  (165, 1)],\n",
       " [(3, 1),\n",
       "  (6, 1),\n",
       "  (19, 1),\n",
       "  (23, 1),\n",
       "  (26, 1),\n",
       "  (35, 1),\n",
       "  (38, 1),\n",
       "  (43, 1),\n",
       "  (51, 1),\n",
       "  (71, 1),\n",
       "  (148, 1),\n",
       "  (175, 1)],\n",
       " [(35, 1), (46, 1), (51, 1), (59, 1), (60, 1), (70, 1), (84, 1)],\n",
       " [(10, 1), (17, 1), (18, 2), (43, 1), (72, 1), (74, 1), (113, 1)],\n",
       " [(0, 1),\n",
       "  (9, 1),\n",
       "  (35, 1),\n",
       "  (55, 1),\n",
       "  (56, 1),\n",
       "  (75, 1),\n",
       "  (81, 1),\n",
       "  (95, 1),\n",
       "  (97, 1),\n",
       "  (122, 1)],\n",
       " [(16, 1),\n",
       "  (19, 1),\n",
       "  (24, 1),\n",
       "  (25, 1),\n",
       "  (26, 1),\n",
       "  (31, 1),\n",
       "  (56, 1),\n",
       "  (57, 1),\n",
       "  (87, 1),\n",
       "  (93, 1),\n",
       "  (114, 1)],\n",
       " [(5, 1),\n",
       "  (6, 1),\n",
       "  (22, 1),\n",
       "  (34, 1),\n",
       "  (40, 1),\n",
       "  (50, 1),\n",
       "  (51, 1),\n",
       "  (75, 1),\n",
       "  (101, 1)],\n",
       " [(13, 1),\n",
       "  (19, 1),\n",
       "  (26, 1),\n",
       "  (31, 1),\n",
       "  (57, 1),\n",
       "  (60, 1),\n",
       "  (93, 1),\n",
       "  (105, 1),\n",
       "  (124, 1)],\n",
       " [(3, 1),\n",
       "  (8, 1),\n",
       "  (16, 1),\n",
       "  (22, 1),\n",
       "  (23, 1),\n",
       "  (24, 1),\n",
       "  (25, 1),\n",
       "  (27, 1),\n",
       "  (31, 1),\n",
       "  (47, 1),\n",
       "  (180, 1)],\n",
       " [(0, 1),\n",
       "  (6, 1),\n",
       "  (22, 1),\n",
       "  (34, 1),\n",
       "  (51, 1),\n",
       "  (55, 1),\n",
       "  (57, 1),\n",
       "  (72, 1),\n",
       "  (93, 1),\n",
       "  (96, 1)],\n",
       " [(0, 1),\n",
       "  (6, 1),\n",
       "  (12, 1),\n",
       "  (30, 1),\n",
       "  (35, 3),\n",
       "  (38, 1),\n",
       "  (42, 1),\n",
       "  (48, 1),\n",
       "  (51, 1),\n",
       "  (102, 1),\n",
       "  (175, 1)],\n",
       " [(0, 1),\n",
       "  (3, 1),\n",
       "  (7, 1),\n",
       "  (23, 1),\n",
       "  (35, 1),\n",
       "  (40, 1),\n",
       "  (42, 1),\n",
       "  (51, 1),\n",
       "  (100, 1),\n",
       "  (101, 1)],\n",
       " [(6, 1),\n",
       "  (8, 1),\n",
       "  (19, 1),\n",
       "  (26, 1),\n",
       "  (31, 1),\n",
       "  (35, 1),\n",
       "  (38, 1),\n",
       "  (42, 1),\n",
       "  (51, 1),\n",
       "  (89, 1),\n",
       "  (93, 1),\n",
       "  (96, 1)],\n",
       " [(13, 1), (16, 3), (18, 1), (20, 1), (59, 1), (60, 1), (74, 1), (94, 1)],\n",
       " [(17, 1),\n",
       "  (19, 1),\n",
       "  (26, 1),\n",
       "  (31, 1),\n",
       "  (46, 1),\n",
       "  (47, 1),\n",
       "  (49, 1),\n",
       "  (57, 1),\n",
       "  (59, 1),\n",
       "  (82, 1),\n",
       "  (134, 1),\n",
       "  (135, 1),\n",
       "  (138, 2)],\n",
       " [(24, 1),\n",
       "  (25, 2),\n",
       "  (28, 1),\n",
       "  (31, 1),\n",
       "  (40, 1),\n",
       "  (50, 1),\n",
       "  (53, 1),\n",
       "  (80, 1),\n",
       "  (93, 1),\n",
       "  (166, 1)],\n",
       " [(0, 1),\n",
       "  (5, 1),\n",
       "  (6, 1),\n",
       "  (8, 1),\n",
       "  (19, 1),\n",
       "  (22, 1),\n",
       "  (26, 1),\n",
       "  (35, 1),\n",
       "  (40, 1),\n",
       "  (42, 1),\n",
       "  (51, 1)],\n",
       " [(7, 1),\n",
       "  (19, 1),\n",
       "  (26, 1),\n",
       "  (51, 1),\n",
       "  (54, 1),\n",
       "  (55, 1),\n",
       "  (57, 1),\n",
       "  (96, 1),\n",
       "  (141, 1)],\n",
       " [(7, 1),\n",
       "  (12, 1),\n",
       "  (35, 2),\n",
       "  (38, 1),\n",
       "  (48, 1),\n",
       "  (51, 1),\n",
       "  (57, 1),\n",
       "  (72, 1),\n",
       "  (175, 1),\n",
       "  (176, 1),\n",
       "  (177, 1),\n",
       "  (178, 1)],\n",
       " [(5, 1),\n",
       "  (6, 1),\n",
       "  (7, 1),\n",
       "  (8, 1),\n",
       "  (9, 1),\n",
       "  (23, 1),\n",
       "  (27, 1),\n",
       "  (51, 1),\n",
       "  (88, 1),\n",
       "  (91, 1),\n",
       "  (92, 1)],\n",
       " [(3, 1),\n",
       "  (24, 1),\n",
       "  (25, 1),\n",
       "  (30, 1),\n",
       "  (31, 1),\n",
       "  (32, 1),\n",
       "  (40, 1),\n",
       "  (53, 1),\n",
       "  (93, 1),\n",
       "  (164, 1)],\n",
       " [(6, 1),\n",
       "  (7, 1),\n",
       "  (9, 1),\n",
       "  (23, 1),\n",
       "  (35, 1),\n",
       "  (38, 1),\n",
       "  (48, 1),\n",
       "  (51, 1),\n",
       "  (56, 1),\n",
       "  (57, 1),\n",
       "  (58, 1)],\n",
       " [(0, 1),\n",
       "  (5, 1),\n",
       "  (6, 1),\n",
       "  (8, 1),\n",
       "  (19, 1),\n",
       "  (22, 1),\n",
       "  (23, 1),\n",
       "  (26, 1),\n",
       "  (27, 1),\n",
       "  (54, 1),\n",
       "  (55, 1),\n",
       "  (100, 1)],\n",
       " [(7, 1),\n",
       "  (35, 1),\n",
       "  (38, 1),\n",
       "  (48, 1),\n",
       "  (51, 1),\n",
       "  (73, 1),\n",
       "  (95, 1),\n",
       "  (109, 1),\n",
       "  (111, 1),\n",
       "  (148, 2),\n",
       "  (151, 1)],\n",
       " [(0, 1),\n",
       "  (4, 1),\n",
       "  (5, 1),\n",
       "  (8, 1),\n",
       "  (23, 1),\n",
       "  (77, 1),\n",
       "  (89, 1),\n",
       "  (90, 1),\n",
       "  (100, 1),\n",
       "  (150, 1)],\n",
       " [(3, 1),\n",
       "  (5, 1),\n",
       "  (6, 1),\n",
       "  (7, 1),\n",
       "  (8, 1),\n",
       "  (22, 1),\n",
       "  (42, 1),\n",
       "  (50, 1),\n",
       "  (51, 1),\n",
       "  (122, 1)],\n",
       " [(7, 1),\n",
       "  (8, 1),\n",
       "  (22, 1),\n",
       "  (35, 1),\n",
       "  (38, 1),\n",
       "  (42, 1),\n",
       "  (51, 1),\n",
       "  (56, 1),\n",
       "  (109, 1),\n",
       "  (119, 1),\n",
       "  (158, 1),\n",
       "  (177, 1)],\n",
       " [(2, 1),\n",
       "  (5, 1),\n",
       "  (6, 1),\n",
       "  (8, 1),\n",
       "  (22, 1),\n",
       "  (40, 1),\n",
       "  (42, 1),\n",
       "  (43, 1),\n",
       "  (50, 1),\n",
       "  (51, 1),\n",
       "  (142, 1)],\n",
       " [(35, 1),\n",
       "  (84, 1),\n",
       "  (108, 1),\n",
       "  (156, 1),\n",
       "  (157, 4),\n",
       "  (158, 1),\n",
       "  (162, 1),\n",
       "  (169, 1)],\n",
       " [(10, 1), (13, 1), (19, 1), (26, 1), (105, 1), (110, 1), (124, 1), (126, 1)],\n",
       " [(24, 1),\n",
       "  (25, 1),\n",
       "  (27, 1),\n",
       "  (31, 1),\n",
       "  (46, 1),\n",
       "  (57, 1),\n",
       "  (93, 1),\n",
       "  (96, 1),\n",
       "  (148, 1),\n",
       "  (164, 1)],\n",
       " [(16, 1), (24, 1), (25, 1), (29, 1), (31, 1), (46, 1), (93, 1), (148, 1)],\n",
       " [(19, 1),\n",
       "  (22, 1),\n",
       "  (26, 1),\n",
       "  (35, 1),\n",
       "  (38, 1),\n",
       "  (40, 1),\n",
       "  (42, 1),\n",
       "  (48, 1),\n",
       "  (50, 1),\n",
       "  (51, 1),\n",
       "  (119, 1)],\n",
       " [(0, 1),\n",
       "  (6, 1),\n",
       "  (7, 1),\n",
       "  (8, 1),\n",
       "  (35, 1),\n",
       "  (38, 1),\n",
       "  (42, 1),\n",
       "  (51, 1),\n",
       "  (57, 1),\n",
       "  (176, 1),\n",
       "  (183, 1)],\n",
       " [(3, 1),\n",
       "  (6, 1),\n",
       "  (12, 1),\n",
       "  (19, 1),\n",
       "  (26, 1),\n",
       "  (35, 1),\n",
       "  (40, 1),\n",
       "  (42, 1),\n",
       "  (51, 1),\n",
       "  (81, 1),\n",
       "  (117, 1),\n",
       "  (123, 1)],\n",
       " [(6, 1),\n",
       "  (7, 1),\n",
       "  (19, 1),\n",
       "  (26, 1),\n",
       "  (33, 1),\n",
       "  (35, 1),\n",
       "  (38, 1),\n",
       "  (41, 1),\n",
       "  (51, 1),\n",
       "  (71, 1),\n",
       "  (73, 1),\n",
       "  (104, 1),\n",
       "  (148, 1)],\n",
       " [(21, 1),\n",
       "  (35, 1),\n",
       "  (38, 1),\n",
       "  (56, 1),\n",
       "  (78, 1),\n",
       "  (81, 1),\n",
       "  (95, 1),\n",
       "  (99, 1),\n",
       "  (122, 1),\n",
       "  (170, 1),\n",
       "  (172, 1)],\n",
       " [(0, 1),\n",
       "  (5, 1),\n",
       "  (6, 1),\n",
       "  (19, 1),\n",
       "  (26, 1),\n",
       "  (40, 1),\n",
       "  (42, 1),\n",
       "  (51, 1),\n",
       "  (54, 1),\n",
       "  (55, 1),\n",
       "  (75, 1),\n",
       "  (101, 1)],\n",
       " [(23, 1),\n",
       "  (27, 1),\n",
       "  (88, 1),\n",
       "  (89, 1),\n",
       "  (90, 1),\n",
       "  (92, 1),\n",
       "  (96, 1),\n",
       "  (143, 1),\n",
       "  (144, 1),\n",
       "  (145, 1),\n",
       "  (150, 1)],\n",
       " [(10, 1), (11, 1), (12, 1), (14, 1), (15, 1), (99, 1), (115, 1), (159, 1)],\n",
       " [(7, 1),\n",
       "  (22, 1),\n",
       "  (35, 2),\n",
       "  (38, 1),\n",
       "  (51, 1),\n",
       "  (54, 1),\n",
       "  (55, 1),\n",
       "  (56, 1),\n",
       "  (57, 1),\n",
       "  (78, 1),\n",
       "  (122, 1)],\n",
       " [(59, 1), (130, 1)],\n",
       " [(17, 1), (59, 1), (112, 1), (130, 1), (138, 2), (139, 1), (146, 1)],\n",
       " [(6, 1),\n",
       "  (8, 1),\n",
       "  (12, 1),\n",
       "  (22, 1),\n",
       "  (34, 1),\n",
       "  (35, 1),\n",
       "  (40, 1),\n",
       "  (43, 1),\n",
       "  (50, 1),\n",
       "  (51, 1),\n",
       "  (55, 1),\n",
       "  (73, 1)],\n",
       " [(2, 1),\n",
       "  (5, 1),\n",
       "  (6, 1),\n",
       "  (8, 1),\n",
       "  (16, 1),\n",
       "  (42, 1),\n",
       "  (51, 1),\n",
       "  (63, 1),\n",
       "  (65, 1),\n",
       "  (119, 1)],\n",
       " [(6, 1),\n",
       "  (8, 1),\n",
       "  (16, 1),\n",
       "  (19, 1),\n",
       "  (21, 1),\n",
       "  (26, 1),\n",
       "  (28, 1),\n",
       "  (31, 1),\n",
       "  (35, 1),\n",
       "  (38, 1),\n",
       "  (42, 1),\n",
       "  (51, 1)],\n",
       " [(12, 1),\n",
       "  (19, 1),\n",
       "  (26, 1),\n",
       "  (35, 2),\n",
       "  (38, 1),\n",
       "  (40, 1),\n",
       "  (42, 1),\n",
       "  (51, 1),\n",
       "  (56, 1),\n",
       "  (121, 1),\n",
       "  (148, 1),\n",
       "  (151, 1)],\n",
       " [(1, 1),\n",
       "  (7, 1),\n",
       "  (31, 1),\n",
       "  (35, 1),\n",
       "  (38, 1),\n",
       "  (47, 1),\n",
       "  (51, 1),\n",
       "  (73, 1),\n",
       "  (109, 1),\n",
       "  (115, 1),\n",
       "  (119, 1)]]"
      ]
     },
     "execution_count": 16,
     "metadata": {},
     "output_type": "execute_result"
    }
   ],
   "source": [
    "df_lowest"
   ]
  },
  {
   "cell_type": "code",
   "execution_count": 30,
   "id": "87bc0988",
   "metadata": {
    "collapsed": true
   },
   "outputs": [
    {
     "name": "stdout",
     "output_type": "stream",
     "text": [
      "([(0, 0.01818224), (1, 0.01834369), (2, 0.018228745), (3, 0.01827241), (4, 0.9269729)], [(19, [4]), (23, [4]), (26, [4]), (58, [4]), (90, [4]), (91, [4]), (96, [4]), (143, [4]), (145, [4]), (150, [4])], [(19, [(4, 0.99862015)]), (23, [(4, 0.99999756)]), (26, [(4, 0.99851173)]), (58, [(4, 0.99998456)]), (90, [(4, 0.99999493)]), (91, [(4, 0.99999535)]), (96, [(4, 0.9996328)]), (143, [(4, 0.9999857)]), (145, [(4, 0.99998987)]), (150, [(4, 0.9999898)])])\n",
      "([(0, 0.24781562), (1, 0.022262), (2, 0.4938741), (3, 0.21330005), (4, 0.022748234)], [(10, [2]), (13, [2]), (51, [3, 2]), (59, [2, 0]), (67, [0]), (81, [3, 2]), (105, [2]), (108, [0])], [(10, [(2, 0.99988973)]), (13, [(2, 0.99976784)]), (51, [(2, 0.25351074), (3, 0.7456321)]), (59, [(0, 0.03153554), (2, 0.9684526)]), (67, [(0, 0.9981019)]), (81, [(2, 0.019688645), (3, 0.97376364)]), (105, [(2, 0.99961233)]), (108, [(0, 0.9978084)])])\n",
      "([(0, 0.01828733), (1, 0.01819502), (2, 0.9271025), (3, 0.018225648), (4, 0.018189522)], [(10, [2]), (13, [2]), (18, [2]), (43, [2]), (47, [2]), (49, [2]), (61, [2]), (74, [2]), (125, [2]), (126, [2])], [(10, [(2, 0.9999976)]), (13, [(2, 0.9999945)]), (18, [(2, 0.9999947)]), (43, [(2, 0.9994937)]), (47, [(2, 0.99983335)]), (49, [(2, 0.9999967)]), (61, [(2, 0.9999888)]), (74, [(2, 0.9999932)]), (125, [(2, 0.99964213)]), (126, [(2, 0.9991173)])])\n",
      "([(0, 0.018182073), (1, 0.018205682), (2, 0.018182022), (3, 0.018304856), (4, 0.9271254)], [(0, [4]), (4, [4]), (5, [4]), (7, [4]), (21, [4]), (23, [4]), (27, [4]), (64, [4]), (96, [4]), (100, [4])], [(0, [(4, 0.9999456)]), (4, [(4, 0.9999565)]), (5, [(4, 0.99971485)]), (7, [(4, 0.99926764)]), (21, [(4, 0.999888)]), (23, [(4, 0.99999756)]), (27, [(4, 0.9999955)]), (64, [(4, 0.9999929)]), (96, [(4, 0.9996398)]), (100, [(4, 0.9999948)])])\n",
      "([(0, 0.63385916), (1, 0.020105578), (2, 0.30565804), (3, 0.02037672), (4, 0.020000488)], [(10, [2]), (30, [0]), (35, [0]), (84, [2, 0]), (102, [0, 2]), (110, [2]), (156, [0]), (157, [0]), (158, [0])], [(10, [(2, 0.9995265)]), (30, [(0, 0.9987167)]), (35, [(0, 0.996095)]), (84, [(0, 0.26675615), (2, 0.7332216)]), (102, [(0, 0.8745777), (2, 0.12541495)]), (110, [(2, 0.99720126)]), (156, [(0, 0.99953187)]), (157, [(0, 0.99986994)]), (158, [(0, 0.9998756)])])\n",
      "([(0, 0.018188102), (1, 0.82378376), (2, 0.018227374), (3, 0.018241763), (4, 0.121559)], [(16, [1]), (19, [1, 4]), (24, [1]), (25, [1]), (26, [1, 4]), (27, [4]), (28, [1]), (31, [1]), (87, [1]), (93, [1])], [(16, [(1, 0.99989164)]), (19, [(1, 0.930997), (4, 0.06853636)]), (24, [(1, 0.9999908)]), (25, [(1, 0.9999904)]), (26, [(1, 0.92889464), (4, 0.07052275)]), (27, [(4, 0.99767405)]), (28, [(1, 0.99998224)]), (31, [(1, 0.9999942)]), (87, [(1, 0.9999717)]), (93, [(1, 0.99991363)])])\n",
      "([(0, 0.014299226), (1, 0.11056694), (2, 0.0144405365), (3, 0.5485882), (4, 0.3121051)], [(0, [4, 1]), (2, [3, 4, 1]), (6, [3, 4]), (35, [3]), (38, [3]), (42, [3, 1]), (48, [3]), (51, [3, 4, 1]), (54, [4, 1]), (55, [4, 1]), (77, [4]), (133, [1]), (142, [3, 1])], [(0, [(1, 0.02671972), (4, 0.97316957)]), (2, [(1, 0.029337047), (3, 0.91441035), (4, 0.056242477)]), (6, [(3, 0.6894114), (4, 0.30728164)]), (35, [(3, 0.99979097)]), (38, [(3, 0.9999488)]), (42, [(1, 0.027615817), (3, 0.97234464)]), (48, [(3, 0.9998719)]), (51, [(1, 0.018103952), (3, 0.9152207), (4, 0.066588655)]), (54, [(1, 0.101023816), (4, 0.89886045)]), (55, [(1, 0.13284455), (4, 0.8670497)]), (77, [(4, 0.99963325)]), (133, [(1, 0.9950939)]), (142, [(1, 0.0130042145), (3, 0.9868747)])])\n",
      "([(0, 0.016680852), (1, 0.09715511), (2, 0.23805094), (3, 0.2570567), (4, 0.3910564)], [(6, [4, 3]), (8, [4, 3]), (19, [4, 3, 1, 2]), (26, [4, 3, 2, 1]), (51, [3, 4, 2, 1]), (52, [2]), (59, [2]), (91, [4]), (93, [1, 2]), (141, [3]), (144, [4])], [(6, [(3, 0.42681167), (4, 0.5693752)]), (8, [(3, 0.23686871), (4, 0.76305795)]), (19, [(1, 0.12297815), (2, 0.104495995), (3, 0.2556847), (4, 0.5168336)]), (26, [(1, 0.11154751), (2, 0.16810554), (3, 0.23686638), (4, 0.48347345)]), (51, [(1, 0.026433704), (2, 0.0830438), (3, 0.7312756), (4, 0.15924273)]), (52, [(2, 0.9994092)]), (59, [(2, 0.99972457)]), (91, [(4, 0.9997509)]), (93, [(1, 0.69947535), (2, 0.30013308)]), (141, [(3, 0.99656326)]), (144, [(4, 0.99934477)])])\n",
      "([(0, 0.018229974), (1, 0.6330314), (2, 0.0182177), (3, 0.31233886), (4, 0.018182078)], [(16, [1]), (31, [1]), (35, [3]), (38, [3]), (40, [3, 1]), (46, [1]), (50, [3, 1]), (66, [1, 3]), (87, [1]), (133, [1])], [(16, [(1, 0.99111843)]), (31, [(1, 0.999985)]), (35, [(3, 0.9994197)]), (38, [(3, 0.9997504)]), (40, [(1, 0.449558), (3, 0.5504343)]), (46, [(1, 0.9999337)]), (50, [(1, 0.35981658), (3, 0.64017254)]), (66, [(1, 0.96334183), (3, 0.03663304)]), (87, [(1, 0.9999261)]), (133, [(1, 0.99953306)])])\n",
      "([(0, 0.020220902), (1, 0.6395358), (2, 0.30022556), (3, 0.020017473), (4, 0.020000322)], [(16, [1, 2]), (18, [2]), (28, [1]), (29, [1]), (30, [1]), (31, [1]), (43, [2, 1]), (74, [2]), (87, [1])], [(16, [(1, 0.9820941), (2, 0.017789911)]), (18, [(2, 0.99941397)]), (28, [(1, 0.99987334)]), (29, [(1, 0.999845)]), (30, [(1, 0.9990437)]), (31, [(1, 0.9999584)]), (43, [(1, 0.21333688), (2, 0.7852841)]), (74, [(2, 0.9992448)]), (87, [(1, 0.99979115)])])\n",
      "([(0, 0.018182186), (1, 0.01820114), (2, 0.018182117), (3, 0.018215457), (4, 0.92721915)], [(3, [4]), (21, [4]), (23, [4]), (27, [4]), (77, [4]), (90, [4]), (96, [4]), (143, [4]), (144, [4]), (145, [4])], [(3, [(4, 0.9998745)]), (21, [(4, 0.9998908)]), (23, [(4, 0.99999744)]), (27, [(4, 0.9999955)]), (77, [(4, 0.9999922)]), (90, [(4, 0.99999505)]), (96, [(4, 0.9996439)]), (143, [(4, 0.9999859)]), (144, [(4, 0.99998754)]), (145, [(4, 0.99998987)])])\n",
      "([(0, 0.016687742), (1, 0.33717236), (2, 0.11898092), (3, 0.51039386), (4, 0.016765166)], [(19, [1, 3, 2]), (26, [1, 3, 2]), (31, [1]), (35, [3]), (38, [3]), (51, [3, 1, 2]), (93, [1, 2]), (124, [2]), (127, [3]), (128, [1, 3, 2]), (129, [3])], [(19, [(1, 0.50560194), (2, 0.03526117), (3, 0.4586006)]), (26, [(1, 0.48752603), (2, 0.06030263), (3, 0.451638)]), (31, [(1, 0.99992615)]), (35, [(3, 0.99971455)]), (38, [(3, 0.9999034)]), (51, [(1, 0.075027704), (2, 0.019345822), (3, 0.90551126)]), (93, [(1, 0.9659108), (2, 0.034016903)]), (124, [(2, 0.9965317)]), (127, [(3, 0.9969393)]), (128, [(1, 0.8058966), (2, 0.08017865), (3, 0.11390349)]), (129, [(3, 0.9969393)])])\n",
      "([(0, 0.018258587), (1, 0.018230814), (2, 0.01822646), (3, 0.018796146), (4, 0.9264879)], [(6, [4]), (8, [4]), (34, [4]), (51, [4]), (89, [4]), (90, [4]), (91, [4]), (147, [4]), (149, [4]), (184, [4])], [(6, [(4, 0.9992276)]), (8, [(4, 0.9996878)]), (34, [(4, 0.99810493)]), (51, [(4, 0.99443275)]), (89, [(4, 0.9999923)]), (90, [(4, 0.99999493)]), (91, [(4, 0.99999523)]), (147, [(4, 0.99996257)]), (149, [(4, 0.99996257)]), (184, [(4, 0.9999714)])])\n",
      "([(0, 0.015385393), (1, 0.100060195), (2, 0.015564264), (3, 0.015483369), (4, 0.8535068)], [(6, [4]), (23, [4]), (33, [4]), (41, [4]), (54, [4, 1]), (55, [4, 1]), (91, [4]), (96, [4, 1]), (128, [1]), (144, [4]), (145, [4]), (150, [4])], [(6, [(4, 0.9963442)]), (23, [(4, 0.9999881)]), (33, [(4, 0.9999467)]), (41, [(4, 0.9999467)]), (54, [(1, 0.031086724), (4, 0.96890986)]), (55, [(1, 0.041905124), (4, 0.95809203)]), (91, [(4, 0.99997807)]), (96, [(1, 0.030869149), (4, 0.9689962)]), (128, [(1, 0.9938733)]), (144, [(4, 0.99994224)]), (145, [(4, 0.99995303)]), (150, [(4, 0.9999529)])])\n",
      "([(0, 0.013547653), (1, 0.013476505), (2, 0.50846815), (3, 0.4510814), (4, 0.013426324)], [(12, [2, 3]), (18, [2]), (19, [3, 2]), (26, [3, 2]), (35, [3]), (38, [3]), (47, [2, 3]), (49, [2]), (51, [3, 2]), (60, [2]), (74, [2]), (124, [2]), (148, [3])], [(12, [(2, 0.5723707), (3, 0.42521572)]), (18, [(2, 0.999911)]), (19, [(2, 0.3367795), (3, 0.66153765)]), (26, [(2, 0.4685998), (3, 0.53006274)]), (35, [(3, 1.9993492)]), (38, [(3, 0.99984527)]), (47, [(2, 0.92450213), (3, 0.07534132)]), (49, [(2, 0.99994284)]), (51, [(2, 0.12390154), (3, 0.8758996)]), (60, [(2, 0.9995587)]), (74, [(2, 0.9998856)]), (124, [(2, 0.99980366)]), (148, [(3, 0.99876446)])])\n",
      "([(0, 0.017092654), (1, 0.16309722), (2, 0.01686072), (3, 0.66880673), (4, 0.13414274)], [(6, [3, 4]), (12, [3]), (19, [3, 1, 4]), (26, [3, 1, 4]), (35, [3]), (40, [3, 1]), (42, [3, 1]), (51, [3, 1, 4]), (57, [3, 1, 4]), (91, [4]), (93, [1])], [(6, [(3, 0.8836793), (4, 0.11078422)]), (12, [(3, 0.99409133)]), (19, [(1, 0.2241702), (3, 0.65179837), (4, 0.12381697)]), (26, [(1, 0.22021909), (3, 0.65396893), (4, 0.12544325)]), (35, [(3, 0.9997873)]), (40, [(1, 0.06835837), (3, 0.93162066)]), (42, [(1, 0.03578304), (3, 0.9642038)]), (51, [(1, 0.024701286), (3, 0.9556552), (4, 0.01955693)]), (57, [(1, 0.17786586), (3, 0.7909657), (4, 0.030794568)]), (91, [(4, 0.9991336)]), (93, [(1, 0.99924934)])])\n",
      "([(0, 0.020000873), (1, 0.4892562), (2, 0.45036355), (3, 0.020354826), (4, 0.020024573)], [(10, [2]), (31, [1]), (47, [2, 1]), (52, [2]), (57, [1, 2]), (93, [1, 2]), (119, [1]), (124, [2]), (166, [1])], [(10, [(2, 0.9998756)]), (31, [(1, 0.99991316)]), (47, [(1, 0.14463043), (2, 0.85518366)]), (52, [(2, 0.99959296)]), (57, [(1, 0.6575105), (2, 0.34158728)]), (93, [(1, 0.89435804), (2, 0.10563785)]), (119, [(1, 0.99612254)]), (124, [(2, 0.99932146)]), (166, [(1, 0.99919385)])])\n",
      "([(0, 0.018227618), (1, 0.01872899), (2, 0.7920478), (3, 0.018340526), (4, 0.15265507)], [(18, [2]), (19, [2, 4]), (26, [2, 4]), (43, [2]), (55, [4]), (59, [2]), (74, [2]), (105, [2]), (110, [2]), (182, [2])], [(18, [(2, 0.99997497)]), (19, [(2, 0.70613956), (4, 0.29086193)]), (26, [(2, 0.80519927), (4, 0.19285871)]), (43, [(2, 0.9993783)]), (55, [(4, 0.99612033)]), (59, [(2, 0.9999473)]), (74, [(2, 0.9999679)]), (105, [(2, 0.9999575)]), (110, [(2, 0.9999296)]), (182, [(2, 0.9999296)])])\n",
      "([(0, 0.016692486), (1, 0.19637819), (2, 0.105284475), (3, 0.01676004), (4, 0.6648848)], [(8, [4]), (16, [1, 2]), (88, [4]), (89, [4]), (90, [4]), (91, [4]), (92, [4]), (93, [1, 2]), (94, [2]), (95, [4, 1]), (96, [4, 1])], [(8, [(4, 0.99960667)]), (16, [(1, 0.98149985), (2, 0.0179561)]), (88, [(4, 0.9997828)]), (89, [(4, 0.999854)]), (90, [(4, 0.99990606)]), (91, [(4, 0.9999114)]), (92, [(4, 0.9997828)]), (93, [(1, 0.9468923), (2, 0.052857168)]), (94, [(2, 0.9922034)]), (95, [(1, 0.13394532), (4, 0.86536795)]), (96, [(1, 0.091110416), (4, 0.9086782)])])\n",
      "([(0, 0.014678426), (1, 0.014646207), (2, 0.48215014), (3, 0.47423), (4, 0.014295235)], [(10, [2]), (12, [2, 3]), (35, [3]), (38, [3]), (40, [3]), (57, [3, 2]), (105, [2]), (106, [2]), (107, [2]), (128, [2, 3])], [(10, [(2, 0.99995536)]), (12, [(2, 0.544992), (3, 0.45223424)]), (35, [(3, 2.9990022)]), (38, [(3, 0.9998611)]), (40, [(3, 0.9993907)]), (57, [(2, 0.39796332), (3, 0.60126007)]), (105, [(2, 0.9998271)]), (106, [(2, 0.9995536)]), (107, [(2, 0.99722755)]), (128, [(2, 1.6100284), (3, 0.38585514)])])\n",
      "([(0, 0.018182348), (1, 0.018211542), (2, 0.018182246), (3, 0.01832661), (4, 0.92709726)], [(9, [4]), (21, [4]), (23, [4]), (27, [4]), (88, [4]), (90, [4]), (91, [4]), (92, [4]), (95, [4]), (179, [4])], [(9, [(4, 0.9990519)]), (21, [(4, 0.99988735)]), (23, [(4, 0.99999756)]), (27, [(4, 0.9999955)]), (88, [(4, 0.9999884)]), (90, [(4, 0.99999505)]), (91, [(4, 0.99999523)]), (92, [(4, 0.9999884)]), (95, [(4, 0.9991724)]), (179, [(4, 0.9999779)])])\n",
      "([(0, 0.016713673), (1, 0.68773687), (2, 0.0167159), (3, 0.26203373), (4, 0.016799822)], [(16, [1]), (31, [1]), (35, [3]), (38, [3]), (46, [1]), (51, [3, 1]), (66, [1, 3]), (93, [1]), (96, [1, 3]), (133, [1]), (166, [1])], [(16, [(1, 0.99329615)]), (31, [(1, 0.9999883)]), (35, [(3, 0.9993253)]), (38, [(3, 0.99966896)]), (46, [(1, 0.999947)]), (51, [(1, 0.27661952), (3, 0.7230104)]), (66, [(1, 0.9721771), (3, 0.027800053)]), (93, [(1, 0.9998967)]), (96, [(1, 0.8111281), (3, 0.18747914)]), (133, [(1, 0.9996173)]), (166, [(1, 0.99989784)])])\n",
      "([(0, 0.018182794), (1, 0.01865618), (2, 0.018182619), (3, 0.37050527), (4, 0.5744731)], [(0, [4]), (1, [3]), (2, [3, 4]), (3, [4, 3]), (4, [4, 3]), (5, [4, 3]), (6, [4, 3]), (7, [4, 3]), (8, [4, 3]), (9, [3, 4])], [(0, [(4, 0.999863)]), (1, [(3, 0.9926435)]), (2, [(3, 0.8436112), (4, 0.15608558)]), (3, [(3, 0.12423887), (4, 0.8757541)]), (4, [(3, 0.039858915), (4, 0.9601297)]), (5, [(3, 0.24377455), (4, 0.75622153)]), (6, [(3, 0.42719844), (4, 0.5727762)]), (7, [(3, 0.45396978), (4, 0.5460255)]), (8, [(3, 0.23597378), (4, 0.76402336)]), (9, [(3, 0.5152457), (4, 0.48474398)])])\n",
      "([(0, 0.016957833), (1, 0.016860373), (2, 0.016790353), (3, 0.6090669), (4, 0.3403245)], [(3, [4, 3]), (22, [3, 4]), (40, [3]), (42, [3]), (50, [3]), (51, [3, 4]), (54, [4]), (55, [4]), (62, [3]), (71, [3]), (100, [4])], [(3, [(3, 0.3039876), (4, 0.696003)]), (22, [(3, 0.87721115), (4, 0.1226325)]), (40, [(3, 0.99964297)]), (42, [(3, 0.9998126)]), (50, [(3, 0.99972016)]), (51, [(3, 0.93345404), (4, 0.066358276)]), (54, [(4, 0.99926984)]), (55, [(4, 0.999059)]), (62, [(3, 0.99463326)]), (71, [(3, 0.99982554)]), (100, [(4, 0.99980766)])])\n",
      "([(0, 0.3202221), (1, 0.18208715), (2, 0.020241255), (3, 0.45716718), (4, 0.020282341)], [(8, [3]), (40, [3, 1]), (42, [3, 1]), (51, [3, 1]), (80, [3, 1]), (99, [0]), (133, [1]), (170, [0]), (171, [0])], [(8, [(3, 0.9970399)]), (40, [(1, 0.10964155), (3, 0.89014846)]), (42, [(1, 0.058636233), (3, 0.9412338)]), (51, [(1, 0.04156751), (3, 0.9580221)]), (80, [(1, 0.4142634), (3, 0.58419156)]), (99, [(0, 0.9998394)]), (133, [(1, 0.99562365)]), (170, [(0, 0.99941474)]), (171, [(0, 0.99946266)])])\n",
      "([(0, 0.0142861), (1, 0.53087103), (2, 0.014327923), (3, 0.014432964), (4, 0.426082)], [(0, [4, 1]), (6, [4, 1]), (19, [1, 4]), (24, [1]), (25, [1]), (26, [1, 4]), (28, [1]), (32, [1]), (54, [4, 1]), (55, [4, 1]), (75, [4, 1]), (80, [1]), (100, [4])], [(0, [(1, 0.11081906), (4, 0.889175)]), (6, [(1, 0.046473823), (4, 0.9523956)]), (19, [(1, 0.6386034), (4, 0.36099014)]), (24, [(1, 0.9999458)]), (25, [(1, 0.99994415)]), (26, [(1, 0.6314035), (4, 0.36809602)]), (28, [(1, 0.99989724)]), (32, [(1, 0.9997873)]), (54, [(1, 0.33782154), (4, 0.6621738)]), (55, [(1, 0.41019443), (4, 0.58980185)]), (75, [(1, 0.057798706), (4, 0.94218665)]), (80, [(1, 0.9990518)]), (100, [(4, 0.9996929)])])\n",
      "([(0, 0.022257695), (1, 0.6534554), (2, 0.27931198), (3, 0.022739653), (4, 0.022235328)], [(31, [1]), (50, [1]), (80, [1, 2]), (82, [2]), (83, [2]), (93, [1, 2]), (128, [1, 2]), (132, [1, 2])], [(31, [(1, 0.99996305)]), (50, [(1, 0.9954147)]), (80, [(1, 0.88459617), (2, 0.11495133)]), (82, [(2, 0.9993905)]), (83, [(2, 0.9985308)]), (93, [(1, 0.9533878), (2, 0.046608876)]), (128, [(1, 0.8785679), (2, 0.12133777)]), (132, [(1, 0.9675304), (2, 0.032339588)])])\n",
      "([(0, 0.016737925), (1, 0.10606438), (2, 0.016667586), (3, 0.01706715), (4, 0.84346294)], [(1, [1]), (5, [4]), (6, [4]), (8, [4]), (23, [4]), (34, [4]), (54, [4, 1]), (55, [4, 1]), (89, [4]), (90, [4]), (91, [4])], [(1, [(1, 0.9916562)]), (5, [(4, 0.9996728)]), (6, [(4, 0.9960212)]), (8, [(4, 0.9996906)]), (23, [(4, 0.9999874)]), (34, [(4, 0.99778724)]), (54, [(1, 0.03307748), (4, 0.9669192)]), (55, [(1, 0.0445568), (4, 0.9554401)]), (89, [(4, 0.99996156)]), (90, [(4, 0.9999753)]), (91, [(4, 0.9999769)])])\n",
      "([(0, 0.016667195), (1, 0.016982233), (2, 0.016810764), (3, 0.017154029), (4, 0.9323858)], [(0, [4]), (4, [4]), (7, [4]), (9, [4]), (19, [4]), (26, [4]), (33, [4]), (41, [4]), (57, [4]), (121, [4]), (150, [4])], [(0, [(4, 0.99994594)]), (4, [(4, 0.9999561)]), (7, [(4, 0.99925536)]), (9, [(4, 0.9990421)]), (19, [(4, 0.99865496)]), (26, [(4, 0.99855435)]), (33, [(4, 0.9999888)]), (41, [(4, 0.9999888)]), (57, [(4, 0.9942994)]), (121, [(4, 0.9989381)]), (150, [(4, 0.99999005)])])\n",
      "([(0, 0.018182168), (1, 0.018235575), (2, 0.018182103), (3, 0.018317), (4, 0.92708313)], [(0, [4]), (3, [4]), (7, [4]), (23, [4]), (27, [4]), (64, [4]), (89, [4]), (95, [4]), (96, [4]), (100, [4])], [(0, [(4, 0.99994504)]), (3, [(4, 0.99987084)]), (7, [(4, 0.99926513)]), (23, [(4, 0.99999756)]), (27, [(4, 0.9999954)]), (64, [(4, 0.9999928)]), (89, [(4, 0.9999924)]), (95, [(4, 0.99917156)]), (96, [(4, 0.9996375)]), (100, [(4, 0.9999948)])])\n",
      "([(0, 0.016667776), (1, 0.19250329), (2, 0.1070747), (3, 0.31287527), (4, 0.37087896)], [(3, [4, 3]), (13, [2]), (19, [4, 3, 1, 2]), (22, [3, 4, 1]), (26, [4, 3, 1, 2]), (40, [3, 1]), (42, [3, 1]), (55, [4, 1]), (75, [4, 1]), (81, [4, 3]), (123, [1])], [(3, [(3, 0.15958947), (4, 0.8396768)]), (13, [(2, 0.99837697)]), (19, [(1, 0.27119926), (2, 0.031511497), (3, 0.27709207), (4, 0.42019057)]), (22, [(1, 0.085186884), (3, 0.69234496), (4, 0.22242138)]), (26, [(1, 0.25990766), (2, 0.053561177), (3, 0.27121985), (4, 0.41530478)]), (40, [(1, 0.17271064), (3, 0.82711655)]), (42, [(1, 0.09551164), (3, 0.9043741)]), (55, [(1, 0.20237152), (4, 0.79755276)]), (75, [(1, 0.02188693), (4, 0.9779066)]), (81, [(3, 0.42303023), (4, 0.5759127)]), (123, [(1, 0.9983675)])])\n",
      "([(0, 0.018235506), (1, 0.560957), (2, 0.111035675), (3, 0.29149562), (4, 0.018276181)], [(16, [1]), (24, [1]), (25, [1]), (31, [1]), (35, [3]), (38, [3]), (82, [2]), (93, [1, 2]), (121, [3]), (164, [1])], [(16, [(1, 0.9850799)]), (24, [(1, 0.99995506)]), (25, [(1, 0.99995375)]), (31, [(1, 0.9999717)]), (35, [(3, 0.99936336)]), (38, [(3, 0.9997245)]), (82, [(2, 0.99802023)]), (93, [(1, 0.9827282), (2, 0.017247798)]), (121, [(3, 0.99770224)]), (164, [(1, 0.9996672)])])\n",
      "([(0, 0.022422059), (1, 0.80002236), (2, 0.13311048), (3, 0.02222253), (4, 0.022222577)], [(17, [2]), (28, [1]), (29, [1]), (30, [1]), (31, [1]), (32, [1]), (53, [1])], [(17, [(2, 0.99766856)]), (28, [(1, 0.99996316)]), (29, [(1, 1.9999098)]), (30, [(1, 0.9992788)]), (31, [(1, 0.99998796)]), (32, [(1, 0.9999252)]), (53, [(1, 0.9998804)])])\n",
      "([(0, 0.020015301), (1, 0.02009444), (2, 0.020007681), (3, 0.91965896), (4, 0.020223636)], [(6, [3]), (8, [3]), (9, [3]), (35, [3]), (38, [3]), (42, [3]), (51, [3]), (71, [3]), (180, [3])], [(6, [(3, 0.9994708)]), (8, [(3, 0.9987718)]), (9, [(3, 0.9996366)]), (35, [(3, 0.9998513)]), (38, [(3, 0.9999976)]), (42, [(3, 0.99988544)]), (51, [(3, 0.9997655)]), (71, [(3, 0.99998754)]), (180, [(3, 0.9992133)])])\n",
      "([(0, 0.016754694), (1, 0.10966384), (2, 0.016687768), (3, 0.016787652), (4, 0.84010607)], [(0, [4]), (3, [4]), (5, [4]), (8, [4]), (16, [1]), (54, [4, 1]), (55, [4, 1]), (56, [4, 1]), (64, [4]), (89, [4]), (100, [4])], [(0, [(4, 0.99125755)]), (3, [(4, 0.99971133)]), (5, [(4, 0.9996963)]), (8, [(4, 0.99971324)]), (16, [(1, 0.9984075)]), (54, [(1, 0.034831714), (4, 0.96516496)]), (55, [(1, 0.046890315), (4, 0.95310676)]), (56, [(1, 0.026776366), (4, 0.9721713)]), (64, [(4, 0.9999631)]), (89, [(4, 0.9999599)]), (100, [(4, 0.9999735)])])\n",
      "([(0, 0.014286485), (1, 0.46777323), (2, 0.0143316835), (3, 0.22024146), (4, 0.28336713)], [(2, [3, 1, 4]), (4, [4, 3]), (19, [1, 4, 3]), (24, [1]), (25, [1]), (26, [1, 4, 3]), (51, [3, 1, 4]), (54, [4, 1]), (55, [4, 1]), (73, [3]), (89, [4]), (93, [1]), (180, [1, 3])], [(2, [(1, 0.30073798), (3, 0.6067341), (4, 0.09250947)]), (4, [(3, 0.04793344), (4, 0.95150346)]), (19, [(1, 0.60318696), (3, 0.14833494), (4, 0.24834181)]), (24, [(1, 0.9999399)]), (25, [(1, 0.99993795)]), (26, [(1, 0.5965994), (3, 0.1498446), (4, 0.25332072)]), (51, [(1, 0.20562674), (3, 0.6728487), (4, 0.12135463)]), (54, [(1, 0.4119086), (4, 0.5880568)]), (55, [(1, 0.48844635), (4, 0.51152515)]), (73, [(3, 0.99897045)]), (89, [(4, 0.9992569)]), (93, [(1, 0.9998309)]), (180, [(1, 0.7415257), (3, 0.2579432)])])\n",
      "([(0, 0.018182626), (1, 0.34939766), (2, 0.018229995), (3, 0.018645013), (4, 0.5955447)], [(0, [4, 1]), (5, [4]), (8, [4]), (21, [4]), (22, [4, 1]), (31, [1]), (75, [4, 1]), (80, [1]), (95, [4, 1]), (101, [1])], [(0, [(1, 0.051643528), (4, 0.94835186)]), (5, [(4, 0.99941117)]), (8, [(4, 0.99945766)]), (21, [(4, 0.99968123)]), (22, [(1, 0.31367323), (4, 0.6838619)]), (31, [(1, 0.9999263)]), (75, [(1, 0.02610406), (4, 0.97388506)]), (80, [(1, 0.9979244)]), (95, [(1, 0.25449646), (4, 0.74484766)]), (101, [(1, 0.99929154)])])\n",
      "([(0, 0.015417227), (1, 0.9383601), (2, 0.015415558), (3, 0.01541487), (4, 0.015392235)], [(16, [1]), (24, [1]), (25, [1]), (29, [1]), (30, [1]), (31, [1]), (32, [1]), (44, [1]), (46, [1]), (57, [1]), (87, [1]), (93, [1])], [(16, [(1, 0.99992377)]), (24, [(1, 0.9999975)]), (25, [(1, 0.9999975)]), (29, [(1, 0.9999942)]), (30, [(1, 0.99962485)]), (31, [(1, 0.9999985)]), (32, [(1, 0.99999017)]), (44, [(1, 0.9999102)]), (46, [(1, 0.9999828)]), (57, [(1, 0.9992675)]), (87, [(1, 0.99999243)]), (93, [(1, 0.99994135)])])\n",
      "([(0, 0.016704025), (1, 0.016850049), (2, 0.016720762), (3, 0.93245363), (4, 0.017271595)], [(3, [3]), (5, [3]), (6, [3]), (8, [3]), (19, [3]), (22, [3]), (26, [3]), (34, [3]), (40, [3]), (42, [3]), (51, [3])], [(3, [(3, 0.997524)]), (5, [(3, 0.99891144)]), (6, [(3, 0.9995129)]), (8, [(3, 0.9988658)]), (19, [(3, 0.9981992)]), (22, [(3, 0.9997365)]), (26, [(3, 0.9980527)]), (34, [(3, 0.99920905)]), (40, [(3, 0.99980974)]), (42, [(3, 0.9999035)]), (51, [(3, 0.99979705)])])\n",
      "([(0, 0.020009179), (1, 0.6957529), (2, 0.020083519), (3, 0.24397291), (4, 0.020181473)], [(1, [1, 3]), (9, [3]), (16, [1]), (24, [1]), (25, [1]), (51, [3, 1]), (119, [1, 3]), (128, [1, 3])], [(1, [(1, 0.9083928), (3, 0.0915878)]), (9, [(3, 0.9972509)]), (16, [(1, 0.99403435)]), (24, [(1, 0.99998325)]), (25, [(1, 0.99998266)]), (51, [(1, 0.3017695), (3, 0.69774395)]), (119, [(1, 0.6062769), (3, 0.39370555)]), (128, [(1, 1.9466964), (3, 0.052711394)])])\n",
      "([(0, 0.033375088), (1, 0.033333633), (2, 0.8666242), (3, 0.03333352), (4, 0.03333355)], [(17, [2]), (59, [2]), (112, [2]), (130, [2]), (146, [2])], [(17, [(2, 0.99982804)]), (59, [(2, 0.9999192)]), (112, [(2, 0.9999926)]), (130, [(2, 0.9999948)]), (146, [(2, 0.9999922)])])\n",
      "([(0, 0.13651074), (1, 0.018314352), (2, 0.11016718), (3, 0.7164988), (4, 0.018508896)], [(3, [3]), (22, [3]), (51, [3, 2]), (76, [3]), (97, [3, 0]), (105, [2]), (118, [0]), (119, [3]), (120, [3])], [(3, [(3, 0.99645257)]), (22, [(3, 0.99957687)]), (51, [(2, 0.012637704), (3, 0.9871518)]), (76, [(3, 0.99886906)]), (97, [(0, 0.30003735), (3, 0.69900423)]), (105, [(2, 0.9973962)]), (118, [(0, 0.99830407)]), (119, [(3, 0.9994876)]), (120, [(3, 1.9981892)])])\n",
      "([(0, 0.028572043), (1, 0.029027155), (2, 0.02857193), (3, 0.34511304), (4, 0.5687158)], [(8, [4, 3]), (40, [3]), (42, [3]), (54, [4]), (55, [4]), (75, [4])], [(8, [(3, 0.21762833), (4, 0.7823685)]), (40, [(3, 0.9987369)]), (42, [(3, 0.999338)]), (54, [(4, 0.9993278)]), (55, [(4, 0.99910104)]), (75, [(4, 0.9998387)])])\n",
      "([(0, 0.34845218), (1, 0.020030435), (2, 0.020036472), (3, 0.5914095), (4, 0.020071449)], [(12, [0, 3]), (35, [3, 0]), (38, [3]), (51, [3]), (56, [3, 0]), (158, [0]), (176, [3]), (178, [0])], [(12, [(0, 0.7812769), (3, 0.2184763)]), (35, [(0, 0.2456301), (3, 1.7543663)]), (38, [(3, 0.9998907)]), (51, [(3, 0.9995617)]), (56, [(0, 0.25656798), (3, 0.74265766)]), (158, [(0, 0.99983484)]), (176, [(3, 0.9988632)]), (178, [(0, 0.99961823)])])\n",
      "([(0, 0.020486085), (1, 0.020350147), (2, 0.75516605), (3, 0.18375023), (4, 0.02024744)], [(10, [2]), (12, [2, 3]), (13, [2]), (19, [2, 3]), (26, [2, 3]), (35, [3]), (105, [2]), (106, [2])], [(10, [(2, 1.9999782)]), (12, [(2, 0.8561631), (3, 0.14003865)]), (13, [(2, 0.9999755)]), (19, [(2, 0.6955629), (3, 0.3008187)]), (26, [(2, 0.7987093), (3, 0.19891772)]), (35, [(3, 0.99847394)]), (105, [(2, 0.9999582)]), (106, [(2, 0.99989176)])])\n",
      "([(0, 0.018213125), (1, 0.5513588), (2, 0.018306524), (3, 0.39376944), (4, 0.018352129)], [(35, [3]), (38, [3]), (50, [3, 1]), (51, [3, 1]), (87, [1]), (96, [1, 3]), (128, [1, 3]), (133, [1]), (167, [1]), (183, [1, 3])], [(35, [(3, 0.9995706)]), (38, [(3, 0.9998342)]), (50, [(1, 0.27094617), (3, 0.72904426)]), (51, [(1, 0.15978178), (3, 0.8399168)]), (87, [(1, 0.9998924)]), (96, [(1, 0.6815456), (3, 0.316815)]), (128, [(1, 0.941692), (3, 0.05797002)]), (133, [(1, 0.9994072)]), (167, [(1, 0.99900043)]), (183, [(1, 0.8126625), (3, 0.18731917)])])\n",
      "([(0, 0.022296201), (1, 0.4485453), (2, 0.48470458), (3, 0.022231314), (4, 0.022222575)], [(10, [2]), (16, [1, 2]), (17, [2]), (46, [1, 2]), (61, [2]), (86, [2])], [(10, [(2, 0.9998954)]), (16, [(1, 2.8666337), (2, 0.13282324)]), (17, [(2, 0.99966466)]), (46, [(1, 0.96888053), (2, 0.031109747)]), (61, [(2, 0.99950194)]), (86, [(2, 0.9992932)])])\n",
      "([(0, 0.34164706), (1, 0.59140706), (2, 0.022475293), (3, 0.022247652), (4, 0.022222936)], [(16, [1, 0]), (43, [0, 1]), (46, [1]), (123, [1]), (154, [1]), (155, [1, 0]), (162, [0]), (163, [0])], [(16, [(0, 0.05525005), (1, 0.9446834)]), (43, [(0, 0.7688343), (1, 0.22875988)]), (46, [(1, 0.99976206)]), (123, [(1, 0.999406)]), (154, [(1, 0.99894136)]), (155, [(0, 0.051153854), (1, 0.9488297)]), (162, [(0, 0.99869263)]), (163, [(0, 0.99912256)])])\n",
      "([(0, 0.018230714), (1, 0.48484394), (2, 0.4604849), (3, 0.018252121), (4, 0.018188354)], [(16, [1, 2]), (80, [1, 2]), (82, [2]), (83, [2]), (87, [1]), (166, [1]), (167, [1, 2])], [(16, [(1, 0.9613103), (2, 0.038555708)]), (80, [(1, 1.5085043), (2, 0.49070787)]), (82, [(2, 0.999754)]), (83, [(2, 2.9981806)]), (87, [(1, 0.9995479)]), (166, [(1, 0.9991658)]), (167, [(1, 0.6636906), (2, 0.33620545)])])\n",
      "([(0, 0.20351513), (1, 0.013483652), (2, 0.41648012), (3, 0.3530804), (4, 0.013440715)], [(10, [2]), (12, [0, 2, 3]), (13, [2]), (14, [0]), (19, [3, 2]), (26, [3, 2]), (35, [3, 0]), (38, [3]), (59, [2, 0]), (78, [3]), (105, [2]), (106, [2]), (139, [0])], [(10, [(2, 0.9998694)]), (12, [(0, 0.58845294), (2, 0.24132341), (3, 0.17021862)]), (13, [(2, 0.99972194)]), (14, [(0, 0.993001)]), (19, [(2, 0.3482067), (3, 0.6494142)]), (26, [(2, 0.48125488), (3, 0.51686364)]), (35, [(0, 0.23840892), (3, 1.7613966)]), (38, [(3, 0.99973387)]), (59, [(0, 0.031748526), (2, 0.96822757)]), (78, [(3, 0.99768645)]), (105, [(2, 0.9995335)]), (106, [(2, 0.99879426)]), (139, [(0, 0.99803966)])])\n",
      "([(0, 0.10482723), (1, 0.016679728), (2, 0.016667094), (3, 0.01684959), (4, 0.84497637)], [(3, [4]), (5, [4]), (7, [4]), (8, [4]), (21, [4]), (23, [4]), (56, [4, 0]), (64, [4]), (89, [4]), (90, [4]), (158, [0])], [(3, [(4, 0.9998424)]), (5, [(4, 0.99968624)]), (7, [(4, 0.99921227)]), (8, [(4, 0.99970514)]), (21, [(4, 0.99984753)]), (23, [(4, 0.9999807)]), (56, [(0, 0.059087843), (4, 0.94011825)]), (64, [(4, 0.99994737)]), (89, [(4, 0.9999436)]), (90, [(4, 0.99996316)]), (158, [(0, 0.99855024)])])\n",
      "([(0, 0.016715294), (1, 0.016827712), (2, 0.016724616), (3, 0.22611709), (4, 0.72361535)], [(6, [4, 3]), (8, [4, 3]), (19, [4, 3]), (21, [4, 3]), (23, [4]), (26, [4, 3]), (35, [3]), (51, [3, 4]), (90, [4]), (96, [4, 3]), (100, [4])], [(6, [(3, 0.24820814), (4, 0.7517694)]), (8, [(3, 0.12027843), (4, 0.8797191)]), (19, [(3, 0.17874448), (4, 0.82032317)]), (21, [(3, 0.05146571), (4, 0.9485284)]), (23, [(4, 0.9999843)]), (26, [(3, 0.1773019), (4, 0.82165396)]), (35, [(3, 0.99928516)]), (51, [(3, 0.6688908), (4, 0.3307045)]), (90, [(4, 0.99997073)]), (96, [(3, 0.068377085), (4, 0.9313746)]), (100, [(4, 0.99996793)])])\n",
      "([(0, 0.016667238), (1, 0.01674964), (2, 0.016667157), (3, 0.1216816), (4, 0.8282344)], [(3, [4, 3]), (6, [4, 3]), (7, [4, 3]), (54, [4]), (55, [4]), (77, [4]), (89, [4]), (90, [4]), (91, [4]), (100, [4]), (142, [3])], [(3, [(3, 0.023787012), (4, 0.976208)]), (6, [(3, 0.11355534), (4, 0.8864223)]), (7, [(3, 0.12495764), (4, 0.8750373)]), (54, [(4, 0.99976903)]), (55, [(4, 0.9996896)]), (77, [(4, 0.99997735)]), (89, [(4, 0.9999777)]), (90, [(4, 0.9999855)]), (91, [(4, 0.99998605)]), (100, [(4, 0.9999845)]), (142, [(3, 0.9975446)])])\n",
      "([(0, 0.3811583), (1, 0.01842125), (2, 0.018645212), (3, 0.018200848), (4, 0.56357443)], [(3, [4]), (30, [0]), (54, [4]), (55, [4]), (60, [0]), (64, [4]), (89, [4]), (91, [4]), (102, [0]), (107, [0])], [(3, [(4, 0.99959177)]), (30, [(0, 0.99792236)]), (54, [(4, 0.99945116)]), (55, [(4, 0.9993254)]), (60, [(0, 0.995795)]), (64, [(4, 0.9996377)]), (89, [(4, 0.9996117)]), (91, [(4, 0.999759)]), (102, [(0, 0.9992628)]), (107, [(0, 0.9984851)])])\n",
      "([(0, 0.014333917), (1, 0.09820433), (2, 0.014300173), (3, 0.6423523), (4, 0.23080932)], [(2, [3, 4, 1]), (5, [3, 4]), (6, [3, 4]), (7, [3, 4]), (8, [3, 4]), (16, [1, 3]), (22, [3, 4, 1]), (35, [3]), (38, [3]), (54, [4, 1]), (55, [4, 1]), (122, [3, 4]), (142, [3])], [(2, [(1, 0.021644682), (3, 0.94360936), (4, 0.03473729)]), (5, [(3, 0.61832726), (4, 0.3816474)]), (6, [(3, 0.7872769), (4, 0.21002264)]), (7, [(3, 0.806881), (4, 0.19309843)]), (8, [(3, 0.6081842), (4, 0.39179716)]), (16, [(1, 0.84686583), (3, 0.1522727)]), (22, [(1, 0.021326283), (3, 0.901471), (4, 0.07719796)]), (35, [(3, 0.9998272)]), (38, [(3, 0.9999664)]), (54, [(1, 0.11834292), (4, 0.88146985)]), (55, [(1, 0.15468079), (4, 0.8451489)]), (122, [(3, 0.9848965), (4, 0.015059602)]), (142, [(3, 0.9905917)])])\n",
      "([(0, 0.015526245), (1, 0.015568254), (2, 0.015464817), (3, 0.69965357), (4, 0.2537871)], [(6, [3, 4]), (7, [3, 4]), (8, [3, 4]), (22, [3, 4]), (35, [3]), (38, [3]), (40, [3]), (42, [3]), (51, [3, 4]), (54, [4]), (55, [4]), (104, [3, 4])], [(6, [(3, 0.7873403), (4, 0.2126409)]), (7, [(3, 0.80496913), (4, 0.19502677)]), (8, [(3, 0.6052563), (4, 0.39474007)]), (22, [(3, 0.9201004), (4, 0.07976917)]), (35, [(3, 0.9998311)]), (38, [(3, 0.9999784)]), (40, [(3, 0.9997262)]), (42, [(3, 0.999857)]), (51, [(3, 0.9576298), (4, 0.04221806)]), (54, [(4, 0.99902433)]), (55, [(4, 0.9987568)]), (104, [(3, 0.8198766), (4, 0.17741424)])])\n",
      "([(0, 0.018208584), (1, 0.20700793), (2, 0.018199142), (3, 0.28194386), (4, 0.4746405)], [(7, [4, 3]), (22, [3, 4, 1]), (51, [3, 4, 1]), (54, [4, 1]), (55, [4, 1]), (64, [4]), (73, [3]), (89, [4]), (155, [1]), (165, [1, 4, 3])], [(7, [(3, 0.42763078), (4, 0.57230896)]), (22, [(1, 0.09257221), (3, 0.61357665), (4, 0.29384294)]), (51, [(1, 0.06761365), (3, 0.74964327), (4, 0.18255842)]), (54, [(1, 0.13277183), (4, 0.86719173)]), (55, [(1, 0.17267127), (4, 0.827296)]), (64, [(4, 0.99979436)]), (73, [(3, 0.9994242)]), (89, [(4, 0.9997769)]), (155, [(1, 0.9986823)]), (165, [(1, 0.6114897), (3, 0.110212855), (4, 0.2782333)])])\n",
      "([(0, 0.014632676), (1, 0.014683255), (2, 0.093173765), (3, 0.7174314), (4, 0.16007887)], [(1, [3]), (2, [3, 4]), (12, [3, 2]), (17, [2]), (35, [3]), (38, [3]), (42, [3]), (51, [3, 4, 2]), (54, [4]), (55, [4]), (142, [3]), (176, [3])], [(1, [(3, 0.99759257)]), (2, [(3, 0.9792255), (4, 0.020606859)]), (12, [(2, 0.09485252), (3, 0.9015973)]), (17, [(2, 0.9982432)]), (35, [(3, 1.9996648)]), (38, [(3, 0.9999749)]), (42, [(3, 0.9998568)]), (51, [(2, 0.010671315), (3, 0.96522236), (4, 0.024027446)]), (54, [(4, 0.9982143)]), (55, [(4, 0.9977603)]), (142, [(3, 0.9998573)]), (176, [(3, 0.999787)])])\n",
      "([(0, 0.15363568), (1, 0.01564468), (2, 0.0942651), (3, 0.4632671), (4, 0.27318746)], [(0, [4]), (2, [3, 4]), (11, [0]), (12, [0, 3, 2]), (19, [3, 4, 2]), (22, [3, 4]), (26, [3, 4, 2]), (35, [3, 0]), (40, [3]), (59, [2, 0]), (75, [4]), (95, [3, 4])], [(0, [(4, 0.99955034)]), (2, [(3, 0.94024634), (4, 0.05936035)]), (11, [(0, 0.9996572)]), (12, [(0, 0.6044788), (2, 0.056157194), (3, 0.33930314)]), (19, [(2, 0.035611104), (3, 0.5689118), (4, 0.39438307)]), (22, [(3, 0.87168837), (4, 0.12801664)]), (26, [(2, 0.060035113), (3, 0.55230767), (4, 0.3866141)]), (35, [(0, 0.06520142), (3, 0.9347665)]), (40, [(3, 0.99943185)]), (59, [(0, 0.12640616), (2, 0.87329036)]), (75, [(4, 0.99928015)]), (95, [(3, 0.61591625), (4, 0.38316065)])])\n",
      "([(0, 0.018182268), (1, 0.018201206), (2, 0.018182192), (3, 0.018205842), (4, 0.9272285)], [(3, [4]), (23, [4]), (58, [4]), (77, [4]), (91, [4]), (96, [4]), (143, [4]), (144, [4]), (145, [4]), (150, [4])], [(3, [(4, 0.9998747)]), (23, [(4, 0.99999756)]), (58, [(4, 0.99998474)]), (77, [(4, 0.99999213)]), (91, [(4, 0.99999523)]), (96, [(4, 0.9996443)]), (143, [(4, 0.9999859)]), (144, [(4, 0.99998754)]), (145, [(4, 0.99998987)]), (150, [(4, 0.9999898)])])\n",
      "([(0, 0.022250578), (1, 0.29385394), (2, 0.6394487), (3, 0.022223273), (4, 0.022223435)], [(113, [2]), (116, [2]), (117, [2]), (131, [2, 1]), (152, [2]), (153, [2]), (155, [1]), (161, [1])], [(113, [(2, 0.9998002)]), (116, [(2, 0.999609)]), (117, [(2, 0.9997561)]), (131, [(1, 0.44879907), (2, 0.55116385)]), (152, [(2, 0.9995244)]), (153, [(2, 0.9995244)]), (155, [(1, 0.99815965)]), (161, [(1, 0.9959013)])])\n",
      "([(0, 0.016696874), (1, 0.016680531), (2, 0.01666697), (3, 0.016801588), (4, 0.93315405)], [(6, [4]), (8, [4]), (21, [4]), (23, [4]), (27, [4]), (56, [4]), (88, [4]), (90, [4]), (91, [4]), (92, [4]), (179, [4])], [(6, [(4, 0.99938256)]), (8, [(4, 0.9997511)]), (21, [(4, 0.9998973)]), (23, [(4, 0.99999756)]), (27, [(4, 0.99999565)]), (56, [(4, 0.9988902)]), (88, [(4, 0.9999887)]), (90, [(4, 0.99999505)]), (91, [(4, 0.99999547)]), (92, [(4, 0.9999887)]), (179, [(4, 0.9999782)])])\n",
      "([(0, 0.01459452), (1, 0.27290285), (2, 0.0143577), (3, 0.68326247), (4, 0.014882456)], [(2, [3, 1]), (12, [3]), (35, [3]), (40, [3, 1]), (42, [3, 1]), (48, [3]), (51, [3, 1]), (54, [1]), (55, [1]), (57, [3, 1]), (123, [1]), (142, [3, 1])], [(2, [(1, 0.07250239), (3, 0.927417)]), (12, [(3, 0.9951191)]), (35, [(3, 1.9996358)]), (40, [(1, 0.12036102), (3, 0.87963396)]), (42, [(1, 0.064725764), (3, 0.935271)]), (48, [(3, 0.9998942)]), (51, [(1, 0.04597659), (3, 0.9538655)]), (54, [(1, 0.99491704)]), (55, [(1, 0.9962837)]), (57, [(1, 0.29533127), (3, 0.7042765)]), (123, [(1, 0.9992529)]), (142, [(1, 0.031109603), (3, 0.9688808)])])\n",
      "([(0, 0.016667306), (1, 0.016682895), (2, 0.016667414), (3, 0.016713904), (4, 0.9332684)], [(23, [4]), (77, [4]), (81, [4]), (89, [4]), (90, [4]), (91, [4]), (96, [4]), (144, [4]), (145, [4]), (147, [4]), (149, [4])], [(23, [(4, 0.99999744)]), (77, [(4, 0.99999243)]), (81, [(4, 0.99955255)]), (89, [(4, 0.99999255)]), (90, [(4, 0.99999505)]), (91, [(4, 0.99999535)]), (96, [(4, 0.999676)]), (144, [(4, 0.9999877)]), (145, [(4, 0.9999899)]), (147, [(4, 0.9999634)]), (149, [(4, 0.9999634)])])\n",
      "([(0, 0.040020376), (1, 0.040042397), (2, 0.83989376), (3, 0.040025428), (4, 0.040018056)], [(47, [2]), (49, [2]), (59, [2]), (130, [2])], [(47, [(2, 0.9995697)]), (49, [(2, 0.9999958)]), (59, [(2, 0.99989814)]), (130, [(2, 0.99999446)])])\n",
      "([(0, 0.14156085), (1, 0.018186668), (2, 0.3717204), (3, 0.118993804), (4, 0.34953827)], [(3, [4, 3]), (6, [4, 3]), (10, [2]), (17, [2, 0]), (35, [3, 0]), (39, [4, 3]), (59, [2, 0]), (84, [2, 0]), (91, [4]), (158, [0])], [(3, [(3, 0.05528417), (4, 0.94438887)]), (6, [(3, 0.2352646), (4, 0.76442915)]), (10, [(2, 0.99986786)]), (17, [(0, 0.04535544), (2, 0.9545679)]), (35, [(0, 0.24481751), (3, 0.75478387)]), (39, [(3, 0.06225329), (4, 0.93634045)]), (59, [(0, 0.021806072), (2, 0.9781516)]), (84, [(0, 0.046325356), (2, 0.9534161)]), (91, [(4, 0.9995643)]), (158, [(0, 0.9986595)])])\n",
      "([(0, 0.016686328), (1, 0.4416441), (2, 0.016704882), (3, 0.5081893), (4, 0.016775375)], [(24, [1]), (25, [1]), (31, [1]), (35, [3]), (38, [3]), (51, [3, 1]), (95, [3, 1]), (121, [3]), (122, [3]), (128, [1, 3]), (183, [1, 3])], [(24, [(1, 0.9999434)]), (25, [(1, 0.99994165)]), (31, [(1, 0.99996406)]), (35, [(3, 0.99971455)]), (38, [(3, 0.9999011)]), (51, [(1, 0.10111159), (3, 0.89867127)]), (95, [(1, 0.37234142), (3, 0.6269744)]), (121, [(3, 0.9990458)]), (122, [(3, 0.9996654)]), (128, [(1, 0.90539306), (3, 0.09423726)]), (183, [(1, 0.71954995), (3, 0.2804296)])])\n",
      "([(0, 0.020474602), (1, 0.91888905), (2, 0.020585293), (3, 0.020050768), (4, 0.020000255)], [(16, [1]), (24, [1]), (25, [1]), (29, [1]), (30, [1]), (43, [1]), (46, [1]), (87, [1])], [(16, [(1, 0.99988675)]), (24, [(1, 1.9999946)]), (25, [(1, 0.9999973)]), (29, [(1, 0.99999386)]), (30, [(1, 0.9994391)]), (43, [(1, 0.9896434)]), (46, [(1, 0.9999755)]), (87, [(1, 0.9999919)])])\n",
      "([(0, 0.016957188), (1, 0.016993854), (2, 0.01684019), (3, 0.60925716), (4, 0.33995157)], [(4, [4, 3]), (5, [4, 3]), (6, [3, 4]), (22, [3, 4]), (42, [3]), (50, [3]), (51, [3, 4]), (54, [4]), (55, [4]), (62, [3]), (80, [3])], [(4, [(3, 0.11348224), (4, 0.88649917)]), (5, [(3, 0.49849713), (4, 0.50149816)]), (6, [(3, 0.69694054), (4, 0.30303794)]), (22, [(3, 0.8773752), (4, 0.12246224)]), (42, [(3, 0.99980646)]), (50, [(3, 0.99971205)]), (51, [(3, 0.93354654), (4, 0.06626033)]), (54, [(4, 0.99924374)]), (55, [(4, 0.9990237)]), (62, [(3, 0.9946149)]), (80, [(3, 0.99718297)])])\n",
      "([(0, 0.17240478), (1, 0.028572757), (2, 0.7418778), (3, 0.028572258), (4, 0.028572384)], [(14, [0, 2]), (17, [2, 0]), (116, [2]), (117, [2]), (152, [2]), (153, [2])], [(14, [(0, 0.9812777), (2, 0.018682618)]), (17, [(0, 0.024537606), (2, 0.9754589)]), (116, [(2, 0.9997374)]), (117, [(2, 0.9998394)]), (152, [(2, 0.9996807)]), (153, [(2, 0.9996807)])])\n",
      "([(0, 0.016667044), (1, 0.016778734), (2, 0.016705852), (3, 0.01691988), (4, 0.93292844)], [(3, [4]), (7, [4]), (9, [4]), (19, [4]), (23, [4]), (26, [4]), (64, [4]), (81, [4]), (90, [4]), (100, [4]), (144, [4])], [(3, [(4, 0.999878)]), (7, [(4, 0.9993063)]), (9, [(4, 0.99910724)]), (19, [(4, 0.9987353)]), (23, [(4, 0.99999744)]), (26, [(4, 0.998637)]), (64, [(4, 0.9999929)]), (81, [(4, 0.9995243)]), (90, [(4, 0.99999505)]), (100, [(4, 0.99999493)]), (144, [(4, 0.9999877)])])\n",
      "([(0, 0.26517344), (1, 0.36511943), (2, 0.018494429), (3, 0.33277735), (4, 0.018435352)], [(9, [3]), (51, [3, 1]), (57, [1, 3]), (70, [0]), (93, [1]), (95, [3, 1]), (104, [0, 3]), (107, [0]), (128, [1, 3]), (183, [1, 3])], [(9, [(3, 0.9981019)]), (51, [(1, 0.12720254), (3, 0.8723214)]), (57, [(1, 0.5587084), (3, 0.44040206)]), (70, [(0, 0.9996912)]), (93, [(1, 0.9996253)]), (95, [(1, 0.43406197), (3, 0.5639506)]), (104, [(0, 0.7171528), (3, 0.28064698)]), (107, [(0, 0.99712896)]), (128, [(1, 0.9247289), (3, 0.07426441)]), (183, [(1, 0.7683809), (3, 0.23105764)])])\n",
      "([(0, 0.015412774), (1, 0.74631596), (2, 0.20688064), (3, 0.01590225), (4, 0.015488381)], [(13, [2]), (17, [2]), (19, [1, 2]), (24, [1]), (25, [1]), (26, [1, 2]), (28, [1]), (31, [1]), (51, [1, 2]), (57, [1, 2]), (93, [1, 2]), (119, [1])], [(13, [(2, 0.9988993)]), (17, [(2, 0.9990681)]), (19, [(1, 0.94135165), (2, 0.057909466)]), (24, [(1, 0.9999621)]), (25, [(1, 0.99996084)]), (26, [(1, 0.9009726), (2, 0.0983014)]), (28, [(1, 0.999927)]), (31, [(1, 0.999976)]), (51, [(1, 0.8110297), (2, 0.18446416)]), (57, [(1, 0.8792454), (2, 0.12013468)]), (93, [(1, 0.9698686), (2, 0.030128695)]), (119, [(1, 0.9982793)])])\n",
      "([(0, 0.018607823), (1, 0.110822976), (2, 0.018182315), (3, 0.8339667), (4, 0.018420273)], [(5, [3]), (8, [3]), (22, [3, 1]), (31, [1]), (35, [3]), (38, [3]), (78, [3]), (115, [3]), (122, [3])], [(5, [(3, 0.99877954)]), (8, [(3, 0.99873596)]), (22, [(1, 0.01902175), (3, 0.98081243)]), (31, [(1, 0.99966335)]), (35, [(3, 1.9996539)]), (38, [(3, 0.99998766)]), (78, [(3, 0.99989057)]), (115, [(3, 0.9954953)]), (122, [(3, 0.9999343)])])\n",
      "([(0, 0.37201422), (1, 0.18793708), (2, 0.015168334), (3, 0.01500178), (4, 0.40987858)], [(8, [4]), (11, [0]), (12, [0]), (33, [4]), (39, [4]), (41, [4]), (45, [1, 4]), (47, [4, 1, 2]), (51, [4, 1]), (80, [1]), (118, [0]), (171, [0])], [(8, [(4, 0.9991706)]), (11, [(0, 1.999767)]), (12, [(0, 0.9994315)]), (33, [(4, 0.9989554)]), (39, [(4, 0.99796253)]), (41, [(4, 0.9989554)]), (45, [(1, 0.6694396), (4, 0.32857484)]), (47, [(1, 0.48425066), (2, 0.010012863), (4, 0.5029746)]), (51, [(1, 0.28290755), (4, 0.7091254)]), (80, [(1, 0.99400496)]), (118, [(0, 0.99950826)]), (171, [(0, 0.9994705)])])\n",
      "([(0, 0.016666904), (1, 0.01682173), (2, 0.016742961), (3, 0.017244706), (4, 0.9325237)], [(3, [4]), (5, [4]), (6, [4]), (8, [4]), (19, [4]), (21, [4]), (23, [4]), (26, [4]), (51, [4]), (91, [4]), (100, [4])], [(3, [(4, 0.9998657)]), (5, [(4, 0.9997023)]), (6, [(4, 0.99929583)]), (8, [(4, 0.99971545)]), (19, [(4, 0.9986818)]), (21, [(4, 0.9998832)]), (23, [(4, 0.99999756)]), (26, [(4, 0.99858296)]), (51, [(4, 0.99490976)]), (91, [(4, 0.99999535)]), (100, [(4, 0.99999493)])])\n",
      "([(0, 0.018470336), (1, 0.018183423), (2, 0.018827619), (3, 0.018203232), (4, 0.92631537)], [(3, [4]), (21, [4]), (27, [4]), (64, [4]), (77, [4]), (89, [4]), (90, [4]), (100, [4]), (125, [4]), (145, [4])], [(3, [(4, 0.99987465)]), (21, [(4, 0.999891)]), (27, [(4, 0.99999547)]), (64, [(4, 0.9999928)]), (77, [(4, 0.999992)]), (89, [(4, 0.99999225)]), (90, [(4, 0.99999493)]), (100, [(4, 0.9999948)]), (125, [(4, 0.9897704)]), (145, [(4, 0.99998987)])])\n",
      "([(0, 0.01698455), (1, 0.93258256), (2, 0.017052356), (3, 0.016706863), (4, 0.016673716)], [(16, [1]), (24, [1]), (25, [1]), (29, [1]), (30, [1]), (43, [1]), (46, [1]), (87, [1]), (123, [1]), (165, [1])], [(16, [(1, 1.9998195)]), (24, [(1, 0.9999975)]), (25, [(1, 0.9999975)]), (29, [(1, 0.99999404)]), (30, [(1, 0.9995533)]), (43, [(1, 0.99177504)]), (46, [(1, 0.99997985)]), (87, [(1, 0.99999213)]), (123, [(1, 0.9999862)]), (165, [(1, 0.9998396)])])\n",
      "([(0, 0.015720554), (1, 0.015570604), (2, 0.015913948), (3, 0.79024965), (4, 0.16254526)], [(3, [3, 4]), (6, [3, 4]), (19, [3, 4]), (23, [4]), (26, [3, 4]), (35, [3]), (38, [3]), (43, [3]), (51, [3, 4]), (71, [3]), (148, [3]), (175, [3])], [(3, [(3, 0.5790753), (4, 0.42091137)]), (6, [(3, 0.87852025), (4, 0.12146132)]), (19, [(3, 0.82594365), (4, 0.1730296)]), (23, [(4, 0.99971193)]), (26, [(3, 0.82442534), (4, 0.17439923)]), (35, [(3, 0.99984646)]), (38, [(3, 0.9999877)]), (43, [(3, 0.9887111)]), (51, [(3, 0.9777859), (4, 0.022067152)]), (71, [(3, 0.99993634)]), (148, [(3, 0.999805)]), (175, [(3, 0.9998882)])])\n",
      "([(0, 0.20404236), (1, 0.14357512), (2, 0.4072524), (3, 0.22007984), (4, 0.025050258)], [(35, [3, 0]), (46, [1, 2]), (51, [3, 2, 1]), (59, [2, 0]), (60, [2, 0]), (70, [0]), (84, [2, 0])], [(35, [(0, 0.1860319), (3, 0.8137791)]), (46, [(1, 0.89502585), (2, 0.10425331)]), (51, [(1, 0.05313424), (2, 0.19952333), (3, 0.7468559)]), (59, [(0, 0.029959), (2, 0.9700091)]), (60, [(0, 0.15261288), (2, 0.8472675)]), (70, [(0, 0.9993505)]), (84, [(0, 0.06305825), (2, 0.93675363)])])\n",
      "([(0, 0.022289991), (1, 0.022260146), (2, 0.9109503), (3, 0.022277182), (4, 0.022222439)], [(10, [2]), (17, [2]), (18, [2]), (43, [2]), (72, [2]), (74, [2]), (113, [2])], [(10, [(2, 0.9999975)]), (17, [(2, 0.9998931)]), (18, [(2, 1.9999892)]), (43, [(2, 0.99937016)]), (72, [(2, 0.9993005)]), (74, [(2, 0.9999929)]), (113, [(2, 0.99998945)])])\n",
      "([(0, 0.018567612), (1, 0.01843608), (2, 0.018183121), (3, 0.48405525), (4, 0.4607579)], [(0, [4]), (9, [3, 4]), (35, [3]), (55, [4]), (56, [3, 4]), (75, [4]), (81, [4, 3]), (95, [4, 3]), (97, [3]), (122, [3, 4])], [(0, [(4, 0.9998178)]), (9, [(3, 0.6457532), (4, 0.35423708)]), (35, [(3, 0.99966973)]), (55, [(4, 0.9992798)]), (56, [(3, 0.5599301), (4, 0.4394902)]), (75, [(4, 0.99978906)]), (81, [(3, 0.48460525), (4, 0.5153706)]), (95, [(3, 0.4845248), (4, 0.5150748)]), (97, [(3, 0.9933175)]), (122, [(3, 0.9570997), (4, 0.04288705)])])\n",
      "([(0, 0.016746918), (1, 0.79677206), (2, 0.016731136), (3, 0.15290682), (4, 0.016843049)], [(16, [1]), (19, [1, 3]), (24, [1]), (25, [1]), (26, [1, 3]), (31, [1]), (56, [1, 3]), (57, [1, 3]), (87, [1]), (93, [1]), (114, [3, 1])], [(16, [(1, 0.99700385)]), (19, [(1, 0.9201561), (3, 0.0793175)]), (24, [(1, 0.99999046)]), (25, [(1, 0.99999017)]), (26, [(1, 0.9184954), (3, 0.08086327)]), (31, [(1, 0.999994)]), (56, [(1, 0.6271774), (3, 0.3707114)]), (57, [(1, 0.8831582), (3, 0.1164329)]), (87, [(1, 0.9999704)]), (93, [(1, 0.9999173)]), (114, [(1, 0.01557138), (3, 0.9840526)])])\n",
      "([(0, 0.020072816), (1, 0.13778456), (2, 0.020011215), (3, 0.6373234), (4, 0.18480805)], [(5, [3, 4]), (6, [3, 4]), (22, [3, 4, 1]), (34, [3, 4]), (40, [3, 1]), (50, [3, 1]), (51, [3, 4, 1]), (75, [4, 1]), (101, [1])], [(5, [(3, 0.6909606), (4, 0.30900076)]), (6, [(3, 0.8345455), (4, 0.16130614)]), (22, [(1, 0.031281132), (3, 0.91212016), (4, 0.05659375)]), (34, [(3, 0.8772569), (4, 0.121675916)]), (40, [(1, 0.054998547), (3, 0.9449713)]), (50, [(1, 0.038509216), (3, 0.9614534)]), (51, [(1, 0.019485675), (3, 0.9504235), (4, 0.02998709)]), (75, [(1, 0.031271167), (4, 0.96814156)]), (101, [(1, 0.99775726)])])\n",
      "([(0, 0.020044329), (1, 0.39159703), (2, 0.54799765), (3, 0.020193316), (4, 0.020167612)], [(13, [2]), (19, [1, 2]), (26, [1, 2]), (31, [1]), (57, [1, 2]), (60, [2]), (93, [1, 2]), (105, [2]), (124, [2])], [(13, [(2, 0.9998137)]), (19, [(1, 0.7271296), (2, 0.27141613)]), (26, [(1, 0.60093313), (2, 0.39783272)]), (31, [(1, 0.9998622)]), (57, [(1, 0.54621685), (2, 0.45284504)]), (60, [(2, 0.9993525)]), (93, [(1, 0.841398), (2, 0.15859704)]), (105, [(2, 0.9997023)]), (124, [(2, 0.9995705)])])\n",
      "([(0, 0.016675055), (1, 0.5405564), (2, 0.017059691), (3, 0.017038014), (4, 0.40867084)], [(3, [4]), (8, [4]), (16, [1]), (22, [1, 4]), (23, [4]), (24, [1]), (25, [1]), (27, [4]), (31, [1]), (47, [1, 4]), (180, [1])], [(3, [(4, 0.9973004)]), (8, [(4, 0.99919784)]), (16, [(1, 0.9998102)]), (22, [(1, 0.52809006), (4, 0.469622)]), (23, [(4, 0.9998362)]), (24, [(1, 0.999949)]), (25, [(1, 0.9999474)]), (27, [(4, 0.999671)]), (31, [(1, 0.9999691)]), (47, [(1, 0.7574511), (4, 0.23742433)]), (180, [(1, 0.9983546)])])\n",
      "([(0, 0.018253561), (1, 0.2051151), (2, 0.018415762), (3, 0.43950614), (4, 0.31870943)], [(0, [4, 1]), (6, [3, 4]), (22, [3, 4, 1]), (34, [3, 4]), (51, [3, 4, 1]), (55, [4, 1]), (57, [3, 1, 4]), (72, [3, 1]), (93, [1]), (96, [4, 3, 1])], [(0, [(1, 0.05474397), (4, 0.9451704)]), (6, [(3, 0.6302097), (4, 0.36158612)]), (22, [(1, 0.07052575), (3, 0.7849043), (4, 0.14456359)]), (34, [(3, 0.7072824), (4, 0.29120344)]), (51, [(1, 0.04680956), (3, 0.87143636), (4, 0.081616625)]), (55, [(1, 0.24424326), (4, 0.75568354)]), (57, [(1, 0.28385735), (3, 0.6074137), (4, 0.10822921)]), (72, [(1, 0.2024636), (3, 0.7955899)]), (93, [(1, 0.99938285)]), (96, [(1, 0.14504819), (3, 0.23878947), (4, 0.6161508)])])\n",
      "([(0, 0.21860403), (1, 0.014529309), (2, 0.01435527), (3, 0.6608561), (4, 0.091655254)], [(0, [4]), (6, [3, 4]), (12, [0, 3]), (30, [0]), (35, [3, 0]), (38, [3]), (42, [3]), (48, [3]), (51, [3, 4]), (102, [0]), (175, [3])], [(0, [(4, 0.99797803)]), (6, [(3, 0.927496), (4, 0.07241457)]), (12, [(0, 0.655309), (3, 0.3444356)]), (30, [(0, 0.99684584)]), (35, [(0, 0.20797713), (3, 2.7920089)]), (38, [(3, 0.9999353)]), (42, [(3, 0.999813)]), (48, [(3, 0.9998322)]), (51, [(3, 0.9872261), (4, 0.012581917)]), (102, [(0, 0.99893314)]), (175, [(3, 0.9994137)])])\n",
      "([(0, 0.018210355), (1, 0.12308605), (2, 0.018194286), (3, 0.43087378), (4, 0.40963554)], [(0, [4, 1]), (3, [4, 3]), (7, [3, 4]), (23, [4]), (35, [3]), (40, [3, 1]), (42, [3, 1]), (51, [3, 4, 1]), (100, [4]), (101, [1])], [(0, [(1, 0.021462023), (4, 0.9784727)]), (3, [(3, 0.19594657), (4, 0.803729)]), (7, [(3, 0.588255), (4, 0.41171703)]), (23, [(4, 0.9999202)]), (35, [(3, 0.9996479)]), (40, [(1, 0.072799675), (3, 0.92709565)]), (42, [(1, 0.038195938), (3, 0.96173733)]), (51, [(1, 0.023945577), (3, 0.8656747), (4, 0.11024872)]), (100, [(4, 0.999837)]), (101, [(1, 0.9970401)])])\n",
      "([(0, 0.015401349), (1, 0.2508662), (2, 0.015446039), (3, 0.50293845), (4, 0.21534798)], [(6, [3, 4, 1]), (8, [3, 4]), (19, [3, 1, 4]), (26, [3, 1, 4]), (31, [1]), (35, [3]), (38, [3]), (42, [3, 1]), (51, [3, 1, 4]), (89, [4]), (93, [1]), (96, [4, 3, 1])], [(6, [(1, 0.010962159), (3, 0.7513093), (4, 0.23772424)]), (8, [(3, 0.5668297), (4, 0.43310666)]), (19, [(1, 0.35132983), (3, 0.43833798), (4, 0.21015878)]), (26, [(1, 0.3457765), (3, 0.44061196), (4, 0.21331331)]), (31, [(1, 0.9999009)]), (35, [(3, 0.99974304)]), (38, [(3, 0.9999232)]), (42, [(1, 0.07960001), (3, 0.92037183)]), (51, [(1, 0.054169733), (3, 0.8992844), (4, 0.046448108)]), (89, [(4, 0.99919575)]), (93, [(1, 0.99960387)]), (96, [(1, 0.21943626), (3, 0.32214433), (4, 0.45840612)])])\n",
      "([(0, 0.018266983), (1, 0.30941272), (2, 0.63594764), (3, 0.018190458), (4, 0.018182151)], [(13, [2]), (16, [1, 2]), (18, [2]), (20, [2, 1]), (59, [2]), (60, [2]), (74, [2]), (94, [2])], [(13, [(2, 0.99987644)]), (16, [(1, 2.7401361), (2, 0.2592254)]), (18, [(2, 0.9998835)]), (20, [(1, 0.46195003), (2, 0.5380138)]), (59, [(2, 0.9999085)]), (60, [(2, 0.9995208)]), (74, [(2, 0.9998499)]), (94, [(2, 0.9995168)])])\n",
      "([(0, 0.14969587), (1, 0.24297954), (2, 0.5804486), (3, 0.013444739), (4, 0.013431246)], [(17, [2, 0]), (19, [1, 2]), (26, [2, 1]), (31, [1]), (46, [1, 2]), (47, [2, 1]), (49, [2]), (57, [2, 1]), (59, [2, 0]), (82, [2]), (134, [2]), (135, [2]), (138, [0])], [(17, [(0, 0.032611705), (2, 0.9673345)]), (19, [(1, 0.599004), (2, 0.39958143)]), (26, [(1, 0.457553), (2, 0.5413367)]), (31, [(1, 0.99968517)]), (46, [(1, 0.928738), (2, 0.07105284)]), (47, [(1, 0.055972744), (2, 0.94387305)]), (49, [(2, 0.99988)]), (57, [(1, 0.40261632), (2, 0.5965236)]), (59, [(0, 0.015571032), (2, 0.9844007)]), (82, [(2, 0.9998297)]), (134, [(2, 0.99957997)]), (135, [(2, 0.99957997)]), (138, [(0, 1.9960717)])])\n",
      "([(0, 0.016667068), (1, 0.93299603), (2, 0.016685693), (3, 0.016984345), (4, 0.016666876)], [(24, [1]), (25, [1]), (28, [1]), (31, [1]), (40, [1]), (50, [1]), (53, [1]), (80, [1]), (93, [1]), (166, [1])], [(24, [(1, 0.9999976)]), (25, [(1, 1.999995)]), (28, [(1, 0.99999523)]), (31, [(1, 0.99999845)]), (40, [(1, 0.9985933)]), (50, [(1, 0.9979536)]), (53, [(1, 0.9999843)]), (80, [(1, 0.99958116)]), (93, [(1, 0.9999364)]), (166, [(1, 0.99998593)])])\n",
      "([(0, 0.016679892), (1, 0.016878227), (2, 0.016720733), (3, 0.72832483), (4, 0.22139631)], [(0, [4]), (5, [3, 4]), (6, [3, 4]), (8, [3, 4]), (19, [3, 4]), (22, [3, 4]), (26, [3, 4]), (35, [3]), (40, [3]), (42, [3]), (51, [3, 4])], [(0, [(4, 0.9995287)]), (5, [(3, 0.664918), (4, 0.33507684)]), (6, [(3, 0.8211318), (4, 0.17884791)]), (8, [(3, 0.6553197), (4, 0.34467658)]), (19, [(3, 0.7510552), (4, 0.24787147)]), (22, [(3, 0.9345221), (4, 0.065339535)]), (26, [(3, 0.7491385), (4, 0.24965487)]), (35, [(3, 0.99983346)]), (40, [(3, 0.9997224)]), (42, [(3, 0.99985594)]), (51, [(3, 0.96551293), (4, 0.03432775)])])\n",
      "([(0, 0.020000791), (1, 0.020516863), (2, 0.020149708), (3, 0.43578565), (4, 0.50354695)], [(7, [3, 4]), (19, [4, 3]), (26, [4, 3]), (51, [3, 4]), (54, [4]), (55, [4]), (57, [3, 4]), (96, [4, 3]), (141, [3])], [(7, [(3, 0.53478074), (4, 0.4652146)]), (19, [(3, 0.40443403), (4, 0.5942625)]), (26, [(3, 0.40203544), (4, 0.59651065)]), (51, [(3, 0.8630654), (4, 0.13661768)]), (54, [(4, 0.99942946)]), (55, [(4, 0.99924767)]), (57, [(3, 0.767021), (4, 0.23098695)]), (96, [(3, 0.1864517), (4, 0.8131271)]), (141, [(3, 0.9990098)])])\n",
      "([(0, 0.1184122), (1, 0.014348214), (2, 0.014387505), (3, 0.8385292), (4, 0.014322822)], [(7, [3]), (12, [3, 0]), (35, [3, 0]), (38, [3]), (48, [3]), (51, [3]), (57, [3]), (72, [3]), (175, [3]), (176, [3]), (177, [3]), (178, [0])], [(7, [(3, 0.9996265)]), (12, [(0, 0.40632415), (3, 0.5933416)]), (35, [(0, 0.052223627), (3, 1.9477736)]), (38, [(3, 0.99997735)]), (48, [(3, 0.9999411)]), (51, [(3, 0.99980587)]), (57, [(3, 0.99899065)]), (72, [(3, 0.9987533)]), (175, [(3, 0.99979424)]), (176, [(3, 0.99976724)]), (177, [(3, 0.9998335)]), (178, [(0, 0.99805146)])])\n",
      "([(0, 0.016666986), (1, 0.016706962), (2, 0.016703432), (3, 0.017290054), (4, 0.93263257)], [(5, [4]), (6, [4]), (7, [4]), (8, [4]), (9, [4]), (23, [4]), (27, [4]), (51, [4]), (88, [4]), (91, [4]), (92, [4])], [(5, [(4, 0.99969834)]), (6, [(4, 0.9992875)]), (7, [(4, 0.99922526)]), (8, [(4, 0.9997118)]), (9, [(4, 0.9990035)]), (23, [(4, 0.99999756)]), (27, [(4, 0.99999565)]), (51, [(4, 0.994877)]), (88, [(4, 0.9999887)]), (91, [(4, 0.99999547)]), (92, [(4, 0.9999887)])])\n",
      "([(0, 0.018227458), (1, 0.83802956), (2, 0.018189184), (3, 0.018493969), (4, 0.107059844)], [(3, [4, 1]), (24, [1]), (25, [1]), (30, [1]), (31, [1]), (32, [1]), (40, [1]), (53, [1]), (93, [1]), (164, [1])], [(3, [(1, 0.020727387), (4, 0.9775177)]), (24, [(1, 0.99999195)]), (25, [(1, 0.9999917)]), (30, [(1, 0.99948215)]), (31, [(1, 0.999995)]), (32, [(1, 0.99996835)]), (40, [(1, 0.9982681)]), (53, [(1, 0.99995023)]), (93, [(1, 0.9999172)]), (164, [(1, 0.9999438)])])\n",
      "([(0, 0.01670775), (1, 0.016744446), (2, 0.016706344), (3, 0.6891869), (4, 0.2606546)], [(6, [3, 4]), (7, [3, 4]), (9, [3, 4]), (23, [4]), (35, [3]), (38, [3]), (48, [3]), (51, [3, 4]), (56, [3, 4]), (57, [3, 4]), (58, [4])], [(6, [(3, 0.7808533), (4, 0.219127)]), (7, [(3, 0.7988827), (4, 0.20111302)]), (9, [(3, 0.8354772), (4, 0.16451438)]), (23, [(4, 0.9998567)]), (35, [(3, 0.99981993)]), (38, [(3, 0.9999775)]), (48, [(3, 0.99994284)]), (51, [(3, 0.95604205), (4, 0.043794516)]), (56, [(3, 0.779824), (4, 0.21971202)]), (57, [(3, 0.9188272), (4, 0.08007437)]), (58, [(4, 0.99916315)])])\n",
      "([(0, 0.015384824), (1, 0.015548123), (2, 0.015417395), (3, 0.015666163), (4, 0.9379835)], [(0, [4]), (5, [4]), (6, [4]), (8, [4]), (19, [4]), (22, [4]), (23, [4]), (26, [4]), (27, [4]), (54, [4]), (55, [4]), (100, [4])], [(0, [(4, 0.9999523)]), (5, [(4, 0.99974865)]), (6, [(4, 0.99940467)]), (8, [(4, 0.9997601)]), (19, [(4, 0.9988241)]), (22, [(4, 0.99782443)]), (23, [(4, 0.99999756)]), (26, [(4, 0.9987351)]), (27, [(4, 0.9999957)]), (54, [(4, 0.99981356)]), (55, [(4, 0.99974716)]), (100, [(4, 0.99999505)])])\n",
      "([(0, 0.19967477), (1, 0.015438564), (2, 0.015390542), (3, 0.75402534), (4, 0.015470795)], [(7, [3]), (35, [3, 0]), (38, [3]), (48, [3]), (51, [3]), (73, [3]), (95, [3]), (109, [3, 0]), (111, [0]), (148, [3]), (151, [0])], [(7, [(3, 0.9995122)]), (35, [(0, 0.054406513), (3, 0.945592)]), (38, [(3, 0.9999539)]), (48, [(3, 0.99988014)]), (51, [(3, 0.99975497)]), (73, [(3, 0.9997119)]), (95, [(3, 0.9985098)]), (109, [(0, 0.3417345), (3, 0.65824986)]), (111, [(0, 0.99901235)]), (148, [(3, 1.9992121)]), (151, [(0, 0.99891835)])])\n",
      "([(0, 0.018182093), (1, 0.018186666), (2, 0.018182045), (3, 0.018235972), (4, 0.92721325)], [(0, [4]), (4, [4]), (5, [4]), (8, [4]), (23, [4]), (77, [4]), (89, [4]), (90, [4]), (100, [4]), (150, [4])], [(0, [(4, 0.9999459)]), (4, [(4, 0.99995714)]), (5, [(4, 0.9997204)]), (8, [(4, 0.999733)]), (23, [(4, 0.99999744)]), (77, [(4, 0.99999213)]), (89, [(4, 0.9999923)]), (90, [(4, 0.99999505)]), (100, [(4, 0.99999493)]), (150, [(4, 0.9999898)])])\n",
      "([(0, 0.018182103), (1, 0.018221896), (2, 0.01818794), (3, 0.9266153), (4, 0.018792808)], [(3, [3]), (5, [3]), (6, [3]), (7, [3]), (8, [3]), (22, [3]), (42, [3]), (50, [3]), (51, [3]), (122, [3])], [(3, [(3, 0.99730736)]), (5, [(3, 0.998816)]), (6, [(3, 0.9994708)]), (7, [(3, 0.999539)]), (8, [(3, 0.99876624)]), (22, [(3, 0.9997173)]), (42, [(3, 0.9998983)]), (50, [(3, 0.9998599)]), (51, [(3, 0.99978155)]), (122, [(3, 0.999964)])])\n",
      "([(0, 0.11220079), (1, 0.015431994), (2, 0.015389655), (3, 0.84143937), (4, 0.015538234)], [(7, [3]), (8, [3]), (22, [3]), (35, [3, 0]), (38, [3]), (42, [3]), (51, [3]), (56, [3, 0]), (109, [3, 0]), (119, [3]), (158, [0]), (177, [3])], [(7, [(3, 0.9995897)]), (8, [(3, 0.99894834)]), (22, [(3, 0.9997252)]), (35, [(0, 0.023603296), (3, 0.97639525)]), (38, [(3, 0.9999794)]), (42, [(3, 0.9998858)]), (51, [(3, 0.9997935)]), (56, [(0, 0.05626114), (3, 0.9432115)]), (109, [(0, 0.17906052), (3, 0.820922)]), (119, [(3, 0.9996869)]), (158, [(0, 0.9990695)]), (177, [(3, 0.99984807)])])\n",
      "([(0, 0.016984282), (1, 0.016775293), (2, 0.01714117), (3, 0.93220466), (4, 0.016894618)], [(2, [3]), (5, [3]), (6, [3]), (8, [3]), (22, [3]), (40, [3]), (42, [3]), (43, [3]), (50, [3]), (51, [3]), (142, [3])], [(2, [(3, 0.99983203)]), (5, [(3, 0.9990271)]), (6, [(3, 0.99956334)]), (8, [(3, 0.9989865)]), (22, [(3, 0.99975497)]), (40, [(3, 0.999814)]), (42, [(3, 0.9999055)]), (43, [(3, 0.99008906)]), (50, [(3, 0.9998698)]), (51, [(3, 0.99979836)]), (142, [(3, 0.99995)])])\n",
      "([(0, 0.932896), (1, 0.016667128), (2, 0.016939478), (3, 0.01683038), (4, 0.016667001)], [(35, [0]), (84, [0]), (108, [0]), (156, [0]), (157, [0]), (158, [0]), (162, [0]), (169, [0])], [(35, [(0, 0.998038)]), (84, [(0, 0.99674976)]), (108, [(0, 0.9999859)]), (156, [(0, 0.999983)]), (157, [(0, 3.999981)]), (158, [(0, 0.9999955)]), (162, [(0, 0.999986)]), (169, [(0, 0.99998295)])])\n",
      "([(0, 0.022288198), (1, 0.022730622), (2, 0.9098561), (3, 0.022555064), (4, 0.022570051)], [(10, [2]), (13, [2]), (19, [2]), (26, [2]), (105, [2]), (110, [2]), (124, [2]), (126, [2])], [(10, [(2, 0.9999975)]), (13, [(2, 0.9999944)]), (19, [(2, 0.9935785)]), (26, [(2, 0.9963152)]), (105, [(2, 0.9999907)]), (110, [(2, 0.9999845)]), (124, [(2, 0.9999882)]), (126, [(2, 0.9988708)])])\n",
      "([(0, 0.018182727), (1, 0.81316596), (2, 0.018221736), (3, 0.018553274), (4, 0.13187627)], [(24, [1]), (25, [1]), (27, [4]), (31, [1]), (46, [1]), (57, [1, 4]), (93, [1]), (96, [1, 4]), (148, [1]), (164, [1])], [(24, [(1, 0.99998987)]), (25, [(1, 0.99998945)]), (27, [(4, 0.9979581)]), (31, [(1, 0.9999937)]), (46, [(1, 0.999964)]), (57, [(1, 0.9734871), (4, 0.025605068)]), (93, [(1, 0.9999118)]), (96, [(1, 0.7730941), (4, 0.22654705)]), (148, [(1, 0.99670035)]), (164, [(1, 0.99992824)])])\n",
      "([(0, 0.022230865), (1, 0.9107139), (2, 0.022237489), (3, 0.022595132), (4, 0.022222575)], [(16, [1]), (24, [1]), (25, [1]), (29, [1]), (31, [1]), (46, [1]), (93, [1]), (148, [1])], [(16, [(1, 0.99988484)]), (24, [(1, 0.9999973)]), (25, [(1, 0.9999972)]), (29, [(1, 0.999994)]), (31, [(1, 0.99999845)]), (46, [(1, 0.999976)]), (93, [(1, 0.9999125)]), (148, [(1, 0.99666196)])])\n",
      "([(0, 0.016676877), (1, 0.016883546), (2, 0.016720684), (3, 0.93293345), (4, 0.016785448)], [(19, [3]), (22, [3]), (26, [3]), (35, [3]), (38, [3]), (40, [3]), (42, [3]), (48, [3]), (50, [3]), (51, [3]), (119, [3])], [(19, [(3, 0.99828786)]), (22, [(3, 0.99975604)]), (26, [(3, 0.99814254)]), (35, [(3, 0.9998789)]), (38, [(3, 0.9999977)]), (40, [(3, 0.999808)]), (42, [(3, 0.99990255)]), (48, [(3, 0.99999416)]), (50, [(3, 0.99986565)]), (51, [(3, 0.99980676)]), (119, [(3, 0.9997547)])])\n",
      "([(0, 0.016678741), (1, 0.016923489), (2, 0.016701544), (3, 0.8142637), (4, 0.1354325)], [(0, [4]), (6, [3, 4]), (7, [3, 4]), (8, [3, 4]), (35, [3]), (38, [3]), (42, [3]), (51, [3, 4]), (57, [3, 4]), (176, [3]), (183, [3])], [(0, [(4, 0.99905926)]), (6, [(3, 0.9064919), (4, 0.09348797)]), (7, [(3, 0.9153137), (4, 0.08468226)]), (8, [(3, 0.80060786), (4, 0.19938812)]), (35, [(3, 0.9998559)]), (38, [(3, 0.9999903)]), (42, [(3, 0.9998778)]), (51, [(3, 0.98330146), (4, 0.016553689)]), (57, [(3, 0.9679928), (4, 0.031002535)]), (176, [(3, 0.9999169)]), (183, [(3, 0.99805945)])])\n",
      "([(0, 0.015668448), (1, 0.12592682), (2, 0.10959296), (3, 0.7330067), (4, 0.015805084)], [(3, [3]), (6, [3]), (12, [3, 2]), (19, [3, 1, 2]), (26, [3, 1, 2]), (35, [3]), (40, [3, 1]), (42, [3, 1]), (51, [3, 1, 2]), (81, [3]), (117, [2]), (123, [1])], [(3, [(3, 0.99611074)]), (6, [(3, 0.9953517)]), (12, [(2, 0.11178316), (3, 0.88463014)]), (19, [(1, 0.17739381), (2, 0.03749027), (3, 0.7844782)]), (26, [(1, 0.16963215), (2, 0.06358267), (3, 0.7661563)]), (35, [(3, 0.99982536)]), (40, [(1, 0.046022467), (3, 0.9539472)]), (42, [(1, 0.02381901), (3, 0.97616297)]), (51, [(1, 0.016493825), (2, 0.0128878085), (3, 0.97053254)]), (81, [(3, 0.9983378)]), (117, [(2, 0.99719304)]), (123, [(1, 0.9972341)])])\n",
      "([(0, 0.014405594), (1, 0.01439935), (2, 0.01438955), (3, 0.7197794), (4, 0.23702615)], [(6, [3, 4]), (7, [3, 4]), (19, [3, 4]), (26, [3, 4]), (33, [4]), (35, [3]), (38, [3]), (41, [4]), (51, [3, 4]), (71, [3]), (73, [3]), (104, [3, 4]), (148, [3])], [(6, [(3, 0.80380267), (4, 0.19618016)]), (7, [(3, 0.82037777), (4, 0.17961815)]), (19, [(3, 0.7293778), (4, 0.26973784)]), (26, [(3, 0.7273754), (4, 0.27162594)]), (33, [(4, 0.99924743)]), (35, [(3, 0.9998488)]), (38, [(3, 0.9999802)]), (41, [(4, 0.99924743)]), (51, [(3, 0.96155506), (4, 0.03830858)]), (71, [(3, 0.9998973)]), (73, [(3, 0.9999374)]), (104, [(3, 0.834358), (4, 0.16316001)]), (148, [(3, 0.9997583)])])\n",
      "([(0, 0.2915146), (1, 0.016719023), (2, 0.016667945), (3, 0.65788895), (4, 0.017209502)], [(21, [3]), (35, [3, 0]), (38, [3]), (56, [3, 0]), (78, [3]), (81, [3]), (95, [3]), (99, [0]), (122, [3]), (170, [0]), (172, [0])], [(21, [(3, 0.9950382)]), (35, [(0, 0.09341646), (3, 0.9065818)]), (38, [(3, 0.99991906)]), (56, [(0, 0.20257494), (3, 0.7967403)]), (78, [(3, 0.9992785)]), (81, [(3, 0.99832827)]), (95, [(3, 0.9977741)]), (99, [(0, 0.9998575)]), (122, [(3, 0.999726)]), (170, [(0, 0.9994775)]), (172, [(0, 0.9992766)])])\n",
      "([(0, 0.015385192), (1, 0.17138399), (2, 0.015430875), (3, 0.29156947), (4, 0.5062305)], [(0, [4, 1]), (5, [4, 3]), (6, [4, 3]), (19, [4, 3, 1]), (26, [4, 3, 1]), (40, [3, 1]), (42, [3, 1]), (51, [3, 4, 1]), (54, [4, 1]), (55, [4, 1]), (75, [4, 1]), (101, [1])], [(0, [(1, 0.027497461), (4, 0.9724674)]), (5, [(3, 0.22121805), (4, 0.77874213)]), (6, [(3, 0.39395824), (4, 0.5994017)]), (19, [(1, 0.21867028), (3, 0.23632629), (4, 0.5448332)]), (26, [(1, 0.21391532), (3, 0.23611902), (4, 0.5496747)]), (40, [(1, 0.1648333), (3, 0.8349862)]), (42, [(1, 0.090769105), (3, 0.90911025)]), (51, [(1, 0.0527574), (3, 0.7586685), (4, 0.18842395)]), (54, [(1, 0.10373482), (4, 0.8962288)]), (55, [(1, 0.1362795), (4, 0.8636873)]), (75, [(1, 0.013725639), (4, 0.9861911)]), (101, [(1, 0.9981638)])])\n",
      "([(0, 0.016667074), (1, 0.016682727), (2, 0.016667001), (3, 0.016677463), (4, 0.93330574)], [(23, [4]), (27, [4]), (88, [4]), (89, [4]), (90, [4]), (92, [4]), (96, [4]), (143, [4]), (144, [4]), (145, [4]), (150, [4])], [(23, [(4, 0.99999756)]), (27, [(4, 0.99999565)]), (88, [(4, 0.9999887)]), (89, [(4, 0.9999926)]), (90, [(4, 0.99999505)]), (92, [(4, 0.9999887)]), (96, [(4, 0.9996775)]), (143, [(4, 0.99998605)]), (144, [(4, 0.9999878)]), (145, [(4, 0.9999899)]), (150, [(4, 0.99999005)])])\n",
      "([(0, 0.7976568), (1, 0.022312155), (2, 0.13549614), (3, 0.022248182), (4, 0.022286765)], [(10, [2]), (11, [0]), (12, [0, 2]), (14, [0]), (15, [0]), (99, [0]), (115, [0]), (159, [0])], [(10, [(2, 0.99819404)]), (11, [(0, 0.9999819)]), (12, [(0, 0.97930205), (2, 0.020581087)]), (14, [(0, 0.99964315)]), (15, [(0, 0.99843407)]), (99, [(0, 0.9999762)]), (115, [(0, 0.9998358)]), (159, [(0, 0.99993896)])])\n",
      "([(0, 0.015428862), (1, 0.01564338), (2, 0.015416059), (3, 0.74823105), (4, 0.20528066)], [(7, [3, 4]), (22, [3, 4]), (35, [3]), (38, [3]), (51, [3, 4]), (54, [4]), (55, [4]), (56, [3, 4]), (57, [3, 4]), (78, [3]), (122, [3, 4])], [(7, [(3, 0.85073125), (4, 0.14926471)]), (22, [(3, 0.9408051), (4, 0.059067592)]), (35, [(3, 1.9996992)]), (38, [(3, 0.99998367)]), (51, [(3, 0.96892184), (4, 0.030934213)]), (54, [(4, 0.9987018)]), (55, [(4, 0.9983497)]), (56, [(3, 0.8355073), (4, 0.16406465)]), (57, [(3, 0.94180834), (4, 0.05720446)]), (78, [(3, 0.99986523)]), (122, [(3, 0.98890567), (4, 0.011085959)])])\n",
      "([(0, 0.06674018), (1, 0.0666671), (2, 0.73325884), (3, 0.06666694), (4, 0.06666698)], [(59, [2]), (130, [2])], [(59, [(2, 0.9997814)]), (130, [(2, 0.99999225)])])\n",
      "([(0, 0.37011474), (1, 0.022222744), (2, 0.56321734), (3, 0.022222549), (4, 0.022222599)], [(17, [2, 0]), (59, [2, 0]), (112, [2]), (130, [2]), (138, [0]), (139, [0]), (146, [2])], [(17, [(0, 0.088681914), (2, 0.911314)]), (59, [(0, 0.04366415), (2, 0.9563335)]), (112, [(2, 0.9996789)]), (130, [(2, 0.9997732)]), (138, [(0, 1.9989156)]), (139, [(0, 0.99885315)]), (146, [(2, 0.99966043)])])\n",
      "([(0, 0.016097754), (1, 0.015691774), (2, 0.01588838), (3, 0.8331522), (4, 0.119169906)], [(6, [3, 4]), (8, [3, 4]), (12, [3]), (22, [3, 4]), (34, [3, 4]), (35, [3]), (40, [3]), (43, [3]), (50, [3]), (51, [3, 4]), (55, [4]), (73, [3])], [(6, [(3, 0.9202385), (4, 0.07974248)]), (8, [(3, 0.82695174), (4, 0.1730442)]), (12, [(3, 0.9953109)]), (22, [(3, 0.9728199), (4, 0.027060593)]), (34, [(3, 0.9409387), (4, 0.05850966)]), (35, [(3, 0.99983877)]), (40, [(3, 0.99978226)]), (43, [(3, 0.9888957)]), (50, [(3, 0.9998416)]), (51, [(3, 0.9859119), (4, 0.013945808)]), (55, [(4, 0.9965722)]), (73, [(3, 0.99997306)])])\n",
      "([(0, 0.018198136), (1, 0.32786936), (2, 0.018197065), (3, 0.6171413), (4, 0.01859415)], [(2, [3, 1]), (5, [3]), (6, [3, 1]), (8, [3]), (16, [1, 3]), (42, [3, 1]), (51, [3, 1]), (63, [1]), (65, [1]), (119, [3, 1])], [(2, [(1, 0.09536719), (3, 0.904531)]), (5, [(3, 0.998125)]), (6, [(1, 0.015490333), (3, 0.9837736)]), (8, [(3, 0.99808913)]), (16, [(1, 0.96212023), (3, 0.037637457)]), (42, [(1, 0.085365765), (3, 0.9146307)]), (51, [(1, 0.06102459), (3, 0.9387653)]), (63, [(1, 0.99929)]), (65, [(1, 0.99929)]), (119, [(1, 0.18795069), (3, 0.812037)])])\n",
      "([(0, 0.015408863), (1, 0.32599035), (2, 0.015429359), (3, 0.6272143), (4, 0.01595709)], [(6, [3, 1]), (8, [3]), (16, [1, 3]), (19, [3, 1]), (21, [3]), (26, [3, 1]), (28, [1]), (31, [1]), (35, [3]), (38, [3]), (42, [3, 1]), (51, [3, 1])], [(6, [(1, 0.015303285), (3, 0.98404586)]), (8, [(3, 0.99829924)]), (16, [(1, 0.961705), (3, 0.038091585)]), (19, [(1, 0.4603816), (3, 0.53891474)]), (21, [(3, 0.9954456)]), (26, [(1, 0.4550854), (3, 0.54407877)]), (28, [(1, 0.9998139)]), (31, [(1, 0.9999381)]), (35, [(3, 0.99979925)]), (38, [(3, 0.99994254)]), (42, [(1, 0.08440061), (3, 0.91559595)]), (51, [(1, 0.060318254), (3, 0.93950075)])])\n",
      "([(0, 0.12482298), (1, 0.014443416), (2, 0.014353338), (3, 0.8319605), (4, 0.014419814)], [(12, [3, 0]), (19, [3]), (26, [3]), (35, [3, 0]), (38, [3]), (40, [3]), (42, [3]), (51, [3]), (56, [3, 0]), (121, [3]), (148, [3]), (151, [0])], [(12, [(0, 0.42558393), (3, 0.57409394)]), (19, [(3, 0.9982858)]), (26, [(3, 0.99814403)]), (35, [(0, 0.056411378), (3, 1.9435859)]), (38, [(3, 0.99997574)]), (40, [(3, 0.999778)]), (42, [(3, 0.9998842)]), (51, [(3, 0.9997997)]), (56, [(0, 0.06679776), (3, 0.9327097)]), (121, [(3, 0.9996458)]), (148, [(3, 0.9997511)]), (151, [(0, 0.9978696)])])\n",
      "([(0, 0.017159447), (1, 0.14784648), (2, 0.017135298), (3, 0.8011238), (4, 0.016734976)], [(1, [3, 1]), (7, [3]), (31, [1]), (35, [3]), (38, [3]), (47, [3, 1]), (51, [3, 1]), (73, [3]), (109, [3]), (115, [3]), (119, [3, 1])], [(1, [(1, 0.3008518), (3, 0.69911)]), (7, [(3, 0.9995507)]), (31, [(1, 0.9997914)]), (35, [(3, 0.9998266)]), (38, [(3, 0.9999816)]), (47, [(1, 0.1911636), (3, 0.80294615)]), (51, [(1, 0.018416587), (3, 0.9814289)]), (73, [(3, 0.9999454)]), (109, [(3, 0.9983765)]), (115, [(3, 0.9954682)]), (119, [(1, 0.06262921), (3, 0.9373599)])])\n"
     ]
    }
   ],
   "source": [
    "for i in range(len(df_lowest)):\n",
    "    print(lda[df_lowest[i]]) "
   ]
  },
  {
   "cell_type": "code",
   "execution_count": 31,
   "id": "9a334e95",
   "metadata": {
    "collapsed": true
   },
   "outputs": [
    {
     "name": "stdout",
     "output_type": "stream",
     "text": [
      "([(0, 0.018182037), (1, 0.018186698), (2, 0.018181995), (3, 0.018252337), (4, 0.9271969)], [(0, [4]), (3, [4]), (5, [4]), (8, [4]), (21, [4]), (23, [4]), (27, [4]), (77, [4]), (90, [4]), (100, [4])], [(0, [(4, 0.9999459)]), (3, [(4, 0.99987316)]), (5, [(4, 0.9997189)]), (8, [(4, 0.99973166)]), (21, [(4, 0.9998895)]), (23, [(4, 0.99999756)]), (27, [(4, 0.99999547)]), (77, [(4, 0.99999213)]), (90, [(4, 0.99999505)]), (100, [(4, 0.99999493)])])\n",
      "([(0, 0.018182242), (1, 0.018201105), (2, 0.018182164), (3, 0.018207567), (4, 0.92722696)], [(4, [4]), (21, [4]), (27, [4]), (77, [4]), (90, [4]), (96, [4]), (143, [4]), (144, [4]), (145, [4]), (150, [4])], [(4, [(4, 0.9999575)]), (21, [(4, 0.99989086)]), (27, [(4, 0.99999547)]), (77, [(4, 0.99999213)]), (90, [(4, 0.99999505)]), (96, [(4, 0.9996441)]), (143, [(4, 0.9999859)]), (144, [(4, 0.99998754)]), (145, [(4, 0.99998987)]), (150, [(4, 0.9999898)])])\n",
      "([(0, 0.64344656), (1, 0.018284602), (2, 0.018232606), (3, 0.3006407), (4, 0.019395499)], [(21, [3, 4]), (30, [0]), (35, [3, 0]), (38, [3]), (56, [0, 3]), (62, [0, 3]), (102, [0]), (158, [0]), (163, [0]), (168, [0])], [(21, [(3, 0.9825212), (4, 0.012273116)]), (30, [(0, 0.9989883)]), (35, [(0, 0.3713839), (3, 0.6286133)]), (38, [(3, 0.99954647)]), (56, [(0, 0.59250975), (3, 0.40644658)]), (62, [(0, 0.90939546), (3, 0.0902974)]), (102, [(0, 0.9996955)]), (158, [(0, 0.9999573)]), (163, [(0, 0.9999145)]), (168, [(0, 0.9998858)])])\n",
      "([(0, 0.014297728), (1, 0.014556948), (2, 0.014351286), (3, 0.591032), (4, 0.36576203)], [(5, [4, 3]), (6, [3, 4]), (19, [3, 4]), (23, [4]), (26, [3, 4]), (35, [3]), (38, [3]), (40, [3]), (42, [3]), (51, [3, 4]), (54, [4]), (55, [4]), (57, [3, 4])], [(5, [(3, 0.46804532), (4, 0.53195024)]), (6, [(3, 0.6705786), (4, 0.32940292)]), (19, [(3, 0.5727768), (4, 0.42633098)]), (23, [(4, 0.9999171)]), (26, [(3, 0.5703377), (4, 0.42866382)]), (35, [(3, 0.99981236)]), (38, [(3, 0.99996245)]), (40, [(3, 0.999662)]), (42, [(3, 0.9998212)]), (51, [(3, 0.92561394), (4, 0.074220516)]), (54, [(4, 0.9994005)]), (55, [(4, 0.99923104)]), (57, [(3, 0.8666946), (4, 0.13221389)])])\n",
      "([(0, 0.12755246), (1, 0.20859036), (2, 0.013403855), (3, 0.6367206), (4, 0.013732675)], [(12, [0, 3]), (14, [0]), (19, [3, 1]), (22, [3, 1]), (26, [3, 1]), (34, [3, 0]), (35, [3, 0]), (38, [3]), (40, [3, 1]), (50, [3, 1]), (51, [3, 1]), (55, [1]), (132, [1])], [(12, [(0, 0.5069283), (3, 0.49265435)]), (14, [(0, 0.99892896)]), (19, [(1, 0.3373425), (3, 0.6618783)]), (22, [(1, 0.060202636), (3, 0.93958646)]), (26, [(1, 0.33259654), (3, 0.6664868)]), (34, [(0, 0.12911637), (3, 0.86990815)]), (35, [(0, 0.07745213), (3, 1.9225096)]), (38, [(3, 0.9999341)]), (40, [(1, 0.09806825), (3, 0.90187734)]), (50, [(1, 0.06961693), (3, 0.93031496)]), (51, [(1, 0.036884725), (3, 0.96294147)]), (55, [(1, 0.9953316)]), (132, [(1, 0.99807537)])])\n",
      "([(0, 0.26920056), (1, 0.022233207), (2, 0.6635856), (3, 0.022567304), (4, 0.022413364)], [(10, [2]), (34, [0]), (43, [2, 0]), (59, [2, 0]), (67, [0]), (136, [2]), (137, [2])], [(10, [(2, 1.999848)]), (34, [(0, 0.9935306)]), (43, [(0, 0.20486353), (2, 0.79496795)]), (59, [(0, 0.025393337), (2, 0.9746048)]), (67, [(0, 0.9978587)]), (136, [(2, 0.9993218)]), (137, [(2, 0.9994438)])])\n",
      "([(0, 0.41544187), (1, 0.013412961), (2, 0.013372179), (3, 0.5442596), (4, 0.013513422)], [(7, [3]), (8, [3]), (30, [0]), (35, [3, 0]), (38, [3]), (56, [3, 0]), (62, [0, 3]), (73, [3]), (102, [0]), (109, [0, 3]), (121, [3]), (158, [0]), (168, [0])], [(7, [(3, 0.9992409)]), (8, [(3, 0.9983261)]), (30, [(0, 0.998703)]), (35, [(0, 0.3185545), (3, 1.6814418)]), (38, [(3, 0.9998532)]), (56, [(0, 0.31838688), (3, 0.6810841)]), (62, [(0, 0.7633388), (3, 0.23636188)]), (73, [(3, 0.99906707)]), (102, [(0, 0.9995623)]), (109, [(0, 0.63091177), (3, 0.36907598)]), (121, [(3, 0.99900043)]), (158, [(0, 0.9998774)]), (168, [(0, 0.9996731)])])\n",
      "([(0, 0.017002169), (1, 0.016826421), (2, 0.1259779), (3, 0.4244107), (4, 0.41578278)], [(0, [4]), (5, [4, 3]), (8, [4, 3]), (9, [3, 4]), (35, [3]), (51, [3, 4, 2]), (54, [4]), (55, [4]), (62, [3, 2]), (119, [3]), (136, [2])], [(0, [(4, 0.9997792)]), (5, [(3, 0.34878615), (4, 0.6511818)]), (8, [(3, 0.33913496), (4, 0.6608423)]), (9, [(3, 0.638435), (4, 0.3614907)]), (35, [(3, 0.9996349)]), (51, [(2, 0.024430173), (3, 0.8619058), (4, 0.113530815)]), (54, [(4, 0.99940807)]), (55, [(4, 0.9992433)]), (62, [(2, 0.29140836), (3, 0.70425445)]), (119, [(3, 0.9990614)]), (136, [(2, 0.995369)])])\n",
      "([(0, 0.02858114), (1, 0.028591698), (2, 0.88566387), (3, 0.028583381), (4, 0.028579947)], [(47, [2]), (49, [2]), (59, [2]), (112, [2]), (130, [2]), (146, [2])], [(47, [(2, 0.99971956)]), (49, [(2, 0.9999963)]), (59, [(2, 0.9999334)]), (112, [(2, 0.99999285)]), (130, [(2, 0.999995)]), (146, [(2, 0.99999243)])])\n",
      "([(0, 0.022651842), (1, 0.022231335), (2, 0.9106643), (3, 0.02222982), (4, 0.022222713)], [(18, [2]), (43, [2]), (74, [2]), (102, [2]), (103, [2]), (137, [2]), (153, [2]), (174, [2])], [(18, [(2, 0.9999944)]), (43, [(2, 0.999329)]), (74, [(2, 0.9999929)]), (102, [(2, 0.9977659)]), (103, [(2, 0.99889505)]), (137, [(2, 0.9999799)]), (153, [(2, 0.9999756)]), (174, [(2, 0.9999757)])])\n",
      "([(0, 0.02231585), (1, 0.23476508), (2, 0.6983962), (3, 0.022231942), (4, 0.022290895)], [(10, [2]), (17, [2]), (43, [2, 1]), (45, [1, 2]), (46, [1, 2]), (59, [2]), (61, [2]), (113, [2])], [(10, [(2, 0.9999661)]), (17, [(2, 0.99981934)]), (43, [(1, 0.03170451), (2, 0.96758026)]), (45, [(1, 0.97503173), (2, 0.024281578)]), (46, [(1, 0.90571696), (2, 0.09426328)]), (59, [(2, 0.9999132)]), (61, [(2, 0.9998381)]), (113, [(2, 0.9998593)])])\n",
      "([(0, 0.018214617), (1, 0.018586282), (2, 0.018227568), (3, 0.7375261), (4, 0.20744535)], [(0, [4]), (1, [3]), (5, [3, 4]), (6, [3, 4]), (8, [3, 4]), (9, [3, 4]), (42, [3]), (56, [3, 4]), (80, [3]), (114, [3])], [(0, [(4, 0.9994382)]), (1, [(3, 0.9973573)]), (5, [(3, 0.6885439), (4, 0.3114508)]), (6, [(3, 0.836449), (4, 0.16352794)]), (8, [(3, 0.679296), (4, 0.32070014)]), (9, [(3, 0.8793599), (4, 0.12063184)]), (42, [(3, 0.9998409)]), (56, [(3, 0.83548886), (4, 0.16399243)]), (80, [(3, 0.99768066)]), (114, [(3, 0.99962425)])])\n",
      "([(0, 0.016703973), (1, 0.016861053), (2, 0.016720716), (3, 0.93277264), (4, 0.016941573)], [(5, [3]), (6, [3]), (19, [3]), (22, [3]), (26, [3]), (34, [3]), (40, [3]), (42, [3]), (50, [3]), (51, [3]), (122, [3])], [(5, [(3, 0.9990137)]), (6, [(3, 0.9995571)]), (19, [(3, 0.99826354)]), (22, [(3, 0.9997503)]), (26, [(3, 0.9981177)]), (34, [(3, 0.999241)]), (40, [(3, 0.9998092)]), (42, [(3, 0.9999031)]), (50, [(3, 0.9998665)]), (51, [(3, 0.999804)]), (122, [(3, 0.999969)])])\n",
      "([(0, 0.015396748), (1, 0.0157137), (2, 0.015390459), (3, 0.68827134), (4, 0.26522774)], [(1, [3]), (5, [3, 4]), (6, [3, 4]), (8, [3, 4]), (9, [3, 4]), (35, [3]), (38, [3]), (42, [3]), (50, [3]), (51, [3, 4]), (54, [4]), (55, [4])], [(1, [(3, 0.9974112)]), (5, [(3, 0.5990691), (4, 0.40092596)]), (6, [(3, 0.77562606), (4, 0.22435424)]), (8, [(3, 0.588751), (4, 0.41124544)]), (9, [(3, 0.8312713), (4, 0.16872032)]), (35, [(3, 0.99983424)]), (38, [(3, 0.99997693)]), (42, [(3, 0.9998476)]), (50, [(3, 0.9997755)]), (51, [(3, 0.9547626), (4, 0.045080997)]), (54, [(4, 0.9990403)]), (55, [(4, 0.9987729)])])\n",
      "([(0, 0.016709158), (1, 0.01682381), (2, 0.016720736), (3, 0.7088143), (4, 0.24093197)], [(5, [3, 4]), (6, [3, 4]), (8, [3, 4]), (19, [3, 4]), (23, [4]), (26, [3, 4]), (34, [3, 4]), (42, [3]), (51, [3, 4]), (122, [3, 4]), (176, [3])], [(5, [(3, 0.635269), (4, 0.36472595)]), (6, [(3, 0.8011735), (4, 0.19880635)]), (8, [(3, 0.6252999), (4, 0.37469643)]), (19, [(3, 0.7259787), (4, 0.2729677)]), (23, [(4, 0.99983835)]), (26, [(3, 0.7239492), (4, 0.27486455)]), (34, [(3, 0.8484104), (4, 0.15107292)]), (42, [(3, 0.999852)]), (51, [(3, 0.9609154), (4, 0.03892289)]), (122, [(3, 0.9859677), (4, 0.014023315)]), (176, [(3, 0.9998281)])])\n",
      "([(0, 0.47742462), (1, 0.30137828), (2, 0.018241681), (3, 0.1843005), (4, 0.01865489)], [(16, [1, 0]), (30, [0, 1]), (34, [0, 3]), (56, [0, 3, 1]), (73, [3]), (93, [1]), (96, [1, 3]), (102, [0]), (158, [0]), (163, [0])], [(16, [(0, 0.15364535), (1, 0.83737487)]), (30, [(0, 0.58694607), (1, 0.41301453)]), (34, [(0, 0.7395717), (3, 0.25867698)]), (56, [(0, 0.5662296), (1, 0.13713378), (3, 0.29570633)]), (73, [(3, 0.99560934)]), (93, [(1, 0.99942315)]), (96, [(1, 0.72609), (3, 0.26866847)]), (102, [(0, 0.99944973)]), (158, [(0, 0.99983835)]), (163, [(0, 0.999656)])])\n",
      "([(0, 0.028601034), (1, 0.02859126), (2, 0.88564444), (3, 0.028583335), (4, 0.028579935)], [(17, [2]), (47, [2]), (49, [2]), (59, [2]), (130, [2]), (182, [2])], [(17, [(2, 0.99985796)]), (47, [(2, 0.99971956)]), (49, [(2, 0.9999963)]), (59, [(2, 0.99993324)]), (130, [(2, 0.99999505)]), (182, [(2, 0.99998367)])])\n",
      "([(0, 0.39157087), (1, 0.016224833), (2, 0.015431135), (3, 0.5610723), (4, 0.015700875)], [(3, [3]), (12, [0, 3]), (16, [0, 3, 1]), (35, [3, 0]), (38, [3]), (42, [3]), (51, [3]), (70, [0]), (79, [0]), (121, [3]), (163, [0])], [(3, [(3, 0.9955204)]), (12, [(0, 0.8137758), (3, 0.18605483)]), (16, [(0, 0.78340167), (1, 0.010351209), (3, 0.2058748)]), (35, [(0, 0.2924186), (3, 1.7075777)]), (38, [(3, 0.999867)]), (42, [(3, 0.9996775)]), (51, [(3, 0.9995812)]), (70, [(0, 0.99990344)]), (79, [(0, 0.99974763)]), (121, [(3, 0.998997)]), (163, [(0, 0.99972975)])])\n",
      "([(0, 0.015433733), (1, 0.1733818), (2, 0.01547699), (3, 0.418588), (4, 0.37711942)], [(0, [4, 1]), (6, [3, 4]), (19, [4, 3, 1]), (26, [4, 3, 1]), (34, [3, 4]), (40, [3, 1]), (42, [3, 1]), (51, [3, 4, 1]), (54, [4, 1]), (55, [4, 1]), (57, [3, 1, 4]), (132, [1, 4])], [(0, [(1, 0.038078167), (4, 0.9618537)]), (6, [(3, 0.5723611), (4, 0.42110762)]), (19, [(1, 0.22848274), (3, 0.36472967), (4, 0.40660968)]), (26, [(1, 0.22386108), (3, 0.36497495), (4, 0.41085917)]), (34, [(3, 0.65366495), (4, 0.345108)]), (40, [(1, 0.1178827), (3, 0.88202274)]), (42, [(1, 0.06331288), (3, 0.9366255)]), (51, [(1, 0.040331904), (3, 0.8566683), (4, 0.10288496)]), (54, [(1, 0.1394439), (4, 0.8604872)]), (55, [(1, 0.18093033), (4, 0.8190076)]), (57, [(1, 0.24993823), (3, 0.6102111), (4, 0.1394236)]), (132, [(1, 0.76281226), (4, 0.23636524)])])\n",
      "([(0, 0.01818264), (1, 0.01829661), (2, 0.018223407), (3, 0.8241691), (4, 0.121128194)], [(2, [3, 4]), (6, [3, 4]), (42, [3]), (48, [3]), (51, [3, 4]), (57, [3, 4]), (76, [3]), (100, [4]), (122, [3]), (142, [3])], [(2, [(3, 0.98836535), (4, 0.011499601)]), (6, [(3, 0.9222225), (4, 0.07775635)]), (42, [(3, 0.99987566)]), (48, [(3, 0.9999786)]), (51, [(3, 0.9862725), (4, 0.013574171)]), (57, [(3, 0.9734506), (4, 0.025488678)]), (76, [(3, 0.9996236)]), (100, [(4, 0.99902856)]), (122, [(3, 0.99518293)]), (142, [(3, 0.99991786)])])\n",
      "([(0, 0.18718791), (1, 0.3636047), (2, 0.016710505), (3, 0.4157972), (4, 0.016699739)], [(16, [1, 0, 3]), (22, [3, 1]), (31, [1]), (42, [3, 1]), (46, [1]), (50, [3, 1]), (51, [3, 1]), (70, [0]), (78, [3]), (79, [0]), (80, [1, 3])], [(16, [(0, 0.04644515), (1, 0.93250376), (3, 0.02099423)]), (22, [(1, 0.1588571), (3, 0.84078526)]), (31, [(1, 0.9999066)]), (42, [(1, 0.13953307), (3, 0.8603944)]), (46, [(1, 0.99968785)]), (50, [(1, 0.18074657), (3, 0.81911045)]), (51, [(1, 0.101456165), (3, 0.898233)]), (70, [(0, 0.9994996)]), (78, [(3, 0.9984279)]), (79, [(0, 0.99869305)]), (80, [(1, 0.64820707), (3, 0.35114095)])])\n",
      "([(0, 0.01666753), (1, 0.12546724), (2, 0.016705636), (3, 0.017108567), (4, 0.824051)], [(3, [4]), (6, [4]), (8, [4]), (19, [4, 1]), (23, [4]), (26, [4, 1]), (90, [4]), (96, [4, 1]), (100, [4]), (121, [4]), (183, [1])], [(3, [(4, 0.9996578)]), (6, [(4, 0.99500316)]), (8, [(4, 0.9996763)]), (19, [(1, 0.13403092), (4, 0.86536914)]), (23, [(4, 0.9999843)]), (26, [(1, 0.13047726), (4, 0.8688028)]), (90, [(4, 0.9999693)]), (96, [(1, 0.042459648), (4, 0.9573754)]), (100, [(4, 0.99996847)]), (121, [(4, 0.99869794)]), (183, [(1, 0.9947103)])])\n",
      "([(0, 0.014286053), (1, 0.49128523), (2, 0.0143099455), (3, 0.014481056), (4, 0.46563768)], [(0, [4, 1]), (6, [4, 1]), (8, [4]), (19, [1, 4]), (24, [1]), (25, [1]), (26, [1, 4]), (31, [1]), (32, [1]), (54, [4, 1]), (55, [4, 1]), (95, [4, 1]), (96, [4, 1])], [(0, [(1, 0.09433271), (4, 0.90566176)]), (6, [(1, 0.039142016), (4, 0.9598053)]), (8, [(4, 0.9994244)]), (19, [(1, 0.59627247), (4, 0.40331084)]), (24, [(1, 0.99993557)]), (25, [(1, 0.9999337)]), (26, [(1, 0.58877784), (4, 0.41071126)]), (31, [(1, 0.99996096)]), (32, [(1, 0.9997473)]), (54, [(1, 0.2989172), (4, 0.7010783)]), (55, [(1, 0.3675821), (4, 0.6324143)]), (95, [(1, 0.39503056), (4, 0.6044585)]), (96, [(1, 0.297377), (4, 0.7024445)])])\n",
      "([(0, 0.017097976), (1, 0.016828844), (2, 0.016697986), (3, 0.93248844), (4, 0.016886732)], [(35, [3]), (38, [3]), (48, [3]), (51, [3]), (57, [3]), (95, [3]), (96, [3]), (109, [3]), (115, [3]), (119, [3]), (141, [3])], [(35, [(3, 0.9998623)]), (38, [(3, 0.9999977)]), (48, [(3, 0.99999416)]), (51, [(3, 0.9998061)]), (57, [(3, 0.99898833)]), (95, [(3, 0.99906576)]), (96, [(3, 0.9973729)]), (109, [(3, 0.99875134)]), (115, [(3, 0.9964318)]), (119, [(3, 0.9997584)]), (141, [(3, 0.9999691)])])\n",
      "([(0, 0.016677111), (1, 0.39813897), (2, 0.016765451), (3, 0.55159855), (4, 0.016819883)], [(9, [3]), (19, [1, 3]), (22, [3, 1]), (26, [1, 3]), (31, [1]), (42, [3, 1]), (50, [3, 1]), (51, [3, 1]), (122, [3]), (131, [1]), (155, [1])], [(9, [(3, 0.9992411)]), (19, [(1, 0.54948735), (3, 0.44984964)]), (22, [(1, 0.13309069), (3, 0.86670554)]), (26, [(1, 0.544185), (3, 0.4550121)]), (31, [(1, 0.99995625)]), (42, [(1, 0.11645567), (3, 0.8835405)]), (50, [(1, 0.15206847), (3, 0.84792405)]), (51, [(1, 0.084064275), (3, 0.91573)]), (122, [(3, 0.9997208)]), (131, [(1, 0.9987642)]), (155, [(1, 0.9995865)])])\n",
      "([(0, 0.022304796), (1, 0.022568675), (2, 0.80006653), (3, 0.022230923), (4, 0.13282907)], [(17, [2]), (43, [2]), (54, [4]), (59, [2]), (85, [2]), (117, [2]), (152, [2]), (153, [2])], [(17, [(2, 0.99986947)]), (43, [(2, 0.99925536)]), (54, [(4, 0.9952919)]), (59, [(2, 0.9999381)]), (85, [(2, 0.99993634)]), (117, [(2, 0.99995327)]), (152, [(2, 0.999909)]), (153, [(2, 0.999909)])])\n",
      "([(0, 0.016678175), (1, 0.017532773), (2, 0.01691192), (3, 0.9321642), (4, 0.01671294)], [(7, [3]), (22, [3]), (35, [3]), (38, [3]), (42, [3]), (51, [3]), (68, [3]), (69, [3]), (71, [3]), (72, [3]), (128, [3])], [(7, [(3, 0.9996416)]), (22, [(3, 0.9997353)]), (35, [(3, 0.9998787)]), (38, [(3, 0.9999977)]), (42, [(3, 0.9998822)]), (51, [(3, 0.9997904)]), (68, [(3, 0.9985732)]), (69, [(3, 0.9985732)]), (71, [(3, 0.99998796)]), (72, [(3, 0.9987978)]), (128, [(3, 0.9910366)])])\n",
      "([(0, 0.018240195), (1, 0.018914945), (2, 0.018219972), (3, 0.9262584), (4, 0.018366452)], [(7, [3]), (9, [3]), (34, [3]), (35, [3]), (38, [3]), (51, [3]), (57, [3]), (141, [3]), (165, [3]), (183, [3])], [(7, [(3, 0.9995898)]), (9, [(3, 0.99967486)]), (34, [(3, 0.9991713)]), (35, [(3, 0.9998647)]), (38, [(3, 0.9999976)]), (51, [(3, 0.9997754)]), (57, [(3, 0.9987832)]), (141, [(3, 0.9999685)]), (165, [(3, 0.9939618)]), (183, [(3, 0.99805534)])])\n",
      "([(0, 0.018241294), (1, 0.2297594), (2, 0.018250784), (3, 0.71459746), (4, 0.019151118)], [(5, [3]), (8, [3]), (22, [3, 1]), (34, [3]), (51, [3, 1]), (55, [1]), (57, [3, 1]), (71, [3]), (93, [1]), (122, [3])], [(5, [(3, 0.99820393)]), (8, [(3, 0.99815214)]), (22, [(1, 0.05746153), (3, 0.94231075)]), (34, [(3, 0.9981233)]), (51, [(1, 0.0351652), (3, 0.964633)]), (55, [(1, 0.993749)]), (57, [(1, 0.24065967), (3, 0.75881475)]), (71, [(3, 0.9998314)]), (93, [(1, 0.9995088)]), (122, [(3, 0.99985886)])])\n",
      "([(0, 0.028593121), (1, 0.028572397), (2, 0.8856903), (3, 0.028572036), (4, 0.02857213)], [(17, [2]), (116, [2]), (117, [2]), (137, [2]), (152, [2]), (174, [2])], [(17, [(2, 0.9998581)]), (116, [(2, 0.9999788)]), (117, [(2, 0.9999869)]), (137, [(2, 0.9999788)]), (152, [(2, 0.9999741)]), (174, [(2, 0.9999741)])])\n",
      "([(0, 0.01670929), (1, 0.116638504), (2, 0.0167394), (3, 0.83304095), (4, 0.016871827)], [(2, [3, 1]), (6, [3]), (7, [3]), (22, [3, 1]), (34, [3]), (40, [3, 1]), (48, [3]), (51, [3, 1]), (57, [3, 1]), (132, [1]), (142, [3])], [(2, [(1, 0.020616082), (3, 0.9793138)]), (6, [(3, 0.99639827)]), (7, [(3, 0.9995584)]), (22, [(1, 0.021246871), (3, 0.97860247)]), (34, [(3, 0.9989085)]), (40, [(1, 0.035536498), (3, 0.964459)]), (48, [(3, 0.9999672)]), (51, [(1, 0.0128113115), (3, 0.98704505)]), (57, [(1, 0.101417184), (3, 0.89812815)]), (132, [(1, 0.99598503)]), (142, [(3, 0.9914198)])])\n",
      "([(0, 0.016968736), (1, 0.016961802), (2, 0.016828803), (3, 0.6217502), (4, 0.32749048)], [(2, [3, 4]), (5, [3, 4]), (8, [3, 4]), (9, [3, 4]), (22, [3, 4]), (35, [3]), (54, [4]), (55, [4]), (62, [3]), (80, [3]), (81, [3, 4])], [(2, [(3, 0.9465629), (4, 0.053268027)]), (5, [(3, 0.5145243), (4, 0.48547095)]), (8, [(3, 0.5038323), (4, 0.49616432)]), (9, [(3, 0.77750707), (4, 0.22248417)]), (22, [(3, 0.8841045), (4, 0.11573671)]), (35, [(3, 0.99977946)]), (54, [(4, 0.9992147)]), (55, [(4, 0.99898756)]), (62, [(3, 0.9947411)]), (80, [(3, 0.9972802)]), (81, [(3, 0.643174), (4, 0.356802)])])\n",
      "([(0, 0.016667254), (1, 0.016837208), (2, 0.016720593), (3, 0.63926977), (4, 0.31050515)], [(6, [3, 4]), (8, [3, 4]), (19, [3, 4]), (23, [4]), (26, [3, 4]), (42, [3]), (51, [3, 4]), (71, [3]), (89, [4]), (148, [3]), (176, [3])], [(6, [(3, 0.72857684), (4, 0.27140266)]), (8, [(3, 0.5264381), (4, 0.47355852)]), (19, [(3, 0.6385405), (4, 0.3604217)]), (23, [(4, 0.9998914)]), (26, [(3, 0.6362149), (4, 0.36261818)]), (42, [(3, 0.9998263)]), (51, [(3, 0.942511), (4, 0.057311457)]), (71, [(3, 0.99984914)]), (89, [(4, 0.9996851)]), (148, [(3, 0.9996589)]), (176, [(3, 0.99975204)])])\n",
      "([(0, 0.014333014), (1, 0.16447234), (2, 0.0142861055), (3, 0.3180301), (4, 0.4888785)], [(3, [4, 3]), (7, [4, 3]), (8, [4, 3]), (21, [4, 3]), (23, [4]), (24, [1]), (25, [1]), (35, [3]), (38, [3]), (88, [4]), (92, [4]), (95, [4, 3, 1])], [(3, [(3, 0.12565172), (4, 0.87389773)]), (7, [(3, 0.45728272), (4, 0.5426731)]), (8, [(3, 0.23839761), (4, 0.7615743)]), (21, [(3, 0.110492215), (4, 0.88944334)]), (23, [(4, 0.9999336)]), (24, [(1, 0.9996686)]), (25, [(1, 0.99965835)]), (35, [(3, 1.9991671)]), (38, [(3, 0.99985105)]), (88, [(4, 0.9997063)]), (92, [(4, 0.9997063)]), (95, [(1, 0.10225536), (3, 0.32074735), (4, 0.57697296)])])\n",
      "([(0, 0.9266162), (1, 0.018734274), (2, 0.018276237), (3, 0.01818242), (4, 0.018190807)], [(125, [0]), (155, [0]), (156, [0]), (157, [0]), (162, [0]), (163, [0]), (168, [0]), (169, [0])], [(125, [(0, 0.99881846)]), (155, [(0, 0.993889)]), (156, [(0, 0.9999826)]), (157, [(0, 2.9999852)]), (162, [(0, 0.9999857)]), (163, [(0, 0.99999034)]), (168, [(0, 0.9999873)]), (169, [(0, 0.99998266)])])\n",
      "([(0, 0.020197539), (1, 0.020010427), (2, 0.8191495), (3, 0.120637976), (4, 0.020004548)], [(10, [2]), (35, [3]), (47, [2]), (49, [2]), (59, [2]), (61, [2]), (84, [2]), (85, [2]), (86, [2])], [(10, [(2, 0.99999326)]), (35, [(3, 0.9973013)]), (47, [(2, 0.9908462)]), (49, [(2, 0.9999905)]), (59, [(2, 0.99994516)]), (61, [(2, 0.99996823)]), (84, [(2, 0.999864)]), (85, [(2, 0.99995404)]), (86, [(2, 0.9999547)])])\n",
      "([(0, 0.015408942), (1, 0.01550619), (2, 0.015429871), (3, 0.6720464), (4, 0.28160852)], [(5, [3, 4]), (6, [3, 4]), (8, [3, 4]), (19, [3, 4]), (21, [4, 3]), (23, [4]), (26, [3, 4]), (35, [3]), (38, [3]), (51, [3, 4]), (73, [3])], [(5, [(3, 0.57619905), (4, 0.42379618)]), (6, [(3, 0.75877357), (4, 0.2412078)]), (8, [(3, 0.56571895), (4, 0.43427762)]), (19, [(3, 0.6742693), (4, 0.3247852)]), (21, [(3, 0.3407831), (4, 0.6592056)]), (23, [(4, 0.9998733)]), (26, [(3, 0.672054), (4, 0.32688144)]), (35, [(3, 1.9996569)]), (38, [(3, 0.9999749)]), (51, [(3, 0.9505212), (4, 0.04932388)]), (73, [(3, 0.9999205)])])\n",
      "([(0, 0.01540388), (1, 0.015401867), (2, 0.015389494), (3, 0.84595865), (4, 0.10784611)], [(2, [3, 4]), (6, [3, 4]), (7, [3, 4]), (9, [3, 4]), (35, [3]), (38, [3]), (48, [3]), (51, [3, 4]), (73, [3]), (91, [4]), (142, [3])], [(2, [(3, 0.9897736), (4, 0.0101177115)]), (6, [(3, 0.931016), (4, 0.06896654)]), (7, [(3, 0.93768454), (4, 0.062311567)]), (9, [(3, 0.9505825), (4, 0.049409892)]), (35, [(3, 1.999746)]), (38, [(3, 0.99999243)]), (48, [(3, 0.9999806)]), (51, [(3, 0.9879306), (4, 0.01194604)]), (73, [(3, 0.9999761)]), (91, [(4, 0.9990164)]), (142, [(3, 0.9999315)])])\n",
      "([(0, 0.016677003), (1, 0.016758896), (2, 0.016671842), (3, 0.9329844), (4, 0.016907843)], [(7, [3]), (22, [3]), (35, [3]), (38, [3]), (42, [3]), (50, [3]), (51, [3]), (78, [3]), (96, [3]), (121, [3]), (122, [3])], [(7, [(3, 0.9996199)]), (22, [(3, 0.9997552)]), (35, [(3, 0.9998789)]), (38, [(3, 0.99999774)]), (42, [(3, 0.9999062)]), (50, [(3, 0.9998704)]), (51, [(3, 0.99980766)]), (78, [(3, 0.999981)]), (96, [(3, 0.99737805)]), (121, [(3, 0.99972314)]), (122, [(3, 0.9999691)])])\n",
      "([(0, 0.016680887), (1, 0.016774168), (2, 0.01666718), (3, 0.69675434), (4, 0.25312346)], [(0, [4]), (2, [3, 4]), (5, [3, 4]), (6, [3, 4]), (7, [3, 4]), (8, [3, 4]), (21, [4, 3]), (35, [3]), (142, [3]), (180, [3])], [(0, [(4, 0.99961334)]), (2, [(3, 0.96420205), (4, 0.03565353)]), (5, [(3, 0.6172901), (4, 0.3827049)]), (6, [(3, 0.788653), (4, 0.21132718)]), (7, [(3, 0.8062005), (4, 0.19379523)]), (8, [(3, 0.6071334), (4, 0.39286298)]), (21, [(3, 0.3801445), (4, 0.61984324)]), (35, [(3, 0.9998238)]), (142, [(3, 1.9997321)]), (180, [(3, 0.99867344)])])\n",
      "([(0, 0.017111478), (1, 0.14507194), (2, 0.14067286), (3, 0.6800426), (4, 0.017101066)], [(3, [3]), (12, [3, 2]), (19, [3, 1, 2]), (26, [3, 1, 2]), (34, [3]), (35, [3]), (40, [3, 1]), (42, [3, 1]), (57, [3, 1, 2]), (59, [2]), (93, [1, 2])], [(3, [(3, 0.9953099)]), (12, [(2, 0.15789095), (3, 0.83793426)]), (19, [(1, 0.21263693), (2, 0.052331522), (3, 0.7343331)]), (26, [(1, 0.20132852), (2, 0.08787805), (3, 0.7101113)]), (34, [(3, 0.998339)]), (35, [(3, 0.99978274)]), (40, [(1, 0.05818102), (3, 0.9417763)]), (42, [(1, 0.030298157), (3, 0.9696762)]), (57, [(1, 0.1464233), (2, 0.080037855), (3, 0.77338225)]), (59, [(2, 0.9994061)]), (93, [(1, 0.8892394), (2, 0.110512935)])])\n",
      "([(0, 0.01683114), (1, 0.017219372), (2, 0.01680996), (3, 0.5620077), (4, 0.38713175)], [(7, [3, 4]), (8, [4, 3]), (9, [3, 4]), (51, [3, 4]), (54, [4]), (55, [4]), (57, [3, 4]), (104, [3, 4]), (121, [3, 4]), (148, [3]), (165, [3, 4])], [(7, [(3, 0.6701049), (4, 0.32989058)]), (8, [(3, 0.43006766), (4, 0.56992906)]), (9, [(3, 0.72197884), (4, 0.2780121)]), (51, [(3, 0.9175884), (4, 0.08219788)]), (54, [(4, 0.99931735)]), (55, [(4, 0.9991131)]), (57, [(3, 0.85318774), (4, 0.14540331)]), (104, [(3, 0.69239), (4, 0.30444086)]), (121, [(3, 0.741264), (4, 0.25872323)]), (148, [(3, 0.9995338)]), (165, [(3, 0.516367), (4, 0.47951344)])])\n",
      "([(0, 0.015411841), (1, 0.015685586), (2, 0.15336008), (3, 0.5562238), (4, 0.25931865)], [(5, [3, 4]), (7, [3, 4]), (40, [3]), (42, [3]), (47, [2, 3, 4]), (49, [2]), (50, [3]), (51, [3, 4, 2]), (54, [4]), (55, [4]), (56, [3, 4]), (57, [3, 2, 4])], [(5, [(3, 0.5500364), (4, 0.44991553)]), (7, [(3, 0.7591821), (4, 0.24077472)]), (40, [(3, 0.99958175)]), (42, [(3, 0.99977833)]), (47, [(2, 0.6510689), (3, 0.26741374), (4, 0.08113348)]), (49, [(2, 0.9995639)]), (50, [(3, 0.99965197)]), (51, [(2, 0.025846753), (3, 0.9209056), (4, 0.05314539)]), (54, [(4, 0.9989588)]), (55, [(4, 0.9986933)]), (56, [(3, 0.73757124), (4, 0.26179954)]), (57, [(2, 0.11665546), (3, 0.79526967), (4, 0.087313615)])])\n",
      "([(0, 0.015399124), (1, 0.015504383), (2, 0.015391235), (3, 0.5703948), (4, 0.38331047)], [(5, [4, 3]), (6, [3, 4]), (7, [3, 4]), (8, [4, 3]), (21, [4, 3]), (22, [3, 4]), (35, [3]), (38, [3]), (50, [3]), (51, [3, 4]), (54, [4]), (55, [4])], [(5, [(3, 0.4464999), (4, 0.5534957)]), (6, [(3, 0.651122), (4, 0.34885898)]), (7, [(3, 0.67538166), (4, 0.32461417)]), (8, [(3, 0.43595192), (4, 0.564045)]), (21, [(3, 0.23472567), (4, 0.7652651)]), (22, [(3, 0.85312396), (4, 0.14672875)]), (35, [(3, 0.99978983)]), (38, [(3, 0.99995923)]), (50, [(3, 0.9997104)]), (51, [(3, 0.91941196), (4, 0.08041073)]), (54, [(4, 0.9994228)]), (55, [(4, 0.9992576)])])\n",
      "([(0, 0.018182063), (1, 0.018253118), (2, 0.018182013), (3, 0.018451108), (4, 0.92693174)], [(0, [4]), (3, [4]), (5, [4]), (8, [4]), (21, [4]), (22, [4]), (23, [4]), (27, [4]), (55, [4]), (100, [4])], [(0, [(4, 0.99994487)]), (3, [(4, 0.99986595)]), (5, [(4, 0.9997029)]), (8, [(4, 0.9997162)]), (21, [(4, 0.99988353)]), (22, [(4, 0.9974334)]), (23, [(4, 0.99999756)]), (27, [(4, 0.9999955)]), (55, [(4, 0.99970585)]), (100, [(4, 0.9999948)])])\n",
      "([(0, 0.016690893), (1, 0.016820034), (2, 0.016676886), (3, 0.4171032), (4, 0.532709)], [(7, [3, 4]), (8, [4, 3]), (27, [4]), (35, [3]), (51, [3, 4]), (54, [4]), (55, [4]), (64, [4]), (73, [3]), (96, [4, 3]), (119, [3])], [(7, [(3, 0.50820106), (4, 0.49179432)]), (8, [(3, 0.27739304), (4, 0.72260416)]), (27, [(4, 0.9999337)]), (35, [(3, 0.99966633)]), (51, [(3, 0.85006094), (4, 0.14968686)]), (54, [(4, 0.9995844)]), (55, [(4, 0.9994563)]), (64, [(4, 0.99989426)]), (73, [(3, 0.9997469)]), (96, [(3, 0.1708485), (4, 0.8288456)]), (119, [(3, 0.99910444)])])\n",
      "([(0, 0.016710807), (1, 0.14572847), (2, 0.016749045), (3, 0.80391175), (4, 0.016899882)], [(6, [3]), (19, [3, 1]), (22, [3, 1]), (26, [3, 1]), (34, [3]), (40, [3, 1]), (42, [3, 1]), (50, [3, 1]), (51, [3, 1]), (132, [1]), (175, [3])], [(6, [(3, 0.9950888)]), (19, [(1, 0.19600272), (3, 0.8031914)]), (22, [(1, 0.029760337), (3, 0.97008324)]), (26, [(1, 0.19266771), (3, 0.80636686)]), (34, [(3, 0.9987719)]), (40, [(1, 0.049486548), (3, 0.95050883)]), (42, [(1, 0.025656516), (3, 0.9743407)]), (50, [(1, 0.034589503), (3, 0.9654047)]), (51, [(1, 0.01800691), (3, 0.98184395)]), (132, [(1, 0.9971139)]), (175, [(3, 0.9998388)])])\n",
      "([(0, 0.015391448), (1, 0.17408529), (2, 0.39540637), (3, 0.39918867), (4, 0.015928226)], [(22, [3, 1]), (40, [3, 1]), (42, [3, 1]), (51, [3, 2, 1]), (55, [1]), (57, [3, 2, 1]), (59, [2]), (82, [2]), (133, [2, 1]), (134, [2]), (135, [2])], [(22, [(1, 0.15387051), (3, 1.8450812)]), (40, [(1, 0.12395328), (3, 0.8758222)]), (42, [(1, 0.06679015), (3, 0.9330706)]), (51, [(1, 0.042497218), (2, 0.10493395), (3, 0.85241824)]), (55, [(1, 0.99271876)]), (57, [(1, 0.20878193), (2, 0.30969304), (3, 0.4813583)]), (59, [(2, 0.9998641)]), (82, [(2, 0.99982387)]), (133, [(1, 0.4747723), (2, 0.5248762)]), (134, [(2, 0.99956274)]), (135, [(2, 0.99956274)])])\n",
      "([(0, 0.01717516), (1, 0.017075088), (2, 0.1519607), (3, 0.70513934), (4, 0.10864977)], [(22, [3, 4]), (35, [3]), (38, [3]), (40, [3]), (42, [3]), (43, [2, 3]), (50, [3]), (55, [4]), (121, [3, 4]), (173, [2])], [(22, [(3, 1.9447612), (4, 0.05484997)]), (35, [(3, 0.99979216)]), (38, [(3, 0.9999685)]), (40, [(3, 0.99967337)]), (42, [(3, 0.99982965)]), (43, [(2, 0.6314537), (3, 0.36616543)]), (50, [(3, 0.9997423)]), (55, [(4, 0.99542725)]), (121, [(3, 0.9469679), (4, 0.052917093)]), (173, [(2, 0.9918799)])])\n",
      "([(0, 0.014286366), (1, 0.27696493), (2, 0.01432485), (3, 0.25034848), (4, 0.44407535)], [(0, [4, 1]), (2, [3, 1, 4]), (3, [4, 3]), (6, [4, 3, 1]), (8, [4, 3]), (19, [4, 1, 3]), (26, [4, 1, 3]), (42, [3, 1]), (51, [3, 4, 1]), (54, [4, 1]), (55, [4, 1]), (63, [1]), (65, [1])], [(0, [(1, 0.055008985), (4, 0.94495696)]), (2, [(1, 0.16420124), (3, 0.687308), (4, 0.14847258)]), (3, [(3, 0.10824066), (4, 0.8908191)]), (6, [(1, 0.013716927), (3, 0.38445166), (4, 0.60182667)]), (8, [(3, 0.20918342), (4, 0.7907597)]), (19, [(1, 0.36753133), (3, 0.18752135), (4, 0.44479933)]), (26, [(1, 0.36101928), (3, 0.18812802), (4, 0.45059893)]), (42, [(1, 0.17454953), (3, 0.8253368)]), (51, [(1, 0.10498447), (3, 0.71273434), (4, 0.18212672)]), (54, [(1, 0.19242984), (4, 0.80753744)]), (55, [(1, 0.24518843), (4, 0.7547827)]), (63, [(1, 0.99887824)]), (65, [(1, 0.99887824)])])\n",
      "([(0, 0.016687049), (1, 0.01674764), (2, 0.017170677), (3, 0.93246317), (4, 0.016931467)], [(5, [3]), (6, [3]), (8, [3]), (9, [3]), (35, [3]), (38, [3]), (42, [3]), (47, [3]), (51, [3]), (73, [3])], [(5, [(3, 0.9990164)]), (6, [(3, 0.99955887)]), (8, [(3, 0.99897534)]), (9, [(3, 0.99969596)]), (35, [(3, 1.9997568)]), (38, [(3, 0.9999977)]), (42, [(3, 0.9999063)]), (47, [(3, 0.99290633)]), (51, [(3, 0.9997976)]), (73, [(3, 0.9999929)])])\n",
      "([(0, 0.01670176), (1, 0.016708255), (2, 0.016671777), (3, 0.9329855), (4, 0.016932752)], [(5, [3]), (7, [3]), (8, [3]), (35, [3]), (38, [3]), (42, [3]), (51, [3]), (56, [3]), (119, [3]), (121, [3]), (122, [3])], [(5, [(3, 0.9990167)]), (7, [(3, 0.99961704)]), (8, [(3, 0.9989755)]), (35, [(3, 0.99987787)]), (38, [(3, 0.9999977)]), (42, [(3, 0.99990755)]), (51, [(3, 0.99980813)]), (56, [(3, 0.9991456)]), (119, [(3, 0.9997672)]), (121, [(3, 0.9997211)]), (122, [(3, 0.99996907)])])\n",
      "([(0, 0.01667694), (1, 0.016714724), (2, 0.016671801), (3, 0.93321896), (4, 0.016717639)], [(6, [3]), (22, [3]), (35, [3]), (38, [3]), (40, [3]), (42, [3]), (48, [3]), (50, [3]), (51, [3]), (122, [3]), (141, [3])], [(6, [(3, 0.99958634)]), (22, [(3, 0.99976444)]), (35, [(3, 0.9998789)]), (38, [(3, 0.9999977)]), (40, [(3, 0.99981755)]), (42, [(3, 0.9999074)]), (48, [(3, 0.99999416)]), (50, [(3, 0.9998722)]), (51, [(3, 0.9998124)]), (122, [(3, 0.99997056)]), (141, [(3, 0.9999692)])])\n",
      "([(0, 0.018199055), (1, 0.018322144), (2, 0.018230127), (3, 0.67090535), (4, 0.27434337)], [(0, [4]), (3, [4, 3]), (5, [3, 4]), (6, [3, 4]), (8, [3, 4]), (35, [3]), (40, [3]), (42, [3]), (51, [3, 4]), (57, [3, 4])], [(0, [(4, 0.9996318)]), (3, [(3, 0.3850574), (4, 0.6149317)]), (5, [(3, 0.5872619), (4, 0.41273302)]), (6, [(3, 0.766995), (4, 0.23298317)]), (8, [(3, 0.5768546), (4, 0.42314184)]), (35, [(3, 0.99979883)]), (40, [(3, 0.9996699)]), (42, [(3, 0.99982816)]), (51, [(3, 0.95258117), (4, 0.04723352)]), (57, [(3, 0.91266114), (4, 0.08609439)])])\n",
      "([(0, 0.08970504), (1, 0.0143212965), (2, 0.014290147), (3, 0.8672974), (4, 0.014386114)], [(2, [3]), (8, [3]), (35, [3, 0]), (38, [3]), (42, [3]), (48, [3]), (50, [3]), (51, [3]), (56, [3, 0]), (142, [3]), (176, [3]), (177, [3]), (178, [0])], [(2, [(3, 0.9998136)]), (8, [(3, 0.9990762)]), (35, [(0, 0.017140152), (3, 0.98285854)]), (38, [(3, 0.9999844)]), (42, [(3, 0.999901)]), (48, [(3, 0.9999598)]), (50, [(3, 0.9998538)]), (51, [(3, 0.99981785)]), (56, [(0, 0.04123563), (3, 0.958289)]), (142, [(3, 0.99991506)]), (176, [(3, 0.9998421)]), (177, [(3, 0.99988586)]), (178, [(0, 0.99701196)])])\n",
      "([(0, 0.20303343), (1, 0.013350554), (2, 0.01335224), (3, 0.75681376), (4, 0.0134500135)], [(7, [3]), (8, [3]), (12, [0, 3]), (35, [3, 0]), (38, [3]), (42, [3]), (51, [3]), (56, [3, 0]), (158, [0]), (175, [3]), (176, [3]), (177, [3]), (178, [0])], [(7, [(3, 0.9995626)]), (8, [(3, 0.99894327)]), (12, [(0, 0.6039492), (3, 0.39582616)]), (35, [(0, 0.11274236), (3, 1.887255)]), (38, [(3, 0.9999522)]), (42, [(3, 0.9998617)]), (51, [(3, 0.99978393)]), (56, [(0, 0.12840737), (3, 0.8711259)]), (158, [(0, 0.999621)]), (175, [(3, 0.9995672)]), (176, [(3, 0.9995048)]), (177, [(3, 0.99965)]), (178, [(0, 0.9991203)])])\n",
      "([(0, 0.016696168), (1, 0.311538), (2, 0.017090343), (3, 0.63770974), (4, 0.016965766)], [(1, [1, 3]), (7, [3]), (16, [1, 3]), (35, [3]), (38, [3]), (47, [3, 1]), (51, [3, 1]), (95, [3, 1]), (96, [3, 1]), (148, [3, 1]), (165, [1, 3])], [(1, [(1, 0.5773636), (3, 0.42260706)]), (7, [(3, 0.99933815)]), (16, [(1, 0.9588301), (3, 0.04092838)]), (35, [(3, 0.99978954)]), (38, [(3, 0.9999465)]), (47, [(1, 0.42820963), (3, 0.5665419)]), (51, [(1, 0.056213435), (3, 0.94359195)]), (95, [(1, 0.23905931), (3, 0.7602532)]), (96, [(1, 0.40181744), (3, 0.5964508)]), (148, [(1, 0.089971416), (3, 0.91000986)]), (165, [(1, 0.78540075), (3, 0.21431778)])])\n",
      "([(0, 0.1768498), (1, 0.27737054), (2, 0.02062638), (3, 0.50488925), (4, 0.02026404)], [(5, [3]), (14, [0]), (40, [3, 1]), (42, [3, 1]), (43, [0, 3, 1]), (50, [3, 1]), (51, [3, 1]), (133, [1]), (167, [1])], [(5, [(3, 0.9974464)]), (14, [(0, 0.99920726)]), (40, [(1, 0.15767181), (3, 0.84223956)]), (42, [(1, 0.086489074), (3, 0.91345465)]), (43, [(0, 0.56709284), (1, 0.15962677), (3, 0.26969847)]), (50, [(1, 0.11411533), (3, 0.8857714)]), (51, [(1, 0.061844755), (3, 0.9378184)]), (133, [(1, 0.997835)]), (167, [(1, 0.9959543)])])\n",
      "([(0, 0.028621156), (1, 0.028665755), (2, 0.60011256), (3, 0.31389236), (4, 0.028708164)], [(22, [3]), (82, [2]), (83, [2]), (122, [3])], [(22, [(3, 0.998062)]), (82, [(2, 1.999912)]), (83, [(2, 1.9995037)]), (122, [(3, 0.99898034)])])\n",
      "([(0, 0.018182855), (1, 0.4438863), (2, 0.018831328), (3, 0.01878082), (4, 0.5003187)], [(0, [4, 1]), (1, [1]), (5, [4]), (6, [4, 1]), (22, [4, 1]), (47, [1, 4]), (54, [4, 1]), (55, [4, 1]), (80, [1]), (167, [1, 4])], [(0, [(1, 0.07931949), (4, 0.9206751)]), (1, [(1, 0.9989435)]), (5, [(4, 0.99923307)]), (6, [(1, 0.03258523), (4, 0.9660141)]), (22, [(1, 0.4194145), (4, 0.57797265)]), (47, [(1, 0.6686627), (4, 0.3247889)]), (54, [(1, 0.26071712), (4, 0.7392782)]), (55, [(1, 0.32467064), (4, 0.67532545)]), (80, [(1, 0.99841195)]), (167, [(1, 0.9003001), (4, 0.09897942)])])\n",
      "([(0, 0.016687416), (1, 0.017221736), (2, 0.01684093), (3, 0.93253547), (4, 0.01671442)], [(7, [3]), (22, [3]), (35, [3]), (38, [3]), (42, [3]), (51, [3]), (78, [3]), (122, [3]), (128, [3]), (177, [3])], [(7, [(3, 0.99964166)]), (22, [(3, 0.999747)]), (35, [(3, 1.9997568)]), (38, [(3, 0.9999976)]), (42, [(3, 0.99989235)]), (51, [(3, 0.99979883)]), (78, [(3, 0.99998087)]), (122, [(3, 0.99997056)]), (128, [(3, 0.9916671)]), (177, [(3, 0.9999825)])])\n",
      "([(0, 0.015482224), (1, 0.015492361), (2, 0.015395057), (3, 0.33288205), (4, 0.62074834)], [(0, [4]), (7, [4, 3]), (8, [4, 3]), (15, [4]), (33, [4]), (35, [3]), (38, [3]), (39, [4, 3]), (41, [4]), (51, [3, 4]), (96, [4, 3]), (121, [4, 3])], [(0, [(4, 0.9998991)]), (7, [(3, 0.40625703), (4, 0.5937382)]), (8, [(3, 0.20266856), (4, 0.7973288)]), (15, [(4, 0.9977798)]), (33, [(4, 0.9998775)]), (35, [(3, 0.99958354)]), (38, [(3, 0.9998808)]), (39, [(3, 0.117073834), (4, 0.8829053)]), (41, [(4, 0.9998775)]), (51, [(3, 0.7897118), (4, 0.21001406)]), (96, [(3, 0.12006543), (4, 0.87968385)]), (121, [(3, 0.4911117), (4, 0.5088735)])])\n",
      "([(0, 0.016671024), (1, 0.9331947), (2, 0.016672123), (3, 0.016693529), (4, 0.016768655)], [(24, [1]), (25, [1]), (28, [1]), (31, [1]), (93, [1]), (96, [1]), (155, [1]), (161, [1]), (164, [1]), (166, [1])], [(24, [(1, 1.999995)]), (25, [(1, 0.99999744)]), (28, [(1, 0.9999951)]), (31, [(1, 0.99999845)]), (93, [(1, 0.9999365)]), (96, [(1, 0.9984488)]), (155, [(1, 0.9999422)]), (161, [(1, 0.99997413)]), (164, [(1, 0.99998236)]), (166, [(1, 0.999986)])])\n",
      "([(0, 0.017184779), (1, 0.016678602), (2, 0.4530808), (3, 0.49620423), (4, 0.01685161)], [(6, [3]), (7, [3]), (9, [3]), (12, [2, 3]), (35, [3]), (51, [3, 2]), (52, [2]), (59, [2]), (60, [2]), (61, [2]), (62, [2, 3])], [(6, [(3, 0.9989934)]), (7, [(3, 0.9990662)]), (9, [(3, 0.9990237)]), (12, [(2, 0.5155791), (3, 0.481043)]), (35, [(3, 0.9996428)]), (51, [(2, 0.10120772), (3, 0.8985619)]), (52, [(2, 0.99984527)]), (59, [(2, 0.9998807)]), (60, [(2, 0.9993485)]), (61, [(2, 0.99976295)]), (62, [(2, 0.62071186), (3, 0.37750155)])])\n",
      "([(0, 0.017086357), (1, 0.18638283), (2, 0.11117234), (3, 0.66855955), (4, 0.016798897)], [(6, [3]), (7, [3]), (9, [3]), (12, [3, 2]), (28, [1]), (31, [1]), (35, [3]), (48, [3]), (51, [3, 1, 2]), (59, [2]), (71, [3])], [(6, [(3, 0.992036)]), (7, [(3, 0.99940866)]), (9, [(3, 0.9994524)]), (12, [(2, 0.12065505), (3, 0.8749092)]), (28, [(1, 0.9994735)]), (31, [(1, 0.9998252)]), (35, [(3, 0.9997803)]), (48, [(3, 0.99988973)]), (51, [(1, 0.029330289), (2, 0.013864952), (3, 0.9567128)]), (59, [(2, 0.99914324)]), (71, [(3, 0.99977005)])])\n",
      "([(0, 0.015637584), (1, 0.015405429), (2, 0.0154288635), (3, 0.93795586), (4, 0.01557222)], [(3, [3]), (6, [3]), (12, [3]), (35, [3]), (38, [3]), (42, [3]), (48, [3]), (50, [3]), (51, [3]), (71, [3]), (114, [3])], [(3, [(3, 0.9979902)]), (6, [(3, 0.9996039)]), (12, [(3, 0.9964462)]), (35, [(3, 1.9997594)]), (38, [(3, 0.9999977)]), (42, [(3, 0.9999156)]), (48, [(3, 0.9999942)]), (50, [(3, 0.99988353)]), (51, [(3, 0.9998252)]), (71, [(3, 0.99998814)]), (114, [(3, 0.9999508)])])\n",
      "([(0, 0.029129134), (1, 0.028590173), (2, 0.7268483), (3, 0.18686034), (4, 0.028572068)], [(17, [2]), (43, [2, 3]), (59, [2]), (62, [2, 3]), (73, [3]), (113, [2])], [(17, [(2, 0.99979776)]), (43, [(2, 0.98109835), (3, 0.017905187)]), (59, [(2, 0.99990404)]), (62, [(2, 0.9050039), (3, 0.09236451)]), (73, [(3, 0.9976327)]), (113, [(2, 0.9999554)])])\n",
      "([(0, 0.018182835), (1, 0.018264519), (2, 0.018195104), (3, 0.39410654), (4, 0.551251)], [(4, [4, 3]), (8, [4, 3]), (27, [4]), (40, [3]), (42, [3]), (51, [3, 4]), (64, [4]), (91, [4]), (100, [4]), (114, [3])], [(4, [(3, 0.04447718), (4, 0.95551103)]), (8, [(3, 0.25722742), (4, 0.7427698)]), (27, [(4, 0.99993956)]), (40, [(3, 0.9993312)]), (42, [(3, 0.9996433)]), (51, [(3, 0.836444), (4, 0.16326855)]), (64, [(4, 0.9999037)]), (91, [(4, 0.9999344)]), (100, [(4, 0.99992657)]), (114, [(3, 0.9979689)])])\n",
      "([(0, 0.01666712), (1, 0.93220305), (2, 0.016695233), (3, 0.017074268), (4, 0.01736026)], [(0, [1]), (19, [1]), (24, [1]), (25, [1]), (26, [1]), (31, [1]), (32, [1]), (40, [1]), (42, [1]), (53, [1]), (54, [1])], [(0, [(1, 0.99407977)]), (19, [(1, 0.9991503)]), (24, [(1, 0.9999975)]), (25, [(1, 0.9999973)]), (26, [(1, 0.99903613)]), (31, [(1, 0.99999845)]), (32, [(1, 0.99999017)]), (40, [(1, 0.9985535)]), (42, [(1, 0.99715316)]), (53, [(1, 0.9999844)]), (54, [(1, 0.99854666)])])\n",
      "([(0, 0.018182833), (1, 0.01912397), (2, 0.018317992), (3, 0.29719248), (4, 0.6471827)], [(0, [4]), (5, [4, 3]), (6, [4, 3]), (8, [4, 3]), (27, [4]), (42, [3]), (51, [3, 4]), (57, [3, 4]), (91, [4]), (132, [4])], [(0, [(4, 0.99987507)]), (5, [(3, 0.18033299), (4, 0.8196631)]), (6, [(3, 0.33731386), (4, 0.6626573)]), (8, [(3, 0.17409497), (4, 0.8259023)]), (27, [(4, 0.9999614)]), (42, [(3, 0.99938905)]), (51, [(3, 0.7568722), (4, 0.24271336)]), (57, [(3, 0.6195739), (4, 0.37799078)]), (91, [(4, 0.9999581)]), (132, [(4, 0.99058145)])])\n",
      "([(0, 0.018216742), (1, 0.018507116), (2, 0.018271105), (3, 0.39825174), (4, 0.5467532)], [(0, [4]), (4, [4, 3]), (5, [4, 3]), (7, [4, 3]), (8, [4, 3]), (22, [3, 4]), (56, [4, 3]), (75, [4]), (80, [3]), (122, [3, 4])], [(0, [(4, 0.9998565)]), (4, [(3, 0.045363627), (4, 0.9546244)]), (5, [(3, 0.26953536), (4, 0.7304606)]), (7, [(3, 0.4876202), (4, 0.5123751)]), (8, [(3, 0.261195), (4, 0.73880213)]), (22, [(3, 0.7265731), (4, 0.2731936)]), (56, [(3, 0.4593044), (4, 0.5401408)]), (75, [(4, 0.99984664)]), (80, [(3, 0.9947176)]), (122, [(3, 0.9370719), (4, 0.06291193)])])\n",
      "([(0, 0.015410656), (1, 0.0156202335), (2, 0.8228661), (3, 0.13068753), (4, 0.015415504)], [(17, [2]), (47, [2, 3]), (49, [2]), (51, [2, 3]), (52, [2]), (59, [2]), (60, [2]), (61, [2]), (130, [2]), (133, [2]), (142, [3]), (167, [2])], [(17, [(2, 0.99991333)]), (47, [(2, 0.98882675), (3, 0.011055802)]), (49, [(2, 0.9999894)]), (51, [(2, 0.50735444), (3, 0.49207786)]), (52, [(2, 0.9999768)]), (59, [(2, 0.9999586)]), (60, [(2, 0.99976563)]), (61, [(2, 0.9999644)]), (130, [(2, 0.9999857)]), (133, [(2, 0.9986392)]), (142, [(3, 0.9955944)]), (167, [(2, 0.99873847)])])\n",
      "([(0, 0.31458274), (1, 0.0250135), (2, 0.6103918), (3, 0.025011241), (4, 0.025000747)], [(10, [2]), (17, [2, 0]), (36, [0]), (43, [2, 0]), (113, [2]), (181, [0]), (182, [2])], [(10, [(2, 0.9999015)]), (17, [(0, 0.067677476), (2, 0.9323186)]), (36, [(0, 0.9983632)]), (43, [(0, 0.25193182), (2, 0.7478781)]), (113, [(2, 0.99943656)]), (181, [(0, 0.99724036)]), (182, [(2, 0.99944746)])])\n",
      "([(0, 0.01818233), (1, 0.018279547), (2, 0.018182233), (3, 0.018766675), (4, 0.9265892)], [(0, [4]), (2, [4]), (3, [4]), (5, [4]), (8, [4]), (21, [4]), (27, [4]), (64, [4]), (75, [4]), (100, [4])], [(0, [(4, 0.99994445)]), (2, [(4, 0.99360234)]), (3, [(4, 0.999854)]), (5, [(4, 0.9996759)]), (8, [(4, 0.9996904)]), (21, [(4, 0.9998732)]), (27, [(4, 0.99999547)]), (64, [(4, 0.9999928)]), (75, [(4, 0.9999671)]), (100, [(4, 0.9999948)])])\n",
      "([(0, 0.016677057), (1, 0.016776802), (2, 0.01676178), (3, 0.93284696), (4, 0.016937358)], [(6, [3]), (21, [3]), (35, [3]), (38, [3]), (40, [3]), (42, [3]), (48, [3]), (51, [3]), (57, [3]), (72, [3]), (148, [3])], [(6, [(3, 0.9995581)]), (21, [(3, 0.9974059)]), (35, [(3, 0.9998789)]), (38, [(3, 0.9999976)]), (40, [(3, 0.99981403)]), (42, [(3, 0.99990565)]), (48, [(3, 0.99999416)]), (51, [(3, 0.9998049)]), (57, [(3, 0.9989896)]), (72, [(3, 0.9989114)]), (148, [(3, 0.9998801)])])\n",
      "([(0, 0.016676234), (1, 0.016949417), (2, 0.9325522), (3, 0.017109575), (4, 0.016712513)], [(17, [2]), (47, [2]), (49, [2]), (51, [2]), (52, [2]), (59, [2]), (80, [2]), (112, [2]), (130, [2]), (133, [2]), (146, [2])], [(17, [(2, 0.99992335)]), (47, [(2, 0.99983615)]), (49, [(2, 0.9999967)]), (51, [(2, 0.9946098)]), (52, [(2, 0.999993)]), (59, [(2, 0.9999638)]), (80, [(2, 0.99773914)]), (112, [(2, 0.9999936)]), (130, [(2, 0.9999955)]), (133, [(2, 0.9987624)]), (146, [(2, 0.9999932)])])\n",
      "([(0, 0.020000944), (1, 0.16014837), (2, 0.020000767), (3, 0.12390199), (4, 0.6759479)], [(0, [4, 1]), (5, [4, 3]), (6, [4, 3]), (8, [4, 3]), (42, [3, 1]), (54, [4, 1]), (55, [4, 1]), (75, [4]), (101, [1])], [(0, [(1, 0.017506722), (4, 0.9824822)]), (5, [(3, 0.061634667), (4, 0.93833447)]), (6, [(3, 0.13113101), (4, 0.86284477)]), (8, [(3, 0.059206475), (4, 0.9407713)]), (42, [(1, 0.21380924), (3, 0.78574723)]), (54, [(1, 0.06798102), (4, 0.93200743)]), (55, [(1, 0.090440445), (4, 0.909549)]), (75, [(4, 0.99127984)]), (101, [(1, 0.99768275)])])\n",
      "([(0, 0.022519175), (1, 0.022647552), (2, 0.56880194), (3, 0.19917211), (4, 0.18685928)], [(7, [3, 4]), (17, [2]), (51, [3, 2, 4]), (59, [2]), (62, [2, 3]), (64, [4]), (72, [2, 3]), (128, [2, 3])], [(7, [(3, 0.5950206), (4, 0.4044995)]), (17, [(2, 0.9997817)]), (51, [(2, 0.27914813), (3, 0.64117813), (4, 0.07931408)]), (59, [(2, 0.9998951)]), (62, [(2, 0.8618687), (3, 0.13560615)]), (64, [(4, 0.99824786)]), (72, [(2, 0.8455848), (3, 0.15390028)]), (128, [(2, 0.93177134), (3, 0.06495685)])])\n",
      "([(0, 0.018182311), (1, 0.6526651), (2, 0.018274697), (3, 0.29203284), (4, 0.01884507)], [(6, [3, 1]), (19, [1, 3]), (26, [1, 3]), (42, [3, 1]), (51, [3, 1]), (54, [1]), (55, [1]), (57, [1, 3]), (123, [1]), (132, [1])], [(6, [(1, 0.07213038), (3, 0.92615724)]), (19, [(1, 0.80998), (3, 0.18932684)]), (26, [(1, 0.8066084), (3, 0.19256058)]), (42, [(1, 0.3158363), (3, 0.6841576)]), (51, [(1, 0.24319926), (3, 0.75639117)]), (54, [(1, 0.9976717)]), (55, [(1, 0.99829423)]), (57, [(1, 0.736297), (3, 0.26322106)]), (123, [(1, 0.99987566)]), (132, [(1, 0.9996925)])])\n",
      "([(0, 0.028581336), (1, 0.028867384), (2, 0.885028), (3, 0.028738618), (4, 0.028784674)], [(26, [2]), (59, [2]), (110, [2]), (112, [2]), (130, [2]), (146, [2])], [(26, [(2, 0.9952909)]), (59, [(2, 0.99993336)]), (110, [(2, 0.9999836)]), (112, [(2, 0.99999285)]), (130, [(2, 0.999995)]), (146, [(2, 0.99999243)])])\n",
      "([(0, 0.020000303), (1, 0.020042595), (2, 0.020007435), (3, 0.9195464), (4, 0.020403272)], [(5, [3]), (6, [3]), (7, [3]), (8, [3]), (9, [3]), (40, [3]), (42, [3]), (51, [3]), (73, [3])], [(5, [(3, 0.9987662)]), (6, [(3, 0.9994474)]), (7, [(3, 0.9995198)]), (8, [(3, 0.9987143)]), (9, [(3, 0.9996199)]), (40, [(3, 0.9997773)]), (42, [(3, 0.999887)]), (51, [(3, 0.9997627)]), (73, [(3, 0.99999255)])])\n",
      "([(0, 0.8009551), (1, 0.02074686), (2, 0.020182045), (3, 0.13807748), (4, 0.020038528)], [(12, [0, 3]), (16, [0, 3]), (34, [0, 3]), (43, [0, 3]), (73, [3]), (103, [0]), (115, [0, 3]), (159, [0]), (160, [0])], [(12, [(0, 0.9812561), (3, 0.018615467)]), (16, [(0, 0.9713078), (3, 0.021180242)]), (34, [(0, 0.88342106), (3, 0.116186485)]), (43, [(0, 0.98257697), (3, 0.016336245)]), (73, [(3, 0.9899882)]), (103, [(0, 0.99948835)]), (115, [(0, 0.9816683), (3, 0.018324677)]), (159, [(0, 0.9999746)]), (160, [(0, 0.99997014)])])\n",
      "([(0, 0.015396129), (1, 0.015661947), (2, 0.015416884), (3, 0.7241442), (4, 0.22938085)], [(7, [3, 4]), (35, [3]), (38, [3]), (48, [3]), (51, [3, 4]), (54, [4]), (55, [4]), (57, [3, 4]), (73, [3]), (96, [4, 3]), (119, [3]), (177, [3])], [(7, [(3, 0.82819587), (4, 0.17180005)]), (35, [(3, 0.99984473)]), (38, [(3, 0.9999811)]), (48, [(3, 0.9999519)]), (51, [(3, 0.96348315), (4, 0.036368046)]), (54, [(4, 0.9988659)]), (55, [(4, 0.9985551)]), (57, [(3, 0.9320526), (4, 0.06693191)]), (73, [(3, 0.99994016)]), (96, [(3, 0.4899846), (4, 0.5095504)]), (119, [(3, 0.9996278)]), (177, [(3, 0.9998577)])])\n",
      "([(0, 0.0153969815), (1, 0.2704179), (2, 0.01541594), (3, 0.6833649), (4, 0.015404281)], [(2, [3, 1]), (31, [1]), (35, [3]), (38, [3]), (42, [3, 1]), (46, [1]), (51, [3, 1]), (57, [3, 1]), (66, [1, 3]), (71, [3]), (142, [3, 1]), (175, [3])], [(2, [(1, 0.07133352), (3, 0.9285942)]), (31, [(1, 0.9999165)]), (35, [(3, 0.9998227)]), (38, [(3, 0.9999571)]), (42, [(1, 0.06367312), (3, 0.93632376)]), (46, [(1, 0.9997125)]), (51, [(1, 0.045214396), (3, 0.95463365)]), (57, [(1, 0.2916973), (3, 0.70790625)]), (66, [(1, 0.8123094), (3, 0.18763764)]), (71, [(3, 0.99978524)]), (142, [(1, 0.030585777), (3, 0.9694044)]), (175, [(3, 0.9996182)])])\n",
      "([(0, 0.0156184845), (1, 0.015514132), (2, 0.015555369), (3, 0.015968623), (4, 0.9373434)], [(7, [4]), (19, [4]), (23, [4]), (26, [4]), (33, [4]), (37, [4]), (39, [4]), (41, [4]), (51, [4]), (100, [4]), (104, [4]), (121, [4])], [(7, [(4, 0.9992887)]), (19, [(4, 0.99878424)]), (23, [(4, 0.99999756)]), (26, [(4, 0.99868983)]), (33, [(4, 0.9999889)]), (37, [(4, 0.999244)]), (39, [(4, 0.9998477)]), (41, [(4, 0.9999889)]), (51, [(4, 0.99526703)]), (100, [(4, 0.99999493)]), (104, [(4, 0.995442)]), (121, [(4, 0.9989853)])])\n",
      "([(0, 0.040075745), (1, 0.040133104), (2, 0.4401543), (3, 0.43947613), (4, 0.04016067)], [(22, [3]), (78, [3]), (82, [2]), (83, [2])], [(22, [(3, 0.99832374)]), (78, [(3, 0.99881625)]), (82, [(2, 0.99990946)]), (83, [(2, 0.9994734)])])\n",
      "([(0, 0.9333321), (1, 0.016667034), (2, 0.01666709), (3, 0.016666899), (4, 0.016666934)], [(108, [0]), (156, [0]), (157, [0]), (162, [0]), (163, [0]), (168, [0]), (169, [0])], [(108, [(0, 1.999972)]), (156, [(0, 0.9999831)]), (157, [(0, 3.999981)]), (162, [(0, 0.99998593)]), (163, [(0, 0.9999906)]), (168, [(0, 0.99998754)]), (169, [(0, 0.9999831)])])\n",
      "([(0, 0.16965947), (1, 0.014578509), (2, 0.4888931), (3, 0.3123894), (4, 0.014479502)], [(19, [3, 2]), (26, [2, 3]), (35, [3, 0]), (51, [3, 2]), (59, [2, 0]), (70, [0]), (82, [2]), (84, [2, 0]), (134, [2]), (135, [2]), (148, [3]), (151, [0])], [(19, [(2, 0.42153674), (3, 0.5758215)]), (26, [(2, 1.117187), (3, 0.8788093)]), (35, [(0, 0.110010974), (3, 0.8898556)]), (51, [(2, 0.16896805), (3, 0.8306648)]), (59, [(0, 0.021465128), (2, 0.9785168)]), (70, [(0, 0.9991888)]), (82, [(2, 0.9998359)]), (84, [(0, 0.045624703), (2, 0.9542669)]), (134, [(2, 0.9995868)]), (135, [(2, 0.9995868)]), (148, [(3, 0.9976249)]), (151, [(0, 0.9971911)])])\n",
      "([(0, 0.93329567), (1, 0.016666897), (2, 0.016674135), (3, 0.016696488), (4, 0.016666833)], [(11, [0]), (12, [0]), (98, [0]), (99, [0]), (109, [0]), (115, [0]), (170, [0]), (171, [0]), (172, [0])], [(11, [(0, 0.9999978)]), (12, [(0, 0.9998384)]), (98, [(0, 0.9999912)]), (99, [(0, 2.999991)]), (109, [(0, 0.9997834)]), (115, [(0, 0.99992156)]), (170, [(0, 0.9999891)]), (171, [(0, 0.99998987)]), (172, [(0, 0.9999848)])])\n",
      "([(0, 0.022295564), (1, 0.9110082), (2, 0.02222563), (3, 0.022248162), (4, 0.022222433)], [(1, [1]), (16, [1]), (24, [1]), (28, [1]), (29, [1]), (30, [1]), (31, [1]), (32, [1])], [(1, [(1, 0.99976474)]), (16, [(1, 0.99988484)]), (24, [(1, 0.9999973)]), (28, [(1, 0.999995)]), (29, [(1, 0.9999938)]), (30, [(1, 0.99943006)]), (31, [(1, 0.99999845)]), (32, [(1, 0.9999896)])])\n",
      "([(0, 0.015401883), (1, 0.01555123), (2, 0.015430312), (3, 0.9376657), (4, 0.0159509)], [(5, [3]), (7, [3]), (8, [3]), (19, [3]), (21, [3]), (26, [3]), (35, [3]), (38, [3]), (51, [3]), (95, [3]), (119, [3])], [(5, [(3, 0.9990016)]), (7, [(3, 0.9996111)]), (8, [(3, 0.9989597)]), (19, [(3, 0.9983518)]), (21, [(3, 0.99737054)]), (26, [(3, 0.9982179)]), (35, [(3, 1.9997777)]), (38, [(3, 0.9999977)]), (51, [(3, 0.99981403)]), (95, [(3, 0.99907696)]), (119, [(3, 0.99977726)])])\n",
      "([(0, 0.01818229), (1, 0.01823551), (2, 0.018198583), (3, 0.2781033), (4, 0.6672803)], [(3, [4, 3]), (5, [4, 3]), (6, [4, 3]), (7, [4, 3]), (8, [4, 3]), (21, [4, 3]), (42, [3]), (51, [3, 4]), (89, [4]), (184, [4])], [(3, [(3, 0.0797573), (4, 0.9202367)]), (5, [(3, 0.16453594), (4, 0.83546036)]), (6, [(3, 0.31301874), (4, 0.6869578)]), (7, [(3, 0.33684054), (4, 0.66315454)]), (8, [(3, 0.15873854), (4, 0.84125894)]), (21, [(3, 0.06966475), (4, 0.93032897)]), (42, [(3, 0.99943715)]), (51, [(3, 0.73596895), (4, 0.26365465)]), (89, [(4, 0.99994)]), (184, [(4, 0.9997482)])])\n",
      "([(0, 0.020001266), (1, 0.020120643), (2, 0.1318718), (3, 0.49314192), (4, 0.33486435)], [(6, [3, 4]), (7, [3, 4]), (9, [3, 4]), (51, [3, 4, 2]), (52, [2]), (57, [3, 4, 2]), (73, [3]), (88, [4]), (92, [4])], [(6, [(3, 0.65262735), (4, 0.34732145)]), (7, [(3, 0.6768341), (4, 0.32313144)]), (9, [(3, 0.7280515), (4, 0.27187622)]), (51, [(2, 0.021738542), (3, 0.8999404), (4, 0.07818013)]), (52, [(2, 0.9986892)]), (57, [(2, 0.097647615), (3, 0.77347314), (4, 0.12783355)]), (73, [(3, 0.9997861)]), (88, [(4, 0.9994666)]), (92, [(4, 0.9994666)])])\n",
      "([(0, 0.040958263), (1, 0.040042736), (2, 0.8389551), (3, 0.040025644), (4, 0.04001829)], [(10, [2]), (47, [2]), (49, [2]), (102, [2])], [(10, [(2, 0.999997)]), (47, [(2, 0.9995691)]), (49, [(2, 0.99999577)]), (102, [(2, 0.99527615)])])\n",
      "([(0, 0.028602837), (1, 0.028571803), (2, 0.885682), (3, 0.028571663), (4, 0.0285717)], [(17, [2]), (59, [2]), (85, [2]), (112, [2]), (130, [2]), (146, [2])], [(17, [(2, 0.99985796)]), (59, [(2, 0.9999332)]), (85, [(2, 0.99998194)]), (112, [(2, 0.99999297)]), (130, [(2, 0.99999505)]), (146, [(2, 0.9999925)])])\n",
      "([(0, 0.013525061), (1, 0.013357439), (2, 0.013366152), (3, 0.9463401), (4, 0.013411283)], [(2, [3]), (6, [3]), (8, [3]), (12, [3]), (35, [3]), (38, [3]), (42, [3]), (48, [3]), (51, [3]), (76, [3]), (120, [3]), (142, [3]), (175, [3])], [(2, [(3, 0.99987143)]), (6, [(3, 0.99967176)]), (8, [(3, 0.99923915)]), (12, [(3, 0.9969903)]), (35, [(3, 1.9997967)]), (38, [(3, 0.9999978)]), (42, [(3, 0.9999275)]), (48, [(3, 0.99999434)]), (51, [(3, 0.9998522)]), (76, [(3, 0.99983615)]), (120, [(3, 0.99995196)]), (142, [(3, 0.99996036)]), (175, [(3, 0.99997956)])])\n",
      "([(0, 0.016667033), (1, 0.016666928), (2, 0.016666966), (3, 0.016686706), (4, 0.9333124)], [(8, [4]), (23, [4]), (27, [4]), (33, [4]), (41, [4]), (64, [4]), (90, [4]), (100, [4]), (143, [4]), (144, [4]), (145, [4])], [(8, [(4, 0.9997599)]), (23, [(4, 0.99999756)]), (27, [(4, 0.9999957)]), (33, [(4, 0.9999889)]), (41, [(4, 0.9999889)]), (64, [(4, 0.999993)]), (90, [(4, 0.9999952)]), (100, [(4, 0.99999493)]), (143, [(4, 0.99998593)]), (144, [(4, 0.9999878)]), (145, [(4, 0.99999005)])])\n",
      "([(0, 0.016696492), (1, 0.19075985), (2, 0.016743552), (3, 0.75883466), (4, 0.01696542)], [(6, [3]), (8, [3]), (19, [3, 1]), (26, [3, 1]), (40, [3, 1]), (42, [3, 1]), (50, [3, 1]), (51, [3, 1]), (56, [3, 1]), (80, [3, 1]), (101, [1])], [(6, [(3, 0.99283344)]), (8, [(3, 0.99866724)]), (19, [(1, 0.26834372), (3, 0.73086554)]), (26, [(1, 0.26417994), (3, 0.73487365)]), (40, [(1, 0.07264189), (3, 0.92735326)]), (42, [(1, 0.038108557), (3, 0.9618886)]), (50, [(1, 0.05114944), (3, 0.94884455)]), (51, [(1, 0.026848337), (3, 0.97299314)]), (56, [(1, 0.050779164), (3, 0.9483521)]), (80, [(1, 0.31070507), (3, 0.68896604)]), (101, [(1, 0.99876165)])])\n",
      "([(0, 0.17360651), (1, 0.74050105), (2, 0.028584886), (3, 0.028734593), (4, 0.02857299)], [(16, [1, 0]), (46, [1]), (66, [1]), (67, [0]), (68, [1]), (69, [1])], [(16, [(0, 0.017434986), (1, 0.9824966)]), (46, [(1, 0.99990255)]), (66, [(1, 0.99965185)]), (67, [(0, 0.9963257)]), (68, [(1, 0.99886304)]), (69, [(1, 0.99886304)])])\n",
      "([(0, 0.01860402), (1, 0.018492606), (2, 0.018957514), (3, 0.41579095), (4, 0.5281549)], [(0, [4]), (5, [4, 3]), (7, [3, 4]), (8, [4, 3]), (9, [3, 4]), (22, [3, 4]), (47, [3, 4]), (56, [4, 3]), (75, [4]), (97, [3])], [(0, [(4, 0.99984944)]), (5, [(3, 0.28679237), (4, 0.71320343)]), (7, [(3, 0.5091084), (4, 0.4908869)]), (8, [(3, 0.27812135), (4, 0.72187567)]), (9, [(3, 0.57005644), (4, 0.42993334)]), (22, [(3, 0.7433097), (4, 0.25646362)]), (47, [(3, 0.5151264), (4, 0.47515613)]), (56, [(3, 0.48068526), (4, 0.5187188)]), (75, [(4, 0.999836)]), (97, [(3, 0.99172807)])])\n",
      "([(0, 0.82867396), (1, 0.018204426), (2, 0.0183516), (3, 0.116577335), (4, 0.01819269)], [(12, [0, 3]), (62, [0, 3]), (67, [0]), (73, [3, 0]), (97, [0, 3]), (103, [0]), (104, [0, 3]), (159, [0]), (160, [0]), (173, [0])], [(12, [(0, 0.9852623), (3, 0.01462522)]), (62, [(0, 0.9779879), (3, 0.021751309)]), (67, [(0, 0.9999668)]), (73, [(0, 0.01267927), (3, 0.98724407)]), (97, [(0, 0.9692596), (3, 0.030478263)]), (103, [(0, 0.9995546)]), (104, [(0, 0.9715312), (3, 0.027986966)]), (159, [(0, 0.99997854)]), (160, [(0, 0.9999748)]), (173, [(0, 0.99919856)])])\n",
      "([(0, 0.028601673), (1, 0.028839782), (2, 0.88541466), (3, 0.028571898), (4, 0.028571969)], [(17, [2]), (59, [2]), (85, [2]), (112, [2]), (130, [2]), (131, [2])], [(17, [(2, 0.9998579)]), (59, [(2, 0.9999332)]), (85, [(2, 0.9999819)]), (112, [(2, 0.99999297)]), (130, [(2, 0.999995)]), (131, [(2, 0.998115)])])\n",
      "([(0, 0.015385157), (1, 0.01552142), (2, 0.015393027), (3, 0.44008905), (4, 0.5136113)], [(6, [3, 4]), (9, [3, 4]), (22, [3, 4]), (33, [4]), (39, [4, 3]), (41, [4]), (42, [3]), (51, [3, 4]), (54, [4]), (55, [4]), (119, [3]), (121, [3, 4])], [(6, [(3, 0.5060225), (4, 0.49395782)]), (9, [(3, 0.59348154), (4, 0.40650886)]), (22, [(3, 0.76127607), (4, 0.23854907)]), (33, [(4, 0.99980325)]), (39, [(3, 0.1811987), (4, 0.81877756)]), (41, [(4, 0.99980325)]), (42, [(3, 0.9997247)]), (51, [(3, 0.862366), (4, 0.13741304)]), (54, [(4, 0.9995962)]), (55, [(4, 0.9994746)]), (119, [(3, 0.9992124)]), (121, [(3, 0.6169521), (4, 0.38303423)])])\n",
      "([(0, 0.018182904), (1, 0.018728256), (2, 0.019033846), (3, 0.24248728), (4, 0.70156765)], [(0, [4]), (5, [4, 3]), (6, [4, 3]), (7, [4, 3]), (8, [4, 3]), (9, [4, 3]), (42, [3]), (45, [4]), (47, [4, 3]), (75, [4])], [(0, [(4, 0.9998989)]), (5, [(3, 0.136787), (4, 0.86320925)]), (6, [(3, 0.26826867), (4, 0.7317047)]), (7, [(3, 0.29012364), (4, 0.70987135)]), (8, [(3, 0.13181308), (4, 0.8681843)]), (9, [(3, 0.34318426), (4, 0.6568044)]), (42, [(3, 0.99926)]), (45, [(4, 0.99541515)]), (47, [(3, 0.29613233), (4, 0.6931605)]), (75, [(4, 0.9999115)])])\n",
      "([(0, 0.22321573), (1, 0.018239317), (2, 0.10064861), (3, 0.6395234), (4, 0.018372912)], [(7, [3]), (9, [3]), (35, [3, 0]), (51, [3, 2]), (59, [2, 0]), (62, [0, 3, 2]), (67, [0]), (71, [3]), (81, [3]), (97, [3, 0])], [(7, [(3, 0.9992761)]), (9, [(3, 0.99927753)]), (35, [(0, 0.071045935), (3, 0.928944)]), (51, [(2, 0.012417059), (3, 0.98733413)]), (59, [(0, 0.17994705), (2, 0.819827)]), (62, [(0, 0.5241399), (2, 0.07381079), (3, 0.402031)]), (67, [(0, 0.99901104)]), (71, [(3, 0.9996197)]), (81, [(3, 0.9977656)]), (97, [(0, 0.47937563), (3, 0.51986)])])\n",
      "([(0, 0.21161614), (1, 0.018191777), (2, 0.7323462), (3, 0.019659696), (4, 0.01818623)], [(35, [0, 3]), (47, [2]), (49, [2]), (59, [2, 0]), (60, [2, 0]), (84, [2, 0]), (112, [2]), (130, [2]), (146, [2]), (181, [0])], [(35, [(0, 0.98281735), (3, 0.015740806)]), (47, [(2, 0.99969226)]), (49, [(2, 0.99993145)]), (59, [(0, 0.017652014), (2, 0.98234636)]), (60, [(0, 0.09485566), (2, 0.90513724)]), (84, [(0, 0.037688214), (2, 0.9623009)]), (112, [(2, 0.99986994)]), (130, [(2, 0.99990815)]), (146, [(2, 0.9998623)]), (181, [(0, 0.9948015)])])\n",
      "([(0, 0.018182091), (1, 0.018205728), (2, 0.018182041), (3, 0.018222671), (4, 0.92720747)], [(0, [4]), (4, [4]), (8, [4]), (23, [4]), (27, [4]), (77, [4]), (90, [4]), (91, [4]), (96, [4]), (150, [4])], [(0, [(4, 0.9999457)]), (4, [(4, 0.9999574)]), (8, [(4, 0.99973387)]), (23, [(4, 0.99999756)]), (27, [(4, 0.9999955)]), (77, [(4, 0.9999922)]), (90, [(4, 0.99999505)]), (91, [(4, 0.99999523)]), (96, [(4, 0.99964327)]), (150, [(4, 0.9999898)])])\n",
      "([(0, 0.028581768), (1, 0.03049759), (2, 0.8837257), (3, 0.028614687), (4, 0.02858029)], [(47, [2]), (49, [2]), (59, [2]), (93, [2]), (128, [2]), (136, [2])], [(47, [(2, 0.999665)]), (49, [(2, 0.9999962)]), (59, [(2, 0.99993324)]), (93, [(2, 0.99052715)]), (128, [(2, 0.9963901)]), (136, [(2, 0.9999738)])])\n",
      "([(0, 0.7138753), (1, 0.014317293), (2, 0.014755301), (3, 0.24267487), (4, 0.014377204)], [(9, [3]), (11, [0]), (12, [0, 3]), (48, [3]), (51, [3]), (62, [0, 3]), (70, [0]), (83, [0]), (97, [0, 3]), (98, [0]), (99, [0]), (102, [0]), (103, [0])], [(9, [(3, 0.99681854)]), (11, [(0, 0.99998486)]), (12, [(0, 0.9546367), (3, 0.0452515)]), (48, [(3, 0.9983572)]), (51, [(3, 0.9988647)]), (62, [(0, 0.9334487), (3, 0.06629589)]), (70, [(0, 0.99997747)]), (83, [(0, 0.99457335)]), (97, [(0, 0.9085406), (3, 0.09123021)]), (98, [(0, 0.99994105)]), (99, [(0, 0.9999796)]), (102, [(0, 0.9997576)]), (103, [(0, 0.99949557)])])\n",
      "([(0, 0.47906885), (1, 0.19796896), (2, 0.1438083), (3, 0.15909407), (4, 0.020059843)], [(16, [1, 0, 2, 3]), (28, [1]), (34, [0, 3]), (36, [0]), (43, [0, 2, 1, 3]), (73, [3]), (109, [0, 3]), (113, [2]), (115, [0, 3])], [(16, [(0, 0.2300774), (1, 0.73886085), (2, 0.020350337), (3, 0.01070367)]), (28, [(1, 0.9986469)]), (34, [(0, 0.77976614), (3, 0.21879476)]), (36, [(0, 0.999558)]), (43, [(0, 0.71217895), (1, 0.03979892), (2, 0.22275141), (3, 0.02526152)]), (73, [(3, 0.99446464)]), (109, [(0, 0.896988), (3, 0.10276643)]), (113, [(2, 0.99386233)]), (115, [(0, 0.9615178), (3, 0.03829249)])])\n",
      "([(0, 0.7108534), (1, 0.01818954), (2, 0.23445868), (3, 0.018276136), (4, 0.018222293)], [(10, [2]), (11, [0]), (12, [0, 2]), (14, [0]), (34, [0]), (43, [0, 2]), (113, [2]), (159, [0]), (160, [0])], [(10, [(2, 0.99927443)]), (11, [(0, 0.99995846)]), (12, [(0, 1.9001397), (2, 0.09964811)]), (14, [(0, 0.9991179)]), (34, [(0, 0.998611)]), (43, [(0, 0.7170959), (2, 0.28275037)]), (113, [(2, 0.995842)]), (159, [(0, 0.99986)]), (160, [(0, 0.9998338)])])\n",
      "([(0, 0.6737682), (1, 0.025000492), (2, 0.2512306), (3, 0.025000304), (4, 0.02500035)], [(59, [2, 0]), (82, [2]), (138, [0]), (139, [0])], [(59, [(0, 0.1898147), (2, 0.81018007)]), (82, [(2, 0.9988323)]), (138, [(0, 3.9995606)]), (139, [(0, 0.999767)])])\n",
      "([(0, 0.022239745), (1, 0.022372907), (2, 0.9109422), (3, 0.02222255), (4, 0.0222226)], [(17, [2]), (59, [2]), (61, [2]), (82, [2]), (85, [2]), (112, [2]), (130, [2]), (131, [2])], [(17, [(2, 0.9998943)]), (59, [(2, 0.99995023)]), (61, [(2, 0.9999883)]), (82, [(2, 0.9999951)]), (85, [(2, 0.999983)]), (112, [(2, 0.9999932)]), (130, [(2, 0.9999953)]), (131, [(2, 0.9986116)])])\n",
      "([(0, 0.028701095), (1, 0.8855333), (2, 0.028577313), (3, 0.028616566), (4, 0.028571773)], [(1, [1]), (16, [1]), (29, [1]), (30, [1]), (32, [1])], [(1, [(1, 0.9996863)]), (16, [(1, 0.9998445)]), (29, [(1, 1.9999869)]), (30, [(1, 0.99922794)]), (32, [(1, 0.999989)])])\n",
      "([(0, 0.9329023), (1, 0.016666833), (2, 0.016705533), (3, 0.017058568), (4, 0.016666789)], [(11, [0]), (12, [0]), (14, [0]), (35, [0]), (62, [0]), (115, [0]), (159, [0]), (160, [0])], [(11, [(0, 0.9999978)]), (12, [(0, 2.9994862)]), (14, [(0, 0.99999356)]), (35, [(0, 1.9957939)]), (62, [(0, 0.99966866)]), (115, [(0, 0.999913)]), (159, [(0, 0.9999923)]), (160, [(0, 0.999991)])])\n",
      "([(0, 0.05000209), (1, 0.05089581), (2, 0.7981413), (3, 0.05077388), (4, 0.05018692)], [(57, [2]), (116, [2]), (117, [2])], [(57, [(2, 0.9925981)]), (116, [(2, 0.9999728)]), (117, [(2, 0.9999833)])])\n",
      "([(0, 0.34821045), (1, 0.30890238), (2, 0.30287305), (3, 0.020013602), (4, 0.020000525)], [(14, [0]), (16, [1, 0, 2]), (17, [2, 0]), (43, [2, 0, 1]), (46, [1, 2]), (59, [2, 0]), (87, [1]), (159, [0]), (173, [0, 2])], [(14, [(0, 0.99718446)]), (16, [(0, 0.10749529), (1, 0.85692567), (2, 0.035541542)]), (17, [(0, 0.15560679), (2, 0.84427017)]), (43, [(0, 0.43324783), (1, 0.060101263), (2, 0.50654364)]), (46, [(1, 0.9716454), (2, 0.027927062)]), (59, [(0, 0.079587616), (2, 0.92034286)]), (87, [(1, 0.9988262)]), (159, [(0, 0.9992822)]), (173, [(0, 0.5092633), (2, 0.48991573)])])\n",
      "([(0, 0.35266137), (1, 0.018190192), (2, 0.43325672), (3, 0.17770946), (4, 0.018182287)], [(12, [0, 2, 3]), (13, [2]), (18, [2]), (35, [3, 0]), (43, [2, 0, 3]), (73, [3]), (74, [2]), (160, [0]), (173, [2, 0])], [(12, [(0, 1.540417), (2, 0.35549957), (3, 0.10407625)]), (13, [(2, 0.9996196)]), (18, [(2, 0.99958813)]), (35, [(0, 0.36682326), (3, 0.6330085)]), (43, [(0, 0.35782754), (2, 0.6208932), (3, 0.021187572)]), (73, [(3, 0.9959132)]), (74, [(2, 0.9995201)]), (160, [(0, 0.9992265)]), (173, [(0, 0.4118415), (2, 0.58799255)])])\n",
      "([(0, 0.01674953), (1, 0.016840471), (2, 0.21739887), (3, 0.017359126), (4, 0.731652)], [(9, [4]), (19, [4, 2]), (23, [4]), (26, [4, 2]), (34, [4]), (51, [4, 2]), (64, [4]), (89, [4]), (91, [4]), (116, [2]), (117, [2])], [(9, [(4, 0.99849516)]), (19, [(2, 0.0840785), (4, 0.91454476)]), (23, [(4, 0.9999595)]), (26, [(2, 0.1363457), (4, 0.8623845)]), (34, [(4, 0.99748445)]), (51, [(2, 0.19071655), (4, 0.8042844)]), (64, [(4, 0.99988484)]), (89, [(4, 0.99988025)]), (91, [(4, 0.9999258)]), (116, [(2, 0.9980016)]), (117, [(2, 0.99879336)])])\n",
      "([(0, 0.016667034), (1, 0.016782193), (2, 0.016705632), (3, 0.016782952), (4, 0.9330622)], [(6, [4]), (19, [4]), (23, [4]), (26, [4]), (27, [4]), (58, [4]), (90, [4]), (91, [4]), (143, [4]), (144, [4]), (145, [4])], [(6, [(4, 0.9993853)]), (19, [(4, 0.9987516)]), (23, [(4, 0.99999756)]), (26, [(4, 0.9986533)]), (27, [(4, 0.99999565)]), (58, [(4, 0.999985)]), (90, [(4, 0.99999505)]), (91, [(4, 0.99999535)]), (143, [(4, 0.999986)]), (144, [(4, 0.9999877)]), (145, [(4, 0.9999899)])])\n",
      "([(0, 0.79199797), (1, 0.023141067), (2, 0.1403622), (3, 0.02227601), (4, 0.02222272)], [(12, [0, 2]), (16, [0, 2]), (18, [2]), (111, [0]), (115, [0]), (140, [0]), (160, [0])], [(12, [(0, 0.97804284), (2, 0.021838577)]), (16, [(0, 0.9467657), (2, 0.044948757)]), (18, [(2, 0.9961452)]), (111, [(0, 0.99989897)]), (115, [(0, 1.9996629)]), (140, [(0, 0.9999202)]), (160, [(0, 0.9999235)])])\n",
      "([(0, 0.100259565), (1, 0.10000035), (2, 0.5997396), (3, 0.10000021), (4, 0.10000024)], [(59, [2])], [(59, [(2, 0.9994948)])])\n",
      "([(0, 0.02009632), (1, 0.71576464), (2, 0.22413683), (3, 0.020001788), (4, 0.020000389)], [(16, [1, 2]), (28, [1]), (29, [1]), (30, [1]), (31, [1]), (59, [2]), (93, [1, 2]), (182, [2])], [(16, [(1, 0.98878616), (2, 0.011113126)]), (28, [(1, 0.99991953)]), (29, [(1, 1.9998031)]), (30, [(1, 0.99922264)]), (31, [(1, 0.9999737)]), (59, [(2, 0.9995168)]), (93, [(1, 0.9668403), (2, 0.03315661)]), (182, [(2, 0.9971647)])])\n",
      "([(0, 0.020307742), (1, 0.12295352), (2, 0.020464316), (3, 0.816069), (4, 0.02020537)], [(6, [3]), (8, [3]), (42, [3, 1]), (48, [3]), (51, [3, 1]), (62, [3]), (71, [3]), (73, [3]), (133, [1])], [(6, [(3, 0.9962172)]), (8, [(3, 0.9985899)]), (42, [(1, 0.01873197), (3, 0.9812651)]), (48, [(3, 0.99996626)]), (51, [(1, 0.013118691), (3, 0.9866964)]), (62, [(3, 0.9954118)]), (71, [(3, 0.99993044)]), (73, [(3, 0.9999588)]), (133, [(1, 0.9942899)])])\n",
      "([(0, 0.35435674), (1, 0.4451926), (2, 0.14319004), (3, 0.028688775), (4, 0.028571887)], [(16, [1, 0]), (28, [1]), (31, [1]), (59, [2, 0]), (115, [0])], [(16, [(0, 0.07592472), (1, 0.91571194)]), (28, [(1, 0.999641)]), (31, [(1, 0.99988246)]), (59, [(0, 0.20678014), (2, 0.7929521)]), (115, [(0, 1.9982041)])])\n"
     ]
    }
   ],
   "source": [
    "for i in range(len(df_highest)):\n",
    "    print(lda[df_highest[i]]) "
   ]
  },
  {
   "cell_type": "code",
   "execution_count": 32,
   "id": "4088ba57",
   "metadata": {},
   "outputs": [],
   "source": [
    "lowest_score = []\n",
    "for i in range(len(df_lowest)):\n",
    "    lowest_score.append(lda[df_lowest[i]][0])\n",
    "highest_score = []\n",
    "for i in range(len(df_highest)):\n",
    "    highest_score.append(lda[df_highest[i]][0])"
   ]
  },
  {
   "cell_type": "code",
   "execution_count": 33,
   "id": "2431e95c",
   "metadata": {},
   "outputs": [],
   "source": [
    "lowest_1_sum = 0\n",
    "lowest_2_sum = 0\n",
    "lowest_3_sum = 0\n",
    "lowest_4_sum = 0\n",
    "lowest_5_sum = 0\n",
    "for i in range(125): \n",
    "    try: \n",
    "        if lowest_score[i][0][0] == 0:\n",
    "            lowest_1_sum += lowest_score[i][0][1]\n",
    "        if lowest_score[i][1][0] == 1:\n",
    "            lowest_2_sum += lowest_score[i][1][1]\n",
    "        if lowest_score[i][2][0] == 2:\n",
    "            lowest_3_sum += lowest_score[i][2][1]\n",
    "        if lowest_score[i][3][0] == 3:\n",
    "            lowest_4_sum += lowest_score[i][3][1]\n",
    "        if lowest_score[i][4][0] == 4:\n",
    "            lowest_5_sum += lowest_score[i][4][1]\n",
    "    except:\n",
    "        pass"
   ]
  },
  {
   "cell_type": "code",
   "execution_count": 34,
   "id": "434bda91",
   "metadata": {},
   "outputs": [],
   "source": [
    "highest_1_sum = 0\n",
    "highest_2_sum = 0\n",
    "highest_3_sum = 0\n",
    "highest_4_sum = 0\n",
    "highest_5_sum = 0\n",
    "for i in range(125): \n",
    "    try: \n",
    "        if highest_score[i][0][0] == 0:\n",
    "            highest_1_sum += highest_score[i][0][1]\n",
    "        if highest_score[i][1][0] == 1:\n",
    "            highest_2_sum += highest_score[i][1][1]\n",
    "        if highest_score[i][2][0] == 2:\n",
    "            highest_3_sum += highest_score[i][2][1]\n",
    "        if highest_score[i][3][0] == 3:\n",
    "            highest_4_sum += highest_score[i][3][1]\n",
    "        if highest_score[i][4][0] == 4:\n",
    "            highest_5_sum += highest_score[i][4][1]\n",
    "    except:\n",
    "        pass"
   ]
  },
  {
   "cell_type": "markdown",
   "id": "7fc57803",
   "metadata": {},
   "source": [
    "## Task: Find out the average topic weights of images across the two quartiles"
   ]
  },
  {
   "cell_type": "code",
   "execution_count": 35,
   "id": "3ed0c82a",
   "metadata": {},
   "outputs": [],
   "source": [
    "data = [['Types of clothing', lowest_1_sum/125, highest_1_sum/125], ['Parts of the body', lowest_2_sum/125, highest_2_sum/125], ['Natural scenery', lowest_3_sum/125, highest_3_sum/125], ['Appearance design', lowest_4_sum/125, highest_4_sum/125], ['Home decoration', lowest_5_sum/125, highest_5_sum/125]]\n",
    "table = pd.DataFrame(data, columns = ['topic', 'low_quartile', 'high_quartile'])\n"
   ]
  },
  {
   "cell_type": "code",
   "execution_count": 36,
   "id": "35442cc7",
   "metadata": {
    "scrolled": true
   },
   "outputs": [
    {
     "data": {
      "text/html": [
       "<div>\n",
       "<style scoped>\n",
       "    .dataframe tbody tr th:only-of-type {\n",
       "        vertical-align: middle;\n",
       "    }\n",
       "\n",
       "    .dataframe tbody tr th {\n",
       "        vertical-align: top;\n",
       "    }\n",
       "\n",
       "    .dataframe thead th {\n",
       "        text-align: right;\n",
       "    }\n",
       "</style>\n",
       "<table border=\"1\" class=\"dataframe\">\n",
       "  <thead>\n",
       "    <tr style=\"text-align: right;\">\n",
       "      <th></th>\n",
       "      <th>topic</th>\n",
       "      <th>low_quartile</th>\n",
       "      <th>high_quartile</th>\n",
       "    </tr>\n",
       "  </thead>\n",
       "  <tbody>\n",
       "    <tr>\n",
       "      <th>0</th>\n",
       "      <td>Types of clothing</td>\n",
       "      <td>0.073553</td>\n",
       "      <td>0.126357</td>\n",
       "    </tr>\n",
       "    <tr>\n",
       "      <th>1</th>\n",
       "      <td>Parts of the body</td>\n",
       "      <td>0.204381</td>\n",
       "      <td>0.112960</td>\n",
       "    </tr>\n",
       "    <tr>\n",
       "      <th>2</th>\n",
       "      <td>Natural scenery</td>\n",
       "      <td>0.147779</td>\n",
       "      <td>0.195396</td>\n",
       "    </tr>\n",
       "    <tr>\n",
       "      <th>3</th>\n",
       "      <td>Appearance design</td>\n",
       "      <td>0.297074</td>\n",
       "      <td>0.371952</td>\n",
       "    </tr>\n",
       "    <tr>\n",
       "      <th>4</th>\n",
       "      <td>Home decoration</td>\n",
       "      <td>0.277213</td>\n",
       "      <td>0.193335</td>\n",
       "    </tr>\n",
       "  </tbody>\n",
       "</table>\n",
       "</div>"
      ],
      "text/plain": [
       "               topic  low_quartile  high_quartile\n",
       "0  Types of clothing      0.073553       0.126357\n",
       "1  Parts of the body      0.204381       0.112960\n",
       "2    Natural scenery      0.147779       0.195396\n",
       "3  Appearance design      0.297074       0.371952\n",
       "4    Home decoration      0.277213       0.193335"
      ]
     },
     "execution_count": 36,
     "metadata": {},
     "output_type": "execute_result"
    }
   ],
   "source": [
    "table"
   ]
  },
  {
   "cell_type": "markdown",
   "id": "3bbdd8a4",
   "metadata": {},
   "source": [
    "###  Main differences in the average topic weights\n",
    "\n",
    "According to the table above, the main difference in the averege topic weights is the proportion of those aesthetic contents. For example, for those posts with high engagement, they have higher proportion in appearance design, netural scenery and decoration. While those posts with low engagement mentions parts of the body relatively more often. \n"
   ]
  },
  {
   "cell_type": "markdown",
   "id": "8a249ac2",
   "metadata": {},
   "source": [
    "## Task: Analyze what types of image will gain more engagement and make suggestions"
   ]
  },
  {
   "cell_type": "markdown",
   "id": "900fadf5",
   "metadata": {},
   "source": [
    "If the company (i.e. Aritzia) wants to increase the engagement on its Instagram page, I would recommend the company to focus more on the aesthetic contents, such as mentioning more about the color collocation and including more design idea from the nature. And it is also a good idea to discuss more about decorations such as floor painting and the best use of accessories. Doing that will make people who see the post be more willing to interact.\n",
    "\n",
    "On the contrary, the company should try to avoid purely describing the parts of the body such as muscle and joint when post contents on Instagram. Since people might feel a little bit boring of looking at those dry contents, and don't have much to make comments. \n"
   ]
  },
  {
   "cell_type": "code",
   "execution_count": null,
   "id": "8835f5ce",
   "metadata": {},
   "outputs": [],
   "source": []
  }
 ],
 "metadata": {
  "kernelspec": {
   "display_name": "Python 3 (ipykernel)",
   "language": "python",
   "name": "python3"
  },
  "language_info": {
   "codemirror_mode": {
    "name": "ipython",
    "version": 3
   },
   "file_extension": ".py",
   "mimetype": "text/x-python",
   "name": "python",
   "nbconvert_exporter": "python",
   "pygments_lexer": "ipython3",
   "version": "3.9.7"
  }
 },
 "nbformat": 4,
 "nbformat_minor": 5
}
